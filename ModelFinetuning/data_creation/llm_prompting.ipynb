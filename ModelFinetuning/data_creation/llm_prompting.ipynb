{
 "cells": [
  {
   "cell_type": "markdown",
   "id": "06f0d745",
   "metadata": {},
   "source": [
    "## Prompting Gemini 2.5 Pro to create emails"
   ]
  },
  {
   "cell_type": "markdown",
   "id": "0031513c",
   "metadata": {},
   "source": [
    "### Importing libraries and key"
   ]
  },
  {
   "cell_type": "code",
   "execution_count": 1,
   "id": "a95c51c8",
   "metadata": {},
   "outputs": [
    {
     "name": "stdout",
     "output_type": "stream",
     "text": [
      "Loaded 1250 recipes\n",
      "Sample recipe:\n",
      "recipe_id                                                                        rID_262\n",
      "length                                                                            Medium\n",
      "sentiment                                                                  Very Negative\n",
      "topics                                                            ['Housing & Planning']\n",
      "persona_name                                     The 'Civic Pragmatist' Community Leader\n",
      "characteristics.age                                                                   45\n",
      "characteristics.gender_identity                                                   Female\n",
      "characteristics.occupation                            Charity Manager / Community Leader\n",
      "characteristics.political_leaning      Politically centrist, pragmatic, and non-parti...\n",
      "characteristics.communication_style    Collaborative, solution-oriented, and professi...\n",
      "characteristics.core_motivation        Improving the local community and seeking part...\n",
      "Name: 0, dtype: object\n"
     ]
    }
   ],
   "source": [
    "import pandas as pd\n",
    "import google.generativeai as genai\n",
    "import json\n",
    "import time\n",
    "import os\n",
    "from typing import List, Dict\n",
    "import asyncio\n",
    "from dotenv import load_dotenv\n",
    "import ast \n",
    "\n",
    "# Load environment variables\n",
    "load_dotenv()\n",
    "\n",
    "# Configure the API\n",
    "GEMINI_API_KEY = os.getenv('GEMINI_API_KEY')\n",
    "if not GEMINI_API_KEY:\n",
    "    raise ValueError(\"Please set GEMINI_API_KEY in your .env file\")\n",
    "\n",
    "genai.configure(api_key=GEMINI_API_KEY)\n",
    "\n",
    "# Load the recipe data\n",
    "recipes_df = pd.read_csv('email_recipes_1250.csv')\n",
    "print(f\"Loaded {len(recipes_df)} recipes\")\n",
    "print(\"Sample recipe:\")\n",
    "print(recipes_df.iloc[0])"
   ]
  },
  {
   "cell_type": "markdown",
   "id": "f2c1afc9",
   "metadata": {},
   "source": [
    "### Creating email prompt"
   ]
  },
  {
   "cell_type": "code",
   "execution_count": 2,
   "id": "8ca22edb",
   "metadata": {},
   "outputs": [
    {
     "name": "stdout",
     "output_type": "stream",
     "text": [
      "Test prompt created. Length: 1280\n"
     ]
    }
   ],
   "source": [
    "def create_email_prompt(recipe_row):\n",
    "    \"\"\"Create a detailed prompt for email generation based on recipe\"\"\"\n",
    "    \n",
    "    # Convert topics list from string back to list if needed\n",
    "    topics = ast.literal_eval(recipe_row['topics']) if isinstance(recipe_row['topics'], str) else recipe_row['topics']\n",
    "    topics_str = \", \".join(topics)\n",
    "    \n",
    "    prompt = f\"\"\"\n",
    "You are tasked with generating a realistic email from a UK constituent to their Member of Parliament.\n",
    "\n",
    "RECIPE PARAMETERS:\n",
    "- Persona: {recipe_row['persona_name']}\n",
    "- Age: {recipe_row['characteristics.age']}\n",
    "- Gender: {recipe_row['characteristics.gender_identity']}\n",
    "- Occupation: {recipe_row['characteristics.occupation']}\n",
    "- Political Leaning: {recipe_row['characteristics.political_leaning']}\n",
    "- Communication Style: {recipe_row['characteristics.communication_style']}\n",
    "- Core Motivation: {recipe_row['characteristics.core_motivation']}\n",
    "- Sentiment: {recipe_row['sentiment']}\n",
    "- Length: {recipe_row['length']}\n",
    "- Topics: {topics_str}\n",
    "\n",
    "INSTRUCTIONS:\n",
    "1. Generate a realistic email that this persona would write to their MP\n",
    "2. The email should cover the specified topic(s) with the given sentiment\n",
    "3. Match the communication style and motivation of the persona exactly\n",
    "4. Length guidelines: Short=1-3 sentences, Medium=2-4 paragraphs, Long=5+ paragraphs\n",
    "5. Include realistic UK references, place names, and political context\n",
    "6. Make it feel authentic - include personality quirks, writing style variations\n",
    "7. BE CREATIVE AND DIVERSE - vary writing styles, approaches, and specific examples\n",
    "\n",
    "REQUIRED OUTPUT FORMAT (JSON):\n",
    "{{\n",
    "    \"email_header\": \"Subject: [realistic subject line]\",\n",
    "    \"email_body\": \"[full email body text]\"\n",
    "}}\n",
    "\"\"\"\n",
    "    return prompt\n",
    "\n",
    "# Test with first recipe\n",
    "test_prompt = create_email_prompt(recipes_df.iloc[0])\n",
    "print(\"Test prompt created. Length:\", len(test_prompt))"
   ]
  },
  {
   "cell_type": "markdown",
   "id": "77f1dbf8",
   "metadata": {},
   "source": [
    "### Running test on single prompt 2.5 Pro"
   ]
  },
  {
   "cell_type": "code",
   "execution_count": 3,
   "id": "06f85f88",
   "metadata": {},
   "outputs": [],
   "source": [
    "# Cell 1: Test Connection with Single Prompt on Gemini 2.5 Pro\n",
    "def test_single_generation():\n",
    "    \"\"\"Test a single generation to verify API works with Gemini 2.5 Pro\"\"\"\n",
    "    \n",
    "    print(\"🧪 Testing single generation with Gemini 2.5 Pro...\")\n",
    "    \n",
    "    # Use Gemini 2.5 Pro model\n",
    "    model = genai.GenerativeModel('gemini-2.5-pro')\n",
    "    \n",
    "    # Create test prompt with first recipe\n",
    "    test_prompt = create_email_prompt(recipes_df.iloc[0])\n",
    "    \n",
    "    try:\n",
    "        print(\"📤 Sending test request...\")\n",
    "        start_time = time.time()\n",
    "        \n",
    "        response = model.generate_content(\n",
    "            test_prompt,\n",
    "            generation_config=genai.types.GenerationConfig(\n",
    "                temperature=1.4,  # High temperature for diversity\n",
    "                max_output_tokens=1300,\n",
    "                response_mime_type=\"application/json\"\n",
    "            )\n",
    "        )\n",
    "        \n",
    "        end_time = time.time()\n",
    "        \n",
    "        print(f\"✅ API Test Successful! (took {end_time - start_time:.2f} seconds)\")\n",
    "        print(f\"Response length: {len(response.text)} characters\")\n",
    "        \n",
    "        # Try to parse JSON\n",
    "        result = json.loads(response.text)\n",
    "        print(f\"✅ JSON Parse Successful!\")\n",
    "        print(f\"Recipe ID: {result.get('recipe_id')}\")\n",
    "        print(f\"Subject: {result.get('email_header')}\")\n",
    "        print(f\"Body length: {len(result.get('email_body', ''))} characters\")\n",
    "        \n",
    "        print(\"\\n\" + \"=\"*50)\n",
    "        print(\"SAMPLE GENERATED EMAIL:\")\n",
    "        print(\"=\"*50)\n",
    "        print(f\"Subject: {result.get('email_header')}\")\n",
    "        print(f\"Body:\\n{result.get('email_body')}\")\n",
    "        print(\"=\"*50)\n",
    "        \n",
    "        return True, result\n",
    "        \n",
    "    except Exception as e:\n",
    "        print(f\"❌ Test failed: {e}\")\n",
    "        return False, None\n",
    "\n",
    "# Run the test\n",
    "test_run = False\n",
    "if test_run:\n",
    "    success, sample_result = test_single_generation()\n",
    "\n"
   ]
  },
  {
   "cell_type": "code",
   "execution_count": 11,
   "id": "c6897503",
   "metadata": {},
   "outputs": [],
   "source": [
    "from tqdm import tqdm\n",
    "import time\n",
    "import signal\n",
    "\n",
    "def run_all_enhanced(recipes_df, batch_size=50, resume_from=0, verbose=True):\n",
    "    \"\"\"\n",
    "    Enhanced version with rate limiting, progress tracking, and resume capability.\n",
    "    Returns only original recipe columns + subject_line + email_body.\n",
    "    \"\"\"\n",
    "    model = genai.GenerativeModel('gemini-2.5-flash')\n",
    "    results_list = []\n",
    "    \n",
    "    # Resume from checkpoint if provided\n",
    "    start_idx = resume_from\n",
    "    \n",
    "    # Create progress bar\n",
    "    pbar = tqdm(total=len(recipes_df), initial=start_idx, desc=\"Generating emails\")\n",
    "    \n",
    "    for index, recipe_row in recipes_df.iloc[start_idx:].iterrows():\n",
    "        try:\n",
    "            if verbose:\n",
    "                print(f\"\\n🔄 Processing row {index}: {recipe_row['persona_name']}\")\n",
    "            \n",
    "            test_prompt = create_email_prompt(recipe_row)\n",
    "            if verbose:\n",
    "                print(f\"📝 Prompt created, sending to API...\")\n",
    "            \n",
    "            # Add timeout and better error handling\n",
    "            response = model.generate_content(\n",
    "                test_prompt,\n",
    "                generation_config=genai.types.GenerationConfig(\n",
    "                    temperature=1.4,\n",
    "                    max_output_tokens=3500,  # Reduced from 2000\n",
    "                    response_mime_type=\"application/json\"\n",
    "                )\n",
    "            )\n",
    "            \n",
    "            print(f\"📨 Response received\")\n",
    "            \n",
    "            # Check if response is valid\n",
    "            if not response.candidates or not response.candidates[0].content:\n",
    "                raise Exception(\"Empty response from API\")\n",
    "            \n",
    "            candidate = response.candidates[0]\n",
    "            if candidate.finish_reason != 1:  # Not STOP (normal completion)\n",
    "                raise Exception(f\"API response finish_reason: {candidate.finish_reason}\")\n",
    "            \n",
    "            # Safe access to response text\n",
    "            response_text = candidate.content.parts[0].text\n",
    "            print(f\"✅ Response text length: {len(response_text)}\")\n",
    "            \n",
    "            generated_data = json.loads(response_text)\n",
    "            \n",
    "            # Only extract subject_line and email_body from generated content\n",
    "            combined_data = {\n",
    "                **recipe_row.to_dict(),\n",
    "                'subject_line': generated_data.get('subject_line', ''),\n",
    "                'email_body': generated_data.get('email_body', '')\n",
    "            }\n",
    "            results_list.append(combined_data)\n",
    "            \n",
    "            pbar.update(1)\n",
    "            if verbose:\n",
    "                print(f\"✅ Row {index} completed successfully\")\n",
    "            \n",
    "            # Rate limiting - pause between requests\n",
    "            time.sleep(0.5)\n",
    "            \n",
    "            # Save checkpoint every batch_size items\n",
    "            if len(results_list) % batch_size == 0:\n",
    "                checkpoint_df = pd.DataFrame(results_list)\n",
    "                checkpoint_df.to_csv(f'email_dataset_checkpoint_{index}.csv', index=False)\n",
    "                print(f\"💾 Checkpoint saved at row {index}\")\n",
    "                \n",
    "        except KeyboardInterrupt:\n",
    "            print(f\"\\n⏹️  Process interrupted by user at row {index}\")\n",
    "            break\n",
    "            \n",
    "        except Exception as e:\n",
    "            print(f\"❌ Failed at row {index}: {str(e)}\")\n",
    "            # Log failed row with empty email fields\n",
    "            failed_data = {\n",
    "                **recipe_row.to_dict(),\n",
    "                'subject_line': '',\n",
    "                'email_body': f'GENERATION_FAILED: {str(e)}'\n",
    "            }\n",
    "            results_list.append(failed_data)\n",
    "            pbar.update(1)\n",
    "            \n",
    "            # Continue with next row instead of stopping\n",
    "            continue\n",
    "    \n",
    "    pbar.close()\n",
    "    \n",
    "    # Create final DataFrame\n",
    "    return_df = pd.DataFrame(results_list)\n",
    "    return return_df\n"
   ]
  },
  {
   "cell_type": "code",
   "execution_count": 12,
   "id": "626909fb",
   "metadata": {},
   "outputs": [
    {
     "name": "stdout",
     "output_type": "stream",
     "text": [
      "🧪 Testing with single row...\n"
     ]
    },
    {
     "name": "stderr",
     "output_type": "stream",
     "text": [
      "Generating emails: 100%|██████████| 1/1 [00:14<00:00, 14.09s/it]"
     ]
    },
    {
     "name": "stdout",
     "output_type": "stream",
     "text": [
      "📨 Response received\n",
      "✅ Response text length: 2775\n"
     ]
    },
    {
     "name": "stderr",
     "output_type": "stream",
     "text": [
      "Generating emails: 100%|██████████| 1/1 [00:14<00:00, 14.60s/it]\n"
     ]
    },
    {
     "name": "stdout",
     "output_type": "stream",
     "text": [
      "💾 Checkpoint saved at row 0\n",
      "✅ Single row test successful! Running full dataset...\n"
     ]
    },
    {
     "name": "stderr",
     "output_type": "stream",
     "text": [
      "Generating emails:   0%|          | 1/1250 [00:13<4:39:11, 13.41s/it]"
     ]
    },
    {
     "name": "stdout",
     "output_type": "stream",
     "text": [
      "📨 Response received\n",
      "✅ Response text length: 2758\n"
     ]
    },
    {
     "name": "stderr",
     "output_type": "stream",
     "text": [
      "Generating emails:   0%|          | 2/1250 [00:26<4:39:15, 13.43s/it]"
     ]
    },
    {
     "name": "stdout",
     "output_type": "stream",
     "text": [
      "📨 Response received\n",
      "✅ Response text length: 561\n"
     ]
    },
    {
     "name": "stderr",
     "output_type": "stream",
     "text": [
      "Generating emails:   0%|          | 3/1250 [00:40<4:41:51, 13.56s/it]"
     ]
    },
    {
     "name": "stdout",
     "output_type": "stream",
     "text": [
      "📨 Response received\n",
      "✅ Response text length: 1668\n"
     ]
    },
    {
     "name": "stderr",
     "output_type": "stream",
     "text": [
      "Generating emails:   0%|          | 4/1250 [00:54<4:41:05, 13.54s/it]"
     ]
    },
    {
     "name": "stdout",
     "output_type": "stream",
     "text": [
      "📨 Response received\n",
      "✅ Response text length: 2658\n"
     ]
    },
    {
     "name": "stderr",
     "output_type": "stream",
     "text": [
      "Generating emails:   0%|          | 5/1250 [01:08<4:47:38, 13.86s/it]"
     ]
    },
    {
     "name": "stdout",
     "output_type": "stream",
     "text": [
      "📨 Response received\n",
      "✅ Response text length: 2466\n"
     ]
    },
    {
     "name": "stderr",
     "output_type": "stream",
     "text": [
      "Generating emails:   0%|          | 6/1250 [01:26<5:13:22, 15.11s/it]"
     ]
    },
    {
     "name": "stdout",
     "output_type": "stream",
     "text": [
      "📨 Response received\n",
      "✅ Response text length: 2254\n"
     ]
    },
    {
     "name": "stderr",
     "output_type": "stream",
     "text": [
      "Generating emails:   1%|          | 7/1250 [01:39<5:04:15, 14.69s/it]"
     ]
    },
    {
     "name": "stdout",
     "output_type": "stream",
     "text": [
      "📨 Response received\n",
      "✅ Response text length: 1831\n"
     ]
    },
    {
     "name": "stderr",
     "output_type": "stream",
     "text": [
      "Generating emails:   1%|          | 8/1250 [01:55<5:12:33, 15.10s/it]"
     ]
    },
    {
     "name": "stdout",
     "output_type": "stream",
     "text": [
      "📨 Response received\n",
      "✅ Response text length: 1884\n"
     ]
    },
    {
     "name": "stderr",
     "output_type": "stream",
     "text": [
      "Generating emails:   1%|          | 9/1250 [02:10<5:11:45, 15.07s/it]"
     ]
    },
    {
     "name": "stdout",
     "output_type": "stream",
     "text": [
      "📨 Response received\n",
      "✅ Response text length: 1323\n"
     ]
    },
    {
     "name": "stderr",
     "output_type": "stream",
     "text": [
      "Generating emails:   1%|          | 10/1250 [02:20<4:33:53, 13.25s/it]"
     ]
    },
    {
     "name": "stdout",
     "output_type": "stream",
     "text": [
      "📨 Response received\n",
      "✅ Response text length: 2598\n"
     ]
    },
    {
     "name": "stderr",
     "output_type": "stream",
     "text": [
      "Generating emails:   1%|          | 11/1250 [02:33<4:37:45, 13.45s/it]"
     ]
    },
    {
     "name": "stdout",
     "output_type": "stream",
     "text": [
      "📨 Response received\n",
      "✅ Response text length: 2587\n"
     ]
    },
    {
     "name": "stderr",
     "output_type": "stream",
     "text": [
      "Generating emails:   1%|          | 12/1250 [02:45<4:24:53, 12.84s/it]"
     ]
    },
    {
     "name": "stdout",
     "output_type": "stream",
     "text": [
      "📨 Response received\n",
      "✅ Response text length: 2169\n"
     ]
    },
    {
     "name": "stderr",
     "output_type": "stream",
     "text": [
      "Generating emails:   1%|          | 13/1250 [02:58<4:29:21, 13.06s/it]"
     ]
    },
    {
     "name": "stdout",
     "output_type": "stream",
     "text": [
      "📨 Response received\n",
      "✅ Response text length: 2278\n"
     ]
    },
    {
     "name": "stderr",
     "output_type": "stream",
     "text": [
      "Generating emails:   1%|          | 14/1250 [03:12<4:32:58, 13.25s/it]"
     ]
    },
    {
     "name": "stdout",
     "output_type": "stream",
     "text": [
      "📨 Response received\n",
      "✅ Response text length: 1027\n"
     ]
    },
    {
     "name": "stderr",
     "output_type": "stream",
     "text": [
      "Generating emails:   1%|          | 15/1250 [03:26<4:39:17, 13.57s/it]"
     ]
    },
    {
     "name": "stdout",
     "output_type": "stream",
     "text": [
      "📨 Response received\n",
      "✅ Response text length: 2370\n"
     ]
    },
    {
     "name": "stderr",
     "output_type": "stream",
     "text": [
      "Generating emails:   1%|▏         | 16/1250 [03:46<5:18:03, 15.46s/it]"
     ]
    },
    {
     "name": "stdout",
     "output_type": "stream",
     "text": [
      "📨 Response received\n",
      "❌ Failed at row 15: API response finish_reason: 2\n"
     ]
    },
    {
     "name": "stderr",
     "output_type": "stream",
     "text": [
      "Generating emails:   1%|▏         | 17/1250 [03:55<4:34:59, 13.38s/it]"
     ]
    },
    {
     "name": "stdout",
     "output_type": "stream",
     "text": [
      "📨 Response received\n",
      "✅ Response text length: 790\n"
     ]
    },
    {
     "name": "stderr",
     "output_type": "stream",
     "text": [
      "Generating emails:   1%|▏         | 18/1250 [04:05<4:16:02, 12.47s/it]"
     ]
    },
    {
     "name": "stdout",
     "output_type": "stream",
     "text": [
      "📨 Response received\n",
      "✅ Response text length: 2204\n"
     ]
    },
    {
     "name": "stderr",
     "output_type": "stream",
     "text": [
      "Generating emails:   2%|▏         | 19/1250 [04:23<4:45:40, 13.92s/it]"
     ]
    },
    {
     "name": "stdout",
     "output_type": "stream",
     "text": [
      "📨 Response received\n",
      "✅ Response text length: 4990\n"
     ]
    },
    {
     "name": "stderr",
     "output_type": "stream",
     "text": [
      "Generating emails:   2%|▏         | 20/1250 [04:36<4:45:19, 13.92s/it]"
     ]
    },
    {
     "name": "stdout",
     "output_type": "stream",
     "text": [
      "📨 Response received\n",
      "✅ Response text length: 2460\n"
     ]
    },
    {
     "name": "stderr",
     "output_type": "stream",
     "text": [
      "Generating emails:   2%|▏         | 21/1250 [04:47<4:24:03, 12.89s/it]"
     ]
    },
    {
     "name": "stdout",
     "output_type": "stream",
     "text": [
      "📨 Response received\n",
      "✅ Response text length: 2331\n"
     ]
    },
    {
     "name": "stderr",
     "output_type": "stream",
     "text": [
      "Generating emails:   2%|▏         | 22/1250 [05:02<4:39:01, 13.63s/it]"
     ]
    },
    {
     "name": "stdout",
     "output_type": "stream",
     "text": [
      "📨 Response received\n",
      "✅ Response text length: 2573\n"
     ]
    },
    {
     "name": "stderr",
     "output_type": "stream",
     "text": [
      "Generating emails:   2%|▏         | 23/1250 [05:15<4:32:24, 13.32s/it]"
     ]
    },
    {
     "name": "stdout",
     "output_type": "stream",
     "text": [
      "📨 Response received\n",
      "✅ Response text length: 951\n"
     ]
    },
    {
     "name": "stderr",
     "output_type": "stream",
     "text": [
      "Generating emails:   2%|▏         | 24/1250 [05:29<4:39:25, 13.67s/it]"
     ]
    },
    {
     "name": "stdout",
     "output_type": "stream",
     "text": [
      "📨 Response received\n",
      "✅ Response text length: 2850\n"
     ]
    },
    {
     "name": "stderr",
     "output_type": "stream",
     "text": [
      "Generating emails:   2%|▏         | 25/1250 [05:44<4:43:04, 13.86s/it]"
     ]
    },
    {
     "name": "stdout",
     "output_type": "stream",
     "text": [
      "📨 Response received\n",
      "✅ Response text length: 2256\n"
     ]
    },
    {
     "name": "stderr",
     "output_type": "stream",
     "text": [
      "Generating emails:   2%|▏         | 26/1250 [05:56<4:30:54, 13.28s/it]"
     ]
    },
    {
     "name": "stdout",
     "output_type": "stream",
     "text": [
      "📨 Response received\n",
      "✅ Response text length: 686\n"
     ]
    },
    {
     "name": "stderr",
     "output_type": "stream",
     "text": [
      "Generating emails:   2%|▏         | 27/1250 [06:10<4:35:40, 13.52s/it]"
     ]
    },
    {
     "name": "stdout",
     "output_type": "stream",
     "text": [
      "📨 Response received\n",
      "✅ Response text length: 3763\n"
     ]
    },
    {
     "name": "stderr",
     "output_type": "stream",
     "text": [
      "Generating emails:   2%|▏         | 28/1250 [06:27<4:59:04, 14.68s/it]"
     ]
    },
    {
     "name": "stdout",
     "output_type": "stream",
     "text": [
      "📨 Response received\n",
      "✅ Response text length: 2837\n"
     ]
    },
    {
     "name": "stderr",
     "output_type": "stream",
     "text": [
      "Generating emails:   2%|▏         | 29/1250 [06:40<4:46:49, 14.09s/it]"
     ]
    },
    {
     "name": "stdout",
     "output_type": "stream",
     "text": [
      "📨 Response received\n",
      "✅ Response text length: 653\n"
     ]
    },
    {
     "name": "stderr",
     "output_type": "stream",
     "text": [
      "Generating emails:   2%|▏         | 30/1250 [06:52<4:36:10, 13.58s/it]"
     ]
    },
    {
     "name": "stdout",
     "output_type": "stream",
     "text": [
      "📨 Response received\n",
      "✅ Response text length: 2326\n"
     ]
    },
    {
     "name": "stderr",
     "output_type": "stream",
     "text": [
      "Generating emails:   2%|▏         | 31/1250 [07:02<4:14:15, 12.52s/it]"
     ]
    },
    {
     "name": "stdout",
     "output_type": "stream",
     "text": [
      "📨 Response received\n",
      "✅ Response text length: 2371\n"
     ]
    },
    {
     "name": "stderr",
     "output_type": "stream",
     "text": [
      "Generating emails:   3%|▎         | 32/1250 [07:17<4:27:47, 13.19s/it]"
     ]
    },
    {
     "name": "stdout",
     "output_type": "stream",
     "text": [
      "📨 Response received\n",
      "✅ Response text length: 1750\n"
     ]
    },
    {
     "name": "stderr",
     "output_type": "stream",
     "text": [
      "Generating emails:   3%|▎         | 33/1250 [07:28<4:15:07, 12.58s/it]"
     ]
    },
    {
     "name": "stdout",
     "output_type": "stream",
     "text": [
      "📨 Response received\n",
      "✅ Response text length: 2249\n"
     ]
    },
    {
     "name": "stderr",
     "output_type": "stream",
     "text": [
      "Generating emails:   3%|▎         | 34/1250 [07:47<4:52:56, 14.45s/it]"
     ]
    },
    {
     "name": "stdout",
     "output_type": "stream",
     "text": [
      "📨 Response received\n",
      "✅ Response text length: 3494\n"
     ]
    },
    {
     "name": "stderr",
     "output_type": "stream",
     "text": [
      "Generating emails:   3%|▎         | 35/1250 [08:00<4:41:53, 13.92s/it]"
     ]
    },
    {
     "name": "stdout",
     "output_type": "stream",
     "text": [
      "📨 Response received\n",
      "✅ Response text length: 3130\n"
     ]
    },
    {
     "name": "stderr",
     "output_type": "stream",
     "text": [
      "Generating emails:   3%|▎         | 36/1250 [08:19<5:13:46, 15.51s/it]"
     ]
    },
    {
     "name": "stdout",
     "output_type": "stream",
     "text": [
      "📨 Response received\n",
      "❌ Failed at row 35: API response finish_reason: 2\n"
     ]
    },
    {
     "name": "stderr",
     "output_type": "stream",
     "text": [
      "Generating emails:   3%|▎         | 37/1250 [08:33<5:03:37, 15.02s/it]"
     ]
    },
    {
     "name": "stdout",
     "output_type": "stream",
     "text": [
      "📨 Response received\n",
      "✅ Response text length: 1976\n"
     ]
    },
    {
     "name": "stderr",
     "output_type": "stream",
     "text": [
      "Generating emails:   3%|▎         | 38/1250 [08:43<4:36:23, 13.68s/it]"
     ]
    },
    {
     "name": "stdout",
     "output_type": "stream",
     "text": [
      "📨 Response received\n",
      "✅ Response text length: 2702\n"
     ]
    },
    {
     "name": "stderr",
     "output_type": "stream",
     "text": [
      "Generating emails:   3%|▎         | 39/1250 [08:57<4:35:08, 13.63s/it]"
     ]
    },
    {
     "name": "stdout",
     "output_type": "stream",
     "text": [
      "📨 Response received\n",
      "✅ Response text length: 2765\n"
     ]
    },
    {
     "name": "stderr",
     "output_type": "stream",
     "text": [
      "Generating emails:   3%|▎         | 40/1250 [09:15<5:03:14, 15.04s/it]"
     ]
    },
    {
     "name": "stdout",
     "output_type": "stream",
     "text": [
      "📨 Response received\n",
      "❌ Failed at row 39: API response finish_reason: 2\n"
     ]
    },
    {
     "name": "stderr",
     "output_type": "stream",
     "text": [
      "Generating emails:   3%|▎         | 41/1250 [09:31<5:05:45, 15.17s/it]"
     ]
    },
    {
     "name": "stdout",
     "output_type": "stream",
     "text": [
      "📨 Response received\n",
      "✅ Response text length: 2653\n"
     ]
    },
    {
     "name": "stderr",
     "output_type": "stream",
     "text": [
      "Generating emails:   3%|▎         | 42/1250 [09:44<4:53:08, 14.56s/it]"
     ]
    },
    {
     "name": "stdout",
     "output_type": "stream",
     "text": [
      "📨 Response received\n",
      "✅ Response text length: 2043\n"
     ]
    },
    {
     "name": "stderr",
     "output_type": "stream",
     "text": [
      "Generating emails:   3%|▎         | 43/1250 [09:56<4:37:23, 13.79s/it]"
     ]
    },
    {
     "name": "stdout",
     "output_type": "stream",
     "text": [
      "📨 Response received\n",
      "✅ Response text length: 2153\n"
     ]
    },
    {
     "name": "stderr",
     "output_type": "stream",
     "text": [
      "Generating emails:   4%|▎         | 44/1250 [10:07<4:24:19, 13.15s/it]"
     ]
    },
    {
     "name": "stdout",
     "output_type": "stream",
     "text": [
      "📨 Response received\n",
      "✅ Response text length: 622\n"
     ]
    },
    {
     "name": "stderr",
     "output_type": "stream",
     "text": [
      "Generating emails:   4%|▎         | 45/1250 [10:19<4:12:54, 12.59s/it]"
     ]
    },
    {
     "name": "stdout",
     "output_type": "stream",
     "text": [
      "📨 Response received\n",
      "✅ Response text length: 2196\n"
     ]
    },
    {
     "name": "stderr",
     "output_type": "stream",
     "text": [
      "Generating emails:   4%|▎         | 46/1250 [10:37<4:45:39, 14.24s/it]"
     ]
    },
    {
     "name": "stdout",
     "output_type": "stream",
     "text": [
      "📨 Response received\n",
      "✅ Response text length: 2741\n"
     ]
    },
    {
     "name": "stderr",
     "output_type": "stream",
     "text": [
      "Generating emails:   4%|▍         | 47/1250 [10:50<4:39:49, 13.96s/it]"
     ]
    },
    {
     "name": "stdout",
     "output_type": "stream",
     "text": [
      "📨 Response received\n",
      "✅ Response text length: 2140\n"
     ]
    },
    {
     "name": "stderr",
     "output_type": "stream",
     "text": [
      "Generating emails:   4%|▍         | 48/1250 [11:09<5:11:25, 15.55s/it]"
     ]
    },
    {
     "name": "stdout",
     "output_type": "stream",
     "text": [
      "📨 Response received\n",
      "❌ Failed at row 47: API response finish_reason: 2\n"
     ]
    },
    {
     "name": "stderr",
     "output_type": "stream",
     "text": [
      "Generating emails:   4%|▍         | 49/1250 [11:25<5:14:05, 15.69s/it]"
     ]
    },
    {
     "name": "stdout",
     "output_type": "stream",
     "text": [
      "📨 Response received\n",
      "✅ Response text length: 2288\n"
     ]
    },
    {
     "name": "stderr",
     "output_type": "stream",
     "text": [
      "Generating emails:   4%|▍         | 50/1250 [11:47<5:48:35, 17.43s/it]"
     ]
    },
    {
     "name": "stdout",
     "output_type": "stream",
     "text": [
      "📨 Response received\n",
      "❌ Failed at row 49: API response finish_reason: 2\n"
     ]
    },
    {
     "name": "stderr",
     "output_type": "stream",
     "text": [
      "Generating emails:   4%|▍         | 51/1250 [11:59<5:15:09, 15.77s/it]"
     ]
    },
    {
     "name": "stdout",
     "output_type": "stream",
     "text": [
      "📨 Response received\n",
      "✅ Response text length: 1832\n"
     ]
    },
    {
     "name": "stderr",
     "output_type": "stream",
     "text": [
      "Generating emails:   4%|▍         | 52/1250 [12:10<4:50:28, 14.55s/it]"
     ]
    },
    {
     "name": "stdout",
     "output_type": "stream",
     "text": [
      "📨 Response received\n",
      "✅ Response text length: 745\n"
     ]
    },
    {
     "name": "stderr",
     "output_type": "stream",
     "text": [
      "Generating emails:   4%|▍         | 53/1250 [12:22<4:30:09, 13.54s/it]"
     ]
    },
    {
     "name": "stdout",
     "output_type": "stream",
     "text": [
      "📨 Response received\n",
      "✅ Response text length: 2319\n"
     ]
    },
    {
     "name": "stderr",
     "output_type": "stream",
     "text": [
      "Generating emails:   4%|▍         | 54/1250 [12:36<4:32:52, 13.69s/it]"
     ]
    },
    {
     "name": "stdout",
     "output_type": "stream",
     "text": [
      "📨 Response received\n",
      "✅ Response text length: 2996\n"
     ]
    },
    {
     "name": "stderr",
     "output_type": "stream",
     "text": [
      "Generating emails:   4%|▍         | 55/1250 [12:49<4:29:14, 13.52s/it]"
     ]
    },
    {
     "name": "stdout",
     "output_type": "stream",
     "text": [
      "📨 Response received\n",
      "✅ Response text length: 2593\n"
     ]
    },
    {
     "name": "stderr",
     "output_type": "stream",
     "text": [
      "Generating emails:   4%|▍         | 56/1250 [13:05<4:46:24, 14.39s/it]"
     ]
    },
    {
     "name": "stdout",
     "output_type": "stream",
     "text": [
      "📨 Response received\n",
      "✅ Response text length: 2342\n"
     ]
    },
    {
     "name": "stderr",
     "output_type": "stream",
     "text": [
      "Generating emails:   5%|▍         | 57/1250 [13:18<4:35:03, 13.83s/it]"
     ]
    },
    {
     "name": "stdout",
     "output_type": "stream",
     "text": [
      "📨 Response received\n",
      "✅ Response text length: 2878\n"
     ]
    },
    {
     "name": "stderr",
     "output_type": "stream",
     "text": [
      "Generating emails:   5%|▍         | 58/1250 [13:31<4:31:17, 13.66s/it]"
     ]
    },
    {
     "name": "stdout",
     "output_type": "stream",
     "text": [
      "📨 Response received\n",
      "✅ Response text length: 1688\n"
     ]
    },
    {
     "name": "stderr",
     "output_type": "stream",
     "text": [
      "Generating emails:   5%|▍         | 59/1250 [13:45<4:33:09, 13.76s/it]"
     ]
    },
    {
     "name": "stdout",
     "output_type": "stream",
     "text": [
      "📨 Response received\n",
      "✅ Response text length: 2723\n"
     ]
    },
    {
     "name": "stderr",
     "output_type": "stream",
     "text": [
      "Generating emails:   5%|▍         | 60/1250 [14:03<4:58:11, 15.04s/it]"
     ]
    },
    {
     "name": "stdout",
     "output_type": "stream",
     "text": [
      "📨 Response received\n",
      "✅ Response text length: 3278\n"
     ]
    },
    {
     "name": "stderr",
     "output_type": "stream",
     "text": [
      "Generating emails:   5%|▍         | 61/1250 [14:22<5:18:54, 16.09s/it]"
     ]
    },
    {
     "name": "stdout",
     "output_type": "stream",
     "text": [
      "📨 Response received\n",
      "✅ Response text length: 2678\n"
     ]
    },
    {
     "name": "stderr",
     "output_type": "stream",
     "text": [
      "Generating emails:   5%|▍         | 62/1250 [14:33<4:48:45, 14.58s/it]"
     ]
    },
    {
     "name": "stdout",
     "output_type": "stream",
     "text": [
      "📨 Response received\n",
      "✅ Response text length: 2464\n"
     ]
    },
    {
     "name": "stderr",
     "output_type": "stream",
     "text": [
      "Generating emails:   5%|▌         | 63/1250 [14:44<4:27:21, 13.51s/it]"
     ]
    },
    {
     "name": "stdout",
     "output_type": "stream",
     "text": [
      "📨 Response received\n",
      "✅ Response text length: 1068\n"
     ]
    },
    {
     "name": "stderr",
     "output_type": "stream",
     "text": [
      "Generating emails:   5%|▌         | 64/1250 [14:52<3:59:33, 12.12s/it]"
     ]
    },
    {
     "name": "stdout",
     "output_type": "stream",
     "text": [
      "📨 Response received\n",
      "✅ Response text length: 413\n"
     ]
    },
    {
     "name": "stderr",
     "output_type": "stream",
     "text": [
      "Generating emails:   5%|▌         | 65/1250 [15:08<4:21:56, 13.26s/it]"
     ]
    },
    {
     "name": "stdout",
     "output_type": "stream",
     "text": [
      "📨 Response received\n",
      "✅ Response text length: 4234\n"
     ]
    },
    {
     "name": "stderr",
     "output_type": "stream",
     "text": [
      "Generating emails:   5%|▌         | 66/1250 [15:24<4:33:56, 13.88s/it]"
     ]
    },
    {
     "name": "stdout",
     "output_type": "stream",
     "text": [
      "📨 Response received\n",
      "✅ Response text length: 5266\n"
     ]
    },
    {
     "name": "stderr",
     "output_type": "stream",
     "text": [
      "Generating emails:   5%|▌         | 67/1250 [15:43<5:04:17, 15.43s/it]"
     ]
    },
    {
     "name": "stdout",
     "output_type": "stream",
     "text": [
      "📨 Response received\n",
      "❌ Failed at row 66: API response finish_reason: 2\n"
     ]
    },
    {
     "name": "stderr",
     "output_type": "stream",
     "text": [
      "Generating emails:   5%|▌         | 68/1250 [15:54<4:38:25, 14.13s/it]"
     ]
    },
    {
     "name": "stdout",
     "output_type": "stream",
     "text": [
      "📨 Response received\n",
      "✅ Response text length: 2259\n"
     ]
    },
    {
     "name": "stderr",
     "output_type": "stream",
     "text": [
      "Generating emails:   6%|▌         | 69/1250 [16:08<4:39:51, 14.22s/it]"
     ]
    },
    {
     "name": "stdout",
     "output_type": "stream",
     "text": [
      "📨 Response received\n",
      "✅ Response text length: 4007\n"
     ]
    },
    {
     "name": "stderr",
     "output_type": "stream",
     "text": [
      "Generating emails:   6%|▌         | 70/1250 [16:21<4:32:28, 13.85s/it]"
     ]
    },
    {
     "name": "stdout",
     "output_type": "stream",
     "text": [
      "📨 Response received\n",
      "✅ Response text length: 1847\n"
     ]
    },
    {
     "name": "stderr",
     "output_type": "stream",
     "text": [
      "Generating emails:   6%|▌         | 71/1250 [16:31<4:04:54, 12.46s/it]"
     ]
    },
    {
     "name": "stdout",
     "output_type": "stream",
     "text": [
      "📨 Response received\n",
      "✅ Response text length: 2488\n"
     ]
    },
    {
     "name": "stderr",
     "output_type": "stream",
     "text": [
      "Generating emails:   6%|▌         | 72/1250 [16:40<3:47:18, 11.58s/it]"
     ]
    },
    {
     "name": "stdout",
     "output_type": "stream",
     "text": [
      "📨 Response received\n",
      "✅ Response text length: 2375\n"
     ]
    },
    {
     "name": "stderr",
     "output_type": "stream",
     "text": [
      "Generating emails:   6%|▌         | 73/1250 [16:49<3:28:50, 10.65s/it]"
     ]
    },
    {
     "name": "stdout",
     "output_type": "stream",
     "text": [
      "📨 Response received\n",
      "✅ Response text length: 716\n"
     ]
    },
    {
     "name": "stderr",
     "output_type": "stream",
     "text": [
      "Generating emails:   6%|▌         | 74/1250 [17:04<3:55:59, 12.04s/it]"
     ]
    },
    {
     "name": "stdout",
     "output_type": "stream",
     "text": [
      "📨 Response received\n",
      "✅ Response text length: 1734\n"
     ]
    },
    {
     "name": "stderr",
     "output_type": "stream",
     "text": [
      "Generating emails:   6%|▌         | 75/1250 [17:19<4:13:04, 12.92s/it]"
     ]
    },
    {
     "name": "stdout",
     "output_type": "stream",
     "text": [
      "📨 Response received\n",
      "✅ Response text length: 3490\n"
     ]
    },
    {
     "name": "stderr",
     "output_type": "stream",
     "text": [
      "Generating emails:   6%|▌         | 76/1250 [17:32<4:14:54, 13.03s/it]"
     ]
    },
    {
     "name": "stdout",
     "output_type": "stream",
     "text": [
      "📨 Response received\n",
      "✅ Response text length: 3145\n"
     ]
    },
    {
     "name": "stderr",
     "output_type": "stream",
     "text": [
      "Generating emails:   6%|▌         | 77/1250 [17:45<4:13:19, 12.96s/it]"
     ]
    },
    {
     "name": "stdout",
     "output_type": "stream",
     "text": [
      "📨 Response received\n",
      "✅ Response text length: 2978\n"
     ]
    },
    {
     "name": "stderr",
     "output_type": "stream",
     "text": [
      "Generating emails:   6%|▌         | 78/1250 [18:02<4:35:23, 14.10s/it]"
     ]
    },
    {
     "name": "stdout",
     "output_type": "stream",
     "text": [
      "📨 Response received\n",
      "✅ Response text length: 2175\n"
     ]
    },
    {
     "name": "stderr",
     "output_type": "stream",
     "text": [
      "Generating emails:   6%|▋         | 79/1250 [18:15<4:33:08, 14.00s/it]"
     ]
    },
    {
     "name": "stdout",
     "output_type": "stream",
     "text": [
      "📨 Response received\n",
      "✅ Response text length: 4466\n"
     ]
    },
    {
     "name": "stderr",
     "output_type": "stream",
     "text": [
      "Generating emails:   6%|▋         | 80/1250 [18:27<4:20:29, 13.36s/it]"
     ]
    },
    {
     "name": "stdout",
     "output_type": "stream",
     "text": [
      "📨 Response received\n",
      "✅ Response text length: 2141\n"
     ]
    },
    {
     "name": "stderr",
     "output_type": "stream",
     "text": [
      "Generating emails:   6%|▋         | 81/1250 [18:39<4:11:55, 12.93s/it]"
     ]
    },
    {
     "name": "stdout",
     "output_type": "stream",
     "text": [
      "📨 Response received\n",
      "✅ Response text length: 2014\n"
     ]
    },
    {
     "name": "stderr",
     "output_type": "stream",
     "text": [
      "Generating emails:   7%|▋         | 82/1250 [18:49<3:50:54, 11.86s/it]"
     ]
    },
    {
     "name": "stdout",
     "output_type": "stream",
     "text": [
      "📨 Response received\n",
      "✅ Response text length: 2555\n"
     ]
    },
    {
     "name": "stderr",
     "output_type": "stream",
     "text": [
      "Generating emails:   7%|▋         | 83/1250 [18:56<3:24:34, 10.52s/it]"
     ]
    },
    {
     "name": "stdout",
     "output_type": "stream",
     "text": [
      "📨 Response received\n",
      "✅ Response text length: 2359\n"
     ]
    },
    {
     "name": "stderr",
     "output_type": "stream",
     "text": [
      "Generating emails:   7%|▋         | 84/1250 [19:07<3:30:27, 10.83s/it]"
     ]
    },
    {
     "name": "stdout",
     "output_type": "stream",
     "text": [
      "📨 Response received\n",
      "✅ Response text length: 2132\n"
     ]
    },
    {
     "name": "stderr",
     "output_type": "stream",
     "text": [
      "Generating emails:   7%|▋         | 85/1250 [19:24<4:03:05, 12.52s/it]"
     ]
    },
    {
     "name": "stdout",
     "output_type": "stream",
     "text": [
      "📨 Response received\n",
      "✅ Response text length: 3283\n"
     ]
    },
    {
     "name": "stderr",
     "output_type": "stream",
     "text": [
      "Generating emails:   7%|▋         | 86/1250 [19:37<4:08:01, 12.78s/it]"
     ]
    },
    {
     "name": "stdout",
     "output_type": "stream",
     "text": [
      "📨 Response received\n",
      "✅ Response text length: 2528\n"
     ]
    },
    {
     "name": "stderr",
     "output_type": "stream",
     "text": [
      "Generating emails:   7%|▋         | 87/1250 [19:48<3:56:23, 12.20s/it]"
     ]
    },
    {
     "name": "stdout",
     "output_type": "stream",
     "text": [
      "📨 Response received\n",
      "✅ Response text length: 1558\n"
     ]
    },
    {
     "name": "stderr",
     "output_type": "stream",
     "text": [
      "Generating emails:   7%|▋         | 88/1250 [20:02<4:02:53, 12.54s/it]"
     ]
    },
    {
     "name": "stdout",
     "output_type": "stream",
     "text": [
      "📨 Response received\n",
      "✅ Response text length: 2961\n"
     ]
    },
    {
     "name": "stderr",
     "output_type": "stream",
     "text": [
      "Generating emails:   7%|▋         | 89/1250 [20:15<4:07:31, 12.79s/it]"
     ]
    },
    {
     "name": "stdout",
     "output_type": "stream",
     "text": [
      "📨 Response received\n",
      "✅ Response text length: 2049\n"
     ]
    },
    {
     "name": "stderr",
     "output_type": "stream",
     "text": [
      "Generating emails:   7%|▋         | 90/1250 [20:29<4:12:13, 13.05s/it]"
     ]
    },
    {
     "name": "stdout",
     "output_type": "stream",
     "text": [
      "📨 Response received\n",
      "✅ Response text length: 2533\n"
     ]
    },
    {
     "name": "stderr",
     "output_type": "stream",
     "text": [
      "Generating emails:   7%|▋         | 91/1250 [20:42<4:15:13, 13.21s/it]"
     ]
    },
    {
     "name": "stdout",
     "output_type": "stream",
     "text": [
      "📨 Response received\n",
      "✅ Response text length: 2569\n"
     ]
    },
    {
     "name": "stderr",
     "output_type": "stream",
     "text": [
      "Generating emails:   7%|▋         | 92/1250 [20:59<4:33:52, 14.19s/it]"
     ]
    },
    {
     "name": "stdout",
     "output_type": "stream",
     "text": [
      "📨 Response received\n",
      "✅ Response text length: 2713\n"
     ]
    },
    {
     "name": "stderr",
     "output_type": "stream",
     "text": [
      "Generating emails:   7%|▋         | 93/1250 [21:14<4:42:15, 14.64s/it]"
     ]
    },
    {
     "name": "stdout",
     "output_type": "stream",
     "text": [
      "📨 Response received\n",
      "✅ Response text length: 2341\n"
     ]
    },
    {
     "name": "stderr",
     "output_type": "stream",
     "text": [
      "Generating emails:   8%|▊         | 94/1250 [21:33<5:02:42, 15.71s/it]"
     ]
    },
    {
     "name": "stdout",
     "output_type": "stream",
     "text": [
      "📨 Response received\n",
      "✅ Response text length: 1983\n"
     ]
    },
    {
     "name": "stderr",
     "output_type": "stream",
     "text": [
      "Generating emails:   8%|▊         | 95/1250 [21:42<4:23:45, 13.70s/it]"
     ]
    },
    {
     "name": "stdout",
     "output_type": "stream",
     "text": [
      "📨 Response received\n",
      "✅ Response text length: 713\n"
     ]
    },
    {
     "name": "stderr",
     "output_type": "stream",
     "text": [
      "Generating emails:   8%|▊         | 96/1250 [21:54<4:14:22, 13.23s/it]"
     ]
    },
    {
     "name": "stdout",
     "output_type": "stream",
     "text": [
      "📨 Response received\n",
      "✅ Response text length: 1921\n"
     ]
    },
    {
     "name": "stderr",
     "output_type": "stream",
     "text": [
      "Generating emails:   8%|▊         | 97/1250 [22:07<4:14:49, 13.26s/it]"
     ]
    },
    {
     "name": "stdout",
     "output_type": "stream",
     "text": [
      "📨 Response received\n",
      "✅ Response text length: 2509\n"
     ]
    },
    {
     "name": "stderr",
     "output_type": "stream",
     "text": [
      "Generating emails:   8%|▊         | 98/1250 [22:24<4:34:29, 14.30s/it]"
     ]
    },
    {
     "name": "stdout",
     "output_type": "stream",
     "text": [
      "📨 Response received\n",
      "✅ Response text length: 2638\n"
     ]
    },
    {
     "name": "stderr",
     "output_type": "stream",
     "text": [
      "Generating emails:   8%|▊         | 99/1250 [22:39<4:42:24, 14.72s/it]"
     ]
    },
    {
     "name": "stdout",
     "output_type": "stream",
     "text": [
      "📨 Response received\n",
      "✅ Response text length: 2203\n"
     ]
    },
    {
     "name": "stderr",
     "output_type": "stream",
     "text": [
      "Generating emails:   8%|▊         | 100/1250 [22:50<4:19:20, 13.53s/it]"
     ]
    },
    {
     "name": "stdout",
     "output_type": "stream",
     "text": [
      "📨 Response received\n",
      "✅ Response text length: 590\n",
      "💾 Checkpoint saved at row 99\n"
     ]
    },
    {
     "name": "stderr",
     "output_type": "stream",
     "text": [
      "Generating emails:   8%|▊         | 101/1250 [23:03<4:17:11, 13.43s/it]"
     ]
    },
    {
     "name": "stdout",
     "output_type": "stream",
     "text": [
      "📨 Response received\n",
      "✅ Response text length: 2344\n"
     ]
    },
    {
     "name": "stderr",
     "output_type": "stream",
     "text": [
      "Generating emails:   8%|▊         | 102/1250 [23:11<3:43:56, 11.70s/it]"
     ]
    },
    {
     "name": "stdout",
     "output_type": "stream",
     "text": [
      "📨 Response received\n",
      "✅ Response text length: 764\n"
     ]
    },
    {
     "name": "stderr",
     "output_type": "stream",
     "text": [
      "Generating emails:   8%|▊         | 103/1250 [23:21<3:34:56, 11.24s/it]"
     ]
    },
    {
     "name": "stdout",
     "output_type": "stream",
     "text": [
      "📨 Response received\n",
      "✅ Response text length: 1988\n"
     ]
    },
    {
     "name": "stderr",
     "output_type": "stream",
     "text": [
      "Generating emails:   8%|▊         | 104/1250 [23:27<3:05:38,  9.72s/it]"
     ]
    },
    {
     "name": "stdout",
     "output_type": "stream",
     "text": [
      "📨 Response received\n",
      "✅ Response text length: 560\n"
     ]
    },
    {
     "name": "stderr",
     "output_type": "stream",
     "text": [
      "Generating emails:   8%|▊         | 105/1250 [23:46<3:55:45, 12.35s/it]"
     ]
    },
    {
     "name": "stdout",
     "output_type": "stream",
     "text": [
      "📨 Response received\n",
      "✅ Response text length: 2754\n"
     ]
    },
    {
     "name": "stderr",
     "output_type": "stream",
     "text": [
      "Generating emails:   8%|▊         | 106/1250 [24:06<4:39:42, 14.67s/it]"
     ]
    },
    {
     "name": "stdout",
     "output_type": "stream",
     "text": [
      "📨 Response received\n",
      "❌ Failed at row 105: API response finish_reason: 2\n"
     ]
    },
    {
     "name": "stderr",
     "output_type": "stream",
     "text": [
      "Generating emails:   9%|▊         | 107/1250 [24:20<4:34:30, 14.41s/it]"
     ]
    },
    {
     "name": "stdout",
     "output_type": "stream",
     "text": [
      "📨 Response received\n",
      "✅ Response text length: 2138\n"
     ]
    },
    {
     "name": "stderr",
     "output_type": "stream",
     "text": [
      "Generating emails:   9%|▊         | 108/1250 [24:32<4:19:24, 13.63s/it]"
     ]
    },
    {
     "name": "stdout",
     "output_type": "stream",
     "text": [
      "📨 Response received\n",
      "✅ Response text length: 1658\n"
     ]
    },
    {
     "name": "stderr",
     "output_type": "stream",
     "text": [
      "Generating emails:   9%|▊         | 109/1250 [24:42<3:59:44, 12.61s/it]"
     ]
    },
    {
     "name": "stdout",
     "output_type": "stream",
     "text": [
      "📨 Response received\n",
      "✅ Response text length: 2920\n"
     ]
    },
    {
     "name": "stderr",
     "output_type": "stream",
     "text": [
      "Generating emails:   9%|▉         | 110/1250 [24:50<3:37:19, 11.44s/it]"
     ]
    },
    {
     "name": "stdout",
     "output_type": "stream",
     "text": [
      "📨 Response received\n",
      "✅ Response text length: 2053\n"
     ]
    },
    {
     "name": "stderr",
     "output_type": "stream",
     "text": [
      "Generating emails:   9%|▉         | 111/1250 [25:05<3:52:10, 12.23s/it]"
     ]
    },
    {
     "name": "stdout",
     "output_type": "stream",
     "text": [
      "📨 Response received\n",
      "✅ Response text length: 2798\n"
     ]
    },
    {
     "name": "stderr",
     "output_type": "stream",
     "text": [
      "Generating emails:   9%|▉         | 112/1250 [25:17<3:53:12, 12.30s/it]"
     ]
    },
    {
     "name": "stdout",
     "output_type": "stream",
     "text": [
      "📨 Response received\n",
      "✅ Response text length: 1981\n"
     ]
    },
    {
     "name": "stderr",
     "output_type": "stream",
     "text": [
      "Generating emails:   9%|▉         | 113/1250 [25:30<3:58:07, 12.57s/it]"
     ]
    },
    {
     "name": "stdout",
     "output_type": "stream",
     "text": [
      "📨 Response received\n",
      "✅ Response text length: 2173\n"
     ]
    },
    {
     "name": "stderr",
     "output_type": "stream",
     "text": [
      "Generating emails:   9%|▉         | 114/1250 [25:48<4:27:03, 14.11s/it]"
     ]
    },
    {
     "name": "stdout",
     "output_type": "stream",
     "text": [
      "📨 Response received\n",
      "✅ Response text length: 2183\n"
     ]
    },
    {
     "name": "stderr",
     "output_type": "stream",
     "text": [
      "Generating emails:   9%|▉         | 115/1250 [25:56<3:51:31, 12.24s/it]"
     ]
    },
    {
     "name": "stdout",
     "output_type": "stream",
     "text": [
      "📨 Response received\n",
      "✅ Response text length: 460\n"
     ]
    },
    {
     "name": "stderr",
     "output_type": "stream",
     "text": [
      "Generating emails:   9%|▉         | 116/1250 [26:18<4:45:50, 15.12s/it]"
     ]
    },
    {
     "name": "stdout",
     "output_type": "stream",
     "text": [
      "📨 Response received\n",
      "❌ Failed at row 115: API response finish_reason: 2\n"
     ]
    },
    {
     "name": "stderr",
     "output_type": "stream",
     "text": [
      "Generating emails:   9%|▉         | 117/1250 [26:31<4:34:38, 14.54s/it]"
     ]
    },
    {
     "name": "stdout",
     "output_type": "stream",
     "text": [
      "📨 Response received\n",
      "✅ Response text length: 2678\n"
     ]
    },
    {
     "name": "stderr",
     "output_type": "stream",
     "text": [
      "Generating emails:   9%|▉         | 118/1250 [26:44<4:27:27, 14.18s/it]"
     ]
    },
    {
     "name": "stdout",
     "output_type": "stream",
     "text": [
      "📨 Response received\n",
      "✅ Response text length: 2499\n"
     ]
    },
    {
     "name": "stderr",
     "output_type": "stream",
     "text": [
      "Generating emails:  10%|▉         | 119/1250 [27:00<4:37:56, 14.74s/it]"
     ]
    },
    {
     "name": "stdout",
     "output_type": "stream",
     "text": [
      "📨 Response received\n",
      "✅ Response text length: 3246\n"
     ]
    },
    {
     "name": "stderr",
     "output_type": "stream",
     "text": [
      "Generating emails:  10%|▉         | 120/1250 [27:10<4:10:55, 13.32s/it]"
     ]
    },
    {
     "name": "stdout",
     "output_type": "stream",
     "text": [
      "📨 Response received\n",
      "✅ Response text length: 2526\n"
     ]
    },
    {
     "name": "stderr",
     "output_type": "stream",
     "text": [
      "Generating emails:  10%|▉         | 121/1250 [27:27<4:32:20, 14.47s/it]"
     ]
    },
    {
     "name": "stdout",
     "output_type": "stream",
     "text": [
      "📨 Response received\n",
      "✅ Response text length: 1226\n"
     ]
    },
    {
     "name": "stderr",
     "output_type": "stream",
     "text": [
      "Generating emails:  10%|▉         | 122/1250 [27:41<4:26:13, 14.16s/it]"
     ]
    },
    {
     "name": "stdout",
     "output_type": "stream",
     "text": [
      "📨 Response received\n",
      "✅ Response text length: 1788\n"
     ]
    },
    {
     "name": "stderr",
     "output_type": "stream",
     "text": [
      "Generating emails:  10%|▉         | 123/1250 [27:55<4:25:51, 14.15s/it]"
     ]
    },
    {
     "name": "stdout",
     "output_type": "stream",
     "text": [
      "📨 Response received\n",
      "✅ Response text length: 2386\n"
     ]
    },
    {
     "name": "stderr",
     "output_type": "stream",
     "text": [
      "Generating emails:  10%|▉         | 124/1250 [28:11<4:33:31, 14.57s/it]"
     ]
    },
    {
     "name": "stdout",
     "output_type": "stream",
     "text": [
      "📨 Response received\n",
      "✅ Response text length: 3997\n"
     ]
    },
    {
     "name": "stderr",
     "output_type": "stream",
     "text": [
      "Generating emails:  10%|█         | 125/1250 [28:23<4:23:11, 14.04s/it]"
     ]
    },
    {
     "name": "stdout",
     "output_type": "stream",
     "text": [
      "📨 Response received\n",
      "✅ Response text length: 1376\n"
     ]
    },
    {
     "name": "stderr",
     "output_type": "stream",
     "text": [
      "Generating emails:  10%|█         | 126/1250 [28:38<4:24:21, 14.11s/it]"
     ]
    },
    {
     "name": "stdout",
     "output_type": "stream",
     "text": [
      "📨 Response received\n",
      "✅ Response text length: 1360\n"
     ]
    },
    {
     "name": "stderr",
     "output_type": "stream",
     "text": [
      "Generating emails:  10%|█         | 127/1250 [28:46<3:50:08, 12.30s/it]"
     ]
    },
    {
     "name": "stdout",
     "output_type": "stream",
     "text": [
      "📨 Response received\n",
      "✅ Response text length: 843\n"
     ]
    },
    {
     "name": "stderr",
     "output_type": "stream",
     "text": [
      "Generating emails:  10%|█         | 128/1250 [29:06<4:33:15, 14.61s/it]"
     ]
    },
    {
     "name": "stdout",
     "output_type": "stream",
     "text": [
      "📨 Response received\n",
      "✅ Response text length: 2288\n"
     ]
    },
    {
     "name": "stderr",
     "output_type": "stream",
     "text": [
      "Generating emails:  10%|█         | 129/1250 [29:20<4:30:20, 14.47s/it]"
     ]
    },
    {
     "name": "stdout",
     "output_type": "stream",
     "text": [
      "📨 Response received\n",
      "✅ Response text length: 3387\n"
     ]
    },
    {
     "name": "stderr",
     "output_type": "stream",
     "text": [
      "Generating emails:  10%|█         | 130/1250 [29:34<4:28:05, 14.36s/it]"
     ]
    },
    {
     "name": "stdout",
     "output_type": "stream",
     "text": [
      "📨 Response received\n",
      "✅ Response text length: 1536\n"
     ]
    },
    {
     "name": "stderr",
     "output_type": "stream",
     "text": [
      "Generating emails:  10%|█         | 131/1250 [29:48<4:28:35, 14.40s/it]"
     ]
    },
    {
     "name": "stdout",
     "output_type": "stream",
     "text": [
      "📨 Response received\n",
      "✅ Response text length: 2801\n"
     ]
    },
    {
     "name": "stderr",
     "output_type": "stream",
     "text": [
      "Generating emails:  11%|█         | 132/1250 [30:02<4:22:52, 14.11s/it]"
     ]
    },
    {
     "name": "stdout",
     "output_type": "stream",
     "text": [
      "📨 Response received\n",
      "✅ Response text length: 2220\n"
     ]
    },
    {
     "name": "stderr",
     "output_type": "stream",
     "text": [
      "Generating emails:  11%|█         | 133/1250 [30:16<4:24:16, 14.20s/it]"
     ]
    },
    {
     "name": "stdout",
     "output_type": "stream",
     "text": [
      "📨 Response received\n",
      "✅ Response text length: 2061\n"
     ]
    },
    {
     "name": "stderr",
     "output_type": "stream",
     "text": [
      "Generating emails:  11%|█         | 134/1250 [30:36<4:55:39, 15.90s/it]"
     ]
    },
    {
     "name": "stdout",
     "output_type": "stream",
     "text": [
      "📨 Response received\n",
      "❌ Failed at row 133: API response finish_reason: 2\n"
     ]
    },
    {
     "name": "stderr",
     "output_type": "stream",
     "text": [
      "Generating emails:  11%|█         | 135/1250 [30:51<4:48:47, 15.54s/it]"
     ]
    },
    {
     "name": "stdout",
     "output_type": "stream",
     "text": [
      "📨 Response received\n",
      "✅ Response text length: 2088\n"
     ]
    },
    {
     "name": "stderr",
     "output_type": "stream",
     "text": [
      "Generating emails:  11%|█         | 136/1250 [30:59<4:06:45, 13.29s/it]"
     ]
    },
    {
     "name": "stdout",
     "output_type": "stream",
     "text": [
      "📨 Response received\n",
      "✅ Response text length: 555\n"
     ]
    },
    {
     "name": "stderr",
     "output_type": "stream",
     "text": [
      "Generating emails:  11%|█         | 137/1250 [31:09<3:50:44, 12.44s/it]"
     ]
    },
    {
     "name": "stdout",
     "output_type": "stream",
     "text": [
      "📨 Response received\n",
      "✅ Response text length: 2093\n"
     ]
    },
    {
     "name": "stderr",
     "output_type": "stream",
     "text": [
      "Generating emails:  11%|█         | 138/1250 [31:27<4:18:58, 13.97s/it]"
     ]
    },
    {
     "name": "stdout",
     "output_type": "stream",
     "text": [
      "📨 Response received\n",
      "✅ Response text length: 2522\n"
     ]
    },
    {
     "name": "stderr",
     "output_type": "stream",
     "text": [
      "Generating emails:  11%|█         | 139/1250 [31:38<4:01:00, 13.02s/it]"
     ]
    },
    {
     "name": "stdout",
     "output_type": "stream",
     "text": [
      "📨 Response received\n",
      "✅ Response text length: 2501\n"
     ]
    },
    {
     "name": "stderr",
     "output_type": "stream",
     "text": [
      "Generating emails:  11%|█         | 140/1250 [31:46<3:37:41, 11.77s/it]"
     ]
    },
    {
     "name": "stdout",
     "output_type": "stream",
     "text": [
      "📨 Response received\n",
      "✅ Response text length: 1984\n"
     ]
    },
    {
     "name": "stderr",
     "output_type": "stream",
     "text": [
      "Generating emails:  11%|█▏        | 141/1250 [32:04<4:11:35, 13.61s/it]"
     ]
    },
    {
     "name": "stdout",
     "output_type": "stream",
     "text": [
      "📨 Response received\n",
      "✅ Response text length: 2640\n"
     ]
    },
    {
     "name": "stderr",
     "output_type": "stream",
     "text": [
      "Generating emails:  11%|█▏        | 142/1250 [32:16<3:58:16, 12.90s/it]"
     ]
    },
    {
     "name": "stdout",
     "output_type": "stream",
     "text": [
      "📨 Response received\n",
      "✅ Response text length: 2133\n"
     ]
    },
    {
     "name": "stderr",
     "output_type": "stream",
     "text": [
      "Generating emails:  11%|█▏        | 143/1250 [32:31<4:14:02, 13.77s/it]"
     ]
    },
    {
     "name": "stdout",
     "output_type": "stream",
     "text": [
      "📨 Response received\n",
      "✅ Response text length: 1574\n"
     ]
    },
    {
     "name": "stderr",
     "output_type": "stream",
     "text": [
      "Generating emails:  12%|█▏        | 144/1250 [32:44<4:06:16, 13.36s/it]"
     ]
    },
    {
     "name": "stdout",
     "output_type": "stream",
     "text": [
      "📨 Response received\n",
      "✅ Response text length: 2616\n"
     ]
    },
    {
     "name": "stderr",
     "output_type": "stream",
     "text": [
      "Generating emails:  12%|█▏        | 145/1250 [32:59<4:15:56, 13.90s/it]"
     ]
    },
    {
     "name": "stdout",
     "output_type": "stream",
     "text": [
      "📨 Response received\n",
      "✅ Response text length: 3936\n"
     ]
    },
    {
     "name": "stderr",
     "output_type": "stream",
     "text": [
      "Generating emails:  12%|█▏        | 146/1250 [33:11<4:07:56, 13.48s/it]"
     ]
    },
    {
     "name": "stdout",
     "output_type": "stream",
     "text": [
      "📨 Response received\n",
      "✅ Response text length: 1737\n"
     ]
    },
    {
     "name": "stderr",
     "output_type": "stream",
     "text": [
      "Generating emails:  12%|█▏        | 147/1250 [33:28<4:22:57, 14.30s/it]"
     ]
    },
    {
     "name": "stdout",
     "output_type": "stream",
     "text": [
      "📨 Response received\n",
      "✅ Response text length: 4278\n"
     ]
    },
    {
     "name": "stderr",
     "output_type": "stream",
     "text": [
      "Generating emails:  12%|█▏        | 148/1250 [33:45<4:41:28, 15.33s/it]"
     ]
    },
    {
     "name": "stdout",
     "output_type": "stream",
     "text": [
      "📨 Response received\n",
      "✅ Response text length: 2745\n"
     ]
    },
    {
     "name": "stderr",
     "output_type": "stream",
     "text": [
      "Generating emails:  12%|█▏        | 149/1250 [33:59<4:34:04, 14.94s/it]"
     ]
    },
    {
     "name": "stdout",
     "output_type": "stream",
     "text": [
      "📨 Response received\n",
      "✅ Response text length: 4048\n"
     ]
    },
    {
     "name": "stderr",
     "output_type": "stream",
     "text": [
      "Generating emails:  12%|█▏        | 150/1250 [34:16<4:41:08, 15.33s/it]"
     ]
    },
    {
     "name": "stdout",
     "output_type": "stream",
     "text": [
      "📨 Response received\n",
      "✅ Response text length: 2632\n",
      "💾 Checkpoint saved at row 149\n"
     ]
    },
    {
     "name": "stderr",
     "output_type": "stream",
     "text": [
      "Generating emails:  12%|█▏        | 151/1250 [34:38<5:17:18, 17.32s/it]"
     ]
    },
    {
     "name": "stdout",
     "output_type": "stream",
     "text": [
      "📨 Response received\n",
      "❌ Failed at row 150: API response finish_reason: 2\n"
     ]
    },
    {
     "name": "stderr",
     "output_type": "stream",
     "text": [
      "Generating emails:  12%|█▏        | 152/1250 [34:43<4:09:19, 13.62s/it]"
     ]
    },
    {
     "name": "stdout",
     "output_type": "stream",
     "text": [
      "📨 Response received\n",
      "✅ Response text length: 2157\n"
     ]
    },
    {
     "name": "stderr",
     "output_type": "stream",
     "text": [
      "Generating emails:  12%|█▏        | 153/1250 [34:59<4:22:10, 14.34s/it]"
     ]
    },
    {
     "name": "stdout",
     "output_type": "stream",
     "text": [
      "📨 Response received\n",
      "✅ Response text length: 2317\n"
     ]
    },
    {
     "name": "stderr",
     "output_type": "stream",
     "text": [
      "Generating emails:  12%|█▏        | 154/1250 [35:17<4:45:23, 15.62s/it]"
     ]
    },
    {
     "name": "stdout",
     "output_type": "stream",
     "text": [
      "📨 Response received\n",
      "✅ Response text length: 2345\n"
     ]
    },
    {
     "name": "stderr",
     "output_type": "stream",
     "text": [
      "Generating emails:  12%|█▏        | 155/1250 [35:32<4:42:24, 15.47s/it]"
     ]
    },
    {
     "name": "stdout",
     "output_type": "stream",
     "text": [
      "📨 Response received\n",
      "✅ Response text length: 2058\n"
     ]
    },
    {
     "name": "stderr",
     "output_type": "stream",
     "text": [
      "Generating emails:  12%|█▏        | 156/1250 [35:48<4:40:37, 15.39s/it]"
     ]
    },
    {
     "name": "stdout",
     "output_type": "stream",
     "text": [
      "📨 Response received\n",
      "✅ Response text length: 1647\n"
     ]
    },
    {
     "name": "stderr",
     "output_type": "stream",
     "text": [
      "Generating emails:  13%|█▎        | 157/1250 [36:07<5:00:44, 16.51s/it]"
     ]
    },
    {
     "name": "stdout",
     "output_type": "stream",
     "text": [
      "📨 Response received\n",
      "❌ Failed at row 156: API response finish_reason: 2\n"
     ]
    },
    {
     "name": "stderr",
     "output_type": "stream",
     "text": [
      "Generating emails:  13%|█▎        | 158/1250 [36:19<4:37:00, 15.22s/it]"
     ]
    },
    {
     "name": "stdout",
     "output_type": "stream",
     "text": [
      "📨 Response received\n",
      "✅ Response text length: 2341\n"
     ]
    },
    {
     "name": "stderr",
     "output_type": "stream",
     "text": [
      "Generating emails:  13%|█▎        | 159/1250 [36:43<5:23:08, 17.77s/it]"
     ]
    },
    {
     "name": "stdout",
     "output_type": "stream",
     "text": [
      "📨 Response received\n",
      "❌ Failed at row 158: API response finish_reason: 2\n"
     ]
    },
    {
     "name": "stderr",
     "output_type": "stream",
     "text": [
      "Generating emails:  13%|█▎        | 160/1250 [36:46<4:06:13, 13.55s/it]"
     ]
    },
    {
     "name": "stdout",
     "output_type": "stream",
     "text": [
      "📨 Response received\n",
      "✅ Response text length: 607\n"
     ]
    },
    {
     "name": "stderr",
     "output_type": "stream",
     "text": [
      "Generating emails:  13%|█▎        | 161/1250 [36:59<4:02:54, 13.38s/it]"
     ]
    },
    {
     "name": "stdout",
     "output_type": "stream",
     "text": [
      "📨 Response received\n",
      "✅ Response text length: 3092\n"
     ]
    },
    {
     "name": "stderr",
     "output_type": "stream",
     "text": [
      "Generating emails:  13%|█▎        | 162/1250 [37:13<4:02:46, 13.39s/it]"
     ]
    },
    {
     "name": "stdout",
     "output_type": "stream",
     "text": [
      "📨 Response received\n",
      "✅ Response text length: 2858\n"
     ]
    },
    {
     "name": "stderr",
     "output_type": "stream",
     "text": [
      "Generating emails:  13%|█▎        | 163/1250 [37:25<3:55:23, 12.99s/it]"
     ]
    },
    {
     "name": "stdout",
     "output_type": "stream",
     "text": [
      "📨 Response received\n",
      "✅ Response text length: 2594\n"
     ]
    },
    {
     "name": "stderr",
     "output_type": "stream",
     "text": [
      "Generating emails:  13%|█▎        | 164/1250 [37:36<3:43:16, 12.34s/it]"
     ]
    },
    {
     "name": "stdout",
     "output_type": "stream",
     "text": [
      "📨 Response received\n",
      "✅ Response text length: 2267\n"
     ]
    },
    {
     "name": "stderr",
     "output_type": "stream",
     "text": [
      "Generating emails:  13%|█▎        | 165/1250 [37:55<4:21:41, 14.47s/it]"
     ]
    },
    {
     "name": "stdout",
     "output_type": "stream",
     "text": [
      "📨 Response received\n",
      "❌ Failed at row 164: API response finish_reason: 2\n"
     ]
    },
    {
     "name": "stderr",
     "output_type": "stream",
     "text": [
      "Generating emails:  13%|█▎        | 166/1250 [38:06<4:02:31, 13.42s/it]"
     ]
    },
    {
     "name": "stdout",
     "output_type": "stream",
     "text": [
      "📨 Response received\n",
      "✅ Response text length: 2327\n"
     ]
    },
    {
     "name": "stderr",
     "output_type": "stream",
     "text": [
      "Generating emails:  13%|█▎        | 167/1250 [38:15<3:36:18, 11.98s/it]"
     ]
    },
    {
     "name": "stdout",
     "output_type": "stream",
     "text": [
      "📨 Response received\n",
      "✅ Response text length: 687\n"
     ]
    },
    {
     "name": "stderr",
     "output_type": "stream",
     "text": [
      "Generating emails:  13%|█▎        | 168/1250 [38:34<4:14:32, 14.12s/it]"
     ]
    },
    {
     "name": "stdout",
     "output_type": "stream",
     "text": [
      "📨 Response received\n",
      "✅ Response text length: 2048\n"
     ]
    },
    {
     "name": "stderr",
     "output_type": "stream",
     "text": [
      "Generating emails:  14%|█▎        | 169/1250 [38:42<3:40:43, 12.25s/it]"
     ]
    },
    {
     "name": "stdout",
     "output_type": "stream",
     "text": [
      "📨 Response received\n",
      "✅ Response text length: 514\n"
     ]
    },
    {
     "name": "stderr",
     "output_type": "stream",
     "text": [
      "Generating emails:  14%|█▎        | 170/1250 [38:58<4:00:11, 13.34s/it]"
     ]
    },
    {
     "name": "stdout",
     "output_type": "stream",
     "text": [
      "📨 Response received\n",
      "✅ Response text length: 2528\n"
     ]
    },
    {
     "name": "stderr",
     "output_type": "stream",
     "text": [
      "Generating emails:  14%|█▎        | 171/1250 [39:14<4:14:20, 14.14s/it]"
     ]
    },
    {
     "name": "stdout",
     "output_type": "stream",
     "text": [
      "📨 Response received\n",
      "✅ Response text length: 2360\n"
     ]
    },
    {
     "name": "stderr",
     "output_type": "stream",
     "text": [
      "Generating emails:  14%|█▍        | 172/1250 [39:25<4:01:56, 13.47s/it]"
     ]
    },
    {
     "name": "stdout",
     "output_type": "stream",
     "text": [
      "📨 Response received\n",
      "✅ Response text length: 2812\n",
      "❌ Failed at row 171: Expecting ',' delimiter: line 3 column 840 (char 974)\n"
     ]
    },
    {
     "name": "stderr",
     "output_type": "stream",
     "text": [
      "Generating emails:  14%|█▍        | 173/1250 [39:45<4:33:47, 15.25s/it]"
     ]
    },
    {
     "name": "stdout",
     "output_type": "stream",
     "text": [
      "📨 Response received\n",
      "❌ Failed at row 172: API response finish_reason: 2\n"
     ]
    },
    {
     "name": "stderr",
     "output_type": "stream",
     "text": [
      "Generating emails:  14%|█▍        | 174/1250 [1:01:59<122:47:44, 410.84s/it]"
     ]
    },
    {
     "name": "stdout",
     "output_type": "stream",
     "text": [
      "❌ Failed at row 173: 504 Deadline Exceeded\n"
     ]
    },
    {
     "name": "stderr",
     "output_type": "stream",
     "text": [
      "Generating emails:  14%|█▍        | 175/1250 [1:17:43<170:29:30, 570.95s/it]"
     ]
    },
    {
     "name": "stdout",
     "output_type": "stream",
     "text": [
      "❌ Failed at row 174: 504 Deadline Exceeded\n"
     ]
    },
    {
     "name": "stderr",
     "output_type": "stream",
     "text": [
      "Generating emails:  14%|█▍        | 176/1250 [1:33:29<203:50:09, 683.25s/it]"
     ]
    },
    {
     "name": "stdout",
     "output_type": "stream",
     "text": [
      "❌ Failed at row 175: 504 Deadline Exceeded\n"
     ]
    },
    {
     "name": "stderr",
     "output_type": "stream",
     "text": [
      "Generating emails:  14%|█▍        | 177/1250 [1:33:50<144:27:09, 484.65s/it]"
     ]
    },
    {
     "name": "stdout",
     "output_type": "stream",
     "text": [
      "📨 Response received\n",
      "❌ Failed at row 176: API response finish_reason: 2\n"
     ]
    },
    {
     "name": "stderr",
     "output_type": "stream",
     "text": [
      "Generating emails:  14%|█▍        | 178/1250 [1:34:06<102:28:04, 344.11s/it]"
     ]
    },
    {
     "name": "stdout",
     "output_type": "stream",
     "text": [
      "📨 Response received\n",
      "✅ Response text length: 3025\n"
     ]
    },
    {
     "name": "stderr",
     "output_type": "stream",
     "text": [
      "Generating emails:  14%|█▍        | 179/1250 [1:34:20<72:56:34, 245.19s/it] "
     ]
    },
    {
     "name": "stdout",
     "output_type": "stream",
     "text": [
      "📨 Response received\n",
      "✅ Response text length: 1566\n"
     ]
    },
    {
     "name": "stderr",
     "output_type": "stream",
     "text": [
      "Generating emails:  14%|█▍        | 180/1250 [1:34:34<52:13:17, 175.70s/it]"
     ]
    },
    {
     "name": "stdout",
     "output_type": "stream",
     "text": [
      "📨 Response received\n",
      "✅ Response text length: 2309\n"
     ]
    },
    {
     "name": "stderr",
     "output_type": "stream",
     "text": [
      "Generating emails:  14%|█▍        | 181/1250 [1:34:50<37:59:32, 127.94s/it]"
     ]
    },
    {
     "name": "stdout",
     "output_type": "stream",
     "text": [
      "📨 Response received\n",
      "✅ Response text length: 2134\n"
     ]
    },
    {
     "name": "stderr",
     "output_type": "stream",
     "text": [
      "Generating emails:  15%|█▍        | 182/1250 [1:35:00<27:25:32, 92.45s/it] "
     ]
    },
    {
     "name": "stdout",
     "output_type": "stream",
     "text": [
      "📨 Response received\n",
      "✅ Response text length: 2140\n"
     ]
    },
    {
     "name": "stderr",
     "output_type": "stream",
     "text": [
      "Generating emails:  15%|█▍        | 183/1250 [1:35:17<20:41:16, 69.80s/it]"
     ]
    },
    {
     "name": "stdout",
     "output_type": "stream",
     "text": [
      "📨 Response received\n",
      "✅ Response text length: 2683\n"
     ]
    },
    {
     "name": "stderr",
     "output_type": "stream",
     "text": [
      "Generating emails:  15%|█▍        | 184/1250 [1:36:47<22:28:15, 75.89s/it]"
     ]
    },
    {
     "name": "stdout",
     "output_type": "stream",
     "text": [
      "📨 Response received\n",
      "✅ Response text length: 4800\n"
     ]
    },
    {
     "name": "stderr",
     "output_type": "stream",
     "text": [
      "Generating emails:  15%|█▍        | 185/1250 [1:37:05<17:16:54, 58.42s/it]"
     ]
    },
    {
     "name": "stdout",
     "output_type": "stream",
     "text": [
      "📨 Response received\n",
      "✅ Response text length: 2375\n"
     ]
    },
    {
     "name": "stderr",
     "output_type": "stream",
     "text": [
      "Generating emails:  15%|█▍        | 186/1250 [1:37:25<13:54:15, 47.05s/it]"
     ]
    },
    {
     "name": "stdout",
     "output_type": "stream",
     "text": [
      "📨 Response received\n",
      "❌ Failed at row 185: API response finish_reason: 2\n"
     ]
    },
    {
     "name": "stderr",
     "output_type": "stream",
     "text": [
      "Generating emails:  15%|█▍        | 187/1250 [1:37:36<10:39:44, 36.11s/it]"
     ]
    },
    {
     "name": "stdout",
     "output_type": "stream",
     "text": [
      "📨 Response received\n",
      "✅ Response text length: 2289\n"
     ]
    },
    {
     "name": "stderr",
     "output_type": "stream",
     "text": [
      "Generating emails:  15%|█▌        | 188/1250 [1:37:45<8:15:34, 28.00s/it] "
     ]
    },
    {
     "name": "stdout",
     "output_type": "stream",
     "text": [
      "📨 Response received\n",
      "✅ Response text length: 821\n"
     ]
    },
    {
     "name": "stderr",
     "output_type": "stream",
     "text": [
      "Generating emails:  15%|█▌        | 189/1250 [1:37:52<6:25:09, 21.78s/it]"
     ]
    },
    {
     "name": "stdout",
     "output_type": "stream",
     "text": [
      "📨 Response received\n",
      "✅ Response text length: 437\n"
     ]
    },
    {
     "name": "stderr",
     "output_type": "stream",
     "text": [
      "Generating emails:  15%|█▌        | 190/1250 [1:38:07<5:46:31, 19.61s/it]"
     ]
    },
    {
     "name": "stdout",
     "output_type": "stream",
     "text": [
      "📨 Response received\n",
      "✅ Response text length: 2736\n"
     ]
    },
    {
     "name": "stderr",
     "output_type": "stream",
     "text": [
      "Generating emails:  15%|█▌        | 191/1250 [1:38:31<6:07:54, 20.85s/it]"
     ]
    },
    {
     "name": "stdout",
     "output_type": "stream",
     "text": [
      "📨 Response received\n",
      "❌ Failed at row 190: API response finish_reason: 2\n"
     ]
    },
    {
     "name": "stderr",
     "output_type": "stream",
     "text": [
      "Generating emails:  15%|█▌        | 192/1250 [1:38:44<5:31:04, 18.78s/it]"
     ]
    },
    {
     "name": "stdout",
     "output_type": "stream",
     "text": [
      "📨 Response received\n",
      "✅ Response text length: 3241\n"
     ]
    },
    {
     "name": "stderr",
     "output_type": "stream",
     "text": [
      "Generating emails:  15%|█▌        | 193/1250 [1:39:00<5:13:19, 17.79s/it]"
     ]
    },
    {
     "name": "stdout",
     "output_type": "stream",
     "text": [
      "📨 Response received\n",
      "✅ Response text length: 2002\n"
     ]
    },
    {
     "name": "stderr",
     "output_type": "stream",
     "text": [
      "Generating emails:  16%|█▌        | 194/1250 [1:39:14<4:51:57, 16.59s/it]"
     ]
    },
    {
     "name": "stdout",
     "output_type": "stream",
     "text": [
      "📨 Response received\n",
      "✅ Response text length: 2985\n"
     ]
    },
    {
     "name": "stderr",
     "output_type": "stream",
     "text": [
      "Generating emails:  16%|█▌        | 195/1250 [1:39:29<4:46:01, 16.27s/it]"
     ]
    },
    {
     "name": "stdout",
     "output_type": "stream",
     "text": [
      "📨 Response received\n",
      "✅ Response text length: 2607\n"
     ]
    },
    {
     "name": "stderr",
     "output_type": "stream",
     "text": [
      "Generating emails:  16%|█▌        | 196/1250 [1:39:41<4:20:24, 14.82s/it]"
     ]
    },
    {
     "name": "stdout",
     "output_type": "stream",
     "text": [
      "📨 Response received\n",
      "✅ Response text length: 2244\n"
     ]
    },
    {
     "name": "stderr",
     "output_type": "stream",
     "text": [
      "Generating emails:  16%|█▌        | 197/1250 [1:40:01<4:49:18, 16.49s/it]"
     ]
    },
    {
     "name": "stdout",
     "output_type": "stream",
     "text": [
      "📨 Response received\n",
      "❌ Failed at row 196: API response finish_reason: 2\n"
     ]
    },
    {
     "name": "stderr",
     "output_type": "stream",
     "text": [
      "Generating emails:  16%|█▌        | 198/1250 [1:40:16<4:39:36, 15.95s/it]"
     ]
    },
    {
     "name": "stdout",
     "output_type": "stream",
     "text": [
      "📨 Response received\n",
      "✅ Response text length: 2068\n"
     ]
    },
    {
     "name": "stderr",
     "output_type": "stream",
     "text": [
      "Generating emails:  16%|█▌        | 199/1250 [1:40:29<4:22:36, 14.99s/it]"
     ]
    },
    {
     "name": "stdout",
     "output_type": "stream",
     "text": [
      "📨 Response received\n",
      "✅ Response text length: 1606\n"
     ]
    },
    {
     "name": "stderr",
     "output_type": "stream",
     "text": [
      "Generating emails:  16%|█▌        | 200/1250 [1:40:41<4:09:34, 14.26s/it]"
     ]
    },
    {
     "name": "stdout",
     "output_type": "stream",
     "text": [
      "📨 Response received\n",
      "✅ Response text length: 2275\n",
      "💾 Checkpoint saved at row 199\n"
     ]
    },
    {
     "name": "stderr",
     "output_type": "stream",
     "text": [
      "Generating emails:  16%|█▌        | 201/1250 [1:40:52<3:51:48, 13.26s/it]"
     ]
    },
    {
     "name": "stdout",
     "output_type": "stream",
     "text": [
      "📨 Response received\n",
      "✅ Response text length: 2076\n"
     ]
    },
    {
     "name": "stderr",
     "output_type": "stream",
     "text": [
      "Generating emails:  16%|█▌        | 202/1250 [1:41:05<3:51:44, 13.27s/it]"
     ]
    },
    {
     "name": "stdout",
     "output_type": "stream",
     "text": [
      "📨 Response received\n",
      "✅ Response text length: 2861\n"
     ]
    },
    {
     "name": "stderr",
     "output_type": "stream",
     "text": [
      "Generating emails:  16%|█▌        | 203/1250 [1:41:20<3:59:25, 13.72s/it]"
     ]
    },
    {
     "name": "stdout",
     "output_type": "stream",
     "text": [
      "📨 Response received\n",
      "✅ Response text length: 2774\n"
     ]
    },
    {
     "name": "stderr",
     "output_type": "stream",
     "text": [
      "Generating emails:  16%|█▋        | 204/1250 [1:41:37<4:16:16, 14.70s/it]"
     ]
    },
    {
     "name": "stdout",
     "output_type": "stream",
     "text": [
      "📨 Response received\n",
      "✅ Response text length: 2438\n"
     ]
    },
    {
     "name": "stderr",
     "output_type": "stream",
     "text": [
      "Generating emails:  16%|█▋        | 205/1250 [1:41:49<4:01:23, 13.86s/it]"
     ]
    },
    {
     "name": "stdout",
     "output_type": "stream",
     "text": [
      "📨 Response received\n",
      "✅ Response text length: 3000\n"
     ]
    },
    {
     "name": "stderr",
     "output_type": "stream",
     "text": [
      "Generating emails:  16%|█▋        | 206/1250 [1:42:05<4:11:01, 14.43s/it]"
     ]
    },
    {
     "name": "stdout",
     "output_type": "stream",
     "text": [
      "📨 Response received\n",
      "✅ Response text length: 2267\n"
     ]
    },
    {
     "name": "stderr",
     "output_type": "stream",
     "text": [
      "Generating emails:  17%|█▋        | 207/1250 [1:42:16<3:53:10, 13.41s/it]"
     ]
    },
    {
     "name": "stdout",
     "output_type": "stream",
     "text": [
      "📨 Response received\n",
      "✅ Response text length: 2390\n"
     ]
    },
    {
     "name": "stderr",
     "output_type": "stream",
     "text": [
      "Generating emails:  17%|█▋        | 208/1250 [1:42:29<3:51:04, 13.31s/it]"
     ]
    },
    {
     "name": "stdout",
     "output_type": "stream",
     "text": [
      "📨 Response received\n",
      "✅ Response text length: 2312\n"
     ]
    },
    {
     "name": "stderr",
     "output_type": "stream",
     "text": [
      "Generating emails:  17%|█▋        | 209/1250 [1:42:45<4:05:51, 14.17s/it]"
     ]
    },
    {
     "name": "stdout",
     "output_type": "stream",
     "text": [
      "📨 Response received\n",
      "✅ Response text length: 2621\n"
     ]
    },
    {
     "name": "stderr",
     "output_type": "stream",
     "text": [
      "Generating emails:  17%|█▋        | 210/1250 [1:43:00<4:10:17, 14.44s/it]"
     ]
    },
    {
     "name": "stdout",
     "output_type": "stream",
     "text": [
      "📨 Response received\n",
      "✅ Response text length: 2051\n"
     ]
    },
    {
     "name": "stderr",
     "output_type": "stream",
     "text": [
      "Generating emails:  17%|█▋        | 211/1250 [1:43:12<3:55:22, 13.59s/it]"
     ]
    },
    {
     "name": "stdout",
     "output_type": "stream",
     "text": [
      "📨 Response received\n",
      "✅ Response text length: 2435\n"
     ]
    },
    {
     "name": "stderr",
     "output_type": "stream",
     "text": [
      "Generating emails:  17%|█▋        | 212/1250 [1:43:24<3:50:44, 13.34s/it]"
     ]
    },
    {
     "name": "stdout",
     "output_type": "stream",
     "text": [
      "📨 Response received\n",
      "✅ Response text length: 1401\n"
     ]
    },
    {
     "name": "stderr",
     "output_type": "stream",
     "text": [
      "Generating emails:  17%|█▋        | 213/1250 [1:43:36<3:43:27, 12.93s/it]"
     ]
    },
    {
     "name": "stdout",
     "output_type": "stream",
     "text": [
      "📨 Response received\n",
      "✅ Response text length: 2172\n"
     ]
    },
    {
     "name": "stderr",
     "output_type": "stream",
     "text": [
      "Generating emails:  17%|█▋        | 214/1250 [1:43:51<3:49:58, 13.32s/it]"
     ]
    },
    {
     "name": "stdout",
     "output_type": "stream",
     "text": [
      "📨 Response received\n",
      "✅ Response text length: 2551\n"
     ]
    },
    {
     "name": "stderr",
     "output_type": "stream",
     "text": [
      "Generating emails:  17%|█▋        | 215/1250 [1:44:03<3:43:52, 12.98s/it]"
     ]
    },
    {
     "name": "stdout",
     "output_type": "stream",
     "text": [
      "📨 Response received\n",
      "✅ Response text length: 2578\n"
     ]
    },
    {
     "name": "stderr",
     "output_type": "stream",
     "text": [
      "Generating emails:  17%|█▋        | 216/1250 [1:44:19<3:58:19, 13.83s/it]"
     ]
    },
    {
     "name": "stdout",
     "output_type": "stream",
     "text": [
      "📨 Response received\n",
      "✅ Response text length: 2568\n"
     ]
    },
    {
     "name": "stderr",
     "output_type": "stream",
     "text": [
      "Generating emails:  17%|█▋        | 217/1250 [1:44:32<3:56:28, 13.73s/it]"
     ]
    },
    {
     "name": "stdout",
     "output_type": "stream",
     "text": [
      "📨 Response received\n",
      "✅ Response text length: 2064\n"
     ]
    },
    {
     "name": "stderr",
     "output_type": "stream",
     "text": [
      "Generating emails:  17%|█▋        | 218/1250 [1:44:46<3:55:26, 13.69s/it]"
     ]
    },
    {
     "name": "stdout",
     "output_type": "stream",
     "text": [
      "📨 Response received\n",
      "✅ Response text length: 3019\n"
     ]
    },
    {
     "name": "stderr",
     "output_type": "stream",
     "text": [
      "Generating emails:  18%|█▊        | 219/1250 [1:44:54<3:28:42, 12.15s/it]"
     ]
    },
    {
     "name": "stdout",
     "output_type": "stream",
     "text": [
      "📨 Response received\n",
      "✅ Response text length: 610\n"
     ]
    },
    {
     "name": "stderr",
     "output_type": "stream",
     "text": [
      "Generating emails:  18%|█▊        | 220/1250 [1:45:12<3:56:50, 13.80s/it]"
     ]
    },
    {
     "name": "stdout",
     "output_type": "stream",
     "text": [
      "📨 Response received\n",
      "✅ Response text length: 2439\n"
     ]
    },
    {
     "name": "stderr",
     "output_type": "stream",
     "text": [
      "Generating emails:  18%|█▊        | 221/1250 [1:45:26<3:59:37, 13.97s/it]"
     ]
    },
    {
     "name": "stdout",
     "output_type": "stream",
     "text": [
      "📨 Response received\n",
      "✅ Response text length: 1421\n"
     ]
    },
    {
     "name": "stderr",
     "output_type": "stream",
     "text": [
      "Generating emails:  18%|█▊        | 222/1250 [1:45:41<4:02:30, 14.15s/it]"
     ]
    },
    {
     "name": "stdout",
     "output_type": "stream",
     "text": [
      "📨 Response received\n",
      "✅ Response text length: 2503\n"
     ]
    },
    {
     "name": "stderr",
     "output_type": "stream",
     "text": [
      "Generating emails:  18%|█▊        | 223/1250 [1:45:55<4:01:59, 14.14s/it]"
     ]
    },
    {
     "name": "stdout",
     "output_type": "stream",
     "text": [
      "📨 Response received\n",
      "✅ Response text length: 2416\n"
     ]
    },
    {
     "name": "stderr",
     "output_type": "stream",
     "text": [
      "Generating emails:  18%|█▊        | 224/1250 [1:46:15<4:29:44, 15.77s/it]"
     ]
    },
    {
     "name": "stdout",
     "output_type": "stream",
     "text": [
      "📨 Response received\n",
      "❌ Failed at row 223: API response finish_reason: 2\n"
     ]
    },
    {
     "name": "stderr",
     "output_type": "stream",
     "text": [
      "Generating emails:  18%|█▊        | 225/1250 [1:46:35<4:51:29, 17.06s/it]"
     ]
    },
    {
     "name": "stdout",
     "output_type": "stream",
     "text": [
      "📨 Response received\n",
      "❌ Failed at row 224: API response finish_reason: 2\n"
     ]
    },
    {
     "name": "stderr",
     "output_type": "stream",
     "text": [
      "Generating emails:  18%|█▊        | 226/1250 [1:46:52<4:52:50, 17.16s/it]"
     ]
    },
    {
     "name": "stdout",
     "output_type": "stream",
     "text": [
      "📨 Response received\n",
      "❌ Failed at row 225: API response finish_reason: 2\n"
     ]
    },
    {
     "name": "stderr",
     "output_type": "stream",
     "text": [
      "Generating emails:  18%|█▊        | 227/1250 [1:47:06<4:37:13, 16.26s/it]"
     ]
    },
    {
     "name": "stdout",
     "output_type": "stream",
     "text": [
      "📨 Response received\n",
      "✅ Response text length: 1723\n"
     ]
    },
    {
     "name": "stderr",
     "output_type": "stream",
     "text": [
      "Generating emails:  18%|█▊        | 228/1250 [1:47:28<5:05:50, 17.96s/it]"
     ]
    },
    {
     "name": "stdout",
     "output_type": "stream",
     "text": [
      "📨 Response received\n",
      "✅ Response text length: 2242\n"
     ]
    },
    {
     "name": "stderr",
     "output_type": "stream",
     "text": [
      "Generating emails:  18%|█▊        | 229/1250 [1:47:39<4:31:08, 15.93s/it]"
     ]
    },
    {
     "name": "stdout",
     "output_type": "stream",
     "text": [
      "📨 Response received\n",
      "✅ Response text length: 714\n"
     ]
    },
    {
     "name": "stderr",
     "output_type": "stream",
     "text": [
      "Generating emails:  18%|█▊        | 230/1250 [1:47:51<4:08:50, 14.64s/it]"
     ]
    },
    {
     "name": "stdout",
     "output_type": "stream",
     "text": [
      "📨 Response received\n",
      "✅ Response text length: 2279\n"
     ]
    },
    {
     "name": "stderr",
     "output_type": "stream",
     "text": [
      "Generating emails:  18%|█▊        | 231/1250 [1:48:09<4:24:20, 15.56s/it]"
     ]
    },
    {
     "name": "stdout",
     "output_type": "stream",
     "text": [
      "📨 Response received\n",
      "✅ Response text length: 4766\n"
     ]
    },
    {
     "name": "stderr",
     "output_type": "stream",
     "text": [
      "Generating emails:  19%|█▊        | 232/1250 [1:48:26<4:31:53, 16.02s/it]"
     ]
    },
    {
     "name": "stdout",
     "output_type": "stream",
     "text": [
      "📨 Response received\n",
      "✅ Response text length: 2149\n"
     ]
    },
    {
     "name": "stderr",
     "output_type": "stream",
     "text": [
      "Generating emails:  19%|█▊        | 233/1250 [1:48:39<4:18:29, 15.25s/it]"
     ]
    },
    {
     "name": "stdout",
     "output_type": "stream",
     "text": [
      "📨 Response received\n",
      "✅ Response text length: 2631\n"
     ]
    },
    {
     "name": "stderr",
     "output_type": "stream",
     "text": [
      "Generating emails:  19%|█▊        | 234/1250 [1:48:52<4:06:18, 14.55s/it]"
     ]
    },
    {
     "name": "stdout",
     "output_type": "stream",
     "text": [
      "📨 Response received\n",
      "✅ Response text length: 509\n"
     ]
    },
    {
     "name": "stderr",
     "output_type": "stream",
     "text": [
      "Generating emails:  19%|█▉        | 235/1250 [1:48:59<3:25:09, 12.13s/it]"
     ]
    },
    {
     "name": "stdout",
     "output_type": "stream",
     "text": [
      "📨 Response received\n",
      "✅ Response text length: 649\n"
     ]
    },
    {
     "name": "stderr",
     "output_type": "stream",
     "text": [
      "Generating emails:  19%|█▉        | 236/1250 [1:49:12<3:30:15, 12.44s/it]"
     ]
    },
    {
     "name": "stdout",
     "output_type": "stream",
     "text": [
      "📨 Response received\n",
      "✅ Response text length: 2707\n"
     ]
    },
    {
     "name": "stderr",
     "output_type": "stream",
     "text": [
      "Generating emails:  19%|█▉        | 237/1250 [1:49:27<3:44:24, 13.29s/it]"
     ]
    },
    {
     "name": "stdout",
     "output_type": "stream",
     "text": [
      "📨 Response received\n",
      "✅ Response text length: 2875\n"
     ]
    },
    {
     "name": "stderr",
     "output_type": "stream",
     "text": [
      "Generating emails:  19%|█▉        | 238/1250 [1:49:43<3:55:39, 13.97s/it]"
     ]
    },
    {
     "name": "stdout",
     "output_type": "stream",
     "text": [
      "📨 Response received\n",
      "✅ Response text length: 2510\n"
     ]
    },
    {
     "name": "stderr",
     "output_type": "stream",
     "text": [
      "Generating emails:  19%|█▉        | 239/1250 [1:49:51<3:28:00, 12.34s/it]"
     ]
    },
    {
     "name": "stdout",
     "output_type": "stream",
     "text": [
      "📨 Response received\n",
      "✅ Response text length: 750\n"
     ]
    },
    {
     "name": "stderr",
     "output_type": "stream",
     "text": [
      "Generating emails:  19%|█▉        | 240/1250 [1:50:06<3:39:48, 13.06s/it]"
     ]
    },
    {
     "name": "stdout",
     "output_type": "stream",
     "text": [
      "📨 Response received\n",
      "✅ Response text length: 2729\n"
     ]
    },
    {
     "name": "stderr",
     "output_type": "stream",
     "text": [
      "Generating emails:  19%|█▉        | 241/1250 [1:50:14<3:13:43, 11.52s/it]"
     ]
    },
    {
     "name": "stdout",
     "output_type": "stream",
     "text": [
      "📨 Response received\n",
      "✅ Response text length: 505\n"
     ]
    },
    {
     "name": "stderr",
     "output_type": "stream",
     "text": [
      "Generating emails:  19%|█▉        | 242/1250 [1:50:26<3:17:32, 11.76s/it]"
     ]
    },
    {
     "name": "stdout",
     "output_type": "stream",
     "text": [
      "📨 Response received\n",
      "✅ Response text length: 1396\n"
     ]
    },
    {
     "name": "stderr",
     "output_type": "stream",
     "text": [
      "Generating emails:  19%|█▉        | 243/1250 [1:50:39<3:21:03, 11.98s/it]"
     ]
    },
    {
     "name": "stdout",
     "output_type": "stream",
     "text": [
      "📨 Response received\n",
      "✅ Response text length: 2960\n"
     ]
    },
    {
     "name": "stderr",
     "output_type": "stream",
     "text": [
      "Generating emails:  20%|█▉        | 244/1250 [1:50:52<3:28:30, 12.44s/it]"
     ]
    },
    {
     "name": "stdout",
     "output_type": "stream",
     "text": [
      "📨 Response received\n",
      "✅ Response text length: 2692\n"
     ]
    },
    {
     "name": "stderr",
     "output_type": "stream",
     "text": [
      "Generating emails:  20%|█▉        | 245/1250 [1:51:06<3:35:14, 12.85s/it]"
     ]
    },
    {
     "name": "stdout",
     "output_type": "stream",
     "text": [
      "📨 Response received\n",
      "✅ Response text length: 2464\n"
     ]
    },
    {
     "name": "stderr",
     "output_type": "stream",
     "text": [
      "Generating emails:  20%|█▉        | 246/1250 [1:51:23<3:58:09, 14.23s/it]"
     ]
    },
    {
     "name": "stdout",
     "output_type": "stream",
     "text": [
      "📨 Response received\n",
      "✅ Response text length: 2487\n"
     ]
    },
    {
     "name": "stderr",
     "output_type": "stream",
     "text": [
      "Generating emails:  20%|█▉        | 247/1250 [1:51:39<4:05:36, 14.69s/it]"
     ]
    },
    {
     "name": "stdout",
     "output_type": "stream",
     "text": [
      "📨 Response received\n",
      "✅ Response text length: 3082\n"
     ]
    },
    {
     "name": "stderr",
     "output_type": "stream",
     "text": [
      "Generating emails:  20%|█▉        | 248/1250 [1:51:56<4:13:50, 15.20s/it]"
     ]
    },
    {
     "name": "stdout",
     "output_type": "stream",
     "text": [
      "📨 Response received\n",
      "✅ Response text length: 3402\n"
     ]
    },
    {
     "name": "stderr",
     "output_type": "stream",
     "text": [
      "Generating emails:  20%|█▉        | 249/1250 [1:52:11<4:13:40, 15.21s/it]"
     ]
    },
    {
     "name": "stdout",
     "output_type": "stream",
     "text": [
      "📨 Response received\n",
      "✅ Response text length: 2499\n"
     ]
    },
    {
     "name": "stderr",
     "output_type": "stream",
     "text": [
      "Generating emails:  20%|██        | 250/1250 [1:52:24<4:01:34, 14.49s/it]"
     ]
    },
    {
     "name": "stdout",
     "output_type": "stream",
     "text": [
      "📨 Response received\n",
      "✅ Response text length: 2474\n",
      "💾 Checkpoint saved at row 249\n"
     ]
    },
    {
     "name": "stderr",
     "output_type": "stream",
     "text": [
      "Generating emails:  20%|██        | 251/1250 [1:52:33<3:36:41, 13.01s/it]"
     ]
    },
    {
     "name": "stdout",
     "output_type": "stream",
     "text": [
      "📨 Response received\n",
      "✅ Response text length: 683\n"
     ]
    },
    {
     "name": "stderr",
     "output_type": "stream",
     "text": [
      "Generating emails:  20%|██        | 252/1250 [1:52:49<3:52:45, 13.99s/it]"
     ]
    },
    {
     "name": "stdout",
     "output_type": "stream",
     "text": [
      "📨 Response received\n",
      "✅ Response text length: 2400\n"
     ]
    },
    {
     "name": "stderr",
     "output_type": "stream",
     "text": [
      "Generating emails:  20%|██        | 253/1250 [1:53:00<3:37:52, 13.11s/it]"
     ]
    },
    {
     "name": "stdout",
     "output_type": "stream",
     "text": [
      "📨 Response received\n",
      "✅ Response text length: 671\n"
     ]
    },
    {
     "name": "stderr",
     "output_type": "stream",
     "text": [
      "Generating emails:  20%|██        | 254/1250 [1:53:21<4:12:41, 15.22s/it]"
     ]
    },
    {
     "name": "stdout",
     "output_type": "stream",
     "text": [
      "📨 Response received\n",
      "✅ Response text length: 2999\n"
     ]
    },
    {
     "name": "stderr",
     "output_type": "stream",
     "text": [
      "Generating emails:  20%|██        | 255/1250 [1:53:40<4:33:32, 16.50s/it]"
     ]
    },
    {
     "name": "stdout",
     "output_type": "stream",
     "text": [
      "📨 Response received\n",
      "❌ Failed at row 254: API response finish_reason: 2\n"
     ]
    },
    {
     "name": "stderr",
     "output_type": "stream",
     "text": [
      "Generating emails:  20%|██        | 256/1250 [1:53:53<4:13:31, 15.30s/it]"
     ]
    },
    {
     "name": "stdout",
     "output_type": "stream",
     "text": [
      "📨 Response received\n",
      "✅ Response text length: 2328\n"
     ]
    },
    {
     "name": "stderr",
     "output_type": "stream",
     "text": [
      "Generating emails:  21%|██        | 257/1250 [1:54:04<3:54:29, 14.17s/it]"
     ]
    },
    {
     "name": "stdout",
     "output_type": "stream",
     "text": [
      "📨 Response received\n",
      "✅ Response text length: 2726\n"
     ]
    },
    {
     "name": "stderr",
     "output_type": "stream",
     "text": [
      "Generating emails:  21%|██        | 258/1250 [1:54:15<3:40:05, 13.31s/it]"
     ]
    },
    {
     "name": "stdout",
     "output_type": "stream",
     "text": [
      "📨 Response received\n",
      "✅ Response text length: 2575\n"
     ]
    },
    {
     "name": "stderr",
     "output_type": "stream",
     "text": [
      "Generating emails:  21%|██        | 259/1250 [1:54:24<3:17:42, 11.97s/it]"
     ]
    },
    {
     "name": "stdout",
     "output_type": "stream",
     "text": [
      "📨 Response received\n",
      "✅ Response text length: 677\n"
     ]
    },
    {
     "name": "stderr",
     "output_type": "stream",
     "text": [
      "Generating emails:  21%|██        | 260/1250 [1:54:39<3:32:04, 12.85s/it]"
     ]
    },
    {
     "name": "stdout",
     "output_type": "stream",
     "text": [
      "📨 Response received\n",
      "✅ Response text length: 2504\n"
     ]
    },
    {
     "name": "stderr",
     "output_type": "stream",
     "text": [
      "Generating emails:  21%|██        | 261/1250 [1:54:54<3:40:50, 13.40s/it]"
     ]
    },
    {
     "name": "stdout",
     "output_type": "stream",
     "text": [
      "📨 Response received\n",
      "✅ Response text length: 2698\n"
     ]
    },
    {
     "name": "stderr",
     "output_type": "stream",
     "text": [
      "Generating emails:  21%|██        | 262/1250 [1:55:04<3:23:47, 12.38s/it]"
     ]
    },
    {
     "name": "stdout",
     "output_type": "stream",
     "text": [
      "📨 Response received\n",
      "✅ Response text length: 2202\n"
     ]
    },
    {
     "name": "stderr",
     "output_type": "stream",
     "text": [
      "Generating emails:  21%|██        | 263/1250 [1:55:21<3:47:11, 13.81s/it]"
     ]
    },
    {
     "name": "stdout",
     "output_type": "stream",
     "text": [
      "📨 Response received\n",
      "✅ Response text length: 3229\n"
     ]
    },
    {
     "name": "stderr",
     "output_type": "stream",
     "text": [
      "Generating emails:  21%|██        | 264/1250 [1:55:35<3:47:46, 13.86s/it]"
     ]
    },
    {
     "name": "stdout",
     "output_type": "stream",
     "text": [
      "📨 Response received\n",
      "✅ Response text length: 2587\n"
     ]
    },
    {
     "name": "stderr",
     "output_type": "stream",
     "text": [
      "Generating emails:  21%|██        | 265/1250 [1:55:44<3:24:15, 12.44s/it]"
     ]
    },
    {
     "name": "stdout",
     "output_type": "stream",
     "text": [
      "📨 Response received\n",
      "✅ Response text length: 546\n"
     ]
    },
    {
     "name": "stderr",
     "output_type": "stream",
     "text": [
      "Generating emails:  21%|██▏       | 266/1250 [1:55:58<3:28:50, 12.73s/it]"
     ]
    },
    {
     "name": "stdout",
     "output_type": "stream",
     "text": [
      "📨 Response received\n",
      "✅ Response text length: 1593\n"
     ]
    },
    {
     "name": "stderr",
     "output_type": "stream",
     "text": [
      "Generating emails:  21%|██▏       | 267/1250 [1:56:11<3:30:30, 12.85s/it]"
     ]
    },
    {
     "name": "stdout",
     "output_type": "stream",
     "text": [
      "📨 Response received\n",
      "✅ Response text length: 1919\n"
     ]
    },
    {
     "name": "stderr",
     "output_type": "stream",
     "text": [
      "Generating emails:  21%|██▏       | 268/1250 [1:56:27<3:48:45, 13.98s/it]"
     ]
    },
    {
     "name": "stdout",
     "output_type": "stream",
     "text": [
      "📨 Response received\n",
      "✅ Response text length: 2457\n"
     ]
    },
    {
     "name": "stderr",
     "output_type": "stream",
     "text": [
      "Generating emails:  22%|██▏       | 269/1250 [1:56:37<3:25:12, 12.55s/it]"
     ]
    },
    {
     "name": "stdout",
     "output_type": "stream",
     "text": [
      "📨 Response received\n",
      "✅ Response text length: 1564\n"
     ]
    },
    {
     "name": "stderr",
     "output_type": "stream",
     "text": [
      "Generating emails:  22%|██▏       | 270/1250 [1:56:53<3:45:55, 13.83s/it]"
     ]
    },
    {
     "name": "stdout",
     "output_type": "stream",
     "text": [
      "📨 Response received\n",
      "✅ Response text length: 2854\n"
     ]
    },
    {
     "name": "stderr",
     "output_type": "stream",
     "text": [
      "Generating emails:  22%|██▏       | 271/1250 [1:57:08<3:50:30, 14.13s/it]"
     ]
    },
    {
     "name": "stdout",
     "output_type": "stream",
     "text": [
      "📨 Response received\n",
      "✅ Response text length: 1602\n"
     ]
    },
    {
     "name": "stderr",
     "output_type": "stream",
     "text": [
      "Generating emails:  22%|██▏       | 272/1250 [1:57:23<3:54:13, 14.37s/it]"
     ]
    },
    {
     "name": "stdout",
     "output_type": "stream",
     "text": [
      "📨 Response received\n",
      "✅ Response text length: 2501\n"
     ]
    },
    {
     "name": "stderr",
     "output_type": "stream",
     "text": [
      "Generating emails:  22%|██▏       | 273/1250 [1:57:41<4:13:14, 15.55s/it]"
     ]
    },
    {
     "name": "stdout",
     "output_type": "stream",
     "text": [
      "📨 Response received\n",
      "✅ Response text length: 2895\n"
     ]
    },
    {
     "name": "stderr",
     "output_type": "stream",
     "text": [
      "Generating emails:  22%|██▏       | 274/1250 [1:57:57<4:15:21, 15.70s/it]"
     ]
    },
    {
     "name": "stdout",
     "output_type": "stream",
     "text": [
      "📨 Response received\n",
      "✅ Response text length: 2319\n"
     ]
    },
    {
     "name": "stderr",
     "output_type": "stream",
     "text": [
      "Generating emails:  22%|██▏       | 275/1250 [1:58:09<3:56:54, 14.58s/it]"
     ]
    },
    {
     "name": "stdout",
     "output_type": "stream",
     "text": [
      "📨 Response received\n",
      "✅ Response text length: 1911\n"
     ]
    },
    {
     "name": "stderr",
     "output_type": "stream",
     "text": [
      "Generating emails:  22%|██▏       | 276/1250 [1:58:23<3:53:45, 14.40s/it]"
     ]
    },
    {
     "name": "stdout",
     "output_type": "stream",
     "text": [
      "📨 Response received\n",
      "✅ Response text length: 2246\n"
     ]
    },
    {
     "name": "stderr",
     "output_type": "stream",
     "text": [
      "Generating emails:  22%|██▏       | 277/1250 [1:58:36<3:46:33, 13.97s/it]"
     ]
    },
    {
     "name": "stdout",
     "output_type": "stream",
     "text": [
      "📨 Response received\n",
      "✅ Response text length: 2566\n"
     ]
    },
    {
     "name": "stderr",
     "output_type": "stream",
     "text": [
      "Generating emails:  22%|██▏       | 278/1250 [1:58:46<3:25:13, 12.67s/it]"
     ]
    },
    {
     "name": "stdout",
     "output_type": "stream",
     "text": [
      "📨 Response received\n",
      "✅ Response text length: 516\n"
     ]
    },
    {
     "name": "stderr",
     "output_type": "stream",
     "text": [
      "Generating emails:  22%|██▏       | 279/1250 [1:58:57<3:17:26, 12.20s/it]"
     ]
    },
    {
     "name": "stdout",
     "output_type": "stream",
     "text": [
      "📨 Response received\n",
      "✅ Response text length: 2129\n"
     ]
    },
    {
     "name": "stderr",
     "output_type": "stream",
     "text": [
      "Generating emails:  22%|██▏       | 280/1250 [1:59:09<3:16:12, 12.14s/it]"
     ]
    },
    {
     "name": "stdout",
     "output_type": "stream",
     "text": [
      "📨 Response received\n",
      "✅ Response text length: 2326\n"
     ]
    },
    {
     "name": "stderr",
     "output_type": "stream",
     "text": [
      "Generating emails:  22%|██▏       | 281/1250 [1:59:20<3:11:46, 11.87s/it]"
     ]
    },
    {
     "name": "stdout",
     "output_type": "stream",
     "text": [
      "📨 Response received\n",
      "✅ Response text length: 3648\n"
     ]
    },
    {
     "name": "stderr",
     "output_type": "stream",
     "text": [
      "Generating emails:  23%|██▎       | 282/1250 [1:59:33<3:15:56, 12.15s/it]"
     ]
    },
    {
     "name": "stdout",
     "output_type": "stream",
     "text": [
      "📨 Response received\n",
      "✅ Response text length: 2403\n"
     ]
    },
    {
     "name": "stderr",
     "output_type": "stream",
     "text": [
      "Generating emails:  23%|██▎       | 283/1250 [1:59:44<3:12:00, 11.91s/it]"
     ]
    },
    {
     "name": "stdout",
     "output_type": "stream",
     "text": [
      "📨 Response received\n",
      "✅ Response text length: 1612\n"
     ]
    },
    {
     "name": "stderr",
     "output_type": "stream",
     "text": [
      "Generating emails:  23%|██▎       | 284/1250 [2:00:00<3:28:37, 12.96s/it]"
     ]
    },
    {
     "name": "stdout",
     "output_type": "stream",
     "text": [
      "📨 Response received\n",
      "✅ Response text length: 2652\n"
     ]
    },
    {
     "name": "stderr",
     "output_type": "stream",
     "text": [
      "Generating emails:  23%|██▎       | 285/1250 [2:00:13<3:30:13, 13.07s/it]"
     ]
    },
    {
     "name": "stdout",
     "output_type": "stream",
     "text": [
      "📨 Response received\n",
      "✅ Response text length: 1484\n"
     ]
    },
    {
     "name": "stderr",
     "output_type": "stream",
     "text": [
      "Generating emails:  23%|██▎       | 286/1250 [2:00:26<3:27:24, 12.91s/it]"
     ]
    },
    {
     "name": "stdout",
     "output_type": "stream",
     "text": [
      "📨 Response received\n",
      "✅ Response text length: 2448\n"
     ]
    },
    {
     "name": "stderr",
     "output_type": "stream",
     "text": [
      "Generating emails:  23%|██▎       | 287/1250 [2:00:40<3:33:36, 13.31s/it]"
     ]
    },
    {
     "name": "stdout",
     "output_type": "stream",
     "text": [
      "📨 Response received\n",
      "✅ Response text length: 2854\n"
     ]
    },
    {
     "name": "stderr",
     "output_type": "stream",
     "text": [
      "Generating emails:  23%|██▎       | 288/1250 [2:00:52<3:27:08, 12.92s/it]"
     ]
    },
    {
     "name": "stdout",
     "output_type": "stream",
     "text": [
      "📨 Response received\n",
      "✅ Response text length: 1970\n"
     ]
    },
    {
     "name": "stderr",
     "output_type": "stream",
     "text": [
      "Generating emails:  23%|██▎       | 289/1250 [2:01:07<3:38:00, 13.61s/it]"
     ]
    },
    {
     "name": "stdout",
     "output_type": "stream",
     "text": [
      "📨 Response received\n",
      "✅ Response text length: 2492\n"
     ]
    },
    {
     "name": "stderr",
     "output_type": "stream",
     "text": [
      "Generating emails:  23%|██▎       | 290/1250 [2:01:20<3:34:06, 13.38s/it]"
     ]
    },
    {
     "name": "stdout",
     "output_type": "stream",
     "text": [
      "📨 Response received\n",
      "✅ Response text length: 2780\n"
     ]
    },
    {
     "name": "stderr",
     "output_type": "stream",
     "text": [
      "Generating emails:  23%|██▎       | 291/1250 [2:01:35<3:43:14, 13.97s/it]"
     ]
    },
    {
     "name": "stdout",
     "output_type": "stream",
     "text": [
      "📨 Response received\n",
      "✅ Response text length: 2364\n"
     ]
    },
    {
     "name": "stderr",
     "output_type": "stream",
     "text": [
      "Generating emails:  23%|██▎       | 292/1250 [2:01:53<3:58:14, 14.92s/it]"
     ]
    },
    {
     "name": "stdout",
     "output_type": "stream",
     "text": [
      "📨 Response received\n",
      "✅ Response text length: 3096\n"
     ]
    },
    {
     "name": "stderr",
     "output_type": "stream",
     "text": [
      "Generating emails:  23%|██▎       | 293/1250 [2:02:09<4:03:12, 15.25s/it]"
     ]
    },
    {
     "name": "stdout",
     "output_type": "stream",
     "text": [
      "📨 Response received\n",
      "✅ Response text length: 2664\n"
     ]
    },
    {
     "name": "stderr",
     "output_type": "stream",
     "text": [
      "Generating emails:  24%|██▎       | 294/1250 [2:02:29<4:26:31, 16.73s/it]"
     ]
    },
    {
     "name": "stdout",
     "output_type": "stream",
     "text": [
      "📨 Response received\n",
      "✅ Response text length: 2450\n"
     ]
    },
    {
     "name": "stderr",
     "output_type": "stream",
     "text": [
      "Generating emails:  24%|██▎       | 295/1250 [2:02:41<4:02:33, 15.24s/it]"
     ]
    },
    {
     "name": "stdout",
     "output_type": "stream",
     "text": [
      "📨 Response received\n",
      "✅ Response text length: 2570\n"
     ]
    },
    {
     "name": "stderr",
     "output_type": "stream",
     "text": [
      "Generating emails:  24%|██▎       | 296/1250 [2:02:47<3:22:21, 12.73s/it]"
     ]
    },
    {
     "name": "stdout",
     "output_type": "stream",
     "text": [
      "📨 Response received\n",
      "✅ Response text length: 889\n"
     ]
    },
    {
     "name": "stderr",
     "output_type": "stream",
     "text": [
      "Generating emails:  24%|██▍       | 297/1250 [2:02:59<3:18:49, 12.52s/it]"
     ]
    },
    {
     "name": "stdout",
     "output_type": "stream",
     "text": [
      "📨 Response received\n",
      "✅ Response text length: 2113\n"
     ]
    },
    {
     "name": "stderr",
     "output_type": "stream",
     "text": [
      "Generating emails:  24%|██▍       | 298/1250 [2:03:11<3:13:00, 12.16s/it]"
     ]
    },
    {
     "name": "stdout",
     "output_type": "stream",
     "text": [
      "📨 Response received\n",
      "✅ Response text length: 2464\n"
     ]
    },
    {
     "name": "stderr",
     "output_type": "stream",
     "text": [
      "Generating emails:  24%|██▍       | 299/1250 [2:03:24<3:18:18, 12.51s/it]"
     ]
    },
    {
     "name": "stdout",
     "output_type": "stream",
     "text": [
      "📨 Response received\n",
      "✅ Response text length: 2301\n"
     ]
    },
    {
     "name": "stderr",
     "output_type": "stream",
     "text": [
      "Generating emails:  24%|██▍       | 300/1250 [2:03:35<3:09:00, 11.94s/it]"
     ]
    },
    {
     "name": "stdout",
     "output_type": "stream",
     "text": [
      "📨 Response received\n",
      "✅ Response text length: 2067\n",
      "💾 Checkpoint saved at row 299\n"
     ]
    },
    {
     "name": "stderr",
     "output_type": "stream",
     "text": [
      "Generating emails:  24%|██▍       | 301/1250 [2:03:49<3:20:11, 12.66s/it]"
     ]
    },
    {
     "name": "stdout",
     "output_type": "stream",
     "text": [
      "📨 Response received\n",
      "✅ Response text length: 2340\n"
     ]
    },
    {
     "name": "stderr",
     "output_type": "stream",
     "text": [
      "Generating emails:  24%|██▍       | 302/1250 [2:04:04<3:32:06, 13.43s/it]"
     ]
    },
    {
     "name": "stdout",
     "output_type": "stream",
     "text": [
      "📨 Response received\n",
      "✅ Response text length: 3111\n"
     ]
    },
    {
     "name": "stderr",
     "output_type": "stream",
     "text": [
      "Generating emails:  24%|██▍       | 303/1250 [2:04:24<4:03:08, 15.40s/it]"
     ]
    },
    {
     "name": "stdout",
     "output_type": "stream",
     "text": [
      "📨 Response received\n",
      "✅ Response text length: 3120\n"
     ]
    },
    {
     "name": "stderr",
     "output_type": "stream",
     "text": [
      "Generating emails:  24%|██▍       | 304/1250 [2:04:38<3:55:57, 14.97s/it]"
     ]
    },
    {
     "name": "stdout",
     "output_type": "stream",
     "text": [
      "📨 Response received\n",
      "✅ Response text length: 3262\n"
     ]
    },
    {
     "name": "stderr",
     "output_type": "stream",
     "text": [
      "Generating emails:  24%|██▍       | 305/1250 [2:04:50<3:39:44, 13.95s/it]"
     ]
    },
    {
     "name": "stdout",
     "output_type": "stream",
     "text": [
      "📨 Response received\n",
      "✅ Response text length: 2629\n"
     ]
    },
    {
     "name": "stderr",
     "output_type": "stream",
     "text": [
      "Generating emails:  24%|██▍       | 306/1250 [2:05:00<3:23:04, 12.91s/it]"
     ]
    },
    {
     "name": "stdout",
     "output_type": "stream",
     "text": [
      "📨 Response received\n",
      "✅ Response text length: 2494\n"
     ]
    },
    {
     "name": "stderr",
     "output_type": "stream",
     "text": [
      "Generating emails:  25%|██▍       | 307/1250 [2:05:14<3:25:37, 13.08s/it]"
     ]
    },
    {
     "name": "stdout",
     "output_type": "stream",
     "text": [
      "📨 Response received\n",
      "✅ Response text length: 2897\n"
     ]
    },
    {
     "name": "stderr",
     "output_type": "stream",
     "text": [
      "Generating emails:  25%|██▍       | 308/1250 [2:05:24<3:10:49, 12.15s/it]"
     ]
    },
    {
     "name": "stdout",
     "output_type": "stream",
     "text": [
      "📨 Response received\n",
      "✅ Response text length: 2155\n"
     ]
    },
    {
     "name": "stderr",
     "output_type": "stream",
     "text": [
      "Generating emails:  25%|██▍       | 309/1250 [2:05:37<3:15:19, 12.45s/it]"
     ]
    },
    {
     "name": "stdout",
     "output_type": "stream",
     "text": [
      "📨 Response received\n",
      "✅ Response text length: 2786\n"
     ]
    },
    {
     "name": "stderr",
     "output_type": "stream",
     "text": [
      "Generating emails:  25%|██▍       | 310/1250 [2:05:50<3:16:03, 12.51s/it]"
     ]
    },
    {
     "name": "stdout",
     "output_type": "stream",
     "text": [
      "📨 Response received\n",
      "✅ Response text length: 2178\n"
     ]
    },
    {
     "name": "stderr",
     "output_type": "stream",
     "text": [
      "Generating emails:  25%|██▍       | 311/1250 [2:05:58<2:56:56, 11.31s/it]"
     ]
    },
    {
     "name": "stdout",
     "output_type": "stream",
     "text": [
      "📨 Response received\n",
      "✅ Response text length: 616\n"
     ]
    },
    {
     "name": "stderr",
     "output_type": "stream",
     "text": [
      "Generating emails:  25%|██▍       | 312/1250 [2:06:13<3:14:36, 12.45s/it]"
     ]
    },
    {
     "name": "stdout",
     "output_type": "stream",
     "text": [
      "📨 Response received\n",
      "✅ Response text length: 2358\n"
     ]
    },
    {
     "name": "stderr",
     "output_type": "stream",
     "text": [
      "Generating emails:  25%|██▌       | 313/1250 [2:06:33<3:49:38, 14.71s/it]"
     ]
    },
    {
     "name": "stdout",
     "output_type": "stream",
     "text": [
      "📨 Response received\n",
      "✅ Response text length: 2393\n"
     ]
    },
    {
     "name": "stderr",
     "output_type": "stream",
     "text": [
      "Generating emails:  25%|██▌       | 314/1250 [2:06:48<3:48:34, 14.65s/it]"
     ]
    },
    {
     "name": "stdout",
     "output_type": "stream",
     "text": [
      "📨 Response received\n",
      "✅ Response text length: 2134\n"
     ]
    },
    {
     "name": "stderr",
     "output_type": "stream",
     "text": [
      "Generating emails:  25%|██▌       | 315/1250 [2:07:04<3:55:14, 15.10s/it]"
     ]
    },
    {
     "name": "stdout",
     "output_type": "stream",
     "text": [
      "📨 Response received\n",
      "✅ Response text length: 4490\n"
     ]
    },
    {
     "name": "stderr",
     "output_type": "stream",
     "text": [
      "Generating emails:  25%|██▌       | 316/1250 [2:07:24<4:21:12, 16.78s/it]"
     ]
    },
    {
     "name": "stdout",
     "output_type": "stream",
     "text": [
      "📨 Response received\n",
      "✅ Response text length: 4120\n"
     ]
    },
    {
     "name": "stderr",
     "output_type": "stream",
     "text": [
      "Generating emails:  25%|██▌       | 317/1250 [2:07:41<4:20:55, 16.78s/it]"
     ]
    },
    {
     "name": "stdout",
     "output_type": "stream",
     "text": [
      "📨 Response received\n",
      "✅ Response text length: 1881\n"
     ]
    },
    {
     "name": "stderr",
     "output_type": "stream",
     "text": [
      "Generating emails:  25%|██▌       | 318/1250 [2:07:56<4:10:44, 16.14s/it]"
     ]
    },
    {
     "name": "stdout",
     "output_type": "stream",
     "text": [
      "📨 Response received\n",
      "✅ Response text length: 2607\n"
     ]
    },
    {
     "name": "stderr",
     "output_type": "stream",
     "text": [
      "Generating emails:  26%|██▌       | 319/1250 [2:08:10<4:01:02, 15.53s/it]"
     ]
    },
    {
     "name": "stdout",
     "output_type": "stream",
     "text": [
      "📨 Response received\n",
      "✅ Response text length: 2394\n"
     ]
    },
    {
     "name": "stderr",
     "output_type": "stream",
     "text": [
      "Generating emails:  26%|██▌       | 320/1250 [2:08:23<3:48:28, 14.74s/it]"
     ]
    },
    {
     "name": "stdout",
     "output_type": "stream",
     "text": [
      "📨 Response received\n",
      "✅ Response text length: 1775\n"
     ]
    },
    {
     "name": "stderr",
     "output_type": "stream",
     "text": [
      "Generating emails:  26%|██▌       | 321/1250 [2:08:35<3:37:59, 14.08s/it]"
     ]
    },
    {
     "name": "stdout",
     "output_type": "stream",
     "text": [
      "📨 Response received\n",
      "✅ Response text length: 2682\n"
     ]
    },
    {
     "name": "stderr",
     "output_type": "stream",
     "text": [
      "Generating emails:  26%|██▌       | 322/1250 [2:08:48<3:29:18, 13.53s/it]"
     ]
    },
    {
     "name": "stdout",
     "output_type": "stream",
     "text": [
      "📨 Response received\n",
      "✅ Response text length: 2062\n"
     ]
    },
    {
     "name": "stderr",
     "output_type": "stream",
     "text": [
      "Generating emails:  26%|██▌       | 323/1250 [2:09:01<3:27:22, 13.42s/it]"
     ]
    },
    {
     "name": "stdout",
     "output_type": "stream",
     "text": [
      "📨 Response received\n",
      "✅ Response text length: 2690\n"
     ]
    },
    {
     "name": "stderr",
     "output_type": "stream",
     "text": [
      "Generating emails:  26%|██▌       | 324/1250 [2:09:17<3:41:19, 14.34s/it]"
     ]
    },
    {
     "name": "stdout",
     "output_type": "stream",
     "text": [
      "📨 Response received\n",
      "✅ Response text length: 2867\n"
     ]
    },
    {
     "name": "stderr",
     "output_type": "stream",
     "text": [
      "Generating emails:  26%|██▌       | 325/1250 [2:09:29<3:27:48, 13.48s/it]"
     ]
    },
    {
     "name": "stdout",
     "output_type": "stream",
     "text": [
      "📨 Response received\n",
      "✅ Response text length: 2092\n"
     ]
    },
    {
     "name": "stderr",
     "output_type": "stream",
     "text": [
      "Generating emails:  26%|██▌       | 326/1250 [2:09:45<3:38:58, 14.22s/it]"
     ]
    },
    {
     "name": "stdout",
     "output_type": "stream",
     "text": [
      "📨 Response received\n",
      "✅ Response text length: 2161\n"
     ]
    },
    {
     "name": "stderr",
     "output_type": "stream",
     "text": [
      "Generating emails:  26%|██▌       | 327/1250 [2:09:57<3:29:59, 13.65s/it]"
     ]
    },
    {
     "name": "stdout",
     "output_type": "stream",
     "text": [
      "📨 Response received\n",
      "✅ Response text length: 2371\n"
     ]
    },
    {
     "name": "stderr",
     "output_type": "stream",
     "text": [
      "Generating emails:  26%|██▌       | 328/1250 [2:10:09<3:23:23, 13.24s/it]"
     ]
    },
    {
     "name": "stdout",
     "output_type": "stream",
     "text": [
      "📨 Response received\n",
      "✅ Response text length: 2423\n"
     ]
    },
    {
     "name": "stderr",
     "output_type": "stream",
     "text": [
      "Generating emails:  26%|██▋       | 329/1250 [2:10:21<3:14:13, 12.65s/it]"
     ]
    },
    {
     "name": "stdout",
     "output_type": "stream",
     "text": [
      "📨 Response received\n",
      "✅ Response text length: 2149\n"
     ]
    },
    {
     "name": "stderr",
     "output_type": "stream",
     "text": [
      "Generating emails:  26%|██▋       | 330/1250 [2:10:33<3:13:40, 12.63s/it]"
     ]
    },
    {
     "name": "stdout",
     "output_type": "stream",
     "text": [
      "📨 Response received\n",
      "✅ Response text length: 2693\n"
     ]
    },
    {
     "name": "stderr",
     "output_type": "stream",
     "text": [
      "Generating emails:  26%|██▋       | 331/1250 [2:10:41<2:51:45, 11.21s/it]"
     ]
    },
    {
     "name": "stdout",
     "output_type": "stream",
     "text": [
      "📨 Response received\n",
      "✅ Response text length: 574\n"
     ]
    },
    {
     "name": "stderr",
     "output_type": "stream",
     "text": [
      "Generating emails:  27%|██▋       | 332/1250 [2:10:57<3:13:29, 12.65s/it]"
     ]
    },
    {
     "name": "stdout",
     "output_type": "stream",
     "text": [
      "📨 Response received\n",
      "✅ Response text length: 2709\n"
     ]
    },
    {
     "name": "stderr",
     "output_type": "stream",
     "text": [
      "Generating emails:  27%|██▋       | 333/1250 [2:11:13<3:28:51, 13.67s/it]"
     ]
    },
    {
     "name": "stdout",
     "output_type": "stream",
     "text": [
      "📨 Response received\n",
      "✅ Response text length: 3783\n"
     ]
    },
    {
     "name": "stderr",
     "output_type": "stream",
     "text": [
      "Generating emails:  27%|██▋       | 334/1250 [2:11:32<3:50:16, 15.08s/it]"
     ]
    },
    {
     "name": "stdout",
     "output_type": "stream",
     "text": [
      "📨 Response received\n",
      "✅ Response text length: 4212\n"
     ]
    },
    {
     "name": "stderr",
     "output_type": "stream",
     "text": [
      "Generating emails:  27%|██▋       | 335/1250 [2:11:44<3:38:04, 14.30s/it]"
     ]
    },
    {
     "name": "stdout",
     "output_type": "stream",
     "text": [
      "📨 Response received\n",
      "✅ Response text length: 2218\n"
     ]
    },
    {
     "name": "stderr",
     "output_type": "stream",
     "text": [
      "Generating emails:  27%|██▋       | 336/1250 [2:11:55<3:22:10, 13.27s/it]"
     ]
    },
    {
     "name": "stdout",
     "output_type": "stream",
     "text": [
      "📨 Response received\n",
      "✅ Response text length: 2405\n"
     ]
    },
    {
     "name": "stderr",
     "output_type": "stream",
     "text": [
      "Generating emails:  27%|██▋       | 337/1250 [2:12:08<3:23:00, 13.34s/it]"
     ]
    },
    {
     "name": "stdout",
     "output_type": "stream",
     "text": [
      "📨 Response received\n",
      "✅ Response text length: 1709\n"
     ]
    },
    {
     "name": "stderr",
     "output_type": "stream",
     "text": [
      "Generating emails:  27%|██▋       | 338/1250 [2:12:21<3:17:22, 12.99s/it]"
     ]
    },
    {
     "name": "stdout",
     "output_type": "stream",
     "text": [
      "📨 Response received\n",
      "✅ Response text length: 2604\n"
     ]
    },
    {
     "name": "stderr",
     "output_type": "stream",
     "text": [
      "Generating emails:  27%|██▋       | 339/1250 [2:12:38<3:36:02, 14.23s/it]"
     ]
    },
    {
     "name": "stdout",
     "output_type": "stream",
     "text": [
      "📨 Response received\n",
      "✅ Response text length: 2136\n"
     ]
    },
    {
     "name": "stderr",
     "output_type": "stream",
     "text": [
      "Generating emails:  27%|██▋       | 340/1250 [2:12:49<3:24:17, 13.47s/it]"
     ]
    },
    {
     "name": "stdout",
     "output_type": "stream",
     "text": [
      "📨 Response received\n",
      "✅ Response text length: 1856\n"
     ]
    },
    {
     "name": "stderr",
     "output_type": "stream",
     "text": [
      "Generating emails:  27%|██▋       | 341/1250 [2:13:02<3:20:46, 13.25s/it]"
     ]
    },
    {
     "name": "stdout",
     "output_type": "stream",
     "text": [
      "📨 Response received\n",
      "✅ Response text length: 2141\n",
      "❌ Failed at row 340: Expecting ',' delimiter: line 3 column 931 (char 1031)\n"
     ]
    },
    {
     "name": "stderr",
     "output_type": "stream",
     "text": [
      "Generating emails:  27%|██▋       | 342/1250 [2:13:17<3:25:40, 13.59s/it]"
     ]
    },
    {
     "name": "stdout",
     "output_type": "stream",
     "text": [
      "📨 Response received\n",
      "✅ Response text length: 2656\n"
     ]
    },
    {
     "name": "stderr",
     "output_type": "stream",
     "text": [
      "Generating emails:  27%|██▋       | 343/1250 [2:13:24<2:58:47, 11.83s/it]"
     ]
    },
    {
     "name": "stdout",
     "output_type": "stream",
     "text": [
      "📨 Response received\n",
      "✅ Response text length: 370\n"
     ]
    },
    {
     "name": "stderr",
     "output_type": "stream",
     "text": [
      "Generating emails:  28%|██▊       | 344/1250 [2:13:38<3:06:56, 12.38s/it]"
     ]
    },
    {
     "name": "stdout",
     "output_type": "stream",
     "text": [
      "📨 Response received\n",
      "✅ Response text length: 2053\n"
     ]
    },
    {
     "name": "stderr",
     "output_type": "stream",
     "text": [
      "Generating emails:  28%|██▊       | 345/1250 [2:13:49<3:01:14, 12.02s/it]"
     ]
    },
    {
     "name": "stdout",
     "output_type": "stream",
     "text": [
      "📨 Response received\n",
      "✅ Response text length: 2780\n"
     ]
    },
    {
     "name": "stderr",
     "output_type": "stream",
     "text": [
      "Generating emails:  28%|██▊       | 346/1250 [2:14:02<3:05:31, 12.31s/it]"
     ]
    },
    {
     "name": "stdout",
     "output_type": "stream",
     "text": [
      "📨 Response received\n",
      "✅ Response text length: 2280\n"
     ]
    },
    {
     "name": "stderr",
     "output_type": "stream",
     "text": [
      "Generating emails:  28%|██▊       | 347/1250 [2:14:15<3:10:20, 12.65s/it]"
     ]
    },
    {
     "name": "stdout",
     "output_type": "stream",
     "text": [
      "📨 Response received\n",
      "✅ Response text length: 1838\n"
     ]
    },
    {
     "name": "stderr",
     "output_type": "stream",
     "text": [
      "Generating emails:  28%|██▊       | 348/1250 [2:14:22<2:40:15, 10.66s/it]"
     ]
    },
    {
     "name": "stdout",
     "output_type": "stream",
     "text": [
      "📨 Response received\n",
      "✅ Response text length: 568\n"
     ]
    },
    {
     "name": "stderr",
     "output_type": "stream",
     "text": [
      "Generating emails:  28%|██▊       | 349/1250 [2:14:39<3:12:12, 12.80s/it]"
     ]
    },
    {
     "name": "stdout",
     "output_type": "stream",
     "text": [
      "📨 Response received\n",
      "✅ Response text length: 3169\n"
     ]
    },
    {
     "name": "stderr",
     "output_type": "stream",
     "text": [
      "Generating emails:  28%|██▊       | 350/1250 [2:14:54<3:21:02, 13.40s/it]"
     ]
    },
    {
     "name": "stdout",
     "output_type": "stream",
     "text": [
      "📨 Response received\n",
      "✅ Response text length: 2732\n",
      "💾 Checkpoint saved at row 349\n"
     ]
    },
    {
     "name": "stderr",
     "output_type": "stream",
     "text": [
      "Generating emails:  28%|██▊       | 351/1250 [2:15:10<3:32:20, 14.17s/it]"
     ]
    },
    {
     "name": "stdout",
     "output_type": "stream",
     "text": [
      "📨 Response received\n",
      "✅ Response text length: 2586\n"
     ]
    },
    {
     "name": "stderr",
     "output_type": "stream",
     "text": [
      "Generating emails:  28%|██▊       | 352/1250 [2:15:24<3:31:08, 14.11s/it]"
     ]
    },
    {
     "name": "stdout",
     "output_type": "stream",
     "text": [
      "📨 Response received\n",
      "✅ Response text length: 2781\n"
     ]
    },
    {
     "name": "stderr",
     "output_type": "stream",
     "text": [
      "Generating emails:  28%|██▊       | 353/1250 [2:15:37<3:27:49, 13.90s/it]"
     ]
    },
    {
     "name": "stdout",
     "output_type": "stream",
     "text": [
      "📨 Response received\n",
      "✅ Response text length: 2397\n"
     ]
    },
    {
     "name": "stderr",
     "output_type": "stream",
     "text": [
      "Generating emails:  28%|██▊       | 354/1250 [2:15:52<3:29:13, 14.01s/it]"
     ]
    },
    {
     "name": "stdout",
     "output_type": "stream",
     "text": [
      "📨 Response received\n",
      "✅ Response text length: 2182\n"
     ]
    },
    {
     "name": "stderr",
     "output_type": "stream",
     "text": [
      "Generating emails:  28%|██▊       | 355/1250 [2:16:08<3:37:28, 14.58s/it]"
     ]
    },
    {
     "name": "stdout",
     "output_type": "stream",
     "text": [
      "📨 Response received\n",
      "✅ Response text length: 3899\n"
     ]
    },
    {
     "name": "stderr",
     "output_type": "stream",
     "text": [
      "Generating emails:  28%|██▊       | 356/1250 [2:16:21<3:33:59, 14.36s/it]"
     ]
    },
    {
     "name": "stdout",
     "output_type": "stream",
     "text": [
      "📨 Response received\n",
      "✅ Response text length: 334\n"
     ]
    },
    {
     "name": "stderr",
     "output_type": "stream",
     "text": [
      "Generating emails:  29%|██▊       | 357/1250 [2:16:36<3:35:07, 14.45s/it]"
     ]
    },
    {
     "name": "stdout",
     "output_type": "stream",
     "text": [
      "📨 Response received\n",
      "✅ Response text length: 2496\n"
     ]
    },
    {
     "name": "stderr",
     "output_type": "stream",
     "text": [
      "Generating emails:  29%|██▊       | 358/1250 [2:16:50<3:34:00, 14.39s/it]"
     ]
    },
    {
     "name": "stdout",
     "output_type": "stream",
     "text": [
      "📨 Response received\n",
      "✅ Response text length: 2773\n"
     ]
    },
    {
     "name": "stderr",
     "output_type": "stream",
     "text": [
      "Generating emails:  29%|██▊       | 359/1250 [2:17:07<3:41:49, 14.94s/it]"
     ]
    },
    {
     "name": "stdout",
     "output_type": "stream",
     "text": [
      "📨 Response received\n",
      "✅ Response text length: 1986\n"
     ]
    },
    {
     "name": "stderr",
     "output_type": "stream",
     "text": [
      "Generating emails:  29%|██▉       | 360/1250 [2:17:25<3:57:10, 15.99s/it]"
     ]
    },
    {
     "name": "stdout",
     "output_type": "stream",
     "text": [
      "📨 Response received\n",
      "✅ Response text length: 2891\n"
     ]
    },
    {
     "name": "stderr",
     "output_type": "stream",
     "text": [
      "Generating emails:  29%|██▉       | 361/1250 [2:17:37<3:40:07, 14.86s/it]"
     ]
    },
    {
     "name": "stdout",
     "output_type": "stream",
     "text": [
      "📨 Response received\n",
      "✅ Response text length: 2379\n"
     ]
    },
    {
     "name": "stderr",
     "output_type": "stream",
     "text": [
      "Generating emails:  29%|██▉       | 362/1250 [2:17:46<3:11:19, 12.93s/it]"
     ]
    },
    {
     "name": "stdout",
     "output_type": "stream",
     "text": [
      "📨 Response received\n",
      "✅ Response text length: 606\n"
     ]
    },
    {
     "name": "stderr",
     "output_type": "stream",
     "text": [
      "Generating emails:  29%|██▉       | 363/1250 [2:17:58<3:08:31, 12.75s/it]"
     ]
    },
    {
     "name": "stdout",
     "output_type": "stream",
     "text": [
      "📨 Response received\n",
      "✅ Response text length: 2893\n"
     ]
    },
    {
     "name": "stderr",
     "output_type": "stream",
     "text": [
      "Generating emails:  29%|██▉       | 364/1250 [2:18:11<3:08:09, 12.74s/it]"
     ]
    },
    {
     "name": "stdout",
     "output_type": "stream",
     "text": [
      "📨 Response received\n",
      "✅ Response text length: 2217\n"
     ]
    },
    {
     "name": "stderr",
     "output_type": "stream",
     "text": [
      "Generating emails:  29%|██▉       | 365/1250 [2:18:23<3:03:35, 12.45s/it]"
     ]
    },
    {
     "name": "stdout",
     "output_type": "stream",
     "text": [
      "📨 Response received\n",
      "✅ Response text length: 2608\n"
     ]
    },
    {
     "name": "stderr",
     "output_type": "stream",
     "text": [
      "Generating emails:  29%|██▉       | 366/1250 [2:18:38<3:17:57, 13.44s/it]"
     ]
    },
    {
     "name": "stdout",
     "output_type": "stream",
     "text": [
      "📨 Response received\n",
      "✅ Response text length: 1767\n"
     ]
    },
    {
     "name": "stderr",
     "output_type": "stream",
     "text": [
      "Generating emails:  29%|██▉       | 367/1250 [2:18:55<3:33:35, 14.51s/it]"
     ]
    },
    {
     "name": "stdout",
     "output_type": "stream",
     "text": [
      "📨 Response received\n",
      "✅ Response text length: 3770\n"
     ]
    },
    {
     "name": "stderr",
     "output_type": "stream",
     "text": [
      "Generating emails:  29%|██▉       | 368/1250 [2:19:10<3:36:02, 14.70s/it]"
     ]
    },
    {
     "name": "stdout",
     "output_type": "stream",
     "text": [
      "📨 Response received\n",
      "✅ Response text length: 4673\n"
     ]
    },
    {
     "name": "stderr",
     "output_type": "stream",
     "text": [
      "Generating emails:  30%|██▉       | 369/1250 [2:19:31<4:03:41, 16.60s/it]"
     ]
    },
    {
     "name": "stdout",
     "output_type": "stream",
     "text": [
      "📨 Response received\n",
      "❌ Failed at row 368: API response finish_reason: 2\n"
     ]
    },
    {
     "name": "stderr",
     "output_type": "stream",
     "text": [
      "Generating emails:  30%|██▉       | 370/1250 [2:19:43<3:42:54, 15.20s/it]"
     ]
    },
    {
     "name": "stdout",
     "output_type": "stream",
     "text": [
      "📨 Response received\n",
      "✅ Response text length: 2378\n"
     ]
    },
    {
     "name": "stderr",
     "output_type": "stream",
     "text": [
      "Generating emails:  30%|██▉       | 371/1250 [2:19:56<3:31:13, 14.42s/it]"
     ]
    },
    {
     "name": "stdout",
     "output_type": "stream",
     "text": [
      "📨 Response received\n",
      "✅ Response text length: 2639\n"
     ]
    },
    {
     "name": "stderr",
     "output_type": "stream",
     "text": [
      "Generating emails:  30%|██▉       | 372/1250 [2:20:12<3:36:09, 14.77s/it]"
     ]
    },
    {
     "name": "stdout",
     "output_type": "stream",
     "text": [
      "📨 Response received\n",
      "✅ Response text length: 2392\n"
     ]
    },
    {
     "name": "stderr",
     "output_type": "stream",
     "text": [
      "Generating emails:  30%|██▉       | 373/1250 [2:20:25<3:29:44, 14.35s/it]"
     ]
    },
    {
     "name": "stdout",
     "output_type": "stream",
     "text": [
      "📨 Response received\n",
      "✅ Response text length: 2179\n"
     ]
    },
    {
     "name": "stderr",
     "output_type": "stream",
     "text": [
      "Generating emails:  30%|██▉       | 374/1250 [2:20:38<3:25:05, 14.05s/it]"
     ]
    },
    {
     "name": "stdout",
     "output_type": "stream",
     "text": [
      "📨 Response received\n",
      "✅ Response text length: 2410\n"
     ]
    },
    {
     "name": "stderr",
     "output_type": "stream",
     "text": [
      "Generating emails:  30%|███       | 375/1250 [2:20:51<3:18:37, 13.62s/it]"
     ]
    },
    {
     "name": "stdout",
     "output_type": "stream",
     "text": [
      "📨 Response received\n",
      "✅ Response text length: 1790\n"
     ]
    },
    {
     "name": "stderr",
     "output_type": "stream",
     "text": [
      "Generating emails:  30%|███       | 376/1250 [2:21:08<3:32:10, 14.57s/it]"
     ]
    },
    {
     "name": "stdout",
     "output_type": "stream",
     "text": [
      "📨 Response received\n",
      "✅ Response text length: 2358\n"
     ]
    },
    {
     "name": "stderr",
     "output_type": "stream",
     "text": [
      "Generating emails:  30%|███       | 377/1250 [2:21:26<3:46:48, 15.59s/it]"
     ]
    },
    {
     "name": "stdout",
     "output_type": "stream",
     "text": [
      "📨 Response received\n",
      "✅ Response text length: 3145\n"
     ]
    },
    {
     "name": "stderr",
     "output_type": "stream",
     "text": [
      "Generating emails:  30%|███       | 378/1250 [2:21:39<3:37:47, 14.99s/it]"
     ]
    },
    {
     "name": "stdout",
     "output_type": "stream",
     "text": [
      "📨 Response received\n",
      "✅ Response text length: 2585\n"
     ]
    },
    {
     "name": "stderr",
     "output_type": "stream",
     "text": [
      "Generating emails:  30%|███       | 379/1250 [2:21:50<3:19:46, 13.76s/it]"
     ]
    },
    {
     "name": "stdout",
     "output_type": "stream",
     "text": [
      "📨 Response received\n",
      "✅ Response text length: 2009\n"
     ]
    },
    {
     "name": "stderr",
     "output_type": "stream",
     "text": [
      "Generating emails:  30%|███       | 380/1250 [2:22:03<3:14:52, 13.44s/it]"
     ]
    },
    {
     "name": "stdout",
     "output_type": "stream",
     "text": [
      "📨 Response received\n",
      "✅ Response text length: 2296\n"
     ]
    },
    {
     "name": "stderr",
     "output_type": "stream",
     "text": [
      "Generating emails:  30%|███       | 381/1250 [2:22:17<3:16:55, 13.60s/it]"
     ]
    },
    {
     "name": "stdout",
     "output_type": "stream",
     "text": [
      "📨 Response received\n",
      "✅ Response text length: 2577\n"
     ]
    },
    {
     "name": "stderr",
     "output_type": "stream",
     "text": [
      "Generating emails:  31%|███       | 382/1250 [2:22:25<2:53:48, 12.01s/it]"
     ]
    },
    {
     "name": "stdout",
     "output_type": "stream",
     "text": [
      "📨 Response received\n",
      "✅ Response text length: 315\n"
     ]
    },
    {
     "name": "stderr",
     "output_type": "stream",
     "text": [
      "Generating emails:  31%|███       | 383/1250 [2:22:38<2:56:33, 12.22s/it]"
     ]
    },
    {
     "name": "stdout",
     "output_type": "stream",
     "text": [
      "📨 Response received\n",
      "✅ Response text length: 1673\n"
     ]
    },
    {
     "name": "stderr",
     "output_type": "stream",
     "text": [
      "Generating emails:  31%|███       | 384/1250 [2:22:49<2:50:06, 11.79s/it]"
     ]
    },
    {
     "name": "stdout",
     "output_type": "stream",
     "text": [
      "📨 Response received\n",
      "✅ Response text length: 1975\n"
     ]
    },
    {
     "name": "stderr",
     "output_type": "stream",
     "text": [
      "Generating emails:  31%|███       | 385/1250 [2:23:07<3:16:38, 13.64s/it]"
     ]
    },
    {
     "name": "stdout",
     "output_type": "stream",
     "text": [
      "📨 Response received\n",
      "✅ Response text length: 3175\n"
     ]
    },
    {
     "name": "stderr",
     "output_type": "stream",
     "text": [
      "Generating emails:  31%|███       | 386/1250 [2:23:17<3:02:55, 12.70s/it]"
     ]
    },
    {
     "name": "stdout",
     "output_type": "stream",
     "text": [
      "📨 Response received\n",
      "✅ Response text length: 2425\n"
     ]
    },
    {
     "name": "stderr",
     "output_type": "stream",
     "text": [
      "Generating emails:  31%|███       | 387/1250 [2:23:30<3:02:38, 12.70s/it]"
     ]
    },
    {
     "name": "stdout",
     "output_type": "stream",
     "text": [
      "📨 Response received\n",
      "✅ Response text length: 2399\n"
     ]
    },
    {
     "name": "stderr",
     "output_type": "stream",
     "text": [
      "Generating emails:  31%|███       | 388/1250 [2:23:47<3:22:07, 14.07s/it]"
     ]
    },
    {
     "name": "stdout",
     "output_type": "stream",
     "text": [
      "📨 Response received\n",
      "✅ Response text length: 2940\n"
     ]
    },
    {
     "name": "stderr",
     "output_type": "stream",
     "text": [
      "Generating emails:  31%|███       | 389/1250 [2:24:06<3:42:16, 15.49s/it]"
     ]
    },
    {
     "name": "stdout",
     "output_type": "stream",
     "text": [
      "📨 Response received\n",
      "❌ Failed at row 388: API response finish_reason: 2\n"
     ]
    },
    {
     "name": "stderr",
     "output_type": "stream",
     "text": [
      "Generating emails:  31%|███       | 390/1250 [2:24:20<3:35:53, 15.06s/it]"
     ]
    },
    {
     "name": "stdout",
     "output_type": "stream",
     "text": [
      "📨 Response received\n",
      "✅ Response text length: 2241\n"
     ]
    },
    {
     "name": "stderr",
     "output_type": "stream",
     "text": [
      "Generating emails:  31%|███▏      | 391/1250 [2:24:35<3:36:23, 15.11s/it]"
     ]
    },
    {
     "name": "stdout",
     "output_type": "stream",
     "text": [
      "📨 Response received\n",
      "✅ Response text length: 2669\n"
     ]
    },
    {
     "name": "stderr",
     "output_type": "stream",
     "text": [
      "Generating emails:  31%|███▏      | 392/1250 [2:24:46<3:18:21, 13.87s/it]"
     ]
    },
    {
     "name": "stdout",
     "output_type": "stream",
     "text": [
      "📨 Response received\n",
      "✅ Response text length: 1387\n"
     ]
    },
    {
     "name": "stderr",
     "output_type": "stream",
     "text": [
      "Generating emails:  31%|███▏      | 393/1250 [2:25:01<3:24:40, 14.33s/it]"
     ]
    },
    {
     "name": "stdout",
     "output_type": "stream",
     "text": [
      "📨 Response received\n",
      "✅ Response text length: 2130\n"
     ]
    },
    {
     "name": "stderr",
     "output_type": "stream",
     "text": [
      "Generating emails:  32%|███▏      | 394/1250 [2:25:14<3:17:18, 13.83s/it]"
     ]
    },
    {
     "name": "stdout",
     "output_type": "stream",
     "text": [
      "📨 Response received\n",
      "✅ Response text length: 2499\n"
     ]
    },
    {
     "name": "stderr",
     "output_type": "stream",
     "text": [
      "Generating emails:  32%|███▏      | 395/1250 [2:25:27<3:14:39, 13.66s/it]"
     ]
    },
    {
     "name": "stdout",
     "output_type": "stream",
     "text": [
      "📨 Response received\n",
      "✅ Response text length: 2021\n"
     ]
    },
    {
     "name": "stderr",
     "output_type": "stream",
     "text": [
      "Generating emails:  32%|███▏      | 396/1250 [2:25:45<3:29:46, 14.74s/it]"
     ]
    },
    {
     "name": "stdout",
     "output_type": "stream",
     "text": [
      "📨 Response received\n",
      "✅ Response text length: 3735\n"
     ]
    },
    {
     "name": "stderr",
     "output_type": "stream",
     "text": [
      "Generating emails:  32%|███▏      | 397/1250 [2:26:01<3:36:33, 15.23s/it]"
     ]
    },
    {
     "name": "stdout",
     "output_type": "stream",
     "text": [
      "📨 Response received\n",
      "✅ Response text length: 2240\n"
     ]
    },
    {
     "name": "stderr",
     "output_type": "stream",
     "text": [
      "Generating emails:  32%|███▏      | 398/1250 [2:26:18<3:44:13, 15.79s/it]"
     ]
    },
    {
     "name": "stdout",
     "output_type": "stream",
     "text": [
      "📨 Response received\n",
      "✅ Response text length: 2717\n"
     ]
    },
    {
     "name": "stderr",
     "output_type": "stream",
     "text": [
      "Generating emails:  32%|███▏      | 399/1250 [2:26:31<3:31:23, 14.90s/it]"
     ]
    },
    {
     "name": "stdout",
     "output_type": "stream",
     "text": [
      "📨 Response received\n",
      "✅ Response text length: 2237\n"
     ]
    },
    {
     "name": "stderr",
     "output_type": "stream",
     "text": [
      "Generating emails:  32%|███▏      | 400/1250 [2:26:43<3:20:15, 14.14s/it]"
     ]
    },
    {
     "name": "stdout",
     "output_type": "stream",
     "text": [
      "📨 Response received\n",
      "✅ Response text length: 2193\n",
      "💾 Checkpoint saved at row 399\n"
     ]
    },
    {
     "name": "stderr",
     "output_type": "stream",
     "text": [
      "Generating emails:  32%|███▏      | 401/1250 [2:26:55<3:10:09, 13.44s/it]"
     ]
    },
    {
     "name": "stdout",
     "output_type": "stream",
     "text": [
      "📨 Response received\n",
      "✅ Response text length: 726\n"
     ]
    },
    {
     "name": "stderr",
     "output_type": "stream",
     "text": [
      "Generating emails:  32%|███▏      | 402/1250 [2:27:08<3:09:18, 13.39s/it]"
     ]
    },
    {
     "name": "stdout",
     "output_type": "stream",
     "text": [
      "📨 Response received\n",
      "✅ Response text length: 2649\n"
     ]
    },
    {
     "name": "stderr",
     "output_type": "stream",
     "text": [
      "Generating emails:  32%|███▏      | 403/1250 [2:27:16<2:45:12, 11.70s/it]"
     ]
    },
    {
     "name": "stdout",
     "output_type": "stream",
     "text": [
      "📨 Response received\n",
      "✅ Response text length: 647\n"
     ]
    },
    {
     "name": "stderr",
     "output_type": "stream",
     "text": [
      "Generating emails:  32%|███▏      | 404/1250 [2:27:29<2:47:52, 11.91s/it]"
     ]
    },
    {
     "name": "stdout",
     "output_type": "stream",
     "text": [
      "📨 Response received\n",
      "✅ Response text length: 2634\n"
     ]
    },
    {
     "name": "stderr",
     "output_type": "stream",
     "text": [
      "Generating emails:  32%|███▏      | 405/1250 [2:27:41<2:50:20, 12.10s/it]"
     ]
    },
    {
     "name": "stdout",
     "output_type": "stream",
     "text": [
      "📨 Response received\n",
      "✅ Response text length: 2312\n"
     ]
    },
    {
     "name": "stderr",
     "output_type": "stream",
     "text": [
      "Generating emails:  32%|███▏      | 406/1250 [2:27:53<2:49:47, 12.07s/it]"
     ]
    },
    {
     "name": "stdout",
     "output_type": "stream",
     "text": [
      "📨 Response received\n",
      "✅ Response text length: 2362\n"
     ]
    },
    {
     "name": "stderr",
     "output_type": "stream",
     "text": [
      "Generating emails:  33%|███▎      | 407/1250 [2:28:05<2:50:42, 12.15s/it]"
     ]
    },
    {
     "name": "stdout",
     "output_type": "stream",
     "text": [
      "📨 Response received\n",
      "✅ Response text length: 3185\n"
     ]
    },
    {
     "name": "stderr",
     "output_type": "stream",
     "text": [
      "Generating emails:  33%|███▎      | 408/1250 [2:28:23<3:14:46, 13.88s/it]"
     ]
    },
    {
     "name": "stdout",
     "output_type": "stream",
     "text": [
      "📨 Response received\n",
      "✅ Response text length: 2657\n"
     ]
    },
    {
     "name": "stderr",
     "output_type": "stream",
     "text": [
      "Generating emails:  33%|███▎      | 409/1250 [2:28:32<2:53:13, 12.36s/it]"
     ]
    },
    {
     "name": "stdout",
     "output_type": "stream",
     "text": [
      "📨 Response received\n",
      "✅ Response text length: 2563\n"
     ]
    },
    {
     "name": "stderr",
     "output_type": "stream",
     "text": [
      "Generating emails:  33%|███▎      | 410/1250 [2:28:41<2:39:45, 11.41s/it]"
     ]
    },
    {
     "name": "stdout",
     "output_type": "stream",
     "text": [
      "📨 Response received\n",
      "✅ Response text length: 1723\n"
     ]
    },
    {
     "name": "stderr",
     "output_type": "stream",
     "text": [
      "Generating emails:  33%|███▎      | 411/1250 [2:28:50<2:28:39, 10.63s/it]"
     ]
    },
    {
     "name": "stdout",
     "output_type": "stream",
     "text": [
      "📨 Response received\n",
      "✅ Response text length: 619\n"
     ]
    },
    {
     "name": "stderr",
     "output_type": "stream",
     "text": [
      "Generating emails:  33%|███▎      | 412/1250 [2:29:10<3:05:29, 13.28s/it]"
     ]
    },
    {
     "name": "stdout",
     "output_type": "stream",
     "text": [
      "📨 Response received\n",
      "✅ Response text length: 2866\n"
     ]
    },
    {
     "name": "stderr",
     "output_type": "stream",
     "text": [
      "Generating emails:  33%|███▎      | 413/1250 [2:29:22<3:00:51, 12.96s/it]"
     ]
    },
    {
     "name": "stdout",
     "output_type": "stream",
     "text": [
      "📨 Response received\n",
      "✅ Response text length: 2384\n"
     ]
    },
    {
     "name": "stderr",
     "output_type": "stream",
     "text": [
      "Generating emails:  33%|███▎      | 414/1250 [2:29:43<3:33:16, 15.31s/it]"
     ]
    },
    {
     "name": "stdout",
     "output_type": "stream",
     "text": [
      "📨 Response received\n",
      "❌ Failed at row 413: API response finish_reason: 2\n"
     ]
    },
    {
     "name": "stderr",
     "output_type": "stream",
     "text": [
      "Generating emails:  33%|███▎      | 415/1250 [2:29:57<3:29:23, 15.05s/it]"
     ]
    },
    {
     "name": "stdout",
     "output_type": "stream",
     "text": [
      "📨 Response received\n",
      "✅ Response text length: 2760\n"
     ]
    },
    {
     "name": "stderr",
     "output_type": "stream",
     "text": [
      "Generating emails:  33%|███▎      | 416/1250 [2:30:14<3:36:47, 15.60s/it]"
     ]
    },
    {
     "name": "stdout",
     "output_type": "stream",
     "text": [
      "📨 Response received\n",
      "✅ Response text length: 2649\n"
     ]
    },
    {
     "name": "stderr",
     "output_type": "stream",
     "text": [
      "Generating emails:  33%|███▎      | 417/1250 [2:30:27<3:25:22, 14.79s/it]"
     ]
    },
    {
     "name": "stdout",
     "output_type": "stream",
     "text": [
      "📨 Response received\n",
      "✅ Response text length: 1117\n"
     ]
    },
    {
     "name": "stderr",
     "output_type": "stream",
     "text": [
      "Generating emails:  33%|███▎      | 418/1250 [2:30:42<3:28:04, 15.01s/it]"
     ]
    },
    {
     "name": "stdout",
     "output_type": "stream",
     "text": [
      "📨 Response received\n",
      "✅ Response text length: 1835\n"
     ]
    },
    {
     "name": "stderr",
     "output_type": "stream",
     "text": [
      "Generating emails:  34%|███▎      | 419/1250 [2:30:59<3:35:06, 15.53s/it]"
     ]
    },
    {
     "name": "stdout",
     "output_type": "stream",
     "text": [
      "📨 Response received\n",
      "✅ Response text length: 1983\n"
     ]
    },
    {
     "name": "stderr",
     "output_type": "stream",
     "text": [
      "Generating emails:  34%|███▎      | 420/1250 [2:31:13<3:26:03, 14.90s/it]"
     ]
    },
    {
     "name": "stdout",
     "output_type": "stream",
     "text": [
      "📨 Response received\n",
      "✅ Response text length: 2438\n"
     ]
    },
    {
     "name": "stderr",
     "output_type": "stream",
     "text": [
      "Generating emails:  34%|███▎      | 421/1250 [2:31:23<3:07:19, 13.56s/it]"
     ]
    },
    {
     "name": "stdout",
     "output_type": "stream",
     "text": [
      "📨 Response received\n",
      "✅ Response text length: 738\n"
     ]
    },
    {
     "name": "stderr",
     "output_type": "stream",
     "text": [
      "Generating emails:  34%|███▍      | 422/1250 [2:31:43<3:35:05, 15.59s/it]"
     ]
    },
    {
     "name": "stdout",
     "output_type": "stream",
     "text": [
      "📨 Response received\n",
      "✅ Response text length: 1945\n"
     ]
    },
    {
     "name": "stderr",
     "output_type": "stream",
     "text": [
      "Generating emails:  34%|███▍      | 423/1250 [2:31:54<3:13:59, 14.07s/it]"
     ]
    },
    {
     "name": "stdout",
     "output_type": "stream",
     "text": [
      "📨 Response received\n",
      "✅ Response text length: 1591\n"
     ]
    },
    {
     "name": "stderr",
     "output_type": "stream",
     "text": [
      "Generating emails:  34%|███▍      | 424/1250 [2:32:04<2:58:02, 12.93s/it]"
     ]
    },
    {
     "name": "stdout",
     "output_type": "stream",
     "text": [
      "📨 Response received\n",
      "✅ Response text length: 513\n"
     ]
    },
    {
     "name": "stderr",
     "output_type": "stream",
     "text": [
      "Generating emails:  34%|███▍      | 425/1250 [2:32:15<2:50:11, 12.38s/it]"
     ]
    },
    {
     "name": "stdout",
     "output_type": "stream",
     "text": [
      "📨 Response received\n",
      "✅ Response text length: 2171\n"
     ]
    },
    {
     "name": "stderr",
     "output_type": "stream",
     "text": [
      "Generating emails:  34%|███▍      | 426/1250 [2:32:26<2:44:07, 11.95s/it]"
     ]
    },
    {
     "name": "stdout",
     "output_type": "stream",
     "text": [
      "📨 Response received\n",
      "✅ Response text length: 829\n"
     ]
    },
    {
     "name": "stderr",
     "output_type": "stream",
     "text": [
      "Generating emails:  34%|███▍      | 427/1250 [2:32:39<2:47:24, 12.20s/it]"
     ]
    },
    {
     "name": "stdout",
     "output_type": "stream",
     "text": [
      "📨 Response received\n",
      "✅ Response text length: 2042\n"
     ]
    },
    {
     "name": "stderr",
     "output_type": "stream",
     "text": [
      "Generating emails:  34%|███▍      | 428/1250 [2:32:52<2:50:47, 12.47s/it]"
     ]
    },
    {
     "name": "stdout",
     "output_type": "stream",
     "text": [
      "📨 Response received\n",
      "✅ Response text length: 2581\n"
     ]
    },
    {
     "name": "stderr",
     "output_type": "stream",
     "text": [
      "Generating emails:  34%|███▍      | 429/1250 [2:33:03<2:44:10, 12.00s/it]"
     ]
    },
    {
     "name": "stdout",
     "output_type": "stream",
     "text": [
      "📨 Response received\n",
      "✅ Response text length: 2853\n"
     ]
    },
    {
     "name": "stderr",
     "output_type": "stream",
     "text": [
      "Generating emails:  34%|███▍      | 430/1250 [2:33:21<3:09:58, 13.90s/it]"
     ]
    },
    {
     "name": "stdout",
     "output_type": "stream",
     "text": [
      "📨 Response received\n",
      "✅ Response text length: 4212\n"
     ]
    },
    {
     "name": "stderr",
     "output_type": "stream",
     "text": [
      "Generating emails:  34%|███▍      | 431/1250 [2:33:37<3:15:19, 14.31s/it]"
     ]
    },
    {
     "name": "stdout",
     "output_type": "stream",
     "text": [
      "📨 Response received\n",
      "✅ Response text length: 2192\n"
     ]
    },
    {
     "name": "stderr",
     "output_type": "stream",
     "text": [
      "Generating emails:  35%|███▍      | 432/1250 [2:33:51<3:15:14, 14.32s/it]"
     ]
    },
    {
     "name": "stdout",
     "output_type": "stream",
     "text": [
      "📨 Response received\n",
      "✅ Response text length: 2288\n"
     ]
    },
    {
     "name": "stderr",
     "output_type": "stream",
     "text": [
      "Generating emails:  35%|███▍      | 433/1250 [2:34:01<2:59:40, 13.20s/it]"
     ]
    },
    {
     "name": "stdout",
     "output_type": "stream",
     "text": [
      "📨 Response received\n",
      "✅ Response text length: 2054\n"
     ]
    },
    {
     "name": "stderr",
     "output_type": "stream",
     "text": [
      "Generating emails:  35%|███▍      | 434/1250 [2:34:12<2:48:42, 12.41s/it]"
     ]
    },
    {
     "name": "stdout",
     "output_type": "stream",
     "text": [
      "📨 Response received\n",
      "✅ Response text length: 1192\n"
     ]
    },
    {
     "name": "stderr",
     "output_type": "stream",
     "text": [
      "Generating emails:  35%|███▍      | 435/1250 [2:34:21<2:36:02, 11.49s/it]"
     ]
    },
    {
     "name": "stdout",
     "output_type": "stream",
     "text": [
      "📨 Response received\n",
      "✅ Response text length: 2113\n"
     ]
    },
    {
     "name": "stderr",
     "output_type": "stream",
     "text": [
      "Generating emails:  35%|███▍      | 436/1250 [2:34:36<2:48:45, 12.44s/it]"
     ]
    },
    {
     "name": "stdout",
     "output_type": "stream",
     "text": [
      "📨 Response received\n",
      "✅ Response text length: 2555\n"
     ]
    },
    {
     "name": "stderr",
     "output_type": "stream",
     "text": [
      "Generating emails:  35%|███▍      | 437/1250 [2:34:54<3:12:59, 14.24s/it]"
     ]
    },
    {
     "name": "stdout",
     "output_type": "stream",
     "text": [
      "📨 Response received\n",
      "❌ Failed at row 436: API response finish_reason: 2\n"
     ]
    },
    {
     "name": "stderr",
     "output_type": "stream",
     "text": [
      "Generating emails:  35%|███▌      | 438/1250 [2:35:07<3:04:51, 13.66s/it]"
     ]
    },
    {
     "name": "stdout",
     "output_type": "stream",
     "text": [
      "📨 Response received\n",
      "✅ Response text length: 767\n"
     ]
    },
    {
     "name": "stderr",
     "output_type": "stream",
     "text": [
      "Generating emails:  35%|███▌      | 439/1250 [2:35:19<2:57:20, 13.12s/it]"
     ]
    },
    {
     "name": "stdout",
     "output_type": "stream",
     "text": [
      "📨 Response received\n",
      "✅ Response text length: 2144\n"
     ]
    },
    {
     "name": "stderr",
     "output_type": "stream",
     "text": [
      "Generating emails:  35%|███▌      | 440/1250 [2:35:31<2:55:39, 13.01s/it]"
     ]
    },
    {
     "name": "stdout",
     "output_type": "stream",
     "text": [
      "📨 Response received\n",
      "✅ Response text length: 2470\n"
     ]
    },
    {
     "name": "stderr",
     "output_type": "stream",
     "text": [
      "Generating emails:  35%|███▌      | 441/1250 [2:35:51<3:20:19, 14.86s/it]"
     ]
    },
    {
     "name": "stdout",
     "output_type": "stream",
     "text": [
      "📨 Response received\n",
      "❌ Failed at row 440: API response finish_reason: 2\n"
     ]
    },
    {
     "name": "stderr",
     "output_type": "stream",
     "text": [
      "Generating emails:  35%|███▌      | 442/1250 [2:36:04<3:14:10, 14.42s/it]"
     ]
    },
    {
     "name": "stdout",
     "output_type": "stream",
     "text": [
      "📨 Response received\n",
      "✅ Response text length: 2467\n"
     ]
    },
    {
     "name": "stderr",
     "output_type": "stream",
     "text": [
      "Generating emails:  35%|███▌      | 443/1250 [2:36:16<3:06:01, 13.83s/it]"
     ]
    },
    {
     "name": "stdout",
     "output_type": "stream",
     "text": [
      "📨 Response received\n",
      "✅ Response text length: 2638\n"
     ]
    },
    {
     "name": "stderr",
     "output_type": "stream",
     "text": [
      "Generating emails:  36%|███▌      | 444/1250 [2:36:35<3:23:53, 15.18s/it]"
     ]
    },
    {
     "name": "stdout",
     "output_type": "stream",
     "text": [
      "📨 Response received\n",
      "✅ Response text length: 2635\n"
     ]
    },
    {
     "name": "stderr",
     "output_type": "stream",
     "text": [
      "Generating emails:  36%|███▌      | 445/1250 [2:36:49<3:20:50, 14.97s/it]"
     ]
    },
    {
     "name": "stdout",
     "output_type": "stream",
     "text": [
      "📨 Response received\n",
      "✅ Response text length: 3932\n"
     ]
    },
    {
     "name": "stderr",
     "output_type": "stream",
     "text": [
      "Generating emails:  36%|███▌      | 446/1250 [2:37:02<3:10:12, 14.19s/it]"
     ]
    },
    {
     "name": "stdout",
     "output_type": "stream",
     "text": [
      "📨 Response received\n",
      "✅ Response text length: 1959\n"
     ]
    },
    {
     "name": "stderr",
     "output_type": "stream",
     "text": [
      "Generating emails:  36%|███▌      | 447/1250 [2:37:16<3:11:33, 14.31s/it]"
     ]
    },
    {
     "name": "stdout",
     "output_type": "stream",
     "text": [
      "📨 Response received\n",
      "✅ Response text length: 2839\n"
     ]
    },
    {
     "name": "stderr",
     "output_type": "stream",
     "text": [
      "Generating emails:  36%|███▌      | 448/1250 [2:37:30<3:10:26, 14.25s/it]"
     ]
    },
    {
     "name": "stdout",
     "output_type": "stream",
     "text": [
      "📨 Response received\n",
      "✅ Response text length: 4128\n"
     ]
    },
    {
     "name": "stderr",
     "output_type": "stream",
     "text": [
      "Generating emails:  36%|███▌      | 449/1250 [2:37:43<3:03:43, 13.76s/it]"
     ]
    },
    {
     "name": "stdout",
     "output_type": "stream",
     "text": [
      "📨 Response received\n",
      "✅ Response text length: 1428\n"
     ]
    },
    {
     "name": "stderr",
     "output_type": "stream",
     "text": [
      "Generating emails:  36%|███▌      | 450/1250 [2:37:56<3:00:45, 13.56s/it]"
     ]
    },
    {
     "name": "stdout",
     "output_type": "stream",
     "text": [
      "📨 Response received\n",
      "✅ Response text length: 2598\n",
      "💾 Checkpoint saved at row 449\n"
     ]
    },
    {
     "name": "stderr",
     "output_type": "stream",
     "text": [
      "Generating emails:  36%|███▌      | 451/1250 [2:38:09<2:57:57, 13.36s/it]"
     ]
    },
    {
     "name": "stdout",
     "output_type": "stream",
     "text": [
      "📨 Response received\n",
      "✅ Response text length: 3089\n"
     ]
    },
    {
     "name": "stderr",
     "output_type": "stream",
     "text": [
      "Generating emails:  36%|███▌      | 452/1250 [2:38:27<3:15:34, 14.71s/it]"
     ]
    },
    {
     "name": "stdout",
     "output_type": "stream",
     "text": [
      "📨 Response received\n",
      "❌ Failed at row 451: API response finish_reason: 2\n"
     ]
    },
    {
     "name": "stderr",
     "output_type": "stream",
     "text": [
      "Generating emails:  36%|███▌      | 453/1250 [2:38:41<3:14:18, 14.63s/it]"
     ]
    },
    {
     "name": "stdout",
     "output_type": "stream",
     "text": [
      "📨 Response received\n",
      "✅ Response text length: 2907\n"
     ]
    },
    {
     "name": "stderr",
     "output_type": "stream",
     "text": [
      "Generating emails:  36%|███▋      | 454/1250 [2:38:50<2:49:13, 12.76s/it]"
     ]
    },
    {
     "name": "stdout",
     "output_type": "stream",
     "text": [
      "📨 Response received\n",
      "✅ Response text length: 1980\n"
     ]
    },
    {
     "name": "stderr",
     "output_type": "stream",
     "text": [
      "Generating emails:  36%|███▋      | 455/1250 [2:39:01<2:44:07, 12.39s/it]"
     ]
    },
    {
     "name": "stdout",
     "output_type": "stream",
     "text": [
      "📨 Response received\n",
      "✅ Response text length: 2278\n"
     ]
    },
    {
     "name": "stderr",
     "output_type": "stream",
     "text": [
      "Generating emails:  36%|███▋      | 456/1250 [2:39:16<2:54:24, 13.18s/it]"
     ]
    },
    {
     "name": "stdout",
     "output_type": "stream",
     "text": [
      "📨 Response received\n",
      "✅ Response text length: 3471\n"
     ]
    },
    {
     "name": "stderr",
     "output_type": "stream",
     "text": [
      "Generating emails:  37%|███▋      | 457/1250 [2:39:32<3:04:17, 13.94s/it]"
     ]
    },
    {
     "name": "stdout",
     "output_type": "stream",
     "text": [
      "📨 Response received\n",
      "✅ Response text length: 4254\n"
     ]
    },
    {
     "name": "stderr",
     "output_type": "stream",
     "text": [
      "Generating emails:  37%|███▋      | 458/1250 [2:39:46<3:05:54, 14.08s/it]"
     ]
    },
    {
     "name": "stdout",
     "output_type": "stream",
     "text": [
      "📨 Response received\n",
      "✅ Response text length: 2557\n"
     ]
    },
    {
     "name": "stderr",
     "output_type": "stream",
     "text": [
      "Generating emails:  37%|███▋      | 459/1250 [2:39:54<2:42:03, 12.29s/it]"
     ]
    },
    {
     "name": "stdout",
     "output_type": "stream",
     "text": [
      "📨 Response received\n",
      "✅ Response text length: 545\n"
     ]
    },
    {
     "name": "stderr",
     "output_type": "stream",
     "text": [
      "Generating emails:  37%|███▋      | 460/1250 [2:40:07<2:43:03, 12.38s/it]"
     ]
    },
    {
     "name": "stdout",
     "output_type": "stream",
     "text": [
      "📨 Response received\n",
      "✅ Response text length: 2488\n"
     ]
    },
    {
     "name": "stderr",
     "output_type": "stream",
     "text": [
      "Generating emails:  37%|███▋      | 461/1250 [2:40:17<2:31:32, 11.52s/it]"
     ]
    },
    {
     "name": "stdout",
     "output_type": "stream",
     "text": [
      "📨 Response received\n",
      "✅ Response text length: 2611\n"
     ]
    },
    {
     "name": "stderr",
     "output_type": "stream",
     "text": [
      "Generating emails:  37%|███▋      | 462/1250 [2:40:25<2:21:20, 10.76s/it]"
     ]
    },
    {
     "name": "stdout",
     "output_type": "stream",
     "text": [
      "📨 Response received\n",
      "✅ Response text length: 588\n"
     ]
    },
    {
     "name": "stderr",
     "output_type": "stream",
     "text": [
      "Generating emails:  37%|███▋      | 463/1250 [2:40:36<2:21:15, 10.77s/it]"
     ]
    },
    {
     "name": "stdout",
     "output_type": "stream",
     "text": [
      "📨 Response received\n",
      "✅ Response text length: 858\n"
     ]
    },
    {
     "name": "stderr",
     "output_type": "stream",
     "text": [
      "Generating emails:  37%|███▋      | 464/1250 [2:40:55<2:52:20, 13.16s/it]"
     ]
    },
    {
     "name": "stdout",
     "output_type": "stream",
     "text": [
      "📨 Response received\n",
      "✅ Response text length: 3901\n"
     ]
    },
    {
     "name": "stderr",
     "output_type": "stream",
     "text": [
      "Generating emails:  37%|███▋      | 465/1250 [2:41:05<2:41:25, 12.34s/it]"
     ]
    },
    {
     "name": "stdout",
     "output_type": "stream",
     "text": [
      "📨 Response received\n",
      "✅ Response text length: 1795\n"
     ]
    },
    {
     "name": "stderr",
     "output_type": "stream",
     "text": [
      "Generating emails:  37%|███▋      | 466/1250 [2:41:18<2:42:16, 12.42s/it]"
     ]
    },
    {
     "name": "stdout",
     "output_type": "stream",
     "text": [
      "📨 Response received\n",
      "✅ Response text length: 4571\n"
     ]
    },
    {
     "name": "stderr",
     "output_type": "stream",
     "text": [
      "Generating emails:  37%|███▋      | 467/1250 [2:41:32<2:46:13, 12.74s/it]"
     ]
    },
    {
     "name": "stdout",
     "output_type": "stream",
     "text": [
      "📨 Response received\n",
      "✅ Response text length: 2570\n"
     ]
    },
    {
     "name": "stderr",
     "output_type": "stream",
     "text": [
      "Generating emails:  37%|███▋      | 468/1250 [2:41:47<2:56:30, 13.54s/it]"
     ]
    },
    {
     "name": "stdout",
     "output_type": "stream",
     "text": [
      "📨 Response received\n",
      "✅ Response text length: 2731\n"
     ]
    },
    {
     "name": "stderr",
     "output_type": "stream",
     "text": [
      "Generating emails:  38%|███▊      | 469/1250 [2:41:59<2:51:20, 13.16s/it]"
     ]
    },
    {
     "name": "stdout",
     "output_type": "stream",
     "text": [
      "📨 Response received\n",
      "✅ Response text length: 2075\n"
     ]
    },
    {
     "name": "stderr",
     "output_type": "stream",
     "text": [
      "Generating emails:  38%|███▊      | 470/1250 [2:42:11<2:44:15, 12.64s/it]"
     ]
    },
    {
     "name": "stdout",
     "output_type": "stream",
     "text": [
      "📨 Response received\n",
      "✅ Response text length: 2221\n"
     ]
    },
    {
     "name": "stderr",
     "output_type": "stream",
     "text": [
      "Generating emails:  38%|███▊      | 471/1250 [2:42:29<3:07:04, 14.41s/it]"
     ]
    },
    {
     "name": "stdout",
     "output_type": "stream",
     "text": [
      "📨 Response received\n",
      "✅ Response text length: 4348\n"
     ]
    },
    {
     "name": "stderr",
     "output_type": "stream",
     "text": [
      "Generating emails:  38%|███▊      | 472/1250 [2:42:40<2:51:50, 13.25s/it]"
     ]
    },
    {
     "name": "stdout",
     "output_type": "stream",
     "text": [
      "📨 Response received\n",
      "✅ Response text length: 2266\n"
     ]
    },
    {
     "name": "stderr",
     "output_type": "stream",
     "text": [
      "Generating emails:  38%|███▊      | 473/1250 [2:42:49<2:35:04, 11.97s/it]"
     ]
    },
    {
     "name": "stdout",
     "output_type": "stream",
     "text": [
      "📨 Response received\n",
      "✅ Response text length: 742\n"
     ]
    },
    {
     "name": "stderr",
     "output_type": "stream",
     "text": [
      "Generating emails:  38%|███▊      | 474/1250 [2:43:06<2:56:04, 13.61s/it]"
     ]
    },
    {
     "name": "stdout",
     "output_type": "stream",
     "text": [
      "📨 Response received\n",
      "✅ Response text length: 4047\n"
     ]
    },
    {
     "name": "stderr",
     "output_type": "stream",
     "text": [
      "Generating emails:  38%|███▊      | 475/1250 [2:43:17<2:44:44, 12.75s/it]"
     ]
    },
    {
     "name": "stdout",
     "output_type": "stream",
     "text": [
      "📨 Response received\n",
      "✅ Response text length: 2910\n"
     ]
    },
    {
     "name": "stderr",
     "output_type": "stream",
     "text": [
      "Generating emails:  38%|███▊      | 476/1250 [2:43:38<3:17:01, 15.27s/it]"
     ]
    },
    {
     "name": "stdout",
     "output_type": "stream",
     "text": [
      "📨 Response received\n",
      "❌ Failed at row 475: API response finish_reason: 2\n"
     ]
    },
    {
     "name": "stderr",
     "output_type": "stream",
     "text": [
      "Generating emails:  38%|███▊      | 477/1250 [2:43:51<3:08:47, 14.65s/it]"
     ]
    },
    {
     "name": "stdout",
     "output_type": "stream",
     "text": [
      "📨 Response received\n",
      "✅ Response text length: 2367\n"
     ]
    },
    {
     "name": "stderr",
     "output_type": "stream",
     "text": [
      "Generating emails:  38%|███▊      | 478/1250 [2:44:11<3:26:33, 16.05s/it]"
     ]
    },
    {
     "name": "stdout",
     "output_type": "stream",
     "text": [
      "📨 Response received\n",
      "❌ Failed at row 477: API response finish_reason: 2\n"
     ]
    },
    {
     "name": "stderr",
     "output_type": "stream",
     "text": [
      "Generating emails:  38%|███▊      | 479/1250 [2:44:25<3:19:10, 15.50s/it]"
     ]
    },
    {
     "name": "stdout",
     "output_type": "stream",
     "text": [
      "📨 Response received\n",
      "✅ Response text length: 2266\n"
     ]
    },
    {
     "name": "stderr",
     "output_type": "stream",
     "text": [
      "Generating emails:  38%|███▊      | 480/1250 [2:44:37<3:07:12, 14.59s/it]"
     ]
    },
    {
     "name": "stdout",
     "output_type": "stream",
     "text": [
      "📨 Response received\n",
      "✅ Response text length: 2002\n"
     ]
    },
    {
     "name": "stderr",
     "output_type": "stream",
     "text": [
      "Generating emails:  38%|███▊      | 481/1250 [2:44:48<2:50:32, 13.31s/it]"
     ]
    },
    {
     "name": "stdout",
     "output_type": "stream",
     "text": [
      "📨 Response received\n",
      "✅ Response text length: 2444\n"
     ]
    },
    {
     "name": "stderr",
     "output_type": "stream",
     "text": [
      "Generating emails:  39%|███▊      | 482/1250 [2:45:02<2:52:50, 13.50s/it]"
     ]
    },
    {
     "name": "stdout",
     "output_type": "stream",
     "text": [
      "📨 Response received\n",
      "✅ Response text length: 4513\n"
     ]
    },
    {
     "name": "stderr",
     "output_type": "stream",
     "text": [
      "Generating emails:  39%|███▊      | 483/1250 [2:45:08<2:26:31, 11.46s/it]"
     ]
    },
    {
     "name": "stdout",
     "output_type": "stream",
     "text": [
      "📨 Response received\n",
      "✅ Response text length: 524\n"
     ]
    },
    {
     "name": "stderr",
     "output_type": "stream",
     "text": [
      "Generating emails:  39%|███▊      | 484/1250 [2:45:24<2:42:03, 12.69s/it]"
     ]
    },
    {
     "name": "stdout",
     "output_type": "stream",
     "text": [
      "📨 Response received\n",
      "✅ Response text length: 2610\n"
     ]
    },
    {
     "name": "stderr",
     "output_type": "stream",
     "text": [
      "Generating emails:  39%|███▉      | 485/1250 [2:45:42<3:02:41, 14.33s/it]"
     ]
    },
    {
     "name": "stdout",
     "output_type": "stream",
     "text": [
      "📨 Response received\n",
      "✅ Response text length: 4488\n"
     ]
    },
    {
     "name": "stderr",
     "output_type": "stream",
     "text": [
      "Generating emails:  39%|███▉      | 486/1250 [2:45:54<2:55:19, 13.77s/it]"
     ]
    },
    {
     "name": "stdout",
     "output_type": "stream",
     "text": [
      "📨 Response received\n",
      "✅ Response text length: 2052\n"
     ]
    },
    {
     "name": "stderr",
     "output_type": "stream",
     "text": [
      "Generating emails:  39%|███▉      | 487/1250 [2:46:09<2:58:51, 14.06s/it]"
     ]
    },
    {
     "name": "stdout",
     "output_type": "stream",
     "text": [
      "📨 Response received\n",
      "✅ Response text length: 3333\n"
     ]
    },
    {
     "name": "stderr",
     "output_type": "stream",
     "text": [
      "Generating emails:  39%|███▉      | 488/1250 [2:46:24<3:02:09, 14.34s/it]"
     ]
    },
    {
     "name": "stdout",
     "output_type": "stream",
     "text": [
      "📨 Response received\n",
      "✅ Response text length: 4161\n"
     ]
    },
    {
     "name": "stderr",
     "output_type": "stream",
     "text": [
      "Generating emails:  39%|███▉      | 489/1250 [2:46:40<3:08:07, 14.83s/it]"
     ]
    },
    {
     "name": "stdout",
     "output_type": "stream",
     "text": [
      "📨 Response received\n",
      "✅ Response text length: 3709\n"
     ]
    },
    {
     "name": "stderr",
     "output_type": "stream",
     "text": [
      "Generating emails:  39%|███▉      | 490/1250 [2:46:50<2:48:18, 13.29s/it]"
     ]
    },
    {
     "name": "stdout",
     "output_type": "stream",
     "text": [
      "📨 Response received\n",
      "✅ Response text length: 2107\n"
     ]
    },
    {
     "name": "stderr",
     "output_type": "stream",
     "text": [
      "Generating emails:  39%|███▉      | 491/1250 [2:47:02<2:45:13, 13.06s/it]"
     ]
    },
    {
     "name": "stdout",
     "output_type": "stream",
     "text": [
      "📨 Response received\n",
      "✅ Response text length: 2849\n"
     ]
    },
    {
     "name": "stderr",
     "output_type": "stream",
     "text": [
      "Generating emails:  39%|███▉      | 492/1250 [2:47:16<2:49:00, 13.38s/it]"
     ]
    },
    {
     "name": "stdout",
     "output_type": "stream",
     "text": [
      "📨 Response received\n",
      "✅ Response text length: 2232\n"
     ]
    },
    {
     "name": "stderr",
     "output_type": "stream",
     "text": [
      "Generating emails:  39%|███▉      | 493/1250 [2:47:30<2:50:51, 13.54s/it]"
     ]
    },
    {
     "name": "stdout",
     "output_type": "stream",
     "text": [
      "📨 Response received\n",
      "✅ Response text length: 3458\n"
     ]
    },
    {
     "name": "stderr",
     "output_type": "stream",
     "text": [
      "Generating emails:  40%|███▉      | 494/1250 [2:47:47<3:00:44, 14.34s/it]"
     ]
    },
    {
     "name": "stdout",
     "output_type": "stream",
     "text": [
      "📨 Response received\n",
      "✅ Response text length: 4094\n"
     ]
    },
    {
     "name": "stderr",
     "output_type": "stream",
     "text": [
      "Generating emails:  40%|███▉      | 495/1250 [2:48:01<3:01:50, 14.45s/it]"
     ]
    },
    {
     "name": "stdout",
     "output_type": "stream",
     "text": [
      "📨 Response received\n",
      "✅ Response text length: 1889\n"
     ]
    },
    {
     "name": "stderr",
     "output_type": "stream",
     "text": [
      "Generating emails:  40%|███▉      | 496/1250 [2:48:14<2:56:18, 14.03s/it]"
     ]
    },
    {
     "name": "stdout",
     "output_type": "stream",
     "text": [
      "📨 Response received\n",
      "✅ Response text length: 2437\n"
     ]
    },
    {
     "name": "stderr",
     "output_type": "stream",
     "text": [
      "Generating emails:  40%|███▉      | 497/1250 [2:48:30<3:01:36, 14.47s/it]"
     ]
    },
    {
     "name": "stdout",
     "output_type": "stream",
     "text": [
      "📨 Response received\n",
      "✅ Response text length: 1277\n"
     ]
    },
    {
     "name": "stderr",
     "output_type": "stream",
     "text": [
      "Generating emails:  40%|███▉      | 498/1250 [2:48:44<2:59:49, 14.35s/it]"
     ]
    },
    {
     "name": "stdout",
     "output_type": "stream",
     "text": [
      "📨 Response received\n",
      "✅ Response text length: 3189\n"
     ]
    },
    {
     "name": "stderr",
     "output_type": "stream",
     "text": [
      "Generating emails:  40%|███▉      | 499/1250 [2:48:54<2:41:48, 12.93s/it]"
     ]
    },
    {
     "name": "stdout",
     "output_type": "stream",
     "text": [
      "📨 Response received\n",
      "✅ Response text length: 2463\n"
     ]
    },
    {
     "name": "stderr",
     "output_type": "stream",
     "text": [
      "Generating emails:  40%|████      | 500/1250 [2:49:07<2:45:20, 13.23s/it]"
     ]
    },
    {
     "name": "stdout",
     "output_type": "stream",
     "text": [
      "📨 Response received\n",
      "✅ Response text length: 2754\n",
      "💾 Checkpoint saved at row 499\n"
     ]
    },
    {
     "name": "stderr",
     "output_type": "stream",
     "text": [
      "Generating emails:  40%|████      | 501/1250 [2:49:18<2:34:06, 12.35s/it]"
     ]
    },
    {
     "name": "stdout",
     "output_type": "stream",
     "text": [
      "📨 Response received\n",
      "✅ Response text length: 560\n"
     ]
    },
    {
     "name": "stderr",
     "output_type": "stream",
     "text": [
      "Generating emails:  40%|████      | 502/1250 [2:49:31<2:36:50, 12.58s/it]"
     ]
    },
    {
     "name": "stdout",
     "output_type": "stream",
     "text": [
      "📨 Response received\n",
      "✅ Response text length: 2706\n"
     ]
    },
    {
     "name": "stderr",
     "output_type": "stream",
     "text": [
      "Generating emails:  40%|████      | 503/1250 [2:49:44<2:38:56, 12.77s/it]"
     ]
    },
    {
     "name": "stdout",
     "output_type": "stream",
     "text": [
      "📨 Response received\n",
      "✅ Response text length: 2316\n"
     ]
    },
    {
     "name": "stderr",
     "output_type": "stream",
     "text": [
      "Generating emails:  40%|████      | 504/1250 [2:49:55<2:32:01, 12.23s/it]"
     ]
    },
    {
     "name": "stdout",
     "output_type": "stream",
     "text": [
      "📨 Response received\n",
      "✅ Response text length: 659\n"
     ]
    },
    {
     "name": "stderr",
     "output_type": "stream",
     "text": [
      "Generating emails:  40%|████      | 505/1250 [2:50:10<2:42:00, 13.05s/it]"
     ]
    },
    {
     "name": "stdout",
     "output_type": "stream",
     "text": [
      "📨 Response received\n",
      "✅ Response text length: 2771\n"
     ]
    },
    {
     "name": "stderr",
     "output_type": "stream",
     "text": [
      "Generating emails:  40%|████      | 506/1250 [2:50:21<2:32:40, 12.31s/it]"
     ]
    },
    {
     "name": "stdout",
     "output_type": "stream",
     "text": [
      "📨 Response received\n",
      "✅ Response text length: 2646\n"
     ]
    },
    {
     "name": "stderr",
     "output_type": "stream",
     "text": [
      "Generating emails:  41%|████      | 507/1250 [2:50:39<2:55:51, 14.20s/it]"
     ]
    },
    {
     "name": "stdout",
     "output_type": "stream",
     "text": [
      "📨 Response received\n",
      "❌ Failed at row 506: API response finish_reason: 2\n"
     ]
    },
    {
     "name": "stderr",
     "output_type": "stream",
     "text": [
      "Generating emails:  41%|████      | 508/1250 [2:50:55<3:01:00, 14.64s/it]"
     ]
    },
    {
     "name": "stdout",
     "output_type": "stream",
     "text": [
      "📨 Response received\n",
      "✅ Response text length: 3078\n"
     ]
    },
    {
     "name": "stderr",
     "output_type": "stream",
     "text": [
      "Generating emails:  41%|████      | 509/1250 [2:51:03<2:38:27, 12.83s/it]"
     ]
    },
    {
     "name": "stdout",
     "output_type": "stream",
     "text": [
      "📨 Response received\n",
      "✅ Response text length: 651\n"
     ]
    },
    {
     "name": "stderr",
     "output_type": "stream",
     "text": [
      "Generating emails:  41%|████      | 510/1250 [2:51:14<2:30:25, 12.20s/it]"
     ]
    },
    {
     "name": "stdout",
     "output_type": "stream",
     "text": [
      "📨 Response received\n",
      "✅ Response text length: 1187\n"
     ]
    },
    {
     "name": "stderr",
     "output_type": "stream",
     "text": [
      "Generating emails:  41%|████      | 511/1250 [2:51:27<2:31:10, 12.27s/it]"
     ]
    },
    {
     "name": "stdout",
     "output_type": "stream",
     "text": [
      "📨 Response received\n",
      "✅ Response text length: 1687\n"
     ]
    },
    {
     "name": "stderr",
     "output_type": "stream",
     "text": [
      "Generating emails:  41%|████      | 512/1250 [2:51:35<2:17:17, 11.16s/it]"
     ]
    },
    {
     "name": "stdout",
     "output_type": "stream",
     "text": [
      "📨 Response received\n",
      "✅ Response text length: 1990\n"
     ]
    },
    {
     "name": "stderr",
     "output_type": "stream",
     "text": [
      "Generating emails:  41%|████      | 513/1250 [2:51:46<2:13:59, 10.91s/it]"
     ]
    },
    {
     "name": "stdout",
     "output_type": "stream",
     "text": [
      "📨 Response received\n",
      "✅ Response text length: 2713\n"
     ]
    },
    {
     "name": "stderr",
     "output_type": "stream",
     "text": [
      "Generating emails:  41%|████      | 514/1250 [2:52:00<2:25:32, 11.87s/it]"
     ]
    },
    {
     "name": "stdout",
     "output_type": "stream",
     "text": [
      "📨 Response received\n",
      "✅ Response text length: 2498\n"
     ]
    },
    {
     "name": "stderr",
     "output_type": "stream",
     "text": [
      "Generating emails:  41%|████      | 515/1250 [2:52:14<2:33:44, 12.55s/it]"
     ]
    },
    {
     "name": "stdout",
     "output_type": "stream",
     "text": [
      "📨 Response received\n",
      "✅ Response text length: 2652\n"
     ]
    },
    {
     "name": "stderr",
     "output_type": "stream",
     "text": [
      "Generating emails:  41%|████▏     | 516/1250 [2:52:28<2:39:23, 13.03s/it]"
     ]
    },
    {
     "name": "stdout",
     "output_type": "stream",
     "text": [
      "📨 Response received\n",
      "✅ Response text length: 2221\n"
     ]
    },
    {
     "name": "stderr",
     "output_type": "stream",
     "text": [
      "Generating emails:  41%|████▏     | 517/1250 [2:52:43<2:47:10, 13.68s/it]"
     ]
    },
    {
     "name": "stdout",
     "output_type": "stream",
     "text": [
      "📨 Response received\n",
      "✅ Response text length: 2358\n"
     ]
    },
    {
     "name": "stderr",
     "output_type": "stream",
     "text": [
      "Generating emails:  41%|████▏     | 518/1250 [2:52:58<2:49:37, 13.90s/it]"
     ]
    },
    {
     "name": "stdout",
     "output_type": "stream",
     "text": [
      "📨 Response received\n",
      "✅ Response text length: 2314\n"
     ]
    },
    {
     "name": "stderr",
     "output_type": "stream",
     "text": [
      "Generating emails:  42%|████▏     | 519/1250 [2:53:15<3:01:32, 14.90s/it]"
     ]
    },
    {
     "name": "stdout",
     "output_type": "stream",
     "text": [
      "📨 Response received\n",
      "✅ Response text length: 2802\n"
     ]
    },
    {
     "name": "stderr",
     "output_type": "stream",
     "text": [
      "Generating emails:  42%|████▏     | 520/1250 [2:53:28<2:53:46, 14.28s/it]"
     ]
    },
    {
     "name": "stdout",
     "output_type": "stream",
     "text": [
      "📨 Response received\n",
      "✅ Response text length: 2095\n"
     ]
    },
    {
     "name": "stderr",
     "output_type": "stream",
     "text": [
      "Generating emails:  42%|████▏     | 521/1250 [2:53:39<2:41:55, 13.33s/it]"
     ]
    },
    {
     "name": "stdout",
     "output_type": "stream",
     "text": [
      "📨 Response received\n",
      "✅ Response text length: 2266\n"
     ]
    },
    {
     "name": "stderr",
     "output_type": "stream",
     "text": [
      "Generating emails:  42%|████▏     | 522/1250 [2:53:56<2:56:13, 14.52s/it]"
     ]
    },
    {
     "name": "stdout",
     "output_type": "stream",
     "text": [
      "📨 Response received\n",
      "✅ Response text length: 3345\n"
     ]
    },
    {
     "name": "stderr",
     "output_type": "stream",
     "text": [
      "Generating emails:  42%|████▏     | 523/1250 [2:54:13<3:06:32, 15.40s/it]"
     ]
    },
    {
     "name": "stdout",
     "output_type": "stream",
     "text": [
      "📨 Response received\n",
      "✅ Response text length: 4992\n"
     ]
    },
    {
     "name": "stderr",
     "output_type": "stream",
     "text": [
      "Generating emails:  42%|████▏     | 524/1250 [2:54:23<2:44:29, 13.59s/it]"
     ]
    },
    {
     "name": "stdout",
     "output_type": "stream",
     "text": [
      "📨 Response received\n",
      "✅ Response text length: 2039\n"
     ]
    },
    {
     "name": "stderr",
     "output_type": "stream",
     "text": [
      "Generating emails:  42%|████▏     | 525/1250 [2:54:42<3:05:23, 15.34s/it]"
     ]
    },
    {
     "name": "stdout",
     "output_type": "stream",
     "text": [
      "📨 Response received\n",
      "✅ Response text length: 4786\n"
     ]
    },
    {
     "name": "stderr",
     "output_type": "stream",
     "text": [
      "Generating emails:  42%|████▏     | 526/1250 [2:54:59<3:09:49, 15.73s/it]"
     ]
    },
    {
     "name": "stdout",
     "output_type": "stream",
     "text": [
      "📨 Response received\n",
      "✅ Response text length: 4259\n"
     ]
    },
    {
     "name": "stderr",
     "output_type": "stream",
     "text": [
      "Generating emails:  42%|████▏     | 527/1250 [2:55:14<3:07:43, 15.58s/it]"
     ]
    },
    {
     "name": "stdout",
     "output_type": "stream",
     "text": [
      "📨 Response received\n",
      "✅ Response text length: 2551\n"
     ]
    },
    {
     "name": "stderr",
     "output_type": "stream",
     "text": [
      "Generating emails:  42%|████▏     | 528/1250 [2:55:22<2:39:51, 13.28s/it]"
     ]
    },
    {
     "name": "stdout",
     "output_type": "stream",
     "text": [
      "📨 Response received\n",
      "✅ Response text length: 539\n"
     ]
    },
    {
     "name": "stderr",
     "output_type": "stream",
     "text": [
      "Generating emails:  42%|████▏     | 529/1250 [2:55:36<2:40:40, 13.37s/it]"
     ]
    },
    {
     "name": "stdout",
     "output_type": "stream",
     "text": [
      "📨 Response received\n",
      "✅ Response text length: 1770\n"
     ]
    },
    {
     "name": "stderr",
     "output_type": "stream",
     "text": [
      "Generating emails:  42%|████▏     | 530/1250 [2:55:53<2:54:42, 14.56s/it]"
     ]
    },
    {
     "name": "stdout",
     "output_type": "stream",
     "text": [
      "📨 Response received\n",
      "❌ Failed at row 529: API response finish_reason: 2\n"
     ]
    },
    {
     "name": "stderr",
     "output_type": "stream",
     "text": [
      "Generating emails:  42%|████▏     | 531/1250 [2:56:01<2:31:50, 12.67s/it]"
     ]
    },
    {
     "name": "stdout",
     "output_type": "stream",
     "text": [
      "📨 Response received\n",
      "✅ Response text length: 766\n"
     ]
    },
    {
     "name": "stderr",
     "output_type": "stream",
     "text": [
      "Generating emails:  43%|████▎     | 532/1250 [2:56:14<2:33:06, 12.79s/it]"
     ]
    },
    {
     "name": "stdout",
     "output_type": "stream",
     "text": [
      "📨 Response received\n",
      "✅ Response text length: 2769\n"
     ]
    },
    {
     "name": "stderr",
     "output_type": "stream",
     "text": [
      "Generating emails:  43%|████▎     | 533/1250 [2:56:24<2:22:56, 11.96s/it]"
     ]
    },
    {
     "name": "stdout",
     "output_type": "stream",
     "text": [
      "📨 Response received\n",
      "✅ Response text length: 1971\n"
     ]
    },
    {
     "name": "stderr",
     "output_type": "stream",
     "text": [
      "Generating emails:  43%|████▎     | 534/1250 [2:56:38<2:28:49, 12.47s/it]"
     ]
    },
    {
     "name": "stdout",
     "output_type": "stream",
     "text": [
      "📨 Response received\n",
      "✅ Response text length: 2105\n"
     ]
    },
    {
     "name": "stderr",
     "output_type": "stream",
     "text": [
      "Generating emails:  43%|████▎     | 535/1250 [2:56:52<2:32:18, 12.78s/it]"
     ]
    },
    {
     "name": "stdout",
     "output_type": "stream",
     "text": [
      "📨 Response received\n",
      "✅ Response text length: 1482\n"
     ]
    },
    {
     "name": "stderr",
     "output_type": "stream",
     "text": [
      "Generating emails:  43%|████▎     | 536/1250 [2:57:05<2:35:05, 13.03s/it]"
     ]
    },
    {
     "name": "stdout",
     "output_type": "stream",
     "text": [
      "📨 Response received\n",
      "✅ Response text length: 2950\n"
     ]
    },
    {
     "name": "stderr",
     "output_type": "stream",
     "text": [
      "Generating emails:  43%|████▎     | 537/1250 [2:57:16<2:28:34, 12.50s/it]"
     ]
    },
    {
     "name": "stdout",
     "output_type": "stream",
     "text": [
      "📨 Response received\n",
      "✅ Response text length: 2054\n"
     ]
    },
    {
     "name": "stderr",
     "output_type": "stream",
     "text": [
      "Generating emails:  43%|████▎     | 538/1250 [2:57:30<2:30:38, 12.69s/it]"
     ]
    },
    {
     "name": "stdout",
     "output_type": "stream",
     "text": [
      "📨 Response received\n",
      "✅ Response text length: 1977\n"
     ]
    },
    {
     "name": "stderr",
     "output_type": "stream",
     "text": [
      "Generating emails:  43%|████▎     | 539/1250 [2:57:44<2:36:35, 13.21s/it]"
     ]
    },
    {
     "name": "stdout",
     "output_type": "stream",
     "text": [
      "📨 Response received\n",
      "✅ Response text length: 2715\n"
     ]
    },
    {
     "name": "stderr",
     "output_type": "stream",
     "text": [
      "Generating emails:  43%|████▎     | 540/1250 [2:57:58<2:40:15, 13.54s/it]"
     ]
    },
    {
     "name": "stdout",
     "output_type": "stream",
     "text": [
      "📨 Response received\n",
      "✅ Response text length: 2185\n"
     ]
    },
    {
     "name": "stderr",
     "output_type": "stream",
     "text": [
      "Generating emails:  43%|████▎     | 541/1250 [2:58:14<2:49:01, 14.30s/it]"
     ]
    },
    {
     "name": "stdout",
     "output_type": "stream",
     "text": [
      "📨 Response received\n",
      "✅ Response text length: 2754\n"
     ]
    },
    {
     "name": "stderr",
     "output_type": "stream",
     "text": [
      "Generating emails:  43%|████▎     | 542/1250 [2:58:21<2:21:46, 12.01s/it]"
     ]
    },
    {
     "name": "stdout",
     "output_type": "stream",
     "text": [
      "📨 Response received\n",
      "✅ Response text length: 421\n"
     ]
    },
    {
     "name": "stderr",
     "output_type": "stream",
     "text": [
      "Generating emails:  43%|████▎     | 543/1250 [2:58:32<2:17:39, 11.68s/it]"
     ]
    },
    {
     "name": "stdout",
     "output_type": "stream",
     "text": [
      "📨 Response received\n",
      "✅ Response text length: 478\n"
     ]
    },
    {
     "name": "stderr",
     "output_type": "stream",
     "text": [
      "Generating emails:  44%|████▎     | 544/1250 [2:58:45<2:24:04, 12.24s/it]"
     ]
    },
    {
     "name": "stdout",
     "output_type": "stream",
     "text": [
      "📨 Response received\n",
      "✅ Response text length: 2127\n"
     ]
    },
    {
     "name": "stderr",
     "output_type": "stream",
     "text": [
      "Generating emails:  44%|████▎     | 545/1250 [2:58:59<2:26:55, 12.50s/it]"
     ]
    },
    {
     "name": "stdout",
     "output_type": "stream",
     "text": [
      "📨 Response received\n",
      "✅ Response text length: 3007\n"
     ]
    },
    {
     "name": "stderr",
     "output_type": "stream",
     "text": [
      "Generating emails:  44%|████▎     | 546/1250 [2:59:12<2:30:37, 12.84s/it]"
     ]
    },
    {
     "name": "stdout",
     "output_type": "stream",
     "text": [
      "📨 Response received\n",
      "✅ Response text length: 2765\n"
     ]
    },
    {
     "name": "stderr",
     "output_type": "stream",
     "text": [
      "Generating emails:  44%|████▍     | 547/1250 [2:59:30<2:46:58, 14.25s/it]"
     ]
    },
    {
     "name": "stdout",
     "output_type": "stream",
     "text": [
      "📨 Response received\n",
      "✅ Response text length: 3135\n"
     ]
    },
    {
     "name": "stderr",
     "output_type": "stream",
     "text": [
      "Generating emails:  44%|████▍     | 548/1250 [2:59:43<2:43:43, 13.99s/it]"
     ]
    },
    {
     "name": "stdout",
     "output_type": "stream",
     "text": [
      "📨 Response received\n",
      "✅ Response text length: 1945\n"
     ]
    },
    {
     "name": "stderr",
     "output_type": "stream",
     "text": [
      "Generating emails:  44%|████▍     | 549/1250 [2:59:58<2:46:25, 14.25s/it]"
     ]
    },
    {
     "name": "stdout",
     "output_type": "stream",
     "text": [
      "📨 Response received\n",
      "✅ Response text length: 2692\n"
     ]
    },
    {
     "name": "stderr",
     "output_type": "stream",
     "text": [
      "Generating emails:  44%|████▍     | 550/1250 [3:00:05<2:21:23, 12.12s/it]"
     ]
    },
    {
     "name": "stdout",
     "output_type": "stream",
     "text": [
      "📨 Response received\n",
      "✅ Response text length: 787\n",
      "💾 Checkpoint saved at row 549\n"
     ]
    },
    {
     "name": "stderr",
     "output_type": "stream",
     "text": [
      "Generating emails:  44%|████▍     | 551/1250 [3:00:15<2:13:25, 11.45s/it]"
     ]
    },
    {
     "name": "stdout",
     "output_type": "stream",
     "text": [
      "📨 Response received\n",
      "✅ Response text length: 2092\n"
     ]
    },
    {
     "name": "stderr",
     "output_type": "stream",
     "text": [
      "Generating emails:  44%|████▍     | 552/1250 [3:00:27<2:16:15, 11.71s/it]"
     ]
    },
    {
     "name": "stdout",
     "output_type": "stream",
     "text": [
      "📨 Response received\n",
      "✅ Response text length: 2431\n"
     ]
    },
    {
     "name": "stderr",
     "output_type": "stream",
     "text": [
      "Generating emails:  44%|████▍     | 553/1250 [3:00:39<2:15:03, 11.63s/it]"
     ]
    },
    {
     "name": "stdout",
     "output_type": "stream",
     "text": [
      "📨 Response received\n",
      "✅ Response text length: 604\n"
     ]
    },
    {
     "name": "stderr",
     "output_type": "stream",
     "text": [
      "Generating emails:  44%|████▍     | 554/1250 [3:00:51<2:17:00, 11.81s/it]"
     ]
    },
    {
     "name": "stdout",
     "output_type": "stream",
     "text": [
      "📨 Response received\n",
      "✅ Response text length: 3001\n"
     ]
    },
    {
     "name": "stderr",
     "output_type": "stream",
     "text": [
      "Generating emails:  44%|████▍     | 555/1250 [3:01:05<2:24:49, 12.50s/it]"
     ]
    },
    {
     "name": "stdout",
     "output_type": "stream",
     "text": [
      "📨 Response received\n",
      "✅ Response text length: 2607\n"
     ]
    },
    {
     "name": "stderr",
     "output_type": "stream",
     "text": [
      "Generating emails:  44%|████▍     | 556/1250 [3:01:15<2:16:42, 11.82s/it]"
     ]
    },
    {
     "name": "stdout",
     "output_type": "stream",
     "text": [
      "📨 Response received\n",
      "✅ Response text length: 2094\n"
     ]
    },
    {
     "name": "stderr",
     "output_type": "stream",
     "text": [
      "Generating emails:  45%|████▍     | 557/1250 [3:01:34<2:39:11, 13.78s/it]"
     ]
    },
    {
     "name": "stdout",
     "output_type": "stream",
     "text": [
      "📨 Response received\n",
      "✅ Response text length: 4506\n"
     ]
    },
    {
     "name": "stderr",
     "output_type": "stream",
     "text": [
      "Generating emails:  45%|████▍     | 558/1250 [3:01:48<2:41:25, 14.00s/it]"
     ]
    },
    {
     "name": "stdout",
     "output_type": "stream",
     "text": [
      "📨 Response received\n",
      "✅ Response text length: 1910\n"
     ]
    },
    {
     "name": "stderr",
     "output_type": "stream",
     "text": [
      "Generating emails:  45%|████▍     | 559/1250 [3:02:09<3:04:09, 15.99s/it]"
     ]
    },
    {
     "name": "stdout",
     "output_type": "stream",
     "text": [
      "📨 Response received\n",
      "❌ Failed at row 558: API response finish_reason: 2\n"
     ]
    },
    {
     "name": "stderr",
     "output_type": "stream",
     "text": [
      "Generating emails:  45%|████▍     | 560/1250 [3:02:19<2:44:19, 14.29s/it]"
     ]
    },
    {
     "name": "stdout",
     "output_type": "stream",
     "text": [
      "📨 Response received\n",
      "✅ Response text length: 2176\n"
     ]
    },
    {
     "name": "stderr",
     "output_type": "stream",
     "text": [
      "Generating emails:  45%|████▍     | 561/1250 [3:02:33<2:40:51, 14.01s/it]"
     ]
    },
    {
     "name": "stdout",
     "output_type": "stream",
     "text": [
      "📨 Response received\n",
      "✅ Response text length: 3227\n"
     ]
    },
    {
     "name": "stderr",
     "output_type": "stream",
     "text": [
      "Generating emails:  45%|████▍     | 562/1250 [3:12:33<36:18:12, 189.96s/it]"
     ]
    },
    {
     "name": "stdout",
     "output_type": "stream",
     "text": [
      "❌ Failed at row 561: 504 Deadline Exceeded\n"
     ]
    },
    {
     "name": "stderr",
     "output_type": "stream",
     "text": [
      "Generating emails:  45%|████▌     | 563/1250 [3:13:29<28:35:48, 149.85s/it]"
     ]
    },
    {
     "name": "stdout",
     "output_type": "stream",
     "text": [
      "📨 Response received\n",
      "✅ Response text length: 5415\n"
     ]
    },
    {
     "name": "stderr",
     "output_type": "stream",
     "text": [
      "Generating emails:  45%|████▌     | 564/1250 [3:13:43<20:45:03, 108.90s/it]"
     ]
    },
    {
     "name": "stdout",
     "output_type": "stream",
     "text": [
      "📨 Response received\n",
      "✅ Response text length: 2487\n"
     ]
    },
    {
     "name": "stderr",
     "output_type": "stream",
     "text": [
      "Generating emails:  45%|████▌     | 565/1250 [3:13:55<15:12:49, 79.96s/it] "
     ]
    },
    {
     "name": "stdout",
     "output_type": "stream",
     "text": [
      "📨 Response received\n",
      "✅ Response text length: 1968\n"
     ]
    },
    {
     "name": "stderr",
     "output_type": "stream",
     "text": [
      "Generating emails:  45%|████▌     | 566/1250 [3:14:10<11:30:31, 60.57s/it]"
     ]
    },
    {
     "name": "stdout",
     "output_type": "stream",
     "text": [
      "📨 Response received\n",
      "✅ Response text length: 2436\n"
     ]
    },
    {
     "name": "stderr",
     "output_type": "stream",
     "text": [
      "Generating emails:  45%|████▌     | 567/1250 [3:14:17<8:26:45, 44.52s/it] "
     ]
    },
    {
     "name": "stdout",
     "output_type": "stream",
     "text": [
      "📨 Response received\n",
      "✅ Response text length: 698\n"
     ]
    },
    {
     "name": "stderr",
     "output_type": "stream",
     "text": [
      "Generating emails:  45%|████▌     | 568/1250 [3:14:29<6:34:23, 34.70s/it]"
     ]
    },
    {
     "name": "stdout",
     "output_type": "stream",
     "text": [
      "📨 Response received\n",
      "✅ Response text length: 2090\n"
     ]
    },
    {
     "name": "stderr",
     "output_type": "stream",
     "text": [
      "Generating emails:  46%|████▌     | 569/1250 [3:14:48<5:39:02, 29.87s/it]"
     ]
    },
    {
     "name": "stdout",
     "output_type": "stream",
     "text": [
      "📨 Response received\n",
      "❌ Failed at row 568: API response finish_reason: 2\n"
     ]
    },
    {
     "name": "stderr",
     "output_type": "stream",
     "text": [
      "Generating emails:  46%|████▌     | 570/1250 [3:15:04<4:51:46, 25.74s/it]"
     ]
    },
    {
     "name": "stdout",
     "output_type": "stream",
     "text": [
      "📨 Response received\n",
      "✅ Response text length: 4301\n"
     ]
    },
    {
     "name": "stderr",
     "output_type": "stream",
     "text": [
      "Generating emails:  46%|████▌     | 571/1250 [3:15:17<4:07:16, 21.85s/it]"
     ]
    },
    {
     "name": "stdout",
     "output_type": "stream",
     "text": [
      "📨 Response received\n",
      "✅ Response text length: 1327\n"
     ]
    },
    {
     "name": "stderr",
     "output_type": "stream",
     "text": [
      "Generating emails:  46%|████▌     | 572/1250 [3:15:29<3:35:11, 19.04s/it]"
     ]
    },
    {
     "name": "stdout",
     "output_type": "stream",
     "text": [
      "📨 Response received\n",
      "✅ Response text length: 3404\n"
     ]
    },
    {
     "name": "stderr",
     "output_type": "stream",
     "text": [
      "Generating emails:  46%|████▌     | 573/1250 [3:15:50<3:42:13, 19.69s/it]"
     ]
    },
    {
     "name": "stdout",
     "output_type": "stream",
     "text": [
      "📨 Response received\n",
      "❌ Failed at row 572: API response finish_reason: 2\n"
     ]
    },
    {
     "name": "stderr",
     "output_type": "stream",
     "text": [
      "Generating emails:  46%|████▌     | 574/1250 [3:15:56<2:55:33, 15.58s/it]"
     ]
    },
    {
     "name": "stdout",
     "output_type": "stream",
     "text": [
      "📨 Response received\n",
      "✅ Response text length: 601\n"
     ]
    },
    {
     "name": "stderr",
     "output_type": "stream",
     "text": [
      "Generating emails:  46%|████▌     | 575/1250 [3:16:07<2:38:52, 14.12s/it]"
     ]
    },
    {
     "name": "stdout",
     "output_type": "stream",
     "text": [
      "📨 Response received\n",
      "✅ Response text length: 2331\n"
     ]
    },
    {
     "name": "stderr",
     "output_type": "stream",
     "text": [
      "Generating emails:  46%|████▌     | 576/1250 [3:16:21<2:37:50, 14.05s/it]"
     ]
    },
    {
     "name": "stdout",
     "output_type": "stream",
     "text": [
      "📨 Response received\n",
      "✅ Response text length: 2347\n"
     ]
    },
    {
     "name": "stderr",
     "output_type": "stream",
     "text": [
      "Generating emails:  46%|████▌     | 577/1250 [3:16:33<2:31:51, 13.54s/it]"
     ]
    },
    {
     "name": "stdout",
     "output_type": "stream",
     "text": [
      "📨 Response received\n",
      "✅ Response text length: 1896\n"
     ]
    },
    {
     "name": "stderr",
     "output_type": "stream",
     "text": [
      "Generating emails:  46%|████▌     | 578/1250 [3:16:47<2:33:16, 13.69s/it]"
     ]
    },
    {
     "name": "stdout",
     "output_type": "stream",
     "text": [
      "📨 Response received\n",
      "✅ Response text length: 2856\n"
     ]
    },
    {
     "name": "stderr",
     "output_type": "stream",
     "text": [
      "Generating emails:  46%|████▋     | 579/1250 [3:17:04<2:43:58, 14.66s/it]"
     ]
    },
    {
     "name": "stdout",
     "output_type": "stream",
     "text": [
      "📨 Response received\n",
      "✅ Response text length: 2613\n"
     ]
    },
    {
     "name": "stderr",
     "output_type": "stream",
     "text": [
      "Generating emails:  46%|████▋     | 580/1250 [3:17:18<2:38:36, 14.20s/it]"
     ]
    },
    {
     "name": "stdout",
     "output_type": "stream",
     "text": [
      "📨 Response received\n",
      "✅ Response text length: 2118\n"
     ]
    },
    {
     "name": "stderr",
     "output_type": "stream",
     "text": [
      "Generating emails:  46%|████▋     | 581/1250 [3:17:29<2:30:05, 13.46s/it]"
     ]
    },
    {
     "name": "stdout",
     "output_type": "stream",
     "text": [
      "📨 Response received\n",
      "✅ Response text length: 2552\n"
     ]
    },
    {
     "name": "stderr",
     "output_type": "stream",
     "text": [
      "Generating emails:  47%|████▋     | 582/1250 [3:17:44<2:33:09, 13.76s/it]"
     ]
    },
    {
     "name": "stdout",
     "output_type": "stream",
     "text": [
      "📨 Response received\n",
      "✅ Response text length: 2455\n"
     ]
    },
    {
     "name": "stderr",
     "output_type": "stream",
     "text": [
      "Generating emails:  47%|████▋     | 583/1250 [3:17:57<2:31:37, 13.64s/it]"
     ]
    },
    {
     "name": "stdout",
     "output_type": "stream",
     "text": [
      "📨 Response received\n",
      "✅ Response text length: 3296\n"
     ]
    },
    {
     "name": "stderr",
     "output_type": "stream",
     "text": [
      "Generating emails:  47%|████▋     | 584/1250 [3:18:10<2:29:05, 13.43s/it]"
     ]
    },
    {
     "name": "stdout",
     "output_type": "stream",
     "text": [
      "📨 Response received\n",
      "✅ Response text length: 3926\n"
     ]
    },
    {
     "name": "stderr",
     "output_type": "stream",
     "text": [
      "Generating emails:  47%|████▋     | 585/1250 [3:18:21<2:21:02, 12.73s/it]"
     ]
    },
    {
     "name": "stdout",
     "output_type": "stream",
     "text": [
      "📨 Response received\n",
      "✅ Response text length: 2296\n"
     ]
    },
    {
     "name": "stderr",
     "output_type": "stream",
     "text": [
      "Generating emails:  47%|████▋     | 586/1250 [3:18:35<2:23:27, 12.96s/it]"
     ]
    },
    {
     "name": "stdout",
     "output_type": "stream",
     "text": [
      "📨 Response received\n",
      "✅ Response text length: 1938\n"
     ]
    },
    {
     "name": "stderr",
     "output_type": "stream",
     "text": [
      "Generating emails:  47%|████▋     | 587/1250 [3:18:50<2:29:55, 13.57s/it]"
     ]
    },
    {
     "name": "stdout",
     "output_type": "stream",
     "text": [
      "📨 Response received\n",
      "✅ Response text length: 2607\n"
     ]
    },
    {
     "name": "stderr",
     "output_type": "stream",
     "text": [
      "Generating emails:  47%|████▋     | 588/1250 [3:19:04<2:33:20, 13.90s/it]"
     ]
    },
    {
     "name": "stdout",
     "output_type": "stream",
     "text": [
      "📨 Response received\n",
      "✅ Response text length: 1742\n"
     ]
    },
    {
     "name": "stderr",
     "output_type": "stream",
     "text": [
      "Generating emails:  47%|████▋     | 589/1250 [3:19:23<2:49:10, 15.36s/it]"
     ]
    },
    {
     "name": "stdout",
     "output_type": "stream",
     "text": [
      "📨 Response received\n",
      "✅ Response text length: 2783\n"
     ]
    },
    {
     "name": "stderr",
     "output_type": "stream",
     "text": [
      "Generating emails:  47%|████▋     | 590/1250 [3:19:37<2:43:13, 14.84s/it]"
     ]
    },
    {
     "name": "stdout",
     "output_type": "stream",
     "text": [
      "📨 Response received\n",
      "✅ Response text length: 2010\n"
     ]
    },
    {
     "name": "stderr",
     "output_type": "stream",
     "text": [
      "Generating emails:  47%|████▋     | 591/1250 [3:19:52<2:44:19, 14.96s/it]"
     ]
    },
    {
     "name": "stdout",
     "output_type": "stream",
     "text": [
      "📨 Response received\n",
      "✅ Response text length: 2491\n"
     ]
    },
    {
     "name": "stderr",
     "output_type": "stream",
     "text": [
      "Generating emails:  47%|████▋     | 592/1250 [3:20:03<2:32:09, 13.87s/it]"
     ]
    },
    {
     "name": "stdout",
     "output_type": "stream",
     "text": [
      "📨 Response received\n",
      "✅ Response text length: 2645\n"
     ]
    },
    {
     "name": "stderr",
     "output_type": "stream",
     "text": [
      "Generating emails:  47%|████▋     | 593/1250 [3:20:19<2:37:37, 14.39s/it]"
     ]
    },
    {
     "name": "stdout",
     "output_type": "stream",
     "text": [
      "📨 Response received\n",
      "✅ Response text length: 1973\n"
     ]
    },
    {
     "name": "stderr",
     "output_type": "stream",
     "text": [
      "Generating emails:  48%|████▊     | 594/1250 [3:20:35<2:41:43, 14.79s/it]"
     ]
    },
    {
     "name": "stdout",
     "output_type": "stream",
     "text": [
      "📨 Response received\n",
      "✅ Response text length: 3384\n"
     ]
    },
    {
     "name": "stderr",
     "output_type": "stream",
     "text": [
      "Generating emails:  48%|████▊     | 595/1250 [3:20:50<2:44:54, 15.11s/it]"
     ]
    },
    {
     "name": "stdout",
     "output_type": "stream",
     "text": [
      "📨 Response received\n",
      "✅ Response text length: 3146\n"
     ]
    },
    {
     "name": "stderr",
     "output_type": "stream",
     "text": [
      "Generating emails:  48%|████▊     | 596/1250 [3:21:10<2:59:29, 16.47s/it]"
     ]
    },
    {
     "name": "stdout",
     "output_type": "stream",
     "text": [
      "📨 Response received\n",
      "❌ Failed at row 595: API response finish_reason: 2\n"
     ]
    },
    {
     "name": "stderr",
     "output_type": "stream",
     "text": [
      "Generating emails:  48%|████▊     | 597/1250 [3:21:22<2:45:47, 15.23s/it]"
     ]
    },
    {
     "name": "stdout",
     "output_type": "stream",
     "text": [
      "📨 Response received\n",
      "✅ Response text length: 2294\n"
     ]
    },
    {
     "name": "stderr",
     "output_type": "stream",
     "text": [
      "Generating emails:  48%|████▊     | 598/1250 [3:21:35<2:37:50, 14.53s/it]"
     ]
    },
    {
     "name": "stdout",
     "output_type": "stream",
     "text": [
      "📨 Response received\n",
      "✅ Response text length: 2214\n"
     ]
    },
    {
     "name": "stderr",
     "output_type": "stream",
     "text": [
      "Generating emails:  48%|████▊     | 599/1250 [3:21:49<2:36:04, 14.38s/it]"
     ]
    },
    {
     "name": "stdout",
     "output_type": "stream",
     "text": [
      "📨 Response received\n",
      "✅ Response text length: 2937\n"
     ]
    },
    {
     "name": "stderr",
     "output_type": "stream",
     "text": [
      "Generating emails:  48%|████▊     | 600/1250 [3:22:05<2:39:39, 14.74s/it]"
     ]
    },
    {
     "name": "stdout",
     "output_type": "stream",
     "text": [
      "📨 Response received\n",
      "✅ Response text length: 2063\n",
      "💾 Checkpoint saved at row 599\n"
     ]
    },
    {
     "name": "stderr",
     "output_type": "stream",
     "text": [
      "Generating emails:  48%|████▊     | 601/1250 [3:22:15<2:24:57, 13.40s/it]"
     ]
    },
    {
     "name": "stdout",
     "output_type": "stream",
     "text": [
      "📨 Response received\n",
      "✅ Response text length: 571\n"
     ]
    },
    {
     "name": "stderr",
     "output_type": "stream",
     "text": [
      "Generating emails:  48%|████▊     | 602/1250 [3:22:27<2:20:39, 13.02s/it]"
     ]
    },
    {
     "name": "stdout",
     "output_type": "stream",
     "text": [
      "📨 Response received\n",
      "✅ Response text length: 2614\n"
     ]
    },
    {
     "name": "stderr",
     "output_type": "stream",
     "text": [
      "Generating emails:  48%|████▊     | 603/1250 [3:22:40<2:18:06, 12.81s/it]"
     ]
    },
    {
     "name": "stdout",
     "output_type": "stream",
     "text": [
      "📨 Response received\n",
      "✅ Response text length: 2101\n"
     ]
    },
    {
     "name": "stderr",
     "output_type": "stream",
     "text": [
      "Generating emails:  48%|████▊     | 604/1250 [3:22:55<2:25:50, 13.55s/it]"
     ]
    },
    {
     "name": "stdout",
     "output_type": "stream",
     "text": [
      "📨 Response received\n",
      "✅ Response text length: 1769\n"
     ]
    },
    {
     "name": "stderr",
     "output_type": "stream",
     "text": [
      "Generating emails:  48%|████▊     | 605/1250 [3:23:05<2:13:34, 12.43s/it]"
     ]
    },
    {
     "name": "stdout",
     "output_type": "stream",
     "text": [
      "📨 Response received\n",
      "✅ Response text length: 2816\n"
     ]
    },
    {
     "name": "stderr",
     "output_type": "stream",
     "text": [
      "Generating emails:  48%|████▊     | 606/1250 [3:23:16<2:11:03, 12.21s/it]"
     ]
    },
    {
     "name": "stdout",
     "output_type": "stream",
     "text": [
      "📨 Response received\n",
      "✅ Response text length: 1431\n"
     ]
    },
    {
     "name": "stderr",
     "output_type": "stream",
     "text": [
      "Generating emails:  49%|████▊     | 607/1250 [3:23:30<2:14:32, 12.55s/it]"
     ]
    },
    {
     "name": "stdout",
     "output_type": "stream",
     "text": [
      "📨 Response received\n",
      "✅ Response text length: 1769\n"
     ]
    },
    {
     "name": "stderr",
     "output_type": "stream",
     "text": [
      "Generating emails:  49%|████▊     | 608/1250 [3:23:43<2:15:55, 12.70s/it]"
     ]
    },
    {
     "name": "stdout",
     "output_type": "stream",
     "text": [
      "📨 Response received\n",
      "✅ Response text length: 2775\n"
     ]
    },
    {
     "name": "stderr",
     "output_type": "stream",
     "text": [
      "Generating emails:  49%|████▊     | 609/1250 [3:23:55<2:14:47, 12.62s/it]"
     ]
    },
    {
     "name": "stdout",
     "output_type": "stream",
     "text": [
      "📨 Response received\n",
      "✅ Response text length: 2947\n"
     ]
    },
    {
     "name": "stderr",
     "output_type": "stream",
     "text": [
      "Generating emails:  49%|████▉     | 610/1250 [3:24:10<2:20:43, 13.19s/it]"
     ]
    },
    {
     "name": "stdout",
     "output_type": "stream",
     "text": [
      "📨 Response received\n",
      "✅ Response text length: 2579\n"
     ]
    },
    {
     "name": "stderr",
     "output_type": "stream",
     "text": [
      "Generating emails:  49%|████▉     | 611/1250 [3:24:16<1:57:13, 11.01s/it]"
     ]
    },
    {
     "name": "stdout",
     "output_type": "stream",
     "text": [
      "📨 Response received\n",
      "✅ Response text length: 680\n"
     ]
    },
    {
     "name": "stderr",
     "output_type": "stream",
     "text": [
      "Generating emails:  49%|████▉     | 612/1250 [3:24:32<2:12:38, 12.47s/it]"
     ]
    },
    {
     "name": "stdout",
     "output_type": "stream",
     "text": [
      "📨 Response received\n",
      "✅ Response text length: 2587\n"
     ]
    },
    {
     "name": "stderr",
     "output_type": "stream",
     "text": [
      "Generating emails:  49%|████▉     | 613/1250 [3:24:49<2:29:32, 14.08s/it]"
     ]
    },
    {
     "name": "stdout",
     "output_type": "stream",
     "text": [
      "📨 Response received\n",
      "✅ Response text length: 4320\n"
     ]
    },
    {
     "name": "stderr",
     "output_type": "stream",
     "text": [
      "Generating emails:  49%|████▉     | 614/1250 [3:25:03<2:27:06, 13.88s/it]"
     ]
    },
    {
     "name": "stdout",
     "output_type": "stream",
     "text": [
      "📨 Response received\n",
      "✅ Response text length: 2837\n"
     ]
    },
    {
     "name": "stderr",
     "output_type": "stream",
     "text": [
      "Generating emails:  49%|████▉     | 615/1250 [3:25:16<2:24:27, 13.65s/it]"
     ]
    },
    {
     "name": "stdout",
     "output_type": "stream",
     "text": [
      "📨 Response received\n",
      "✅ Response text length: 2955\n"
     ]
    },
    {
     "name": "stderr",
     "output_type": "stream",
     "text": [
      "Generating emails:  49%|████▉     | 616/1250 [3:25:27<2:17:24, 13.00s/it]"
     ]
    },
    {
     "name": "stdout",
     "output_type": "stream",
     "text": [
      "📨 Response received\n",
      "✅ Response text length: 1372\n"
     ]
    },
    {
     "name": "stderr",
     "output_type": "stream",
     "text": [
      "Generating emails:  49%|████▉     | 617/1250 [3:25:42<2:23:36, 13.61s/it]"
     ]
    },
    {
     "name": "stdout",
     "output_type": "stream",
     "text": [
      "📨 Response received\n",
      "✅ Response text length: 2168\n"
     ]
    },
    {
     "name": "stderr",
     "output_type": "stream",
     "text": [
      "Generating emails:  49%|████▉     | 618/1250 [3:25:54<2:15:41, 12.88s/it]"
     ]
    },
    {
     "name": "stdout",
     "output_type": "stream",
     "text": [
      "📨 Response received\n",
      "✅ Response text length: 2046\n"
     ]
    },
    {
     "name": "stderr",
     "output_type": "stream",
     "text": [
      "Generating emails:  50%|████▉     | 619/1250 [3:26:07<2:18:05, 13.13s/it]"
     ]
    },
    {
     "name": "stdout",
     "output_type": "stream",
     "text": [
      "📨 Response received\n",
      "✅ Response text length: 2563\n"
     ]
    },
    {
     "name": "stderr",
     "output_type": "stream",
     "text": [
      "Generating emails:  50%|████▉     | 620/1250 [3:26:22<2:23:05, 13.63s/it]"
     ]
    },
    {
     "name": "stdout",
     "output_type": "stream",
     "text": [
      "📨 Response received\n",
      "✅ Response text length: 2152\n"
     ]
    },
    {
     "name": "stderr",
     "output_type": "stream",
     "text": [
      "Generating emails:  50%|████▉     | 621/1250 [3:26:30<2:04:51, 11.91s/it]"
     ]
    },
    {
     "name": "stdout",
     "output_type": "stream",
     "text": [
      "📨 Response received\n",
      "✅ Response text length: 610\n"
     ]
    },
    {
     "name": "stderr",
     "output_type": "stream",
     "text": [
      "Generating emails:  50%|████▉     | 622/1250 [3:26:40<1:57:57, 11.27s/it]"
     ]
    },
    {
     "name": "stdout",
     "output_type": "stream",
     "text": [
      "📨 Response received\n",
      "✅ Response text length: 2181\n"
     ]
    },
    {
     "name": "stderr",
     "output_type": "stream",
     "text": [
      "Generating emails:  50%|████▉     | 623/1250 [3:26:55<2:10:04, 12.45s/it]"
     ]
    },
    {
     "name": "stdout",
     "output_type": "stream",
     "text": [
      "📨 Response received\n",
      "✅ Response text length: 1804\n"
     ]
    },
    {
     "name": "stderr",
     "output_type": "stream",
     "text": [
      "Generating emails:  50%|████▉     | 624/1250 [3:27:06<2:06:54, 12.16s/it]"
     ]
    },
    {
     "name": "stdout",
     "output_type": "stream",
     "text": [
      "📨 Response received\n",
      "✅ Response text length: 2068\n"
     ]
    },
    {
     "name": "stderr",
     "output_type": "stream",
     "text": [
      "Generating emails:  50%|█████     | 625/1250 [3:27:14<1:52:41, 10.82s/it]"
     ]
    },
    {
     "name": "stdout",
     "output_type": "stream",
     "text": [
      "📨 Response received\n",
      "✅ Response text length: 613\n"
     ]
    },
    {
     "name": "stderr",
     "output_type": "stream",
     "text": [
      "Generating emails:  50%|█████     | 626/1250 [3:27:27<1:59:56, 11.53s/it]"
     ]
    },
    {
     "name": "stdout",
     "output_type": "stream",
     "text": [
      "📨 Response received\n",
      "✅ Response text length: 2578\n"
     ]
    },
    {
     "name": "stderr",
     "output_type": "stream",
     "text": [
      "Generating emails:  50%|█████     | 627/1250 [3:27:39<1:59:34, 11.52s/it]"
     ]
    },
    {
     "name": "stdout",
     "output_type": "stream",
     "text": [
      "📨 Response received\n",
      "✅ Response text length: 2277\n"
     ]
    },
    {
     "name": "stderr",
     "output_type": "stream",
     "text": [
      "Generating emails:  50%|█████     | 628/1250 [3:27:52<2:03:33, 11.92s/it]"
     ]
    },
    {
     "name": "stdout",
     "output_type": "stream",
     "text": [
      "📨 Response received\n",
      "✅ Response text length: 3175\n"
     ]
    },
    {
     "name": "stderr",
     "output_type": "stream",
     "text": [
      "Generating emails:  50%|█████     | 629/1250 [3:28:10<2:23:45, 13.89s/it]"
     ]
    },
    {
     "name": "stdout",
     "output_type": "stream",
     "text": [
      "📨 Response received\n",
      "✅ Response text length: 2498\n"
     ]
    },
    {
     "name": "stderr",
     "output_type": "stream",
     "text": [
      "Generating emails:  50%|█████     | 630/1250 [3:28:25<2:26:03, 14.13s/it]"
     ]
    },
    {
     "name": "stdout",
     "output_type": "stream",
     "text": [
      "📨 Response received\n",
      "✅ Response text length: 2097\n"
     ]
    },
    {
     "name": "stderr",
     "output_type": "stream",
     "text": [
      "Generating emails:  50%|█████     | 631/1250 [3:28:32<2:03:07, 11.93s/it]"
     ]
    },
    {
     "name": "stdout",
     "output_type": "stream",
     "text": [
      "📨 Response received\n",
      "✅ Response text length: 458\n"
     ]
    },
    {
     "name": "stderr",
     "output_type": "stream",
     "text": [
      "Generating emails:  51%|█████     | 632/1250 [3:28:46<2:11:14, 12.74s/it]"
     ]
    },
    {
     "name": "stdout",
     "output_type": "stream",
     "text": [
      "📨 Response received\n",
      "✅ Response text length: 2788\n"
     ]
    },
    {
     "name": "stderr",
     "output_type": "stream",
     "text": [
      "Generating emails:  51%|█████     | 633/1250 [3:28:59<2:11:33, 12.79s/it]"
     ]
    },
    {
     "name": "stdout",
     "output_type": "stream",
     "text": [
      "📨 Response received\n",
      "✅ Response text length: 2249\n"
     ]
    },
    {
     "name": "stderr",
     "output_type": "stream",
     "text": [
      "Generating emails:  51%|█████     | 634/1250 [3:29:14<2:16:56, 13.34s/it]"
     ]
    },
    {
     "name": "stdout",
     "output_type": "stream",
     "text": [
      "📨 Response received\n",
      "✅ Response text length: 2107\n"
     ]
    },
    {
     "name": "stderr",
     "output_type": "stream",
     "text": [
      "Generating emails:  51%|█████     | 635/1250 [3:29:26<2:13:00, 12.98s/it]"
     ]
    },
    {
     "name": "stdout",
     "output_type": "stream",
     "text": [
      "📨 Response received\n",
      "✅ Response text length: 2207\n"
     ]
    },
    {
     "name": "stderr",
     "output_type": "stream",
     "text": [
      "Generating emails:  51%|█████     | 636/1250 [3:29:35<2:01:30, 11.87s/it]"
     ]
    },
    {
     "name": "stdout",
     "output_type": "stream",
     "text": [
      "📨 Response received\n",
      "✅ Response text length: 495\n"
     ]
    },
    {
     "name": "stderr",
     "output_type": "stream",
     "text": [
      "Generating emails:  51%|█████     | 637/1250 [3:29:48<2:03:46, 12.12s/it]"
     ]
    },
    {
     "name": "stdout",
     "output_type": "stream",
     "text": [
      "📨 Response received\n",
      "✅ Response text length: 2985\n"
     ]
    },
    {
     "name": "stderr",
     "output_type": "stream",
     "text": [
      "Generating emails:  51%|█████     | 638/1250 [3:30:03<2:12:19, 12.97s/it]"
     ]
    },
    {
     "name": "stdout",
     "output_type": "stream",
     "text": [
      "📨 Response received\n",
      "✅ Response text length: 4104\n"
     ]
    },
    {
     "name": "stderr",
     "output_type": "stream",
     "text": [
      "Generating emails:  51%|█████     | 639/1250 [3:30:18<2:19:14, 13.67s/it]"
     ]
    },
    {
     "name": "stdout",
     "output_type": "stream",
     "text": [
      "📨 Response received\n",
      "✅ Response text length: 2302\n"
     ]
    },
    {
     "name": "stderr",
     "output_type": "stream",
     "text": [
      "Generating emails:  51%|█████     | 640/1250 [3:30:28<2:06:36, 12.45s/it]"
     ]
    },
    {
     "name": "stdout",
     "output_type": "stream",
     "text": [
      "📨 Response received\n",
      "✅ Response text length: 1893\n"
     ]
    },
    {
     "name": "stderr",
     "output_type": "stream",
     "text": [
      "Generating emails:  51%|█████▏    | 641/1250 [3:30:39<2:03:39, 12.18s/it]"
     ]
    },
    {
     "name": "stdout",
     "output_type": "stream",
     "text": [
      "📨 Response received\n",
      "✅ Response text length: 1213\n"
     ]
    },
    {
     "name": "stderr",
     "output_type": "stream",
     "text": [
      "Generating emails:  51%|█████▏    | 642/1250 [3:30:53<2:08:53, 12.72s/it]"
     ]
    },
    {
     "name": "stdout",
     "output_type": "stream",
     "text": [
      "📨 Response received\n",
      "✅ Response text length: 2345\n"
     ]
    },
    {
     "name": "stderr",
     "output_type": "stream",
     "text": [
      "Generating emails:  51%|█████▏    | 643/1250 [3:31:06<2:08:39, 12.72s/it]"
     ]
    },
    {
     "name": "stdout",
     "output_type": "stream",
     "text": [
      "📨 Response received\n",
      "✅ Response text length: 2168\n"
     ]
    },
    {
     "name": "stderr",
     "output_type": "stream",
     "text": [
      "Generating emails:  52%|█████▏    | 644/1250 [3:31:19<2:08:02, 12.68s/it]"
     ]
    },
    {
     "name": "stdout",
     "output_type": "stream",
     "text": [
      "📨 Response received\n",
      "✅ Response text length: 2726\n"
     ]
    },
    {
     "name": "stderr",
     "output_type": "stream",
     "text": [
      "Generating emails:  52%|█████▏    | 645/1250 [3:31:27<1:53:26, 11.25s/it]"
     ]
    },
    {
     "name": "stdout",
     "output_type": "stream",
     "text": [
      "📨 Response received\n",
      "✅ Response text length: 375\n"
     ]
    },
    {
     "name": "stderr",
     "output_type": "stream",
     "text": [
      "Generating emails:  52%|█████▏    | 646/1250 [3:31:39<1:55:17, 11.45s/it]"
     ]
    },
    {
     "name": "stdout",
     "output_type": "stream",
     "text": [
      "📨 Response received\n",
      "✅ Response text length: 2232\n"
     ]
    },
    {
     "name": "stderr",
     "output_type": "stream",
     "text": [
      "Generating emails:  52%|█████▏    | 647/1250 [3:31:55<2:10:51, 13.02s/it]"
     ]
    },
    {
     "name": "stdout",
     "output_type": "stream",
     "text": [
      "📨 Response received\n",
      "✅ Response text length: 2915\n"
     ]
    },
    {
     "name": "stderr",
     "output_type": "stream",
     "text": [
      "Generating emails:  52%|█████▏    | 648/1250 [3:32:07<2:06:14, 12.58s/it]"
     ]
    },
    {
     "name": "stdout",
     "output_type": "stream",
     "text": [
      "📨 Response received\n",
      "✅ Response text length: 2331\n"
     ]
    },
    {
     "name": "stderr",
     "output_type": "stream",
     "text": [
      "Generating emails:  52%|█████▏    | 649/1250 [3:32:27<2:29:50, 14.96s/it]"
     ]
    },
    {
     "name": "stdout",
     "output_type": "stream",
     "text": [
      "📨 Response received\n",
      "❌ Failed at row 648: API response finish_reason: 2\n"
     ]
    },
    {
     "name": "stderr",
     "output_type": "stream",
     "text": [
      "Generating emails:  52%|█████▏    | 650/1250 [3:32:47<2:44:22, 16.44s/it]"
     ]
    },
    {
     "name": "stdout",
     "output_type": "stream",
     "text": [
      "📨 Response received\n",
      "❌ Failed at row 649: API response finish_reason: 2\n"
     ]
    },
    {
     "name": "stderr",
     "output_type": "stream",
     "text": [
      "Generating emails:  52%|█████▏    | 651/1250 [3:33:02<2:39:02, 15.93s/it]"
     ]
    },
    {
     "name": "stdout",
     "output_type": "stream",
     "text": [
      "📨 Response received\n",
      "✅ Response text length: 4429\n"
     ]
    },
    {
     "name": "stderr",
     "output_type": "stream",
     "text": [
      "Generating emails:  52%|█████▏    | 652/1250 [3:33:16<2:32:54, 15.34s/it]"
     ]
    },
    {
     "name": "stdout",
     "output_type": "stream",
     "text": [
      "📨 Response received\n",
      "✅ Response text length: 2295\n"
     ]
    },
    {
     "name": "stderr",
     "output_type": "stream",
     "text": [
      "Generating emails:  52%|█████▏    | 653/1250 [3:33:26<2:16:48, 13.75s/it]"
     ]
    },
    {
     "name": "stdout",
     "output_type": "stream",
     "text": [
      "📨 Response received\n",
      "✅ Response text length: 1978\n"
     ]
    },
    {
     "name": "stderr",
     "output_type": "stream",
     "text": [
      "Generating emails:  52%|█████▏    | 654/1250 [3:33:36<2:07:06, 12.80s/it]"
     ]
    },
    {
     "name": "stdout",
     "output_type": "stream",
     "text": [
      "📨 Response received\n",
      "✅ Response text length: 2180\n"
     ]
    },
    {
     "name": "stderr",
     "output_type": "stream",
     "text": [
      "Generating emails:  52%|█████▏    | 655/1250 [3:33:48<2:01:52, 12.29s/it]"
     ]
    },
    {
     "name": "stdout",
     "output_type": "stream",
     "text": [
      "📨 Response received\n",
      "✅ Response text length: 2355\n"
     ]
    },
    {
     "name": "stderr",
     "output_type": "stream",
     "text": [
      "Generating emails:  52%|█████▏    | 656/1250 [3:33:59<2:00:13, 12.14s/it]"
     ]
    },
    {
     "name": "stdout",
     "output_type": "stream",
     "text": [
      "📨 Response received\n",
      "✅ Response text length: 2411\n"
     ]
    },
    {
     "name": "stderr",
     "output_type": "stream",
     "text": [
      "Generating emails:  53%|█████▎    | 657/1250 [3:34:15<2:11:41, 13.33s/it]"
     ]
    },
    {
     "name": "stdout",
     "output_type": "stream",
     "text": [
      "📨 Response received\n",
      "✅ Response text length: 2499\n"
     ]
    },
    {
     "name": "stderr",
     "output_type": "stream",
     "text": [
      "Generating emails:  53%|█████▎    | 658/1250 [3:34:30<2:15:50, 13.77s/it]"
     ]
    },
    {
     "name": "stdout",
     "output_type": "stream",
     "text": [
      "📨 Response received\n",
      "✅ Response text length: 2110\n"
     ]
    },
    {
     "name": "stderr",
     "output_type": "stream",
     "text": [
      "Generating emails:  53%|█████▎    | 659/1250 [3:34:37<1:55:42, 11.75s/it]"
     ]
    },
    {
     "name": "stdout",
     "output_type": "stream",
     "text": [
      "📨 Response received\n",
      "✅ Response text length: 676\n"
     ]
    },
    {
     "name": "stderr",
     "output_type": "stream",
     "text": [
      "Generating emails:  53%|█████▎    | 660/1250 [3:34:51<2:01:07, 12.32s/it]"
     ]
    },
    {
     "name": "stdout",
     "output_type": "stream",
     "text": [
      "📨 Response received\n",
      "✅ Response text length: 2102\n"
     ]
    },
    {
     "name": "stderr",
     "output_type": "stream",
     "text": [
      "Generating emails:  53%|█████▎    | 661/1250 [3:35:04<2:02:45, 12.51s/it]"
     ]
    },
    {
     "name": "stdout",
     "output_type": "stream",
     "text": [
      "📨 Response received\n",
      "✅ Response text length: 2510\n"
     ]
    },
    {
     "name": "stderr",
     "output_type": "stream",
     "text": [
      "Generating emails:  53%|█████▎    | 662/1250 [3:35:18<2:08:29, 13.11s/it]"
     ]
    },
    {
     "name": "stdout",
     "output_type": "stream",
     "text": [
      "📨 Response received\n",
      "✅ Response text length: 2074\n"
     ]
    },
    {
     "name": "stderr",
     "output_type": "stream",
     "text": [
      "Generating emails:  53%|█████▎    | 663/1250 [3:35:28<1:58:03, 12.07s/it]"
     ]
    },
    {
     "name": "stdout",
     "output_type": "stream",
     "text": [
      "📨 Response received\n",
      "✅ Response text length: 456\n"
     ]
    },
    {
     "name": "stderr",
     "output_type": "stream",
     "text": [
      "Generating emails:  53%|█████▎    | 664/1250 [3:35:38<1:50:31, 11.32s/it]"
     ]
    },
    {
     "name": "stdout",
     "output_type": "stream",
     "text": [
      "📨 Response received\n",
      "✅ Response text length: 2257\n"
     ]
    },
    {
     "name": "stderr",
     "output_type": "stream",
     "text": [
      "Generating emails:  53%|█████▎    | 665/1250 [3:35:57<2:13:01, 13.64s/it]"
     ]
    },
    {
     "name": "stdout",
     "output_type": "stream",
     "text": [
      "📨 Response received\n",
      "❌ Failed at row 664: API response finish_reason: 2\n"
     ]
    },
    {
     "name": "stderr",
     "output_type": "stream",
     "text": [
      "Generating emails:  53%|█████▎    | 666/1250 [3:36:15<2:25:12, 14.92s/it]"
     ]
    },
    {
     "name": "stdout",
     "output_type": "stream",
     "text": [
      "📨 Response received\n",
      "✅ Response text length: 4226\n"
     ]
    },
    {
     "name": "stderr",
     "output_type": "stream",
     "text": [
      "Generating emails:  53%|█████▎    | 667/1250 [3:36:27<2:19:02, 14.31s/it]"
     ]
    },
    {
     "name": "stdout",
     "output_type": "stream",
     "text": [
      "📨 Response received\n",
      "✅ Response text length: 2161\n"
     ]
    },
    {
     "name": "stderr",
     "output_type": "stream",
     "text": [
      "Generating emails:  53%|█████▎    | 668/1250 [3:36:41<2:17:22, 14.16s/it]"
     ]
    },
    {
     "name": "stdout",
     "output_type": "stream",
     "text": [
      "📨 Response received\n",
      "✅ Response text length: 2753\n"
     ]
    },
    {
     "name": "stderr",
     "output_type": "stream",
     "text": [
      "Generating emails:  54%|█████▎    | 669/1250 [3:36:52<2:06:19, 13.05s/it]"
     ]
    },
    {
     "name": "stdout",
     "output_type": "stream",
     "text": [
      "📨 Response received\n",
      "✅ Response text length: 1285\n"
     ]
    },
    {
     "name": "stderr",
     "output_type": "stream",
     "text": [
      "Generating emails:  54%|█████▎    | 670/1250 [3:37:01<1:54:55, 11.89s/it]"
     ]
    },
    {
     "name": "stdout",
     "output_type": "stream",
     "text": [
      "📨 Response received\n",
      "✅ Response text length: 589\n"
     ]
    },
    {
     "name": "stderr",
     "output_type": "stream",
     "text": [
      "Generating emails:  54%|█████▎    | 671/1250 [3:37:12<1:52:22, 11.64s/it]"
     ]
    },
    {
     "name": "stdout",
     "output_type": "stream",
     "text": [
      "📨 Response received\n",
      "✅ Response text length: 721\n"
     ]
    },
    {
     "name": "stderr",
     "output_type": "stream",
     "text": [
      "Generating emails:  54%|█████▍    | 672/1250 [3:37:24<1:52:13, 11.65s/it]"
     ]
    },
    {
     "name": "stdout",
     "output_type": "stream",
     "text": [
      "📨 Response received\n",
      "✅ Response text length: 1800\n"
     ]
    },
    {
     "name": "stderr",
     "output_type": "stream",
     "text": [
      "Generating emails:  54%|█████▍    | 673/1250 [3:37:38<2:00:21, 12.52s/it]"
     ]
    },
    {
     "name": "stdout",
     "output_type": "stream",
     "text": [
      "📨 Response received\n",
      "✅ Response text length: 3034\n"
     ]
    },
    {
     "name": "stderr",
     "output_type": "stream",
     "text": [
      "Generating emails:  54%|█████▍    | 674/1250 [3:37:51<2:00:25, 12.54s/it]"
     ]
    },
    {
     "name": "stdout",
     "output_type": "stream",
     "text": [
      "📨 Response received\n",
      "✅ Response text length: 2428\n"
     ]
    },
    {
     "name": "stderr",
     "output_type": "stream",
     "text": [
      "Generating emails:  54%|█████▍    | 675/1250 [3:38:04<2:02:52, 12.82s/it]"
     ]
    },
    {
     "name": "stdout",
     "output_type": "stream",
     "text": [
      "📨 Response received\n",
      "✅ Response text length: 2177\n"
     ]
    },
    {
     "name": "stderr",
     "output_type": "stream",
     "text": [
      "Generating emails:  54%|█████▍    | 676/1250 [3:38:18<2:05:41, 13.14s/it]"
     ]
    },
    {
     "name": "stdout",
     "output_type": "stream",
     "text": [
      "📨 Response received\n",
      "✅ Response text length: 1744\n"
     ]
    },
    {
     "name": "stderr",
     "output_type": "stream",
     "text": [
      "Generating emails:  54%|█████▍    | 677/1250 [3:38:27<1:52:07, 11.74s/it]"
     ]
    },
    {
     "name": "stdout",
     "output_type": "stream",
     "text": [
      "📨 Response received\n",
      "✅ Response text length: 755\n"
     ]
    },
    {
     "name": "stderr",
     "output_type": "stream",
     "text": [
      "Generating emails:  54%|█████▍    | 678/1250 [3:38:38<1:52:05, 11.76s/it]"
     ]
    },
    {
     "name": "stdout",
     "output_type": "stream",
     "text": [
      "📨 Response received\n",
      "✅ Response text length: 2799\n"
     ]
    },
    {
     "name": "stderr",
     "output_type": "stream",
     "text": [
      "Generating emails:  54%|█████▍    | 679/1250 [3:38:51<1:55:10, 12.10s/it]"
     ]
    },
    {
     "name": "stdout",
     "output_type": "stream",
     "text": [
      "📨 Response received\n",
      "✅ Response text length: 2420\n"
     ]
    },
    {
     "name": "stderr",
     "output_type": "stream",
     "text": [
      "Generating emails:  54%|█████▍    | 680/1250 [3:39:05<2:00:34, 12.69s/it]"
     ]
    },
    {
     "name": "stdout",
     "output_type": "stream",
     "text": [
      "📨 Response received\n",
      "✅ Response text length: 2908\n"
     ]
    },
    {
     "name": "stderr",
     "output_type": "stream",
     "text": [
      "Generating emails:  54%|█████▍    | 681/1250 [3:39:20<2:05:48, 13.27s/it]"
     ]
    },
    {
     "name": "stdout",
     "output_type": "stream",
     "text": [
      "📨 Response received\n",
      "✅ Response text length: 2518\n"
     ]
    },
    {
     "name": "stderr",
     "output_type": "stream",
     "text": [
      "Generating emails:  55%|█████▍    | 682/1250 [3:39:32<2:02:54, 12.98s/it]"
     ]
    },
    {
     "name": "stdout",
     "output_type": "stream",
     "text": [
      "📨 Response received\n",
      "✅ Response text length: 2375\n"
     ]
    },
    {
     "name": "stderr",
     "output_type": "stream",
     "text": [
      "Generating emails:  55%|█████▍    | 683/1250 [3:39:47<2:07:31, 13.50s/it]"
     ]
    },
    {
     "name": "stdout",
     "output_type": "stream",
     "text": [
      "📨 Response received\n",
      "✅ Response text length: 1978\n"
     ]
    },
    {
     "name": "stderr",
     "output_type": "stream",
     "text": [
      "Generating emails:  55%|█████▍    | 684/1250 [3:39:58<1:58:59, 12.61s/it]"
     ]
    },
    {
     "name": "stdout",
     "output_type": "stream",
     "text": [
      "📨 Response received\n",
      "✅ Response text length: 690\n"
     ]
    },
    {
     "name": "stderr",
     "output_type": "stream",
     "text": [
      "Generating emails:  55%|█████▍    | 685/1250 [3:40:11<2:01:55, 12.95s/it]"
     ]
    },
    {
     "name": "stdout",
     "output_type": "stream",
     "text": [
      "📨 Response received\n",
      "✅ Response text length: 2752\n"
     ]
    },
    {
     "name": "stderr",
     "output_type": "stream",
     "text": [
      "Generating emails:  55%|█████▍    | 686/1250 [3:40:22<1:55:32, 12.29s/it]"
     ]
    },
    {
     "name": "stdout",
     "output_type": "stream",
     "text": [
      "📨 Response received\n",
      "✅ Response text length: 2304\n"
     ]
    },
    {
     "name": "stderr",
     "output_type": "stream",
     "text": [
      "Generating emails:  55%|█████▍    | 687/1250 [3:40:37<2:04:02, 13.22s/it]"
     ]
    },
    {
     "name": "stdout",
     "output_type": "stream",
     "text": [
      "📨 Response received\n",
      "✅ Response text length: 2298\n"
     ]
    },
    {
     "name": "stderr",
     "output_type": "stream",
     "text": [
      "Generating emails:  55%|█████▌    | 688/1250 [3:40:52<2:07:17, 13.59s/it]"
     ]
    },
    {
     "name": "stdout",
     "output_type": "stream",
     "text": [
      "📨 Response received\n",
      "✅ Response text length: 1905\n"
     ]
    },
    {
     "name": "stderr",
     "output_type": "stream",
     "text": [
      "Generating emails:  55%|█████▌    | 689/1250 [3:41:06<2:09:17, 13.83s/it]"
     ]
    },
    {
     "name": "stdout",
     "output_type": "stream",
     "text": [
      "📨 Response received\n",
      "✅ Response text length: 3839\n"
     ]
    },
    {
     "name": "stderr",
     "output_type": "stream",
     "text": [
      "Generating emails:  55%|█████▌    | 690/1250 [3:41:20<2:08:28, 13.77s/it]"
     ]
    },
    {
     "name": "stdout",
     "output_type": "stream",
     "text": [
      "📨 Response received\n",
      "✅ Response text length: 2539\n"
     ]
    },
    {
     "name": "stderr",
     "output_type": "stream",
     "text": [
      "Generating emails:  55%|█████▌    | 691/1250 [3:41:33<2:05:21, 13.45s/it]"
     ]
    },
    {
     "name": "stdout",
     "output_type": "stream",
     "text": [
      "📨 Response received\n",
      "✅ Response text length: 2166\n"
     ]
    },
    {
     "name": "stderr",
     "output_type": "stream",
     "text": [
      "Generating emails:  55%|█████▌    | 692/1250 [3:41:46<2:05:57, 13.54s/it]"
     ]
    },
    {
     "name": "stdout",
     "output_type": "stream",
     "text": [
      "📨 Response received\n",
      "✅ Response text length: 2216\n"
     ]
    },
    {
     "name": "stderr",
     "output_type": "stream",
     "text": [
      "Generating emails:  55%|█████▌    | 693/1250 [3:41:59<2:02:35, 13.21s/it]"
     ]
    },
    {
     "name": "stdout",
     "output_type": "stream",
     "text": [
      "📨 Response received\n",
      "✅ Response text length: 1194\n"
     ]
    },
    {
     "name": "stderr",
     "output_type": "stream",
     "text": [
      "Generating emails:  56%|█████▌    | 694/1250 [3:42:15<2:11:24, 14.18s/it]"
     ]
    },
    {
     "name": "stdout",
     "output_type": "stream",
     "text": [
      "📨 Response received\n",
      "✅ Response text length: 2656\n"
     ]
    },
    {
     "name": "stderr",
     "output_type": "stream",
     "text": [
      "Generating emails:  56%|█████▌    | 695/1250 [3:42:32<2:19:34, 15.09s/it]"
     ]
    },
    {
     "name": "stdout",
     "output_type": "stream",
     "text": [
      "📨 Response received\n",
      "✅ Response text length: 2595\n"
     ]
    },
    {
     "name": "stderr",
     "output_type": "stream",
     "text": [
      "Generating emails:  56%|█████▌    | 696/1250 [3:42:44<2:08:22, 13.90s/it]"
     ]
    },
    {
     "name": "stdout",
     "output_type": "stream",
     "text": [
      "📨 Response received\n",
      "✅ Response text length: 689\n"
     ]
    },
    {
     "name": "stderr",
     "output_type": "stream",
     "text": [
      "Generating emails:  56%|█████▌    | 697/1250 [3:42:59<2:11:54, 14.31s/it]"
     ]
    },
    {
     "name": "stdout",
     "output_type": "stream",
     "text": [
      "📨 Response received\n",
      "✅ Response text length: 4505\n"
     ]
    },
    {
     "name": "stderr",
     "output_type": "stream",
     "text": [
      "Generating emails:  56%|█████▌    | 698/1250 [3:43:07<1:55:30, 12.55s/it]"
     ]
    },
    {
     "name": "stdout",
     "output_type": "stream",
     "text": [
      "📨 Response received\n",
      "✅ Response text length: 1789\n"
     ]
    },
    {
     "name": "stderr",
     "output_type": "stream",
     "text": [
      "Generating emails:  56%|█████▌    | 699/1250 [3:43:15<1:42:08, 11.12s/it]"
     ]
    },
    {
     "name": "stdout",
     "output_type": "stream",
     "text": [
      "📨 Response received\n",
      "✅ Response text length: 658\n"
     ]
    },
    {
     "name": "stderr",
     "output_type": "stream",
     "text": [
      "Generating emails:  56%|█████▌    | 700/1250 [3:43:27<1:43:47, 11.32s/it]"
     ]
    },
    {
     "name": "stdout",
     "output_type": "stream",
     "text": [
      "📨 Response received\n",
      "✅ Response text length: 2523\n",
      "💾 Checkpoint saved at row 699\n"
     ]
    },
    {
     "name": "stderr",
     "output_type": "stream",
     "text": [
      "Generating emails:  56%|█████▌    | 701/1250 [3:43:44<1:59:37, 13.07s/it]"
     ]
    },
    {
     "name": "stdout",
     "output_type": "stream",
     "text": [
      "📨 Response received\n",
      "✅ Response text length: 2343\n"
     ]
    },
    {
     "name": "stderr",
     "output_type": "stream",
     "text": [
      "Generating emails:  56%|█████▌    | 702/1250 [3:44:00<2:08:17, 14.05s/it]"
     ]
    },
    {
     "name": "stdout",
     "output_type": "stream",
     "text": [
      "📨 Response received\n",
      "✅ Response text length: 2817\n"
     ]
    },
    {
     "name": "stderr",
     "output_type": "stream",
     "text": [
      "Generating emails:  56%|█████▌    | 703/1250 [3:44:13<2:04:10, 13.62s/it]"
     ]
    },
    {
     "name": "stdout",
     "output_type": "stream",
     "text": [
      "📨 Response received\n",
      "✅ Response text length: 2592\n"
     ]
    },
    {
     "name": "stderr",
     "output_type": "stream",
     "text": [
      "Generating emails:  56%|█████▋    | 704/1250 [3:44:26<2:02:45, 13.49s/it]"
     ]
    },
    {
     "name": "stdout",
     "output_type": "stream",
     "text": [
      "📨 Response received\n",
      "✅ Response text length: 2894\n"
     ]
    },
    {
     "name": "stderr",
     "output_type": "stream",
     "text": [
      "Generating emails:  56%|█████▋    | 705/1250 [3:44:33<1:44:25, 11.50s/it]"
     ]
    },
    {
     "name": "stdout",
     "output_type": "stream",
     "text": [
      "📨 Response received\n",
      "✅ Response text length: 389\n"
     ]
    },
    {
     "name": "stderr",
     "output_type": "stream",
     "text": [
      "Generating emails:  56%|█████▋    | 706/1250 [3:44:43<1:39:03, 10.92s/it]"
     ]
    },
    {
     "name": "stdout",
     "output_type": "stream",
     "text": [
      "📨 Response received\n",
      "✅ Response text length: 2247\n"
     ]
    },
    {
     "name": "stderr",
     "output_type": "stream",
     "text": [
      "Generating emails:  57%|█████▋    | 707/1250 [3:44:55<1:44:02, 11.50s/it]"
     ]
    },
    {
     "name": "stdout",
     "output_type": "stream",
     "text": [
      "📨 Response received\n",
      "✅ Response text length: 4639\n",
      "❌ Failed at row 706: Unterminated string starting at: line 3 column 17 (char 176)\n"
     ]
    },
    {
     "name": "stderr",
     "output_type": "stream",
     "text": [
      "Generating emails:  57%|█████▋    | 708/1250 [3:45:09<1:49:03, 12.07s/it]"
     ]
    },
    {
     "name": "stdout",
     "output_type": "stream",
     "text": [
      "📨 Response received\n",
      "✅ Response text length: 2295\n"
     ]
    },
    {
     "name": "stderr",
     "output_type": "stream",
     "text": [
      "Generating emails:  57%|█████▋    | 709/1250 [3:45:17<1:38:13, 10.89s/it]"
     ]
    },
    {
     "name": "stdout",
     "output_type": "stream",
     "text": [
      "📨 Response received\n",
      "✅ Response text length: 633\n"
     ]
    },
    {
     "name": "stderr",
     "output_type": "stream",
     "text": [
      "Generating emails:  57%|█████▋    | 710/1250 [3:45:29<1:41:58, 11.33s/it]"
     ]
    },
    {
     "name": "stdout",
     "output_type": "stream",
     "text": [
      "📨 Response received\n",
      "✅ Response text length: 1961\n"
     ]
    },
    {
     "name": "stderr",
     "output_type": "stream",
     "text": [
      "Generating emails:  57%|█████▋    | 711/1250 [3:45:40<1:40:54, 11.23s/it]"
     ]
    },
    {
     "name": "stdout",
     "output_type": "stream",
     "text": [
      "📨 Response received\n",
      "✅ Response text length: 3180\n"
     ]
    },
    {
     "name": "stderr",
     "output_type": "stream",
     "text": [
      "Generating emails:  57%|█████▋    | 712/1250 [3:45:53<1:45:05, 11.72s/it]"
     ]
    },
    {
     "name": "stdout",
     "output_type": "stream",
     "text": [
      "📨 Response received\n",
      "✅ Response text length: 4305\n",
      "❌ Failed at row 711: Unterminated string starting at: line 3 column 17 (char 141)\n"
     ]
    },
    {
     "name": "stderr",
     "output_type": "stream",
     "text": [
      "Generating emails:  57%|█████▋    | 713/1250 [3:46:00<1:32:53, 10.38s/it]"
     ]
    },
    {
     "name": "stdout",
     "output_type": "stream",
     "text": [
      "📨 Response received\n",
      "✅ Response text length: 665\n"
     ]
    },
    {
     "name": "stderr",
     "output_type": "stream",
     "text": [
      "Generating emails:  57%|█████▋    | 714/1250 [3:46:11<1:32:49, 10.39s/it]"
     ]
    },
    {
     "name": "stdout",
     "output_type": "stream",
     "text": [
      "📨 Response received\n",
      "✅ Response text length: 2115\n"
     ]
    },
    {
     "name": "stderr",
     "output_type": "stream",
     "text": [
      "Generating emails:  57%|█████▋    | 715/1250 [3:46:23<1:36:34, 10.83s/it]"
     ]
    },
    {
     "name": "stdout",
     "output_type": "stream",
     "text": [
      "📨 Response received\n",
      "✅ Response text length: 2536\n"
     ]
    },
    {
     "name": "stderr",
     "output_type": "stream",
     "text": [
      "Generating emails:  57%|█████▋    | 716/1250 [3:46:40<1:54:33, 12.87s/it]"
     ]
    },
    {
     "name": "stdout",
     "output_type": "stream",
     "text": [
      "📨 Response received\n",
      "✅ Response text length: 4758\n"
     ]
    },
    {
     "name": "stderr",
     "output_type": "stream",
     "text": [
      "Generating emails:  57%|█████▋    | 717/1250 [3:46:46<1:36:16, 10.84s/it]"
     ]
    },
    {
     "name": "stdout",
     "output_type": "stream",
     "text": [
      "📨 Response received\n",
      "✅ Response text length: 698\n"
     ]
    },
    {
     "name": "stderr",
     "output_type": "stream",
     "text": [
      "Generating emails:  57%|█████▋    | 718/1250 [3:47:00<1:43:46, 11.70s/it]"
     ]
    },
    {
     "name": "stdout",
     "output_type": "stream",
     "text": [
      "📨 Response received\n",
      "✅ Response text length: 2669\n"
     ]
    },
    {
     "name": "stderr",
     "output_type": "stream",
     "text": [
      "Generating emails:  58%|█████▊    | 719/1250 [3:47:17<1:56:01, 13.11s/it]"
     ]
    },
    {
     "name": "stdout",
     "output_type": "stream",
     "text": [
      "📨 Response received\n",
      "✅ Response text length: 2290\n"
     ]
    },
    {
     "name": "stderr",
     "output_type": "stream",
     "text": [
      "Generating emails:  58%|█████▊    | 720/1250 [3:47:31<1:58:04, 13.37s/it]"
     ]
    },
    {
     "name": "stdout",
     "output_type": "stream",
     "text": [
      "📨 Response received\n",
      "✅ Response text length: 2426\n"
     ]
    },
    {
     "name": "stderr",
     "output_type": "stream",
     "text": [
      "Generating emails:  58%|█████▊    | 721/1250 [3:47:43<1:55:14, 13.07s/it]"
     ]
    },
    {
     "name": "stdout",
     "output_type": "stream",
     "text": [
      "📨 Response received\n",
      "✅ Response text length: 2806\n"
     ]
    },
    {
     "name": "stderr",
     "output_type": "stream",
     "text": [
      "Generating emails:  58%|█████▊    | 722/1250 [3:47:54<1:49:22, 12.43s/it]"
     ]
    },
    {
     "name": "stdout",
     "output_type": "stream",
     "text": [
      "📨 Response received\n",
      "✅ Response text length: 2610\n"
     ]
    },
    {
     "name": "stderr",
     "output_type": "stream",
     "text": [
      "Generating emails:  58%|█████▊    | 723/1250 [3:48:06<1:48:21, 12.34s/it]"
     ]
    },
    {
     "name": "stdout",
     "output_type": "stream",
     "text": [
      "📨 Response received\n",
      "✅ Response text length: 1423\n"
     ]
    },
    {
     "name": "stderr",
     "output_type": "stream",
     "text": [
      "Generating emails:  58%|█████▊    | 724/1250 [3:48:23<2:00:31, 13.75s/it]"
     ]
    },
    {
     "name": "stdout",
     "output_type": "stream",
     "text": [
      "📨 Response received\n",
      "✅ Response text length: 3726\n"
     ]
    },
    {
     "name": "stderr",
     "output_type": "stream",
     "text": [
      "Generating emails:  58%|█████▊    | 725/1250 [3:48:32<1:48:50, 12.44s/it]"
     ]
    },
    {
     "name": "stdout",
     "output_type": "stream",
     "text": [
      "📨 Response received\n",
      "✅ Response text length: 633\n"
     ]
    },
    {
     "name": "stderr",
     "output_type": "stream",
     "text": [
      "Generating emails:  58%|█████▊    | 726/1250 [3:48:48<1:56:24, 13.33s/it]"
     ]
    },
    {
     "name": "stdout",
     "output_type": "stream",
     "text": [
      "📨 Response received\n",
      "✅ Response text length: 4686\n"
     ]
    },
    {
     "name": "stderr",
     "output_type": "stream",
     "text": [
      "Generating emails:  58%|█████▊    | 727/1250 [3:49:01<1:54:33, 13.14s/it]"
     ]
    },
    {
     "name": "stdout",
     "output_type": "stream",
     "text": [
      "📨 Response received\n",
      "✅ Response text length: 2384\n"
     ]
    },
    {
     "name": "stderr",
     "output_type": "stream",
     "text": [
      "Generating emails:  58%|█████▊    | 728/1250 [3:49:14<1:54:42, 13.18s/it]"
     ]
    },
    {
     "name": "stdout",
     "output_type": "stream",
     "text": [
      "📨 Response received\n",
      "✅ Response text length: 1897\n"
     ]
    },
    {
     "name": "stderr",
     "output_type": "stream",
     "text": [
      "Generating emails:  58%|█████▊    | 729/1250 [3:49:27<1:54:14, 13.16s/it]"
     ]
    },
    {
     "name": "stdout",
     "output_type": "stream",
     "text": [
      "📨 Response received\n",
      "✅ Response text length: 2470\n"
     ]
    },
    {
     "name": "stderr",
     "output_type": "stream",
     "text": [
      "Generating emails:  58%|█████▊    | 730/1250 [3:49:39<1:50:16, 12.72s/it]"
     ]
    },
    {
     "name": "stdout",
     "output_type": "stream",
     "text": [
      "📨 Response received\n",
      "✅ Response text length: 2356\n"
     ]
    },
    {
     "name": "stderr",
     "output_type": "stream",
     "text": [
      "Generating emails:  58%|█████▊    | 731/1250 [3:49:54<1:57:18, 13.56s/it]"
     ]
    },
    {
     "name": "stdout",
     "output_type": "stream",
     "text": [
      "📨 Response received\n",
      "✅ Response text length: 4576\n"
     ]
    },
    {
     "name": "stderr",
     "output_type": "stream",
     "text": [
      "Generating emails:  59%|█████▊    | 732/1250 [3:50:07<1:55:30, 13.38s/it]"
     ]
    },
    {
     "name": "stdout",
     "output_type": "stream",
     "text": [
      "📨 Response received\n",
      "✅ Response text length: 2203\n"
     ]
    },
    {
     "name": "stderr",
     "output_type": "stream",
     "text": [
      "Generating emails:  59%|█████▊    | 733/1250 [3:50:21<1:56:26, 13.51s/it]"
     ]
    },
    {
     "name": "stdout",
     "output_type": "stream",
     "text": [
      "📨 Response received\n",
      "✅ Response text length: 2049\n"
     ]
    },
    {
     "name": "stderr",
     "output_type": "stream",
     "text": [
      "Generating emails:  59%|█████▊    | 734/1250 [3:50:34<1:54:13, 13.28s/it]"
     ]
    },
    {
     "name": "stdout",
     "output_type": "stream",
     "text": [
      "📨 Response received\n",
      "✅ Response text length: 2465\n"
     ]
    },
    {
     "name": "stderr",
     "output_type": "stream",
     "text": [
      "Generating emails:  59%|█████▉    | 735/1250 [3:50:48<1:55:48, 13.49s/it]"
     ]
    },
    {
     "name": "stdout",
     "output_type": "stream",
     "text": [
      "📨 Response received\n",
      "✅ Response text length: 3129\n"
     ]
    },
    {
     "name": "stderr",
     "output_type": "stream",
     "text": [
      "Generating emails:  59%|█████▉    | 736/1250 [3:51:01<1:55:46, 13.51s/it]"
     ]
    },
    {
     "name": "stdout",
     "output_type": "stream",
     "text": [
      "📨 Response received\n",
      "✅ Response text length: 2472\n"
     ]
    },
    {
     "name": "stderr",
     "output_type": "stream",
     "text": [
      "Generating emails:  59%|█████▉    | 737/1250 [3:51:13<1:51:40, 13.06s/it]"
     ]
    },
    {
     "name": "stdout",
     "output_type": "stream",
     "text": [
      "📨 Response received\n",
      "✅ Response text length: 1635\n"
     ]
    },
    {
     "name": "stderr",
     "output_type": "stream",
     "text": [
      "Generating emails:  59%|█████▉    | 738/1250 [3:51:24<1:44:52, 12.29s/it]"
     ]
    },
    {
     "name": "stdout",
     "output_type": "stream",
     "text": [
      "📨 Response received\n",
      "✅ Response text length: 2296\n"
     ]
    },
    {
     "name": "stderr",
     "output_type": "stream",
     "text": [
      "Generating emails:  59%|█████▉    | 739/1250 [3:51:37<1:46:08, 12.46s/it]"
     ]
    },
    {
     "name": "stdout",
     "output_type": "stream",
     "text": [
      "📨 Response received\n",
      "✅ Response text length: 1692\n"
     ]
    },
    {
     "name": "stderr",
     "output_type": "stream",
     "text": [
      "Generating emails:  59%|█████▉    | 740/1250 [3:51:55<2:01:03, 14.24s/it]"
     ]
    },
    {
     "name": "stdout",
     "output_type": "stream",
     "text": [
      "📨 Response received\n",
      "✅ Response text length: 5535\n"
     ]
    },
    {
     "name": "stderr",
     "output_type": "stream",
     "text": [
      "Generating emails:  59%|█████▉    | 741/1250 [3:52:11<2:04:47, 14.71s/it]"
     ]
    },
    {
     "name": "stdout",
     "output_type": "stream",
     "text": [
      "📨 Response received\n",
      "✅ Response text length: 4973\n"
     ]
    },
    {
     "name": "stderr",
     "output_type": "stream",
     "text": [
      "Generating emails:  59%|█████▉    | 742/1250 [3:52:29<2:13:17, 15.74s/it]"
     ]
    },
    {
     "name": "stdout",
     "output_type": "stream",
     "text": [
      "📨 Response received\n",
      "✅ Response text length: 2362\n"
     ]
    },
    {
     "name": "stderr",
     "output_type": "stream",
     "text": [
      "Generating emails:  59%|█████▉    | 743/1250 [3:52:43<2:08:38, 15.22s/it]"
     ]
    },
    {
     "name": "stdout",
     "output_type": "stream",
     "text": [
      "📨 Response received\n",
      "✅ Response text length: 2669\n"
     ]
    },
    {
     "name": "stderr",
     "output_type": "stream",
     "text": [
      "Generating emails:  60%|█████▉    | 744/1250 [3:52:59<2:10:35, 15.49s/it]"
     ]
    },
    {
     "name": "stdout",
     "output_type": "stream",
     "text": [
      "📨 Response received\n",
      "✅ Response text length: 2522\n"
     ]
    },
    {
     "name": "stderr",
     "output_type": "stream",
     "text": [
      "Generating emails:  60%|█████▉    | 745/1250 [3:53:11<2:02:12, 14.52s/it]"
     ]
    },
    {
     "name": "stdout",
     "output_type": "stream",
     "text": [
      "📨 Response received\n",
      "✅ Response text length: 2845\n"
     ]
    },
    {
     "name": "stderr",
     "output_type": "stream",
     "text": [
      "Generating emails:  60%|█████▉    | 746/1250 [3:53:24<1:56:28, 13.87s/it]"
     ]
    },
    {
     "name": "stdout",
     "output_type": "stream",
     "text": [
      "📨 Response received\n",
      "✅ Response text length: 1998\n"
     ]
    },
    {
     "name": "stderr",
     "output_type": "stream",
     "text": [
      "Generating emails:  60%|█████▉    | 747/1250 [3:53:39<2:00:12, 14.34s/it]"
     ]
    },
    {
     "name": "stdout",
     "output_type": "stream",
     "text": [
      "📨 Response received\n",
      "✅ Response text length: 2171\n"
     ]
    },
    {
     "name": "stderr",
     "output_type": "stream",
     "text": [
      "Generating emails:  60%|█████▉    | 748/1250 [3:53:51<1:52:48, 13.48s/it]"
     ]
    },
    {
     "name": "stdout",
     "output_type": "stream",
     "text": [
      "📨 Response received\n",
      "✅ Response text length: 2752\n"
     ]
    },
    {
     "name": "stderr",
     "output_type": "stream",
     "text": [
      "Generating emails:  60%|█████▉    | 749/1250 [3:54:05<1:55:10, 13.79s/it]"
     ]
    },
    {
     "name": "stdout",
     "output_type": "stream",
     "text": [
      "📨 Response received\n",
      "✅ Response text length: 1728\n"
     ]
    },
    {
     "name": "stderr",
     "output_type": "stream",
     "text": [
      "Generating emails:  60%|██████    | 750/1250 [3:54:22<2:02:47, 14.73s/it]"
     ]
    },
    {
     "name": "stdout",
     "output_type": "stream",
     "text": [
      "📨 Response received\n",
      "✅ Response text length: 3025\n",
      "💾 Checkpoint saved at row 749\n"
     ]
    },
    {
     "name": "stderr",
     "output_type": "stream",
     "text": [
      "Generating emails:  60%|██████    | 751/1250 [3:54:32<1:51:13, 13.37s/it]"
     ]
    },
    {
     "name": "stdout",
     "output_type": "stream",
     "text": [
      "📨 Response received\n",
      "✅ Response text length: 2464\n"
     ]
    },
    {
     "name": "stderr",
     "output_type": "stream",
     "text": [
      "Generating emails:  60%|██████    | 752/1250 [3:54:43<1:43:58, 12.53s/it]"
     ]
    },
    {
     "name": "stdout",
     "output_type": "stream",
     "text": [
      "📨 Response received\n",
      "✅ Response text length: 2470\n"
     ]
    },
    {
     "name": "stderr",
     "output_type": "stream",
     "text": [
      "Generating emails:  60%|██████    | 753/1250 [3:54:54<1:39:54, 12.06s/it]"
     ]
    },
    {
     "name": "stdout",
     "output_type": "stream",
     "text": [
      "📨 Response received\n",
      "✅ Response text length: 819\n"
     ]
    },
    {
     "name": "stderr",
     "output_type": "stream",
     "text": [
      "Generating emails:  60%|██████    | 754/1250 [3:55:08<1:45:40, 12.78s/it]"
     ]
    },
    {
     "name": "stdout",
     "output_type": "stream",
     "text": [
      "📨 Response received\n",
      "✅ Response text length: 2919\n"
     ]
    },
    {
     "name": "stderr",
     "output_type": "stream",
     "text": [
      "Generating emails:  60%|██████    | 755/1250 [3:55:27<1:59:16, 14.46s/it]"
     ]
    },
    {
     "name": "stdout",
     "output_type": "stream",
     "text": [
      "📨 Response received\n",
      "✅ Response text length: 2256\n"
     ]
    },
    {
     "name": "stderr",
     "output_type": "stream",
     "text": [
      "Generating emails:  60%|██████    | 756/1250 [3:55:42<2:01:52, 14.80s/it]"
     ]
    },
    {
     "name": "stdout",
     "output_type": "stream",
     "text": [
      "📨 Response received\n",
      "✅ Response text length: 4823\n"
     ]
    },
    {
     "name": "stderr",
     "output_type": "stream",
     "text": [
      "Generating emails:  61%|██████    | 757/1250 [3:55:57<2:01:06, 14.74s/it]"
     ]
    },
    {
     "name": "stdout",
     "output_type": "stream",
     "text": [
      "📨 Response received\n",
      "✅ Response text length: 1775\n"
     ]
    },
    {
     "name": "stderr",
     "output_type": "stream",
     "text": [
      "Generating emails:  61%|██████    | 758/1250 [3:56:13<2:04:26, 15.18s/it]"
     ]
    },
    {
     "name": "stdout",
     "output_type": "stream",
     "text": [
      "📨 Response received\n",
      "✅ Response text length: 3083\n"
     ]
    },
    {
     "name": "stderr",
     "output_type": "stream",
     "text": [
      "Generating emails:  61%|██████    | 759/1250 [3:56:25<1:57:44, 14.39s/it]"
     ]
    },
    {
     "name": "stdout",
     "output_type": "stream",
     "text": [
      "📨 Response received\n",
      "✅ Response text length: 1977\n"
     ]
    },
    {
     "name": "stderr",
     "output_type": "stream",
     "text": [
      "Generating emails:  61%|██████    | 760/1250 [3:56:43<2:04:49, 15.29s/it]"
     ]
    },
    {
     "name": "stdout",
     "output_type": "stream",
     "text": [
      "📨 Response received\n",
      "✅ Response text length: 2540\n"
     ]
    },
    {
     "name": "stderr",
     "output_type": "stream",
     "text": [
      "Generating emails:  61%|██████    | 761/1250 [3:56:55<1:57:44, 14.45s/it]"
     ]
    },
    {
     "name": "stdout",
     "output_type": "stream",
     "text": [
      "📨 Response received\n",
      "✅ Response text length: 1437\n"
     ]
    },
    {
     "name": "stderr",
     "output_type": "stream",
     "text": [
      "Generating emails:  61%|██████    | 762/1250 [3:57:04<1:42:56, 12.66s/it]"
     ]
    },
    {
     "name": "stdout",
     "output_type": "stream",
     "text": [
      "📨 Response received\n",
      "✅ Response text length: 452\n"
     ]
    },
    {
     "name": "stderr",
     "output_type": "stream",
     "text": [
      "Generating emails:  61%|██████    | 763/1250 [3:57:15<1:38:25, 12.13s/it]"
     ]
    },
    {
     "name": "stdout",
     "output_type": "stream",
     "text": [
      "📨 Response received\n",
      "✅ Response text length: 2427\n"
     ]
    },
    {
     "name": "stderr",
     "output_type": "stream",
     "text": [
      "Generating emails:  61%|██████    | 764/1250 [3:57:29<1:44:24, 12.89s/it]"
     ]
    },
    {
     "name": "stdout",
     "output_type": "stream",
     "text": [
      "📨 Response received\n",
      "✅ Response text length: 2021\n"
     ]
    },
    {
     "name": "stderr",
     "output_type": "stream",
     "text": [
      "Generating emails:  61%|██████    | 765/1250 [3:57:44<1:48:58, 13.48s/it]"
     ]
    },
    {
     "name": "stdout",
     "output_type": "stream",
     "text": [
      "📨 Response received\n",
      "✅ Response text length: 2790\n"
     ]
    },
    {
     "name": "stderr",
     "output_type": "stream",
     "text": [
      "Generating emails:  61%|██████▏   | 766/1250 [3:57:54<1:40:50, 12.50s/it]"
     ]
    },
    {
     "name": "stdout",
     "output_type": "stream",
     "text": [
      "📨 Response received\n",
      "✅ Response text length: 1765\n"
     ]
    },
    {
     "name": "stderr",
     "output_type": "stream",
     "text": [
      "Generating emails:  61%|██████▏   | 767/1250 [3:58:07<1:40:07, 12.44s/it]"
     ]
    },
    {
     "name": "stdout",
     "output_type": "stream",
     "text": [
      "📨 Response received\n",
      "✅ Response text length: 4091\n"
     ]
    },
    {
     "name": "stderr",
     "output_type": "stream",
     "text": [
      "Generating emails:  61%|██████▏   | 768/1250 [3:58:18<1:36:33, 12.02s/it]"
     ]
    },
    {
     "name": "stdout",
     "output_type": "stream",
     "text": [
      "📨 Response received\n",
      "✅ Response text length: 2137\n"
     ]
    },
    {
     "name": "stderr",
     "output_type": "stream",
     "text": [
      "Generating emails:  62%|██████▏   | 769/1250 [3:58:31<1:40:17, 12.51s/it]"
     ]
    },
    {
     "name": "stdout",
     "output_type": "stream",
     "text": [
      "📨 Response received\n",
      "✅ Response text length: 2685\n"
     ]
    },
    {
     "name": "stderr",
     "output_type": "stream",
     "text": [
      "Generating emails:  62%|██████▏   | 770/1250 [3:58:43<1:38:11, 12.27s/it]"
     ]
    },
    {
     "name": "stdout",
     "output_type": "stream",
     "text": [
      "📨 Response received\n",
      "✅ Response text length: 2801\n"
     ]
    },
    {
     "name": "stderr",
     "output_type": "stream",
     "text": [
      "Generating emails:  62%|██████▏   | 771/1250 [3:58:55<1:37:40, 12.23s/it]"
     ]
    },
    {
     "name": "stdout",
     "output_type": "stream",
     "text": [
      "📨 Response received\n",
      "✅ Response text length: 2814\n"
     ]
    },
    {
     "name": "stderr",
     "output_type": "stream",
     "text": [
      "Generating emails:  62%|██████▏   | 772/1250 [3:59:04<1:29:52, 11.28s/it]"
     ]
    },
    {
     "name": "stdout",
     "output_type": "stream",
     "text": [
      "📨 Response received\n",
      "✅ Response text length: 622\n"
     ]
    },
    {
     "name": "stderr",
     "output_type": "stream",
     "text": [
      "Generating emails:  62%|██████▏   | 773/1250 [3:59:21<1:43:34, 13.03s/it]"
     ]
    },
    {
     "name": "stdout",
     "output_type": "stream",
     "text": [
      "📨 Response received\n",
      "✅ Response text length: 2264\n"
     ]
    },
    {
     "name": "stderr",
     "output_type": "stream",
     "text": [
      "Generating emails:  62%|██████▏   | 774/1250 [3:59:37<1:48:19, 13.66s/it]"
     ]
    },
    {
     "name": "stdout",
     "output_type": "stream",
     "text": [
      "📨 Response received\n",
      "✅ Response text length: 2378\n"
     ]
    },
    {
     "name": "stderr",
     "output_type": "stream",
     "text": [
      "Generating emails:  62%|██████▏   | 775/1250 [3:59:48<1:43:39, 13.09s/it]"
     ]
    },
    {
     "name": "stdout",
     "output_type": "stream",
     "text": [
      "📨 Response received\n",
      "✅ Response text length: 2294\n"
     ]
    },
    {
     "name": "stderr",
     "output_type": "stream",
     "text": [
      "Generating emails:  62%|██████▏   | 776/1250 [3:59:58<1:35:21, 12.07s/it]"
     ]
    },
    {
     "name": "stdout",
     "output_type": "stream",
     "text": [
      "📨 Response received\n",
      "✅ Response text length: 348\n"
     ]
    },
    {
     "name": "stderr",
     "output_type": "stream",
     "text": [
      "Generating emails:  62%|██████▏   | 777/1250 [4:00:11<1:37:00, 12.31s/it]"
     ]
    },
    {
     "name": "stdout",
     "output_type": "stream",
     "text": [
      "📨 Response received\n",
      "✅ Response text length: 2447\n"
     ]
    },
    {
     "name": "stderr",
     "output_type": "stream",
     "text": [
      "Generating emails:  62%|██████▏   | 778/1250 [4:00:27<1:45:16, 13.38s/it]"
     ]
    },
    {
     "name": "stdout",
     "output_type": "stream",
     "text": [
      "📨 Response received\n",
      "✅ Response text length: 3053\n"
     ]
    },
    {
     "name": "stderr",
     "output_type": "stream",
     "text": [
      "Generating emails:  62%|██████▏   | 779/1250 [4:00:33<1:26:59, 11.08s/it]"
     ]
    },
    {
     "name": "stdout",
     "output_type": "stream",
     "text": [
      "📨 Response received\n",
      "✅ Response text length: 580\n"
     ]
    },
    {
     "name": "stderr",
     "output_type": "stream",
     "text": [
      "Generating emails:  62%|██████▏   | 780/1250 [4:00:44<1:27:40, 11.19s/it]"
     ]
    },
    {
     "name": "stdout",
     "output_type": "stream",
     "text": [
      "📨 Response received\n",
      "✅ Response text length: 2507\n"
     ]
    },
    {
     "name": "stderr",
     "output_type": "stream",
     "text": [
      "Generating emails:  62%|██████▏   | 781/1250 [4:00:56<1:28:25, 11.31s/it]"
     ]
    },
    {
     "name": "stdout",
     "output_type": "stream",
     "text": [
      "📨 Response received\n",
      "✅ Response text length: 2267\n"
     ]
    },
    {
     "name": "stderr",
     "output_type": "stream",
     "text": [
      "Generating emails:  63%|██████▎   | 782/1250 [4:01:07<1:27:48, 11.26s/it]"
     ]
    },
    {
     "name": "stdout",
     "output_type": "stream",
     "text": [
      "📨 Response received\n",
      "✅ Response text length: 2451\n"
     ]
    },
    {
     "name": "stderr",
     "output_type": "stream",
     "text": [
      "Generating emails:  63%|██████▎   | 783/1250 [4:01:21<1:34:36, 12.15s/it]"
     ]
    },
    {
     "name": "stdout",
     "output_type": "stream",
     "text": [
      "📨 Response received\n",
      "✅ Response text length: 2255\n"
     ]
    },
    {
     "name": "stderr",
     "output_type": "stream",
     "text": [
      "Generating emails:  63%|██████▎   | 784/1250 [4:01:36<1:41:03, 13.01s/it]"
     ]
    },
    {
     "name": "stdout",
     "output_type": "stream",
     "text": [
      "📨 Response received\n",
      "✅ Response text length: 3071\n"
     ]
    },
    {
     "name": "stderr",
     "output_type": "stream",
     "text": [
      "Generating emails:  63%|██████▎   | 785/1250 [4:01:48<1:37:39, 12.60s/it]"
     ]
    },
    {
     "name": "stdout",
     "output_type": "stream",
     "text": [
      "📨 Response received\n",
      "✅ Response text length: 2291\n"
     ]
    },
    {
     "name": "stderr",
     "output_type": "stream",
     "text": [
      "Generating emails:  63%|██████▎   | 786/1250 [4:02:02<1:41:36, 13.14s/it]"
     ]
    },
    {
     "name": "stdout",
     "output_type": "stream",
     "text": [
      "📨 Response received\n",
      "✅ Response text length: 2670\n"
     ]
    },
    {
     "name": "stderr",
     "output_type": "stream",
     "text": [
      "Generating emails:  63%|██████▎   | 787/1250 [4:02:14<1:37:48, 12.67s/it]"
     ]
    },
    {
     "name": "stdout",
     "output_type": "stream",
     "text": [
      "📨 Response received\n",
      "✅ Response text length: 1966\n"
     ]
    },
    {
     "name": "stderr",
     "output_type": "stream",
     "text": [
      "Generating emails:  63%|██████▎   | 788/1250 [4:02:24<1:33:26, 12.14s/it]"
     ]
    },
    {
     "name": "stdout",
     "output_type": "stream",
     "text": [
      "📨 Response received\n",
      "✅ Response text length: 1612\n"
     ]
    },
    {
     "name": "stderr",
     "output_type": "stream",
     "text": [
      "Generating emails:  63%|██████▎   | 789/1250 [4:02:35<1:28:50, 11.56s/it]"
     ]
    },
    {
     "name": "stdout",
     "output_type": "stream",
     "text": [
      "📨 Response received\n",
      "✅ Response text length: 307\n"
     ]
    },
    {
     "name": "stderr",
     "output_type": "stream",
     "text": [
      "Generating emails:  63%|██████▎   | 790/1250 [4:02:51<1:38:33, 12.85s/it]"
     ]
    },
    {
     "name": "stdout",
     "output_type": "stream",
     "text": [
      "📨 Response received\n",
      "✅ Response text length: 2680\n"
     ]
    },
    {
     "name": "stderr",
     "output_type": "stream",
     "text": [
      "Generating emails:  63%|██████▎   | 791/1250 [4:03:03<1:38:13, 12.84s/it]"
     ]
    },
    {
     "name": "stdout",
     "output_type": "stream",
     "text": [
      "📨 Response received\n",
      "✅ Response text length: 2796\n"
     ]
    },
    {
     "name": "stderr",
     "output_type": "stream",
     "text": [
      "Generating emails:  63%|██████▎   | 792/1250 [4:03:15<1:34:42, 12.41s/it]"
     ]
    },
    {
     "name": "stdout",
     "output_type": "stream",
     "text": [
      "📨 Response received\n",
      "✅ Response text length: 2642\n"
     ]
    },
    {
     "name": "stderr",
     "output_type": "stream",
     "text": [
      "Generating emails:  63%|██████▎   | 793/1250 [4:03:27<1:34:39, 12.43s/it]"
     ]
    },
    {
     "name": "stdout",
     "output_type": "stream",
     "text": [
      "📨 Response received\n",
      "✅ Response text length: 2764\n"
     ]
    },
    {
     "name": "stderr",
     "output_type": "stream",
     "text": [
      "Generating emails:  64%|██████▎   | 794/1250 [4:03:40<1:34:47, 12.47s/it]"
     ]
    },
    {
     "name": "stdout",
     "output_type": "stream",
     "text": [
      "📨 Response received\n",
      "✅ Response text length: 1380\n"
     ]
    },
    {
     "name": "stderr",
     "output_type": "stream",
     "text": [
      "Generating emails:  64%|██████▎   | 795/1250 [4:03:56<1:43:00, 13.58s/it]"
     ]
    },
    {
     "name": "stdout",
     "output_type": "stream",
     "text": [
      "📨 Response received\n",
      "✅ Response text length: 2467\n"
     ]
    },
    {
     "name": "stderr",
     "output_type": "stream",
     "text": [
      "Generating emails:  64%|██████▎   | 796/1250 [4:04:14<1:53:45, 15.03s/it]"
     ]
    },
    {
     "name": "stdout",
     "output_type": "stream",
     "text": [
      "📨 Response received\n",
      "✅ Response text length: 1665\n"
     ]
    },
    {
     "name": "stderr",
     "output_type": "stream",
     "text": [
      "Generating emails:  64%|██████▍   | 797/1250 [4:04:30<1:54:07, 15.12s/it]"
     ]
    },
    {
     "name": "stdout",
     "output_type": "stream",
     "text": [
      "📨 Response received\n",
      "✅ Response text length: 2504\n"
     ]
    },
    {
     "name": "stderr",
     "output_type": "stream",
     "text": [
      "Generating emails:  64%|██████▍   | 798/1250 [4:04:42<1:46:40, 14.16s/it]"
     ]
    },
    {
     "name": "stdout",
     "output_type": "stream",
     "text": [
      "📨 Response received\n",
      "✅ Response text length: 2262\n"
     ]
    },
    {
     "name": "stderr",
     "output_type": "stream",
     "text": [
      "Generating emails:  64%|██████▍   | 799/1250 [4:04:54<1:41:50, 13.55s/it]"
     ]
    },
    {
     "name": "stdout",
     "output_type": "stream",
     "text": [
      "📨 Response received\n",
      "✅ Response text length: 1952\n"
     ]
    },
    {
     "name": "stderr",
     "output_type": "stream",
     "text": [
      "Generating emails:  64%|██████▍   | 800/1250 [4:05:06<1:38:00, 13.07s/it]"
     ]
    },
    {
     "name": "stdout",
     "output_type": "stream",
     "text": [
      "📨 Response received\n",
      "✅ Response text length: 2709\n",
      "💾 Checkpoint saved at row 799\n"
     ]
    },
    {
     "name": "stderr",
     "output_type": "stream",
     "text": [
      "Generating emails:  64%|██████▍   | 801/1250 [4:05:23<1:46:56, 14.29s/it]"
     ]
    },
    {
     "name": "stdout",
     "output_type": "stream",
     "text": [
      "📨 Response received\n",
      "✅ Response text length: 2998\n"
     ]
    },
    {
     "name": "stderr",
     "output_type": "stream",
     "text": [
      "Generating emails:  64%|██████▍   | 802/1250 [4:05:41<1:54:43, 15.36s/it]"
     ]
    },
    {
     "name": "stdout",
     "output_type": "stream",
     "text": [
      "📨 Response received\n",
      "✅ Response text length: 5205\n"
     ]
    },
    {
     "name": "stderr",
     "output_type": "stream",
     "text": [
      "Generating emails:  64%|██████▍   | 803/1250 [4:05:52<1:45:13, 14.12s/it]"
     ]
    },
    {
     "name": "stdout",
     "output_type": "stream",
     "text": [
      "📨 Response received\n",
      "✅ Response text length: 2681\n"
     ]
    },
    {
     "name": "stderr",
     "output_type": "stream",
     "text": [
      "Generating emails:  64%|██████▍   | 804/1250 [4:06:09<1:50:43, 14.90s/it]"
     ]
    },
    {
     "name": "stdout",
     "output_type": "stream",
     "text": [
      "📨 Response received\n",
      "✅ Response text length: 2834\n"
     ]
    },
    {
     "name": "stderr",
     "output_type": "stream",
     "text": [
      "Generating emails:  64%|██████▍   | 805/1250 [4:06:20<1:43:39, 13.98s/it]"
     ]
    },
    {
     "name": "stdout",
     "output_type": "stream",
     "text": [
      "📨 Response received\n",
      "✅ Response text length: 2103\n"
     ]
    },
    {
     "name": "stderr",
     "output_type": "stream",
     "text": [
      "Generating emails:  64%|██████▍   | 806/1250 [4:06:37<1:48:04, 14.61s/it]"
     ]
    },
    {
     "name": "stdout",
     "output_type": "stream",
     "text": [
      "📨 Response received\n",
      "✅ Response text length: 2901\n"
     ]
    },
    {
     "name": "stderr",
     "output_type": "stream",
     "text": [
      "Generating emails:  65%|██████▍   | 807/1250 [4:06:53<1:50:46, 15.00s/it]"
     ]
    },
    {
     "name": "stdout",
     "output_type": "stream",
     "text": [
      "📨 Response received\n",
      "✅ Response text length: 2702\n"
     ]
    },
    {
     "name": "stderr",
     "output_type": "stream",
     "text": [
      "Generating emails:  65%|██████▍   | 808/1250 [4:07:06<1:47:40, 14.62s/it]"
     ]
    },
    {
     "name": "stdout",
     "output_type": "stream",
     "text": [
      "📨 Response received\n",
      "✅ Response text length: 4088\n"
     ]
    },
    {
     "name": "stderr",
     "output_type": "stream",
     "text": [
      "Generating emails:  65%|██████▍   | 809/1250 [4:07:18<1:40:50, 13.72s/it]"
     ]
    },
    {
     "name": "stdout",
     "output_type": "stream",
     "text": [
      "📨 Response received\n",
      "✅ Response text length: 2086\n"
     ]
    },
    {
     "name": "stderr",
     "output_type": "stream",
     "text": [
      "Generating emails:  65%|██████▍   | 810/1250 [4:07:32<1:41:37, 13.86s/it]"
     ]
    },
    {
     "name": "stdout",
     "output_type": "stream",
     "text": [
      "📨 Response received\n",
      "✅ Response text length: 2178\n"
     ]
    },
    {
     "name": "stderr",
     "output_type": "stream",
     "text": [
      "Generating emails:  65%|██████▍   | 811/1250 [4:07:46<1:41:16, 13.84s/it]"
     ]
    },
    {
     "name": "stdout",
     "output_type": "stream",
     "text": [
      "📨 Response received\n",
      "✅ Response text length: 2321\n"
     ]
    },
    {
     "name": "stderr",
     "output_type": "stream",
     "text": [
      "Generating emails:  65%|██████▍   | 812/1250 [4:07:58<1:37:43, 13.39s/it]"
     ]
    },
    {
     "name": "stdout",
     "output_type": "stream",
     "text": [
      "📨 Response received\n",
      "✅ Response text length: 1298\n"
     ]
    },
    {
     "name": "stderr",
     "output_type": "stream",
     "text": [
      "Generating emails:  65%|██████▌   | 813/1250 [4:08:15<1:44:34, 14.36s/it]"
     ]
    },
    {
     "name": "stdout",
     "output_type": "stream",
     "text": [
      "📨 Response received\n",
      "✅ Response text length: 1504\n"
     ]
    },
    {
     "name": "stderr",
     "output_type": "stream",
     "text": [
      "Generating emails:  65%|██████▌   | 814/1250 [4:08:28<1:41:10, 13.92s/it]"
     ]
    },
    {
     "name": "stdout",
     "output_type": "stream",
     "text": [
      "📨 Response received\n",
      "✅ Response text length: 2085\n"
     ]
    },
    {
     "name": "stderr",
     "output_type": "stream",
     "text": [
      "Generating emails:  65%|██████▌   | 815/1250 [4:08:36<1:28:11, 12.16s/it]"
     ]
    },
    {
     "name": "stdout",
     "output_type": "stream",
     "text": [
      "📨 Response received\n",
      "✅ Response text length: 713\n"
     ]
    },
    {
     "name": "stderr",
     "output_type": "stream",
     "text": [
      "Generating emails:  65%|██████▌   | 816/1250 [4:08:49<1:30:54, 12.57s/it]"
     ]
    },
    {
     "name": "stdout",
     "output_type": "stream",
     "text": [
      "📨 Response received\n",
      "✅ Response text length: 2162\n"
     ]
    },
    {
     "name": "stderr",
     "output_type": "stream",
     "text": [
      "Generating emails:  65%|██████▌   | 817/1250 [4:09:00<1:26:45, 12.02s/it]"
     ]
    },
    {
     "name": "stdout",
     "output_type": "stream",
     "text": [
      "📨 Response received\n",
      "✅ Response text length: 1749\n"
     ]
    },
    {
     "name": "stderr",
     "output_type": "stream",
     "text": [
      "Generating emails:  65%|██████▌   | 818/1250 [4:09:14<1:30:55, 12.63s/it]"
     ]
    },
    {
     "name": "stdout",
     "output_type": "stream",
     "text": [
      "📨 Response received\n",
      "✅ Response text length: 2509\n"
     ]
    },
    {
     "name": "stderr",
     "output_type": "stream",
     "text": [
      "Generating emails:  66%|██████▌   | 819/1250 [4:09:29<1:35:39, 13.32s/it]"
     ]
    },
    {
     "name": "stdout",
     "output_type": "stream",
     "text": [
      "📨 Response received\n",
      "✅ Response text length: 3028\n"
     ]
    },
    {
     "name": "stderr",
     "output_type": "stream",
     "text": [
      "Generating emails:  66%|██████▌   | 820/1250 [4:09:44<1:39:50, 13.93s/it]"
     ]
    },
    {
     "name": "stdout",
     "output_type": "stream",
     "text": [
      "📨 Response received\n",
      "✅ Response text length: 2416\n"
     ]
    },
    {
     "name": "stderr",
     "output_type": "stream",
     "text": [
      "Generating emails:  66%|██████▌   | 821/1250 [4:09:59<1:40:19, 14.03s/it]"
     ]
    },
    {
     "name": "stdout",
     "output_type": "stream",
     "text": [
      "📨 Response received\n",
      "✅ Response text length: 2330\n"
     ]
    },
    {
     "name": "stderr",
     "output_type": "stream",
     "text": [
      "Generating emails:  66%|██████▌   | 822/1250 [4:10:14<1:42:37, 14.39s/it]"
     ]
    },
    {
     "name": "stdout",
     "output_type": "stream",
     "text": [
      "📨 Response received\n",
      "✅ Response text length: 2842\n"
     ]
    },
    {
     "name": "stderr",
     "output_type": "stream",
     "text": [
      "Generating emails:  66%|██████▌   | 823/1250 [4:10:21<1:26:28, 12.15s/it]"
     ]
    },
    {
     "name": "stdout",
     "output_type": "stream",
     "text": [
      "📨 Response received\n",
      "✅ Response text length: 670\n"
     ]
    },
    {
     "name": "stderr",
     "output_type": "stream",
     "text": [
      "Generating emails:  66%|██████▌   | 824/1250 [4:10:34<1:27:53, 12.38s/it]"
     ]
    },
    {
     "name": "stdout",
     "output_type": "stream",
     "text": [
      "📨 Response received\n",
      "✅ Response text length: 743\n"
     ]
    },
    {
     "name": "stderr",
     "output_type": "stream",
     "text": [
      "Generating emails:  66%|██████▌   | 825/1250 [4:10:48<1:32:38, 13.08s/it]"
     ]
    },
    {
     "name": "stdout",
     "output_type": "stream",
     "text": [
      "📨 Response received\n",
      "✅ Response text length: 4202\n"
     ]
    },
    {
     "name": "stderr",
     "output_type": "stream",
     "text": [
      "Generating emails:  66%|██████▌   | 826/1250 [4:11:07<1:44:05, 14.73s/it]"
     ]
    },
    {
     "name": "stdout",
     "output_type": "stream",
     "text": [
      "📨 Response received\n",
      "❌ Failed at row 825: API response finish_reason: 2\n"
     ]
    },
    {
     "name": "stderr",
     "output_type": "stream",
     "text": [
      "Generating emails:  66%|██████▌   | 827/1250 [4:11:19<1:37:30, 13.83s/it]"
     ]
    },
    {
     "name": "stdout",
     "output_type": "stream",
     "text": [
      "📨 Response received\n",
      "✅ Response text length: 2301\n"
     ]
    },
    {
     "name": "stderr",
     "output_type": "stream",
     "text": [
      "Generating emails:  66%|██████▌   | 828/1250 [4:11:31<1:34:59, 13.51s/it]"
     ]
    },
    {
     "name": "stdout",
     "output_type": "stream",
     "text": [
      "📨 Response received\n",
      "✅ Response text length: 2632\n"
     ]
    },
    {
     "name": "stderr",
     "output_type": "stream",
     "text": [
      "Generating emails:  66%|██████▋   | 829/1250 [4:11:40<1:23:27, 11.89s/it]"
     ]
    },
    {
     "name": "stdout",
     "output_type": "stream",
     "text": [
      "📨 Response received\n",
      "✅ Response text length: 587\n"
     ]
    },
    {
     "name": "stderr",
     "output_type": "stream",
     "text": [
      "Generating emails:  66%|██████▋   | 830/1250 [4:11:57<1:33:52, 13.41s/it]"
     ]
    },
    {
     "name": "stdout",
     "output_type": "stream",
     "text": [
      "📨 Response received\n",
      "✅ Response text length: 1528\n"
     ]
    },
    {
     "name": "stderr",
     "output_type": "stream",
     "text": [
      "Generating emails:  66%|██████▋   | 831/1250 [4:12:13<1:39:13, 14.21s/it]"
     ]
    },
    {
     "name": "stdout",
     "output_type": "stream",
     "text": [
      "📨 Response received\n",
      "✅ Response text length: 2554\n"
     ]
    },
    {
     "name": "stderr",
     "output_type": "stream",
     "text": [
      "Generating emails:  67%|██████▋   | 832/1250 [4:12:31<1:47:42, 15.46s/it]"
     ]
    },
    {
     "name": "stdout",
     "output_type": "stream",
     "text": [
      "📨 Response received\n",
      "❌ Failed at row 831: API response finish_reason: 2\n"
     ]
    },
    {
     "name": "stderr",
     "output_type": "stream",
     "text": [
      "Generating emails:  67%|██████▋   | 833/1250 [4:12:42<1:39:02, 14.25s/it]"
     ]
    },
    {
     "name": "stdout",
     "output_type": "stream",
     "text": [
      "📨 Response received\n",
      "✅ Response text length: 2206\n"
     ]
    },
    {
     "name": "stderr",
     "output_type": "stream",
     "text": [
      "Generating emails:  67%|██████▋   | 834/1250 [4:12:54<1:32:58, 13.41s/it]"
     ]
    },
    {
     "name": "stdout",
     "output_type": "stream",
     "text": [
      "📨 Response received\n",
      "✅ Response text length: 2551\n"
     ]
    },
    {
     "name": "stderr",
     "output_type": "stream",
     "text": [
      "Generating emails:  67%|██████▋   | 835/1250 [4:13:15<1:48:10, 15.64s/it]"
     ]
    },
    {
     "name": "stdout",
     "output_type": "stream",
     "text": [
      "📨 Response received\n",
      "❌ Failed at row 834: API response finish_reason: 2\n"
     ]
    },
    {
     "name": "stderr",
     "output_type": "stream",
     "text": [
      "Generating emails:  67%|██████▋   | 836/1250 [4:13:27<1:41:31, 14.71s/it]"
     ]
    },
    {
     "name": "stdout",
     "output_type": "stream",
     "text": [
      "📨 Response received\n",
      "✅ Response text length: 2858\n"
     ]
    },
    {
     "name": "stderr",
     "output_type": "stream",
     "text": [
      "Generating emails:  67%|██████▋   | 837/1250 [4:13:41<1:38:41, 14.34s/it]"
     ]
    },
    {
     "name": "stdout",
     "output_type": "stream",
     "text": [
      "📨 Response received\n",
      "✅ Response text length: 2928\n"
     ]
    },
    {
     "name": "stderr",
     "output_type": "stream",
     "text": [
      "Generating emails:  67%|██████▋   | 838/1250 [4:13:49<1:26:41, 12.62s/it]"
     ]
    },
    {
     "name": "stdout",
     "output_type": "stream",
     "text": [
      "📨 Response received\n",
      "✅ Response text length: 823\n"
     ]
    },
    {
     "name": "stderr",
     "output_type": "stream",
     "text": [
      "Generating emails:  67%|██████▋   | 839/1250 [4:14:03<1:28:56, 12.99s/it]"
     ]
    },
    {
     "name": "stdout",
     "output_type": "stream",
     "text": [
      "📨 Response received\n",
      "✅ Response text length: 2312\n"
     ]
    },
    {
     "name": "stderr",
     "output_type": "stream",
     "text": [
      "Generating emails:  67%|██████▋   | 840/1250 [4:14:22<1:40:17, 14.68s/it]"
     ]
    },
    {
     "name": "stdout",
     "output_type": "stream",
     "text": [
      "📨 Response received\n",
      "❌ Failed at row 839: API response finish_reason: 2\n"
     ]
    },
    {
     "name": "stderr",
     "output_type": "stream",
     "text": [
      "Generating emails:  67%|██████▋   | 841/1250 [4:14:35<1:37:18, 14.27s/it]"
     ]
    },
    {
     "name": "stdout",
     "output_type": "stream",
     "text": [
      "📨 Response received\n",
      "✅ Response text length: 1580\n"
     ]
    },
    {
     "name": "stderr",
     "output_type": "stream",
     "text": [
      "Generating emails:  67%|██████▋   | 842/1250 [4:14:52<1:41:51, 14.98s/it]"
     ]
    },
    {
     "name": "stdout",
     "output_type": "stream",
     "text": [
      "📨 Response received\n",
      "✅ Response text length: 4709\n"
     ]
    },
    {
     "name": "stderr",
     "output_type": "stream",
     "text": [
      "Generating emails:  67%|██████▋   | 843/1250 [4:15:02<1:32:24, 13.62s/it]"
     ]
    },
    {
     "name": "stdout",
     "output_type": "stream",
     "text": [
      "📨 Response received\n",
      "✅ Response text length: 1914\n"
     ]
    },
    {
     "name": "stderr",
     "output_type": "stream",
     "text": [
      "Generating emails:  68%|██████▊   | 844/1250 [4:15:16<1:32:41, 13.70s/it]"
     ]
    },
    {
     "name": "stdout",
     "output_type": "stream",
     "text": [
      "📨 Response received\n",
      "✅ Response text length: 2807\n"
     ]
    },
    {
     "name": "stderr",
     "output_type": "stream",
     "text": [
      "Generating emails:  68%|██████▊   | 845/1250 [4:15:28<1:28:47, 13.15s/it]"
     ]
    },
    {
     "name": "stdout",
     "output_type": "stream",
     "text": [
      "📨 Response received\n",
      "✅ Response text length: 2481\n"
     ]
    },
    {
     "name": "stderr",
     "output_type": "stream",
     "text": [
      "Generating emails:  68%|██████▊   | 846/1250 [4:15:39<1:24:54, 12.61s/it]"
     ]
    },
    {
     "name": "stdout",
     "output_type": "stream",
     "text": [
      "📨 Response received\n",
      "✅ Response text length: 2227\n"
     ]
    },
    {
     "name": "stderr",
     "output_type": "stream",
     "text": [
      "Generating emails:  68%|██████▊   | 847/1250 [4:15:50<1:20:25, 11.98s/it]"
     ]
    },
    {
     "name": "stdout",
     "output_type": "stream",
     "text": [
      "📨 Response received\n",
      "✅ Response text length: 2691\n"
     ]
    },
    {
     "name": "stderr",
     "output_type": "stream",
     "text": [
      "Generating emails:  68%|██████▊   | 848/1250 [4:16:04<1:24:00, 12.54s/it]"
     ]
    },
    {
     "name": "stdout",
     "output_type": "stream",
     "text": [
      "📨 Response received\n",
      "✅ Response text length: 2502\n"
     ]
    },
    {
     "name": "stderr",
     "output_type": "stream",
     "text": [
      "Generating emails:  68%|██████▊   | 849/1250 [4:16:19<1:29:07, 13.33s/it]"
     ]
    },
    {
     "name": "stdout",
     "output_type": "stream",
     "text": [
      "📨 Response received\n",
      "✅ Response text length: 2527\n"
     ]
    },
    {
     "name": "stderr",
     "output_type": "stream",
     "text": [
      "Generating emails:  68%|██████▊   | 850/1250 [4:16:30<1:25:00, 12.75s/it]"
     ]
    },
    {
     "name": "stdout",
     "output_type": "stream",
     "text": [
      "📨 Response received\n",
      "✅ Response text length: 1983\n",
      "💾 Checkpoint saved at row 849\n"
     ]
    },
    {
     "name": "stderr",
     "output_type": "stream",
     "text": [
      "Generating emails:  68%|██████▊   | 851/1250 [4:16:44<1:26:45, 13.05s/it]"
     ]
    },
    {
     "name": "stdout",
     "output_type": "stream",
     "text": [
      "📨 Response received\n",
      "✅ Response text length: 3624\n"
     ]
    },
    {
     "name": "stderr",
     "output_type": "stream",
     "text": [
      "Generating emails:  68%|██████▊   | 852/1250 [4:16:57<1:27:14, 13.15s/it]"
     ]
    },
    {
     "name": "stdout",
     "output_type": "stream",
     "text": [
      "📨 Response received\n",
      "✅ Response text length: 2631\n"
     ]
    },
    {
     "name": "stderr",
     "output_type": "stream",
     "text": [
      "Generating emails:  68%|██████▊   | 853/1250 [4:17:09<1:23:19, 12.59s/it]"
     ]
    },
    {
     "name": "stdout",
     "output_type": "stream",
     "text": [
      "📨 Response received\n",
      "✅ Response text length: 3122\n"
     ]
    },
    {
     "name": "stderr",
     "output_type": "stream",
     "text": [
      "Generating emails:  68%|██████▊   | 854/1250 [4:17:21<1:22:02, 12.43s/it]"
     ]
    },
    {
     "name": "stdout",
     "output_type": "stream",
     "text": [
      "📨 Response received\n",
      "✅ Response text length: 2311\n"
     ]
    },
    {
     "name": "stderr",
     "output_type": "stream",
     "text": [
      "Generating emails:  68%|██████▊   | 855/1250 [4:17:33<1:20:52, 12.28s/it]"
     ]
    },
    {
     "name": "stdout",
     "output_type": "stream",
     "text": [
      "📨 Response received\n",
      "✅ Response text length: 2557\n"
     ]
    },
    {
     "name": "stderr",
     "output_type": "stream",
     "text": [
      "Generating emails:  68%|██████▊   | 856/1250 [4:17:44<1:18:39, 11.98s/it]"
     ]
    },
    {
     "name": "stdout",
     "output_type": "stream",
     "text": [
      "📨 Response received\n",
      "✅ Response text length: 2236\n"
     ]
    },
    {
     "name": "stderr",
     "output_type": "stream",
     "text": [
      "Generating emails:  69%|██████▊   | 857/1250 [4:17:59<1:25:21, 13.03s/it]"
     ]
    },
    {
     "name": "stdout",
     "output_type": "stream",
     "text": [
      "📨 Response received\n",
      "✅ Response text length: 2652\n"
     ]
    },
    {
     "name": "stderr",
     "output_type": "stream",
     "text": [
      "Generating emails:  69%|██████▊   | 858/1250 [4:18:13<1:26:47, 13.29s/it]"
     ]
    },
    {
     "name": "stdout",
     "output_type": "stream",
     "text": [
      "📨 Response received\n",
      "✅ Response text length: 2364\n"
     ]
    },
    {
     "name": "stderr",
     "output_type": "stream",
     "text": [
      "Generating emails:  69%|██████▊   | 859/1250 [4:18:33<1:38:46, 15.16s/it]"
     ]
    },
    {
     "name": "stdout",
     "output_type": "stream",
     "text": [
      "📨 Response received\n",
      "✅ Response text length: 3795\n"
     ]
    },
    {
     "name": "stderr",
     "output_type": "stream",
     "text": [
      "Generating emails:  69%|██████▉   | 860/1250 [4:18:42<1:27:49, 13.51s/it]"
     ]
    },
    {
     "name": "stdout",
     "output_type": "stream",
     "text": [
      "📨 Response received\n",
      "✅ Response text length: 240\n"
     ]
    },
    {
     "name": "stderr",
     "output_type": "stream",
     "text": [
      "Generating emails:  69%|██████▉   | 861/1250 [4:18:57<1:30:18, 13.93s/it]"
     ]
    },
    {
     "name": "stdout",
     "output_type": "stream",
     "text": [
      "📨 Response received\n",
      "✅ Response text length: 3087\n"
     ]
    },
    {
     "name": "stderr",
     "output_type": "stream",
     "text": [
      "Generating emails:  69%|██████▉   | 862/1250 [4:19:15<1:37:46, 15.12s/it]"
     ]
    },
    {
     "name": "stdout",
     "output_type": "stream",
     "text": [
      "📨 Response received\n",
      "✅ Response text length: 4235\n"
     ]
    },
    {
     "name": "stderr",
     "output_type": "stream",
     "text": [
      "Generating emails:  69%|██████▉   | 863/1250 [4:19:36<1:47:48, 16.71s/it]"
     ]
    },
    {
     "name": "stdout",
     "output_type": "stream",
     "text": [
      "📨 Response received\n",
      "❌ Failed at row 862: API response finish_reason: 2\n"
     ]
    },
    {
     "name": "stderr",
     "output_type": "stream",
     "text": [
      "Generating emails:  69%|██████▉   | 864/1250 [4:19:47<1:37:47, 15.20s/it]"
     ]
    },
    {
     "name": "stdout",
     "output_type": "stream",
     "text": [
      "📨 Response received\n",
      "✅ Response text length: 2388\n"
     ]
    },
    {
     "name": "stderr",
     "output_type": "stream",
     "text": [
      "Generating emails:  69%|██████▉   | 865/1250 [4:20:04<1:40:17, 15.63s/it]"
     ]
    },
    {
     "name": "stdout",
     "output_type": "stream",
     "text": [
      "📨 Response received\n",
      "✅ Response text length: 2135\n"
     ]
    },
    {
     "name": "stderr",
     "output_type": "stream",
     "text": [
      "Generating emails:  69%|██████▉   | 866/1250 [4:20:18<1:36:57, 15.15s/it]"
     ]
    },
    {
     "name": "stdout",
     "output_type": "stream",
     "text": [
      "📨 Response received\n",
      "✅ Response text length: 2581\n"
     ]
    },
    {
     "name": "stderr",
     "output_type": "stream",
     "text": [
      "Generating emails:  69%|██████▉   | 867/1250 [4:20:33<1:36:18, 15.09s/it]"
     ]
    },
    {
     "name": "stdout",
     "output_type": "stream",
     "text": [
      "📨 Response received\n",
      "✅ Response text length: 2910\n"
     ]
    },
    {
     "name": "stderr",
     "output_type": "stream",
     "text": [
      "Generating emails:  69%|██████▉   | 868/1250 [4:20:46<1:32:22, 14.51s/it]"
     ]
    },
    {
     "name": "stdout",
     "output_type": "stream",
     "text": [
      "📨 Response received\n",
      "✅ Response text length: 2886\n"
     ]
    },
    {
     "name": "stderr",
     "output_type": "stream",
     "text": [
      "Generating emails:  70%|██████▉   | 869/1250 [4:20:58<1:27:16, 13.75s/it]"
     ]
    },
    {
     "name": "stdout",
     "output_type": "stream",
     "text": [
      "📨 Response received\n",
      "✅ Response text length: 2524\n"
     ]
    },
    {
     "name": "stderr",
     "output_type": "stream",
     "text": [
      "Generating emails:  70%|██████▉   | 870/1250 [4:21:11<1:25:34, 13.51s/it]"
     ]
    },
    {
     "name": "stdout",
     "output_type": "stream",
     "text": [
      "📨 Response received\n",
      "✅ Response text length: 2085\n"
     ]
    },
    {
     "name": "stderr",
     "output_type": "stream",
     "text": [
      "Generating emails:  70%|██████▉   | 871/1250 [4:21:23<1:22:47, 13.11s/it]"
     ]
    },
    {
     "name": "stdout",
     "output_type": "stream",
     "text": [
      "📨 Response received\n",
      "✅ Response text length: 2837\n"
     ]
    },
    {
     "name": "stderr",
     "output_type": "stream",
     "text": [
      "Generating emails:  70%|██████▉   | 872/1250 [4:21:38<1:26:18, 13.70s/it]"
     ]
    },
    {
     "name": "stdout",
     "output_type": "stream",
     "text": [
      "📨 Response received\n",
      "✅ Response text length: 2213\n"
     ]
    },
    {
     "name": "stderr",
     "output_type": "stream",
     "text": [
      "Generating emails:  70%|██████▉   | 873/1250 [4:21:53<1:28:15, 14.05s/it]"
     ]
    },
    {
     "name": "stdout",
     "output_type": "stream",
     "text": [
      "📨 Response received\n",
      "✅ Response text length: 2684\n"
     ]
    },
    {
     "name": "stderr",
     "output_type": "stream",
     "text": [
      "Generating emails:  70%|██████▉   | 874/1250 [4:22:09<1:30:26, 14.43s/it]"
     ]
    },
    {
     "name": "stdout",
     "output_type": "stream",
     "text": [
      "📨 Response received\n",
      "❌ Failed at row 873: API response finish_reason: 2\n"
     ]
    },
    {
     "name": "stderr",
     "output_type": "stream",
     "text": [
      "Generating emails:  70%|███████   | 875/1250 [4:22:24<1:31:21, 14.62s/it]"
     ]
    },
    {
     "name": "stdout",
     "output_type": "stream",
     "text": [
      "📨 Response received\n",
      "✅ Response text length: 2663\n"
     ]
    },
    {
     "name": "stderr",
     "output_type": "stream",
     "text": [
      "Generating emails:  70%|███████   | 876/1250 [4:22:41<1:36:08, 15.42s/it]"
     ]
    },
    {
     "name": "stdout",
     "output_type": "stream",
     "text": [
      "📨 Response received\n",
      "✅ Response text length: 3089\n"
     ]
    },
    {
     "name": "stderr",
     "output_type": "stream",
     "text": [
      "Generating emails:  70%|███████   | 877/1250 [4:22:54<1:31:25, 14.71s/it]"
     ]
    },
    {
     "name": "stdout",
     "output_type": "stream",
     "text": [
      "📨 Response received\n",
      "✅ Response text length: 2268\n"
     ]
    },
    {
     "name": "stderr",
     "output_type": "stream",
     "text": [
      "Generating emails:  70%|███████   | 878/1250 [4:23:02<1:19:00, 12.74s/it]"
     ]
    },
    {
     "name": "stdout",
     "output_type": "stream",
     "text": [
      "📨 Response received\n",
      "✅ Response text length: 510\n"
     ]
    },
    {
     "name": "stderr",
     "output_type": "stream",
     "text": [
      "Generating emails:  70%|███████   | 879/1250 [4:23:15<1:19:04, 12.79s/it]"
     ]
    },
    {
     "name": "stdout",
     "output_type": "stream",
     "text": [
      "📨 Response received\n",
      "✅ Response text length: 2397\n"
     ]
    },
    {
     "name": "stderr",
     "output_type": "stream",
     "text": [
      "Generating emails:  70%|███████   | 880/1250 [4:23:24<1:12:22, 11.74s/it]"
     ]
    },
    {
     "name": "stdout",
     "output_type": "stream",
     "text": [
      "📨 Response received\n",
      "✅ Response text length: 2150\n"
     ]
    },
    {
     "name": "stderr",
     "output_type": "stream",
     "text": [
      "Generating emails:  70%|███████   | 881/1250 [4:23:36<1:12:53, 11.85s/it]"
     ]
    },
    {
     "name": "stdout",
     "output_type": "stream",
     "text": [
      "📨 Response received\n",
      "✅ Response text length: 2528\n"
     ]
    },
    {
     "name": "stderr",
     "output_type": "stream",
     "text": [
      "Generating emails:  71%|███████   | 882/1250 [4:23:45<1:06:52, 10.90s/it]"
     ]
    },
    {
     "name": "stdout",
     "output_type": "stream",
     "text": [
      "📨 Response received\n",
      "✅ Response text length: 601\n"
     ]
    },
    {
     "name": "stderr",
     "output_type": "stream",
     "text": [
      "Generating emails:  71%|███████   | 883/1250 [4:23:57<1:07:51, 11.09s/it]"
     ]
    },
    {
     "name": "stdout",
     "output_type": "stream",
     "text": [
      "📨 Response received\n",
      "✅ Response text length: 2672\n"
     ]
    },
    {
     "name": "stderr",
     "output_type": "stream",
     "text": [
      "Generating emails:  71%|███████   | 884/1250 [4:24:12<1:16:08, 12.48s/it]"
     ]
    },
    {
     "name": "stdout",
     "output_type": "stream",
     "text": [
      "📨 Response received\n",
      "✅ Response text length: 2934\n"
     ]
    },
    {
     "name": "stderr",
     "output_type": "stream",
     "text": [
      "Generating emails:  71%|███████   | 885/1250 [4:24:29<1:22:59, 13.64s/it]"
     ]
    },
    {
     "name": "stdout",
     "output_type": "stream",
     "text": [
      "📨 Response received\n",
      "✅ Response text length: 2165\n"
     ]
    },
    {
     "name": "stderr",
     "output_type": "stream",
     "text": [
      "Generating emails:  71%|███████   | 886/1250 [4:24:46<1:29:58, 14.83s/it]"
     ]
    },
    {
     "name": "stdout",
     "output_type": "stream",
     "text": [
      "📨 Response received\n",
      "❌ Failed at row 885: API response finish_reason: 2\n"
     ]
    },
    {
     "name": "stderr",
     "output_type": "stream",
     "text": [
      "Generating emails:  71%|███████   | 887/1250 [4:24:57<1:21:34, 13.48s/it]"
     ]
    },
    {
     "name": "stdout",
     "output_type": "stream",
     "text": [
      "📨 Response received\n",
      "✅ Response text length: 2137\n"
     ]
    },
    {
     "name": "stderr",
     "output_type": "stream",
     "text": [
      "Generating emails:  71%|███████   | 888/1250 [4:25:12<1:24:46, 14.05s/it]"
     ]
    },
    {
     "name": "stdout",
     "output_type": "stream",
     "text": [
      "📨 Response received\n",
      "✅ Response text length: 2598\n"
     ]
    },
    {
     "name": "stderr",
     "output_type": "stream",
     "text": [
      "Generating emails:  71%|███████   | 889/1250 [4:25:25<1:22:42, 13.75s/it]"
     ]
    },
    {
     "name": "stdout",
     "output_type": "stream",
     "text": [
      "📨 Response received\n",
      "✅ Response text length: 1215\n"
     ]
    },
    {
     "name": "stderr",
     "output_type": "stream",
     "text": [
      "Generating emails:  71%|███████   | 890/1250 [4:25:42<1:27:37, 14.60s/it]"
     ]
    },
    {
     "name": "stdout",
     "output_type": "stream",
     "text": [
      "📨 Response received\n",
      "✅ Response text length: 2798\n"
     ]
    },
    {
     "name": "stderr",
     "output_type": "stream",
     "text": [
      "Generating emails:  71%|███████▏  | 891/1250 [4:25:56<1:27:43, 14.66s/it]"
     ]
    },
    {
     "name": "stdout",
     "output_type": "stream",
     "text": [
      "📨 Response received\n",
      "✅ Response text length: 2492\n"
     ]
    },
    {
     "name": "stderr",
     "output_type": "stream",
     "text": [
      "Generating emails:  71%|███████▏  | 892/1250 [4:26:07<1:20:02, 13.41s/it]"
     ]
    },
    {
     "name": "stdout",
     "output_type": "stream",
     "text": [
      "📨 Response received\n",
      "✅ Response text length: 1272\n"
     ]
    },
    {
     "name": "stderr",
     "output_type": "stream",
     "text": [
      "Generating emails:  71%|███████▏  | 893/1250 [4:26:16<1:12:48, 12.24s/it]"
     ]
    },
    {
     "name": "stdout",
     "output_type": "stream",
     "text": [
      "📨 Response received\n",
      "✅ Response text length: 2089\n"
     ]
    },
    {
     "name": "stderr",
     "output_type": "stream",
     "text": [
      "Generating emails:  72%|███████▏  | 894/1250 [4:26:27<1:10:22, 11.86s/it]"
     ]
    },
    {
     "name": "stdout",
     "output_type": "stream",
     "text": [
      "📨 Response received\n",
      "✅ Response text length: 2672\n"
     ]
    },
    {
     "name": "stderr",
     "output_type": "stream",
     "text": [
      "Generating emails:  72%|███████▏  | 895/1250 [4:26:45<1:19:40, 13.47s/it]"
     ]
    },
    {
     "name": "stdout",
     "output_type": "stream",
     "text": [
      "📨 Response received\n",
      "✅ Response text length: 4170\n"
     ]
    },
    {
     "name": "stderr",
     "output_type": "stream",
     "text": [
      "Generating emails:  72%|███████▏  | 896/1250 [4:26:57<1:17:15, 13.10s/it]"
     ]
    },
    {
     "name": "stdout",
     "output_type": "stream",
     "text": [
      "📨 Response received\n",
      "✅ Response text length: 2462\n"
     ]
    },
    {
     "name": "stderr",
     "output_type": "stream",
     "text": [
      "Generating emails:  72%|███████▏  | 897/1250 [4:27:11<1:19:23, 13.49s/it]"
     ]
    },
    {
     "name": "stdout",
     "output_type": "stream",
     "text": [
      "📨 Response received\n",
      "✅ Response text length: 2081\n"
     ]
    },
    {
     "name": "stderr",
     "output_type": "stream",
     "text": [
      "Generating emails:  72%|███████▏  | 898/1250 [4:27:20<1:09:59, 11.93s/it]"
     ]
    },
    {
     "name": "stdout",
     "output_type": "stream",
     "text": [
      "📨 Response received\n",
      "✅ Response text length: 580\n"
     ]
    },
    {
     "name": "stderr",
     "output_type": "stream",
     "text": [
      "Generating emails:  72%|███████▏  | 899/1250 [4:27:31<1:08:51, 11.77s/it]"
     ]
    },
    {
     "name": "stdout",
     "output_type": "stream",
     "text": [
      "📨 Response received\n",
      "✅ Response text length: 2737\n"
     ]
    },
    {
     "name": "stderr",
     "output_type": "stream",
     "text": [
      "Generating emails:  72%|███████▏  | 900/1250 [4:27:43<1:08:38, 11.77s/it]"
     ]
    },
    {
     "name": "stdout",
     "output_type": "stream",
     "text": [
      "📨 Response received\n",
      "✅ Response text length: 2671\n",
      "💾 Checkpoint saved at row 899\n"
     ]
    },
    {
     "name": "stderr",
     "output_type": "stream",
     "text": [
      "Generating emails:  72%|███████▏  | 901/1250 [4:27:57<1:12:46, 12.51s/it]"
     ]
    },
    {
     "name": "stdout",
     "output_type": "stream",
     "text": [
      "📨 Response received\n",
      "✅ Response text length: 2759\n"
     ]
    },
    {
     "name": "stderr",
     "output_type": "stream",
     "text": [
      "Generating emails:  72%|███████▏  | 902/1250 [4:28:12<1:17:49, 13.42s/it]"
     ]
    },
    {
     "name": "stdout",
     "output_type": "stream",
     "text": [
      "📨 Response received\n",
      "✅ Response text length: 2274\n"
     ]
    },
    {
     "name": "stderr",
     "output_type": "stream",
     "text": [
      "Generating emails:  72%|███████▏  | 903/1250 [4:28:25<1:15:12, 13.00s/it]"
     ]
    },
    {
     "name": "stdout",
     "output_type": "stream",
     "text": [
      "📨 Response received\n",
      "✅ Response text length: 1944\n"
     ]
    },
    {
     "name": "stderr",
     "output_type": "stream",
     "text": [
      "Generating emails:  72%|███████▏  | 904/1250 [4:28:41<1:21:51, 14.19s/it]"
     ]
    },
    {
     "name": "stdout",
     "output_type": "stream",
     "text": [
      "📨 Response received\n",
      "✅ Response text length: 2529\n"
     ]
    },
    {
     "name": "stderr",
     "output_type": "stream",
     "text": [
      "Generating emails:  72%|███████▏  | 905/1250 [4:28:53<1:17:04, 13.40s/it]"
     ]
    },
    {
     "name": "stdout",
     "output_type": "stream",
     "text": [
      "📨 Response received\n",
      "✅ Response text length: 2828\n"
     ]
    },
    {
     "name": "stderr",
     "output_type": "stream",
     "text": [
      "Generating emails:  72%|███████▏  | 906/1250 [4:29:06<1:15:39, 13.20s/it]"
     ]
    },
    {
     "name": "stdout",
     "output_type": "stream",
     "text": [
      "📨 Response received\n",
      "✅ Response text length: 1429\n"
     ]
    },
    {
     "name": "stderr",
     "output_type": "stream",
     "text": [
      "Generating emails:  73%|███████▎  | 907/1250 [4:29:18<1:13:29, 12.86s/it]"
     ]
    },
    {
     "name": "stdout",
     "output_type": "stream",
     "text": [
      "📨 Response received\n",
      "✅ Response text length: 2616\n"
     ]
    },
    {
     "name": "stderr",
     "output_type": "stream",
     "text": [
      "Generating emails:  73%|███████▎  | 908/1250 [4:29:29<1:09:49, 12.25s/it]"
     ]
    },
    {
     "name": "stdout",
     "output_type": "stream",
     "text": [
      "📨 Response received\n",
      "✅ Response text length: 1993\n"
     ]
    },
    {
     "name": "stderr",
     "output_type": "stream",
     "text": [
      "Generating emails:  73%|███████▎  | 909/1250 [4:29:44<1:14:32, 13.12s/it]"
     ]
    },
    {
     "name": "stdout",
     "output_type": "stream",
     "text": [
      "📨 Response received\n",
      "✅ Response text length: 2929\n"
     ]
    },
    {
     "name": "stderr",
     "output_type": "stream",
     "text": [
      "Generating emails:  73%|███████▎  | 910/1250 [4:29:59<1:18:07, 13.79s/it]"
     ]
    },
    {
     "name": "stdout",
     "output_type": "stream",
     "text": [
      "📨 Response received\n",
      "✅ Response text length: 2384\n"
     ]
    },
    {
     "name": "stderr",
     "output_type": "stream",
     "text": [
      "Generating emails:  73%|███████▎  | 911/1250 [4:30:11<1:14:48, 13.24s/it]"
     ]
    },
    {
     "name": "stdout",
     "output_type": "stream",
     "text": [
      "📨 Response received\n",
      "✅ Response text length: 2102\n"
     ]
    },
    {
     "name": "stderr",
     "output_type": "stream",
     "text": [
      "Generating emails:  73%|███████▎  | 912/1250 [4:30:27<1:18:41, 13.97s/it]"
     ]
    },
    {
     "name": "stdout",
     "output_type": "stream",
     "text": [
      "📨 Response received\n",
      "✅ Response text length: 4699\n"
     ]
    },
    {
     "name": "stderr",
     "output_type": "stream",
     "text": [
      "Generating emails:  73%|███████▎  | 913/1250 [4:30:39<1:15:54, 13.51s/it]"
     ]
    },
    {
     "name": "stdout",
     "output_type": "stream",
     "text": [
      "📨 Response received\n",
      "✅ Response text length: 2757\n"
     ]
    },
    {
     "name": "stderr",
     "output_type": "stream",
     "text": [
      "Generating emails:  73%|███████▎  | 914/1250 [4:30:53<1:15:24, 13.47s/it]"
     ]
    },
    {
     "name": "stdout",
     "output_type": "stream",
     "text": [
      "📨 Response received\n",
      "✅ Response text length: 2472\n"
     ]
    },
    {
     "name": "stderr",
     "output_type": "stream",
     "text": [
      "Generating emails:  73%|███████▎  | 915/1250 [4:31:10<1:21:18, 14.56s/it]"
     ]
    },
    {
     "name": "stdout",
     "output_type": "stream",
     "text": [
      "📨 Response received\n",
      "✅ Response text length: 2642\n"
     ]
    },
    {
     "name": "stderr",
     "output_type": "stream",
     "text": [
      "Generating emails:  73%|███████▎  | 916/1250 [4:31:22<1:16:33, 13.75s/it]"
     ]
    },
    {
     "name": "stdout",
     "output_type": "stream",
     "text": [
      "📨 Response received\n",
      "✅ Response text length: 2075\n"
     ]
    },
    {
     "name": "stderr",
     "output_type": "stream",
     "text": [
      "Generating emails:  73%|███████▎  | 917/1250 [4:31:34<1:14:48, 13.48s/it]"
     ]
    },
    {
     "name": "stdout",
     "output_type": "stream",
     "text": [
      "📨 Response received\n",
      "✅ Response text length: 2752\n"
     ]
    },
    {
     "name": "stderr",
     "output_type": "stream",
     "text": [
      "Generating emails:  73%|███████▎  | 918/1250 [4:31:49<1:15:53, 13.72s/it]"
     ]
    },
    {
     "name": "stdout",
     "output_type": "stream",
     "text": [
      "📨 Response received\n",
      "✅ Response text length: 2192\n"
     ]
    },
    {
     "name": "stderr",
     "output_type": "stream",
     "text": [
      "Generating emails:  74%|███████▎  | 919/1250 [4:32:01<1:13:52, 13.39s/it]"
     ]
    },
    {
     "name": "stdout",
     "output_type": "stream",
     "text": [
      "📨 Response received\n",
      "✅ Response text length: 2281\n"
     ]
    },
    {
     "name": "stderr",
     "output_type": "stream",
     "text": [
      "Generating emails:  74%|███████▎  | 920/1250 [4:32:10<1:05:54, 11.98s/it]"
     ]
    },
    {
     "name": "stdout",
     "output_type": "stream",
     "text": [
      "📨 Response received\n",
      "✅ Response text length: 1144\n"
     ]
    },
    {
     "name": "stderr",
     "output_type": "stream",
     "text": [
      "Generating emails:  74%|███████▎  | 921/1250 [4:32:27<1:13:54, 13.48s/it]"
     ]
    },
    {
     "name": "stdout",
     "output_type": "stream",
     "text": [
      "📨 Response received\n",
      "✅ Response text length: 2931\n"
     ]
    },
    {
     "name": "stderr",
     "output_type": "stream",
     "text": [
      "Generating emails:  74%|███████▍  | 922/1250 [4:32:34<1:02:41, 11.47s/it]"
     ]
    },
    {
     "name": "stdout",
     "output_type": "stream",
     "text": [
      "📨 Response received\n",
      "✅ Response text length: 856\n"
     ]
    },
    {
     "name": "stderr",
     "output_type": "stream",
     "text": [
      "Generating emails:  74%|███████▍  | 923/1250 [4:32:45<1:02:20, 11.44s/it]"
     ]
    },
    {
     "name": "stdout",
     "output_type": "stream",
     "text": [
      "📨 Response received\n",
      "✅ Response text length: 2062\n"
     ]
    },
    {
     "name": "stderr",
     "output_type": "stream",
     "text": [
      "Generating emails:  74%|███████▍  | 924/1250 [4:32:55<59:25, 10.94s/it]  "
     ]
    },
    {
     "name": "stdout",
     "output_type": "stream",
     "text": [
      "📨 Response received\n",
      "✅ Response text length: 2515\n"
     ]
    },
    {
     "name": "stderr",
     "output_type": "stream",
     "text": [
      "Generating emails:  74%|███████▍  | 925/1250 [4:33:13<1:10:47, 13.07s/it]"
     ]
    },
    {
     "name": "stdout",
     "output_type": "stream",
     "text": [
      "📨 Response received\n",
      "✅ Response text length: 2083\n"
     ]
    },
    {
     "name": "stderr",
     "output_type": "stream",
     "text": [
      "Generating emails:  74%|███████▍  | 926/1250 [4:33:24<1:08:03, 12.60s/it]"
     ]
    },
    {
     "name": "stdout",
     "output_type": "stream",
     "text": [
      "📨 Response received\n",
      "✅ Response text length: 2102\n"
     ]
    },
    {
     "name": "stderr",
     "output_type": "stream",
     "text": [
      "Generating emails:  74%|███████▍  | 927/1250 [4:33:35<1:05:02, 12.08s/it]"
     ]
    },
    {
     "name": "stdout",
     "output_type": "stream",
     "text": [
      "📨 Response received\n",
      "✅ Response text length: 1601\n"
     ]
    },
    {
     "name": "stderr",
     "output_type": "stream",
     "text": [
      "Generating emails:  74%|███████▍  | 928/1250 [4:33:44<1:00:00, 11.18s/it]"
     ]
    },
    {
     "name": "stdout",
     "output_type": "stream",
     "text": [
      "📨 Response received\n",
      "✅ Response text length: 2396\n"
     ]
    },
    {
     "name": "stderr",
     "output_type": "stream",
     "text": [
      "Generating emails:  74%|███████▍  | 929/1250 [4:34:01<1:08:36, 12.83s/it]"
     ]
    },
    {
     "name": "stdout",
     "output_type": "stream",
     "text": [
      "📨 Response received\n",
      "✅ Response text length: 2516\n"
     ]
    },
    {
     "name": "stderr",
     "output_type": "stream",
     "text": [
      "Generating emails:  74%|███████▍  | 930/1250 [4:34:15<1:09:45, 13.08s/it]"
     ]
    },
    {
     "name": "stdout",
     "output_type": "stream",
     "text": [
      "📨 Response received\n",
      "✅ Response text length: 2048\n"
     ]
    },
    {
     "name": "stderr",
     "output_type": "stream",
     "text": [
      "Generating emails:  74%|███████▍  | 931/1250 [4:34:21<58:58, 11.09s/it]  "
     ]
    },
    {
     "name": "stdout",
     "output_type": "stream",
     "text": [
      "📨 Response received\n",
      "✅ Response text length: 749\n"
     ]
    },
    {
     "name": "stderr",
     "output_type": "stream",
     "text": [
      "Generating emails:  75%|███████▍  | 932/1250 [4:34:33<1:00:12, 11.36s/it]"
     ]
    },
    {
     "name": "stdout",
     "output_type": "stream",
     "text": [
      "📨 Response received\n",
      "✅ Response text length: 2444\n"
     ]
    },
    {
     "name": "stderr",
     "output_type": "stream",
     "text": [
      "Generating emails:  75%|███████▍  | 933/1250 [4:34:45<1:00:23, 11.43s/it]"
     ]
    },
    {
     "name": "stdout",
     "output_type": "stream",
     "text": [
      "📨 Response received\n",
      "✅ Response text length: 2855\n"
     ]
    },
    {
     "name": "stderr",
     "output_type": "stream",
     "text": [
      "Generating emails:  75%|███████▍  | 934/1250 [4:34:57<1:02:04, 11.79s/it]"
     ]
    },
    {
     "name": "stdout",
     "output_type": "stream",
     "text": [
      "📨 Response received\n",
      "✅ Response text length: 2465\n"
     ]
    },
    {
     "name": "stderr",
     "output_type": "stream",
     "text": [
      "Generating emails:  75%|███████▍  | 935/1250 [4:35:09<1:01:28, 11.71s/it]"
     ]
    },
    {
     "name": "stdout",
     "output_type": "stream",
     "text": [
      "📨 Response received\n",
      "✅ Response text length: 2805\n"
     ]
    },
    {
     "name": "stderr",
     "output_type": "stream",
     "text": [
      "Generating emails:  75%|███████▍  | 936/1250 [4:35:21<1:02:35, 11.96s/it]"
     ]
    },
    {
     "name": "stdout",
     "output_type": "stream",
     "text": [
      "📨 Response received\n",
      "✅ Response text length: 2687\n"
     ]
    },
    {
     "name": "stderr",
     "output_type": "stream",
     "text": [
      "Generating emails:  75%|███████▍  | 937/1250 [4:35:32<1:00:16, 11.55s/it]"
     ]
    },
    {
     "name": "stdout",
     "output_type": "stream",
     "text": [
      "📨 Response received\n",
      "✅ Response text length: 3488\n"
     ]
    },
    {
     "name": "stderr",
     "output_type": "stream",
     "text": [
      "Generating emails:  75%|███████▌  | 938/1250 [4:35:44<1:00:33, 11.64s/it]"
     ]
    },
    {
     "name": "stdout",
     "output_type": "stream",
     "text": [
      "📨 Response received\n",
      "✅ Response text length: 2792\n"
     ]
    },
    {
     "name": "stderr",
     "output_type": "stream",
     "text": [
      "Generating emails:  75%|███████▌  | 939/1250 [4:35:56<1:00:27, 11.66s/it]"
     ]
    },
    {
     "name": "stdout",
     "output_type": "stream",
     "text": [
      "📨 Response received\n",
      "✅ Response text length: 2512\n"
     ]
    },
    {
     "name": "stderr",
     "output_type": "stream",
     "text": [
      "Generating emails:  75%|███████▌  | 940/1250 [4:36:10<1:04:32, 12.49s/it]"
     ]
    },
    {
     "name": "stdout",
     "output_type": "stream",
     "text": [
      "📨 Response received\n",
      "✅ Response text length: 3056\n"
     ]
    },
    {
     "name": "stderr",
     "output_type": "stream",
     "text": [
      "Generating emails:  75%|███████▌  | 941/1250 [4:36:26<1:09:33, 13.51s/it]"
     ]
    },
    {
     "name": "stdout",
     "output_type": "stream",
     "text": [
      "📨 Response received\n",
      "✅ Response text length: 2674\n"
     ]
    },
    {
     "name": "stderr",
     "output_type": "stream",
     "text": [
      "Generating emails:  75%|███████▌  | 942/1250 [4:36:37<1:06:20, 12.92s/it]"
     ]
    },
    {
     "name": "stdout",
     "output_type": "stream",
     "text": [
      "📨 Response received\n",
      "✅ Response text length: 2666\n"
     ]
    },
    {
     "name": "stderr",
     "output_type": "stream",
     "text": [
      "Generating emails:  75%|███████▌  | 943/1250 [4:36:55<1:13:03, 14.28s/it]"
     ]
    },
    {
     "name": "stdout",
     "output_type": "stream",
     "text": [
      "📨 Response received\n",
      "✅ Response text length: 3420\n"
     ]
    },
    {
     "name": "stderr",
     "output_type": "stream",
     "text": [
      "Generating emails:  76%|███████▌  | 944/1250 [4:37:12<1:16:30, 15.00s/it]"
     ]
    },
    {
     "name": "stdout",
     "output_type": "stream",
     "text": [
      "📨 Response received\n",
      "✅ Response text length: 2251\n"
     ]
    },
    {
     "name": "stderr",
     "output_type": "stream",
     "text": [
      "Generating emails:  76%|███████▌  | 945/1250 [4:37:23<1:10:38, 13.90s/it]"
     ]
    },
    {
     "name": "stdout",
     "output_type": "stream",
     "text": [
      "📨 Response received\n",
      "✅ Response text length: 2140\n"
     ]
    },
    {
     "name": "stderr",
     "output_type": "stream",
     "text": [
      "Generating emails:  76%|███████▌  | 946/1250 [4:37:35<1:07:00, 13.23s/it]"
     ]
    },
    {
     "name": "stdout",
     "output_type": "stream",
     "text": [
      "📨 Response received\n",
      "✅ Response text length: 2137\n"
     ]
    },
    {
     "name": "stderr",
     "output_type": "stream",
     "text": [
      "Generating emails:  76%|███████▌  | 947/1250 [4:37:49<1:08:49, 13.63s/it]"
     ]
    },
    {
     "name": "stdout",
     "output_type": "stream",
     "text": [
      "📨 Response received\n",
      "✅ Response text length: 2548\n"
     ]
    },
    {
     "name": "stderr",
     "output_type": "stream",
     "text": [
      "Generating emails:  76%|███████▌  | 948/1250 [4:38:04<1:10:01, 13.91s/it]"
     ]
    },
    {
     "name": "stdout",
     "output_type": "stream",
     "text": [
      "📨 Response received\n",
      "✅ Response text length: 2091\n"
     ]
    },
    {
     "name": "stderr",
     "output_type": "stream",
     "text": [
      "Generating emails:  76%|███████▌  | 949/1250 [4:38:17<1:08:10, 13.59s/it]"
     ]
    },
    {
     "name": "stdout",
     "output_type": "stream",
     "text": [
      "📨 Response received\n",
      "✅ Response text length: 2908\n"
     ]
    },
    {
     "name": "stderr",
     "output_type": "stream",
     "text": [
      "Generating emails:  76%|███████▌  | 950/1250 [4:38:30<1:07:01, 13.40s/it]"
     ]
    },
    {
     "name": "stdout",
     "output_type": "stream",
     "text": [
      "📨 Response received\n",
      "✅ Response text length: 2259\n",
      "💾 Checkpoint saved at row 949\n"
     ]
    },
    {
     "name": "stderr",
     "output_type": "stream",
     "text": [
      "Generating emails:  76%|███████▌  | 951/1250 [4:38:44<1:07:49, 13.61s/it]"
     ]
    },
    {
     "name": "stdout",
     "output_type": "stream",
     "text": [
      "📨 Response received\n",
      "✅ Response text length: 1758\n"
     ]
    },
    {
     "name": "stderr",
     "output_type": "stream",
     "text": [
      "Generating emails:  76%|███████▌  | 952/1250 [4:38:55<1:04:55, 13.07s/it]"
     ]
    },
    {
     "name": "stdout",
     "output_type": "stream",
     "text": [
      "📨 Response received\n",
      "✅ Response text length: 2378\n"
     ]
    },
    {
     "name": "stderr",
     "output_type": "stream",
     "text": [
      "Generating emails:  76%|███████▌  | 953/1250 [4:39:06<1:00:14, 12.17s/it]"
     ]
    },
    {
     "name": "stdout",
     "output_type": "stream",
     "text": [
      "📨 Response received\n",
      "✅ Response text length: 625\n"
     ]
    },
    {
     "name": "stderr",
     "output_type": "stream",
     "text": [
      "Generating emails:  76%|███████▋  | 954/1250 [4:39:18<59:55, 12.15s/it]  "
     ]
    },
    {
     "name": "stdout",
     "output_type": "stream",
     "text": [
      "📨 Response received\n",
      "✅ Response text length: 2477\n"
     ]
    },
    {
     "name": "stderr",
     "output_type": "stream",
     "text": [
      "Generating emails:  76%|███████▋  | 955/1250 [4:39:30<59:34, 12.12s/it]"
     ]
    },
    {
     "name": "stdout",
     "output_type": "stream",
     "text": [
      "📨 Response received\n",
      "✅ Response text length: 1409\n"
     ]
    },
    {
     "name": "stderr",
     "output_type": "stream",
     "text": [
      "Generating emails:  76%|███████▋  | 956/1250 [4:39:40<56:33, 11.54s/it]"
     ]
    },
    {
     "name": "stdout",
     "output_type": "stream",
     "text": [
      "📨 Response received\n",
      "✅ Response text length: 4451\n"
     ]
    },
    {
     "name": "stderr",
     "output_type": "stream",
     "text": [
      "Generating emails:  77%|███████▋  | 957/1250 [4:39:53<58:19, 11.94s/it]"
     ]
    },
    {
     "name": "stdout",
     "output_type": "stream",
     "text": [
      "📨 Response received\n",
      "✅ Response text length: 1100\n"
     ]
    },
    {
     "name": "stderr",
     "output_type": "stream",
     "text": [
      "Generating emails:  77%|███████▋  | 958/1250 [4:40:07<1:00:51, 12.50s/it]"
     ]
    },
    {
     "name": "stdout",
     "output_type": "stream",
     "text": [
      "📨 Response received\n",
      "✅ Response text length: 2519\n"
     ]
    },
    {
     "name": "stderr",
     "output_type": "stream",
     "text": [
      "Generating emails:  77%|███████▋  | 959/1250 [4:40:19<1:00:25, 12.46s/it]"
     ]
    },
    {
     "name": "stdout",
     "output_type": "stream",
     "text": [
      "📨 Response received\n",
      "✅ Response text length: 1950\n"
     ]
    },
    {
     "name": "stderr",
     "output_type": "stream",
     "text": [
      "Generating emails:  77%|███████▋  | 960/1250 [4:40:34<1:03:22, 13.11s/it]"
     ]
    },
    {
     "name": "stdout",
     "output_type": "stream",
     "text": [
      "📨 Response received\n",
      "✅ Response text length: 2252\n"
     ]
    },
    {
     "name": "stderr",
     "output_type": "stream",
     "text": [
      "Generating emails:  77%|███████▋  | 961/1250 [4:40:52<1:10:36, 14.66s/it]"
     ]
    },
    {
     "name": "stdout",
     "output_type": "stream",
     "text": [
      "📨 Response received\n",
      "✅ Response text length: 2758\n"
     ]
    },
    {
     "name": "stderr",
     "output_type": "stream",
     "text": [
      "Generating emails:  77%|███████▋  | 962/1250 [4:41:03<1:04:59, 13.54s/it]"
     ]
    },
    {
     "name": "stdout",
     "output_type": "stream",
     "text": [
      "📨 Response received\n",
      "✅ Response text length: 2610\n"
     ]
    },
    {
     "name": "stderr",
     "output_type": "stream",
     "text": [
      "Generating emails:  77%|███████▋  | 963/1250 [4:41:12<59:08, 12.36s/it]  "
     ]
    },
    {
     "name": "stdout",
     "output_type": "stream",
     "text": [
      "📨 Response received\n",
      "✅ Response text length: 554\n"
     ]
    },
    {
     "name": "stderr",
     "output_type": "stream",
     "text": [
      "Generating emails:  77%|███████▋  | 964/1250 [4:41:25<59:35, 12.50s/it]"
     ]
    },
    {
     "name": "stdout",
     "output_type": "stream",
     "text": [
      "📨 Response received\n",
      "✅ Response text length: 2480\n"
     ]
    },
    {
     "name": "stderr",
     "output_type": "stream",
     "text": [
      "Generating emails:  77%|███████▋  | 965/1250 [4:41:36<56:22, 11.87s/it]"
     ]
    },
    {
     "name": "stdout",
     "output_type": "stream",
     "text": [
      "📨 Response received\n",
      "✅ Response text length: 2260\n"
     ]
    },
    {
     "name": "stderr",
     "output_type": "stream",
     "text": [
      "Generating emails:  77%|███████▋  | 966/1250 [4:41:50<1:00:00, 12.68s/it]"
     ]
    },
    {
     "name": "stdout",
     "output_type": "stream",
     "text": [
      "📨 Response received\n",
      "✅ Response text length: 2739\n"
     ]
    },
    {
     "name": "stderr",
     "output_type": "stream",
     "text": [
      "Generating emails:  77%|███████▋  | 967/1250 [4:42:04<1:01:15, 12.99s/it]"
     ]
    },
    {
     "name": "stdout",
     "output_type": "stream",
     "text": [
      "📨 Response received\n",
      "✅ Response text length: 2168\n"
     ]
    },
    {
     "name": "stderr",
     "output_type": "stream",
     "text": [
      "Generating emails:  77%|███████▋  | 968/1250 [4:42:23<1:09:29, 14.79s/it]"
     ]
    },
    {
     "name": "stdout",
     "output_type": "stream",
     "text": [
      "📨 Response received\n",
      "✅ Response text length: 2540\n"
     ]
    },
    {
     "name": "stderr",
     "output_type": "stream",
     "text": [
      "Generating emails:  78%|███████▊  | 969/1250 [4:42:35<1:05:49, 14.06s/it]"
     ]
    },
    {
     "name": "stdout",
     "output_type": "stream",
     "text": [
      "📨 Response received\n",
      "✅ Response text length: 2222\n"
     ]
    },
    {
     "name": "stderr",
     "output_type": "stream",
     "text": [
      "Generating emails:  78%|███████▊  | 970/1250 [4:42:55<1:14:05, 15.88s/it]"
     ]
    },
    {
     "name": "stdout",
     "output_type": "stream",
     "text": [
      "📨 Response received\n",
      "❌ Failed at row 969: API response finish_reason: 2\n"
     ]
    },
    {
     "name": "stderr",
     "output_type": "stream",
     "text": [
      "Generating emails:  78%|███████▊  | 971/1250 [4:43:03<1:03:02, 13.56s/it]"
     ]
    },
    {
     "name": "stdout",
     "output_type": "stream",
     "text": [
      "📨 Response received\n",
      "✅ Response text length: 878\n"
     ]
    },
    {
     "name": "stderr",
     "output_type": "stream",
     "text": [
      "Generating emails:  78%|███████▊  | 972/1250 [4:43:15<59:32, 12.85s/it]  "
     ]
    },
    {
     "name": "stdout",
     "output_type": "stream",
     "text": [
      "📨 Response received\n",
      "✅ Response text length: 2643\n"
     ]
    },
    {
     "name": "stderr",
     "output_type": "stream",
     "text": [
      "Generating emails:  78%|███████▊  | 973/1250 [4:43:31<1:04:25, 13.95s/it]"
     ]
    },
    {
     "name": "stdout",
     "output_type": "stream",
     "text": [
      "📨 Response received\n",
      "✅ Response text length: 3429\n"
     ]
    },
    {
     "name": "stderr",
     "output_type": "stream",
     "text": [
      "Generating emails:  78%|███████▊  | 974/1250 [4:43:44<1:03:14, 13.75s/it]"
     ]
    },
    {
     "name": "stdout",
     "output_type": "stream",
     "text": [
      "📨 Response received\n",
      "✅ Response text length: 1704\n"
     ]
    },
    {
     "name": "stderr",
     "output_type": "stream",
     "text": [
      "Generating emails:  78%|███████▊  | 975/1250 [4:43:57<1:01:03, 13.32s/it]"
     ]
    },
    {
     "name": "stdout",
     "output_type": "stream",
     "text": [
      "📨 Response received\n",
      "✅ Response text length: 2174\n"
     ]
    },
    {
     "name": "stderr",
     "output_type": "stream",
     "text": [
      "Generating emails:  78%|███████▊  | 976/1250 [4:44:12<1:03:09, 13.83s/it]"
     ]
    },
    {
     "name": "stdout",
     "output_type": "stream",
     "text": [
      "📨 Response received\n",
      "✅ Response text length: 3301\n"
     ]
    },
    {
     "name": "stderr",
     "output_type": "stream",
     "text": [
      "Generating emails:  78%|███████▊  | 977/1250 [4:44:26<1:03:15, 13.90s/it]"
     ]
    },
    {
     "name": "stdout",
     "output_type": "stream",
     "text": [
      "📨 Response received\n",
      "✅ Response text length: 3191\n"
     ]
    },
    {
     "name": "stderr",
     "output_type": "stream",
     "text": [
      "Generating emails:  78%|███████▊  | 978/1250 [4:44:32<52:07, 11.50s/it]  "
     ]
    },
    {
     "name": "stdout",
     "output_type": "stream",
     "text": [
      "📨 Response received\n",
      "✅ Response text length: 492\n"
     ]
    },
    {
     "name": "stderr",
     "output_type": "stream",
     "text": [
      "Generating emails:  78%|███████▊  | 979/1250 [4:44:42<50:12, 11.11s/it]"
     ]
    },
    {
     "name": "stdout",
     "output_type": "stream",
     "text": [
      "📨 Response received\n",
      "✅ Response text length: 2414\n"
     ]
    },
    {
     "name": "stderr",
     "output_type": "stream",
     "text": [
      "Generating emails:  78%|███████▊  | 980/1250 [4:44:54<51:13, 11.38s/it]"
     ]
    },
    {
     "name": "stdout",
     "output_type": "stream",
     "text": [
      "📨 Response received\n",
      "✅ Response text length: 2058\n"
     ]
    },
    {
     "name": "stderr",
     "output_type": "stream",
     "text": [
      "Generating emails:  78%|███████▊  | 981/1250 [4:45:05<50:56, 11.36s/it]"
     ]
    },
    {
     "name": "stdout",
     "output_type": "stream",
     "text": [
      "📨 Response received\n",
      "✅ Response text length: 1992\n"
     ]
    },
    {
     "name": "stderr",
     "output_type": "stream",
     "text": [
      "Generating emails:  79%|███████▊  | 982/1250 [4:45:23<58:37, 13.12s/it]"
     ]
    },
    {
     "name": "stdout",
     "output_type": "stream",
     "text": [
      "📨 Response received\n",
      "❌ Failed at row 981: API response finish_reason: 2\n"
     ]
    },
    {
     "name": "stderr",
     "output_type": "stream",
     "text": [
      "Generating emails:  79%|███████▊  | 983/1250 [4:45:34<55:59, 12.58s/it]"
     ]
    },
    {
     "name": "stdout",
     "output_type": "stream",
     "text": [
      "📨 Response received\n",
      "✅ Response text length: 2593\n"
     ]
    },
    {
     "name": "stderr",
     "output_type": "stream",
     "text": [
      "Generating emails:  79%|███████▊  | 984/1250 [4:45:50<59:54, 13.51s/it]"
     ]
    },
    {
     "name": "stdout",
     "output_type": "stream",
     "text": [
      "📨 Response received\n",
      "✅ Response text length: 2802\n"
     ]
    },
    {
     "name": "stderr",
     "output_type": "stream",
     "text": [
      "Generating emails:  79%|███████▉  | 985/1250 [4:46:01<56:49, 12.86s/it]"
     ]
    },
    {
     "name": "stdout",
     "output_type": "stream",
     "text": [
      "📨 Response received\n",
      "✅ Response text length: 2135\n"
     ]
    },
    {
     "name": "stderr",
     "output_type": "stream",
     "text": [
      "Generating emails:  79%|███████▉  | 986/1250 [4:46:16<1:00:03, 13.65s/it]"
     ]
    },
    {
     "name": "stdout",
     "output_type": "stream",
     "text": [
      "📨 Response received\n",
      "✅ Response text length: 2117\n"
     ]
    },
    {
     "name": "stderr",
     "output_type": "stream",
     "text": [
      "Generating emails:  79%|███████▉  | 987/1250 [4:46:29<58:38, 13.38s/it]  "
     ]
    },
    {
     "name": "stdout",
     "output_type": "stream",
     "text": [
      "📨 Response received\n",
      "✅ Response text length: 2699\n"
     ]
    },
    {
     "name": "stderr",
     "output_type": "stream",
     "text": [
      "Generating emails:  79%|███████▉  | 988/1250 [4:46:38<52:44, 12.08s/it]"
     ]
    },
    {
     "name": "stdout",
     "output_type": "stream",
     "text": [
      "📨 Response received\n",
      "✅ Response text length: 1960\n"
     ]
    },
    {
     "name": "stderr",
     "output_type": "stream",
     "text": [
      "Generating emails:  79%|███████▉  | 989/1250 [4:46:52<54:38, 12.56s/it]"
     ]
    },
    {
     "name": "stdout",
     "output_type": "stream",
     "text": [
      "📨 Response received\n",
      "✅ Response text length: 1532\n"
     ]
    },
    {
     "name": "stderr",
     "output_type": "stream",
     "text": [
      "Generating emails:  79%|███████▉  | 990/1250 [4:47:07<58:08, 13.42s/it]"
     ]
    },
    {
     "name": "stdout",
     "output_type": "stream",
     "text": [
      "📨 Response received\n",
      "✅ Response text length: 2270\n"
     ]
    },
    {
     "name": "stderr",
     "output_type": "stream",
     "text": [
      "Generating emails:  79%|███████▉  | 991/1250 [4:47:15<50:59, 11.81s/it]"
     ]
    },
    {
     "name": "stdout",
     "output_type": "stream",
     "text": [
      "📨 Response received\n",
      "✅ Response text length: 715\n"
     ]
    },
    {
     "name": "stderr",
     "output_type": "stream",
     "text": [
      "Generating emails:  79%|███████▉  | 992/1250 [4:47:27<50:47, 11.81s/it]"
     ]
    },
    {
     "name": "stdout",
     "output_type": "stream",
     "text": [
      "📨 Response received\n",
      "✅ Response text length: 2400\n"
     ]
    },
    {
     "name": "stderr",
     "output_type": "stream",
     "text": [
      "Generating emails:  79%|███████▉  | 993/1250 [4:47:37<48:20, 11.29s/it]"
     ]
    },
    {
     "name": "stdout",
     "output_type": "stream",
     "text": [
      "📨 Response received\n",
      "✅ Response text length: 745\n"
     ]
    },
    {
     "name": "stderr",
     "output_type": "stream",
     "text": [
      "Generating emails:  80%|███████▉  | 994/1250 [4:47:47<45:39, 10.70s/it]"
     ]
    },
    {
     "name": "stdout",
     "output_type": "stream",
     "text": [
      "📨 Response received\n",
      "✅ Response text length: 2513\n"
     ]
    },
    {
     "name": "stderr",
     "output_type": "stream",
     "text": [
      "Generating emails:  80%|███████▉  | 995/1250 [4:47:59<48:11, 11.34s/it]"
     ]
    },
    {
     "name": "stdout",
     "output_type": "stream",
     "text": [
      "📨 Response received\n",
      "✅ Response text length: 2718\n"
     ]
    },
    {
     "name": "stderr",
     "output_type": "stream",
     "text": [
      "Generating emails:  80%|███████▉  | 996/1250 [4:48:09<45:41, 10.79s/it]"
     ]
    },
    {
     "name": "stdout",
     "output_type": "stream",
     "text": [
      "📨 Response received\n",
      "✅ Response text length: 1919\n"
     ]
    },
    {
     "name": "stderr",
     "output_type": "stream",
     "text": [
      "Generating emails:  80%|███████▉  | 997/1250 [4:48:25<52:19, 12.41s/it]"
     ]
    },
    {
     "name": "stdout",
     "output_type": "stream",
     "text": [
      "📨 Response received\n",
      "✅ Response text length: 2557\n"
     ]
    },
    {
     "name": "stderr",
     "output_type": "stream",
     "text": [
      "Generating emails:  80%|███████▉  | 998/1250 [4:48:40<54:52, 13.07s/it]"
     ]
    },
    {
     "name": "stdout",
     "output_type": "stream",
     "text": [
      "📨 Response received\n",
      "✅ Response text length: 2954\n"
     ]
    },
    {
     "name": "stderr",
     "output_type": "stream",
     "text": [
      "Generating emails:  80%|███████▉  | 999/1250 [4:48:51<52:27, 12.54s/it]"
     ]
    },
    {
     "name": "stdout",
     "output_type": "stream",
     "text": [
      "📨 Response received\n",
      "✅ Response text length: 2293\n"
     ]
    },
    {
     "name": "stderr",
     "output_type": "stream",
     "text": [
      "Generating emails:  80%|████████  | 1000/1250 [4:49:05<53:30, 12.84s/it]"
     ]
    },
    {
     "name": "stdout",
     "output_type": "stream",
     "text": [
      "📨 Response received\n",
      "✅ Response text length: 2528\n",
      "💾 Checkpoint saved at row 999\n"
     ]
    },
    {
     "name": "stderr",
     "output_type": "stream",
     "text": [
      "Generating emails:  80%|████████  | 1001/1250 [4:49:21<57:18, 13.81s/it]"
     ]
    },
    {
     "name": "stdout",
     "output_type": "stream",
     "text": [
      "📨 Response received\n",
      "✅ Response text length: 2359\n"
     ]
    },
    {
     "name": "stderr",
     "output_type": "stream",
     "text": [
      "Generating emails:  80%|████████  | 1002/1250 [4:49:36<58:50, 14.24s/it]"
     ]
    },
    {
     "name": "stdout",
     "output_type": "stream",
     "text": [
      "📨 Response received\n",
      "✅ Response text length: 1702\n"
     ]
    },
    {
     "name": "stderr",
     "output_type": "stream",
     "text": [
      "Generating emails:  80%|████████  | 1003/1250 [4:49:48<55:41, 13.53s/it]"
     ]
    },
    {
     "name": "stdout",
     "output_type": "stream",
     "text": [
      "📨 Response received\n",
      "✅ Response text length: 2365\n"
     ]
    },
    {
     "name": "stderr",
     "output_type": "stream",
     "text": [
      "Generating emails:  80%|████████  | 1004/1250 [4:50:01<55:32, 13.55s/it]"
     ]
    },
    {
     "name": "stdout",
     "output_type": "stream",
     "text": [
      "📨 Response received\n",
      "✅ Response text length: 1130\n"
     ]
    },
    {
     "name": "stderr",
     "output_type": "stream",
     "text": [
      "Generating emails:  80%|████████  | 1005/1250 [4:50:15<55:26, 13.58s/it]"
     ]
    },
    {
     "name": "stdout",
     "output_type": "stream",
     "text": [
      "📨 Response received\n",
      "✅ Response text length: 2822\n"
     ]
    },
    {
     "name": "stderr",
     "output_type": "stream",
     "text": [
      "Generating emails:  80%|████████  | 1006/1250 [4:50:29<55:42, 13.70s/it]"
     ]
    },
    {
     "name": "stdout",
     "output_type": "stream",
     "text": [
      "📨 Response received\n",
      "✅ Response text length: 2432\n"
     ]
    },
    {
     "name": "stderr",
     "output_type": "stream",
     "text": [
      "Generating emails:  81%|████████  | 1007/1250 [4:50:42<55:16, 13.65s/it]"
     ]
    },
    {
     "name": "stdout",
     "output_type": "stream",
     "text": [
      "📨 Response received\n",
      "✅ Response text length: 2295\n"
     ]
    },
    {
     "name": "stderr",
     "output_type": "stream",
     "text": [
      "Generating emails:  81%|████████  | 1008/1250 [4:50:53<51:50, 12.85s/it]"
     ]
    },
    {
     "name": "stdout",
     "output_type": "stream",
     "text": [
      "📨 Response received\n",
      "✅ Response text length: 2032\n"
     ]
    },
    {
     "name": "stderr",
     "output_type": "stream",
     "text": [
      "Generating emails:  81%|████████  | 1009/1250 [4:51:08<54:08, 13.48s/it]"
     ]
    },
    {
     "name": "stdout",
     "output_type": "stream",
     "text": [
      "📨 Response received\n",
      "✅ Response text length: 2466\n"
     ]
    },
    {
     "name": "stderr",
     "output_type": "stream",
     "text": [
      "Generating emails:  81%|████████  | 1010/1250 [4:51:20<51:45, 12.94s/it]"
     ]
    },
    {
     "name": "stdout",
     "output_type": "stream",
     "text": [
      "📨 Response received\n",
      "✅ Response text length: 3035\n"
     ]
    },
    {
     "name": "stderr",
     "output_type": "stream",
     "text": [
      "Generating emails:  81%|████████  | 1011/1250 [4:51:30<48:12, 12.10s/it]"
     ]
    },
    {
     "name": "stdout",
     "output_type": "stream",
     "text": [
      "📨 Response received\n",
      "✅ Response text length: 529\n"
     ]
    },
    {
     "name": "stderr",
     "output_type": "stream",
     "text": [
      "Generating emails:  81%|████████  | 1012/1250 [4:51:46<51:52, 13.08s/it]"
     ]
    },
    {
     "name": "stdout",
     "output_type": "stream",
     "text": [
      "📨 Response received\n",
      "✅ Response text length: 2801\n"
     ]
    },
    {
     "name": "stderr",
     "output_type": "stream",
     "text": [
      "Generating emails:  81%|████████  | 1013/1250 [4:51:55<46:53, 11.87s/it]"
     ]
    },
    {
     "name": "stdout",
     "output_type": "stream",
     "text": [
      "📨 Response received\n",
      "✅ Response text length: 2275\n"
     ]
    },
    {
     "name": "stderr",
     "output_type": "stream",
     "text": [
      "Generating emails:  81%|████████  | 1014/1250 [4:52:13<54:19, 13.81s/it]"
     ]
    },
    {
     "name": "stdout",
     "output_type": "stream",
     "text": [
      "📨 Response received\n",
      "❌ Failed at row 1013: API response finish_reason: 2\n"
     ]
    },
    {
     "name": "stderr",
     "output_type": "stream",
     "text": [
      "Generating emails:  81%|████████  | 1015/1250 [4:52:30<57:56, 14.79s/it]"
     ]
    },
    {
     "name": "stdout",
     "output_type": "stream",
     "text": [
      "📨 Response received\n",
      "✅ Response text length: 4644\n"
     ]
    },
    {
     "name": "stderr",
     "output_type": "stream",
     "text": [
      "Generating emails:  81%|████████▏ | 1016/1250 [4:52:43<55:08, 14.14s/it]"
     ]
    },
    {
     "name": "stdout",
     "output_type": "stream",
     "text": [
      "📨 Response received\n",
      "✅ Response text length: 2402\n"
     ]
    },
    {
     "name": "stderr",
     "output_type": "stream",
     "text": [
      "Generating emails:  81%|████████▏ | 1017/1250 [4:52:57<54:51, 14.13s/it]"
     ]
    },
    {
     "name": "stdout",
     "output_type": "stream",
     "text": [
      "📨 Response received\n",
      "✅ Response text length: 2731\n"
     ]
    },
    {
     "name": "stderr",
     "output_type": "stream",
     "text": [
      "Generating emails:  81%|████████▏ | 1018/1250 [4:53:13<56:58, 14.73s/it]"
     ]
    },
    {
     "name": "stdout",
     "output_type": "stream",
     "text": [
      "📨 Response received\n",
      "✅ Response text length: 3599\n"
     ]
    },
    {
     "name": "stderr",
     "output_type": "stream",
     "text": [
      "Generating emails:  82%|████████▏ | 1019/1250 [4:53:25<53:46, 13.97s/it]"
     ]
    },
    {
     "name": "stdout",
     "output_type": "stream",
     "text": [
      "📨 Response received\n",
      "✅ Response text length: 2224\n"
     ]
    },
    {
     "name": "stderr",
     "output_type": "stream",
     "text": [
      "Generating emails:  82%|████████▏ | 1020/1250 [4:53:40<54:33, 14.23s/it]"
     ]
    },
    {
     "name": "stdout",
     "output_type": "stream",
     "text": [
      "📨 Response received\n",
      "✅ Response text length: 2503\n"
     ]
    },
    {
     "name": "stderr",
     "output_type": "stream",
     "text": [
      "Generating emails:  82%|████████▏ | 1021/1250 [4:53:49<48:21, 12.67s/it]"
     ]
    },
    {
     "name": "stdout",
     "output_type": "stream",
     "text": [
      "📨 Response received\n",
      "✅ Response text length: 2297\n"
     ]
    },
    {
     "name": "stderr",
     "output_type": "stream",
     "text": [
      "Generating emails:  82%|████████▏ | 1022/1250 [4:54:01<47:40, 12.55s/it]"
     ]
    },
    {
     "name": "stdout",
     "output_type": "stream",
     "text": [
      "📨 Response received\n",
      "✅ Response text length: 2354\n"
     ]
    },
    {
     "name": "stderr",
     "output_type": "stream",
     "text": [
      "Generating emails:  82%|████████▏ | 1023/1250 [4:54:14<47:46, 12.63s/it]"
     ]
    },
    {
     "name": "stdout",
     "output_type": "stream",
     "text": [
      "📨 Response received\n",
      "✅ Response text length: 2058\n"
     ]
    },
    {
     "name": "stderr",
     "output_type": "stream",
     "text": [
      "Generating emails:  82%|████████▏ | 1024/1250 [4:54:31<51:56, 13.79s/it]"
     ]
    },
    {
     "name": "stdout",
     "output_type": "stream",
     "text": [
      "📨 Response received\n",
      "✅ Response text length: 1995\n"
     ]
    },
    {
     "name": "stderr",
     "output_type": "stream",
     "text": [
      "Generating emails:  82%|████████▏ | 1025/1250 [4:54:49<56:53, 15.17s/it]"
     ]
    },
    {
     "name": "stdout",
     "output_type": "stream",
     "text": [
      "📨 Response received\n",
      "✅ Response text length: 2397\n"
     ]
    },
    {
     "name": "stderr",
     "output_type": "stream",
     "text": [
      "Generating emails:  82%|████████▏ | 1026/1250 [4:55:02<54:11, 14.51s/it]"
     ]
    },
    {
     "name": "stdout",
     "output_type": "stream",
     "text": [
      "📨 Response received\n",
      "✅ Response text length: 3590\n"
     ]
    },
    {
     "name": "stderr",
     "output_type": "stream",
     "text": [
      "Generating emails:  82%|████████▏ | 1027/1250 [4:55:14<51:17, 13.80s/it]"
     ]
    },
    {
     "name": "stdout",
     "output_type": "stream",
     "text": [
      "📨 Response received\n",
      "✅ Response text length: 2909\n"
     ]
    },
    {
     "name": "stderr",
     "output_type": "stream",
     "text": [
      "Generating emails:  82%|████████▏ | 1028/1250 [4:55:24<47:16, 12.78s/it]"
     ]
    },
    {
     "name": "stdout",
     "output_type": "stream",
     "text": [
      "📨 Response received\n",
      "✅ Response text length: 2673\n"
     ]
    },
    {
     "name": "stderr",
     "output_type": "stream",
     "text": [
      "Generating emails:  82%|████████▏ | 1029/1250 [4:55:37<46:35, 12.65s/it]"
     ]
    },
    {
     "name": "stdout",
     "output_type": "stream",
     "text": [
      "📨 Response received\n",
      "✅ Response text length: 2888\n"
     ]
    },
    {
     "name": "stderr",
     "output_type": "stream",
     "text": [
      "Generating emails:  82%|████████▏ | 1030/1250 [4:55:48<45:03, 12.29s/it]"
     ]
    },
    {
     "name": "stdout",
     "output_type": "stream",
     "text": [
      "📨 Response received\n",
      "✅ Response text length: 2038\n"
     ]
    },
    {
     "name": "stderr",
     "output_type": "stream",
     "text": [
      "Generating emails:  82%|████████▏ | 1031/1250 [4:56:01<45:17, 12.41s/it]"
     ]
    },
    {
     "name": "stdout",
     "output_type": "stream",
     "text": [
      "📨 Response received\n",
      "✅ Response text length: 2072\n"
     ]
    },
    {
     "name": "stderr",
     "output_type": "stream",
     "text": [
      "Generating emails:  83%|████████▎ | 1032/1250 [4:56:16<47:27, 13.06s/it]"
     ]
    },
    {
     "name": "stdout",
     "output_type": "stream",
     "text": [
      "📨 Response received\n",
      "✅ Response text length: 2668\n"
     ]
    },
    {
     "name": "stderr",
     "output_type": "stream",
     "text": [
      "Generating emails:  83%|████████▎ | 1033/1250 [4:56:32<50:26, 13.94s/it]"
     ]
    },
    {
     "name": "stdout",
     "output_type": "stream",
     "text": [
      "📨 Response received\n",
      "✅ Response text length: 2412\n"
     ]
    },
    {
     "name": "stderr",
     "output_type": "stream",
     "text": [
      "Generating emails:  83%|████████▎ | 1034/1250 [4:56:41<44:59, 12.50s/it]"
     ]
    },
    {
     "name": "stdout",
     "output_type": "stream",
     "text": [
      "📨 Response received\n",
      "✅ Response text length: 719\n"
     ]
    },
    {
     "name": "stderr",
     "output_type": "stream",
     "text": [
      "Generating emails:  83%|████████▎ | 1035/1250 [4:57:00<52:27, 14.64s/it]"
     ]
    },
    {
     "name": "stdout",
     "output_type": "stream",
     "text": [
      "📨 Response received\n",
      "✅ Response text length: 5123\n"
     ]
    },
    {
     "name": "stderr",
     "output_type": "stream",
     "text": [
      "Generating emails:  83%|████████▎ | 1036/1250 [4:57:09<46:14, 12.96s/it]"
     ]
    },
    {
     "name": "stdout",
     "output_type": "stream",
     "text": [
      "📨 Response received\n",
      "✅ Response text length: 489\n"
     ]
    },
    {
     "name": "stderr",
     "output_type": "stream",
     "text": [
      "Generating emails:  83%|████████▎ | 1037/1250 [4:57:25<49:19, 13.90s/it]"
     ]
    },
    {
     "name": "stdout",
     "output_type": "stream",
     "text": [
      "📨 Response received\n",
      "✅ Response text length: 2100\n"
     ]
    },
    {
     "name": "stderr",
     "output_type": "stream",
     "text": [
      "Generating emails:  83%|████████▎ | 1038/1250 [4:57:34<43:49, 12.41s/it]"
     ]
    },
    {
     "name": "stdout",
     "output_type": "stream",
     "text": [
      "📨 Response received\n",
      "✅ Response text length: 2105\n"
     ]
    },
    {
     "name": "stderr",
     "output_type": "stream",
     "text": [
      "Generating emails:  83%|████████▎ | 1039/1250 [4:57:42<38:49, 11.04s/it]"
     ]
    },
    {
     "name": "stdout",
     "output_type": "stream",
     "text": [
      "📨 Response received\n",
      "✅ Response text length: 2133\n"
     ]
    },
    {
     "name": "stderr",
     "output_type": "stream",
     "text": [
      "Generating emails:  83%|████████▎ | 1040/1250 [4:57:58<43:56, 12.56s/it]"
     ]
    },
    {
     "name": "stdout",
     "output_type": "stream",
     "text": [
      "📨 Response received\n",
      "✅ Response text length: 2524\n"
     ]
    },
    {
     "name": "stderr",
     "output_type": "stream",
     "text": [
      "Generating emails:  83%|████████▎ | 1041/1250 [4:58:15<47:42, 13.70s/it]"
     ]
    },
    {
     "name": "stdout",
     "output_type": "stream",
     "text": [
      "📨 Response received\n",
      "✅ Response text length: 2765\n"
     ]
    },
    {
     "name": "stderr",
     "output_type": "stream",
     "text": [
      "Generating emails:  83%|████████▎ | 1042/1250 [4:58:29<48:21, 13.95s/it]"
     ]
    },
    {
     "name": "stdout",
     "output_type": "stream",
     "text": [
      "📨 Response received\n",
      "✅ Response text length: 2894\n"
     ]
    },
    {
     "name": "stderr",
     "output_type": "stream",
     "text": [
      "Generating emails:  83%|████████▎ | 1043/1250 [4:58:41<46:01, 13.34s/it]"
     ]
    },
    {
     "name": "stdout",
     "output_type": "stream",
     "text": [
      "📨 Response received\n",
      "✅ Response text length: 2447\n"
     ]
    },
    {
     "name": "stderr",
     "output_type": "stream",
     "text": [
      "Generating emails:  84%|████████▎ | 1044/1250 [4:58:56<47:47, 13.92s/it]"
     ]
    },
    {
     "name": "stdout",
     "output_type": "stream",
     "text": [
      "📨 Response received\n",
      "✅ Response text length: 2435\n"
     ]
    },
    {
     "name": "stderr",
     "output_type": "stream",
     "text": [
      "Generating emails:  84%|████████▎ | 1045/1250 [4:59:12<49:29, 14.49s/it]"
     ]
    },
    {
     "name": "stdout",
     "output_type": "stream",
     "text": [
      "📨 Response received\n",
      "✅ Response text length: 2870\n"
     ]
    },
    {
     "name": "stderr",
     "output_type": "stream",
     "text": [
      "Generating emails:  84%|████████▎ | 1046/1250 [4:59:21<43:26, 12.78s/it]"
     ]
    },
    {
     "name": "stdout",
     "output_type": "stream",
     "text": [
      "📨 Response received\n",
      "✅ Response text length: 2288\n"
     ]
    },
    {
     "name": "stderr",
     "output_type": "stream",
     "text": [
      "Generating emails:  84%|████████▍ | 1047/1250 [4:59:34<43:34, 12.88s/it]"
     ]
    },
    {
     "name": "stdout",
     "output_type": "stream",
     "text": [
      "📨 Response received\n",
      "✅ Response text length: 2753\n"
     ]
    },
    {
     "name": "stderr",
     "output_type": "stream",
     "text": [
      "Generating emails:  84%|████████▍ | 1048/1250 [4:59:50<46:07, 13.70s/it]"
     ]
    },
    {
     "name": "stdout",
     "output_type": "stream",
     "text": [
      "📨 Response received\n",
      "✅ Response text length: 5480\n"
     ]
    },
    {
     "name": "stderr",
     "output_type": "stream",
     "text": [
      "Generating emails:  84%|████████▍ | 1049/1250 [5:00:02<44:45, 13.36s/it]"
     ]
    },
    {
     "name": "stdout",
     "output_type": "stream",
     "text": [
      "📨 Response received\n",
      "✅ Response text length: 3435\n"
     ]
    },
    {
     "name": "stderr",
     "output_type": "stream",
     "text": [
      "Generating emails:  84%|████████▍ | 1050/1250 [5:00:20<49:16, 14.78s/it]"
     ]
    },
    {
     "name": "stdout",
     "output_type": "stream",
     "text": [
      "📨 Response received\n",
      "✅ Response text length: 4262\n",
      "💾 Checkpoint saved at row 1049\n"
     ]
    },
    {
     "name": "stderr",
     "output_type": "stream",
     "text": [
      "Generating emails:  84%|████████▍ | 1051/1250 [5:00:29<43:14, 13.04s/it]"
     ]
    },
    {
     "name": "stdout",
     "output_type": "stream",
     "text": [
      "📨 Response received\n",
      "✅ Response text length: 1965\n"
     ]
    },
    {
     "name": "stderr",
     "output_type": "stream",
     "text": [
      "Generating emails:  84%|████████▍ | 1052/1250 [5:00:40<40:42, 12.33s/it]"
     ]
    },
    {
     "name": "stdout",
     "output_type": "stream",
     "text": [
      "📨 Response received\n",
      "✅ Response text length: 1812\n"
     ]
    },
    {
     "name": "stderr",
     "output_type": "stream",
     "text": [
      "Generating emails:  84%|████████▍ | 1053/1250 [5:00:56<43:57, 13.39s/it]"
     ]
    },
    {
     "name": "stdout",
     "output_type": "stream",
     "text": [
      "📨 Response received\n",
      "✅ Response text length: 4174\n"
     ]
    },
    {
     "name": "stderr",
     "output_type": "stream",
     "text": [
      "Generating emails:  84%|████████▍ | 1054/1250 [5:01:07<41:01, 12.56s/it]"
     ]
    },
    {
     "name": "stdout",
     "output_type": "stream",
     "text": [
      "📨 Response received\n",
      "✅ Response text length: 2307\n"
     ]
    },
    {
     "name": "stderr",
     "output_type": "stream",
     "text": [
      "Generating emails:  84%|████████▍ | 1055/1250 [5:01:19<40:16, 12.39s/it]"
     ]
    },
    {
     "name": "stdout",
     "output_type": "stream",
     "text": [
      "📨 Response received\n",
      "✅ Response text length: 2287\n"
     ]
    },
    {
     "name": "stderr",
     "output_type": "stream",
     "text": [
      "Generating emails:  84%|████████▍ | 1056/1250 [5:01:30<39:19, 12.16s/it]"
     ]
    },
    {
     "name": "stdout",
     "output_type": "stream",
     "text": [
      "📨 Response received\n",
      "✅ Response text length: 2867\n"
     ]
    },
    {
     "name": "stderr",
     "output_type": "stream",
     "text": [
      "Generating emails:  85%|████████▍ | 1057/1250 [5:01:45<41:25, 12.88s/it]"
     ]
    },
    {
     "name": "stdout",
     "output_type": "stream",
     "text": [
      "📨 Response received\n",
      "✅ Response text length: 2404\n"
     ]
    },
    {
     "name": "stderr",
     "output_type": "stream",
     "text": [
      "Generating emails:  85%|████████▍ | 1058/1250 [5:01:54<37:55, 11.85s/it]"
     ]
    },
    {
     "name": "stdout",
     "output_type": "stream",
     "text": [
      "📨 Response received\n",
      "✅ Response text length: 2299\n"
     ]
    },
    {
     "name": "stderr",
     "output_type": "stream",
     "text": [
      "Generating emails:  85%|████████▍ | 1059/1250 [5:02:05<37:03, 11.64s/it]"
     ]
    },
    {
     "name": "stdout",
     "output_type": "stream",
     "text": [
      "📨 Response received\n",
      "✅ Response text length: 2641\n"
     ]
    },
    {
     "name": "stderr",
     "output_type": "stream",
     "text": [
      "Generating emails:  85%|████████▍ | 1060/1250 [5:02:19<38:21, 12.11s/it]"
     ]
    },
    {
     "name": "stdout",
     "output_type": "stream",
     "text": [
      "📨 Response received\n",
      "✅ Response text length: 4389\n"
     ]
    },
    {
     "name": "stderr",
     "output_type": "stream",
     "text": [
      "Generating emails:  85%|████████▍ | 1061/1250 [5:02:34<40:58, 13.01s/it]"
     ]
    },
    {
     "name": "stdout",
     "output_type": "stream",
     "text": [
      "📨 Response received\n",
      "✅ Response text length: 4026\n",
      "❌ Failed at row 1060: Unterminated string starting at: line 3 column 17 (char 119)\n"
     ]
    },
    {
     "name": "stderr",
     "output_type": "stream",
     "text": [
      "Generating emails:  85%|████████▍ | 1062/1250 [5:02:44<38:42, 12.36s/it]"
     ]
    },
    {
     "name": "stdout",
     "output_type": "stream",
     "text": [
      "📨 Response received\n",
      "✅ Response text length: 2079\n"
     ]
    },
    {
     "name": "stderr",
     "output_type": "stream",
     "text": [
      "Generating emails:  85%|████████▌ | 1063/1250 [5:02:58<39:22, 12.63s/it]"
     ]
    },
    {
     "name": "stdout",
     "output_type": "stream",
     "text": [
      "📨 Response received\n",
      "✅ Response text length: 1999\n"
     ]
    },
    {
     "name": "stderr",
     "output_type": "stream",
     "text": [
      "Generating emails:  85%|████████▌ | 1064/1250 [5:03:10<38:36, 12.45s/it]"
     ]
    },
    {
     "name": "stdout",
     "output_type": "stream",
     "text": [
      "📨 Response received\n",
      "✅ Response text length: 1144\n"
     ]
    },
    {
     "name": "stderr",
     "output_type": "stream",
     "text": [
      "Generating emails:  85%|████████▌ | 1065/1250 [5:03:25<41:22, 13.42s/it]"
     ]
    },
    {
     "name": "stdout",
     "output_type": "stream",
     "text": [
      "📨 Response received\n",
      "✅ Response text length: 1684\n"
     ]
    },
    {
     "name": "stderr",
     "output_type": "stream",
     "text": [
      "Generating emails:  85%|████████▌ | 1066/1250 [5:03:44<45:37, 14.88s/it]"
     ]
    },
    {
     "name": "stdout",
     "output_type": "stream",
     "text": [
      "📨 Response received\n",
      "❌ Failed at row 1065: API response finish_reason: 2\n"
     ]
    },
    {
     "name": "stderr",
     "output_type": "stream",
     "text": [
      "Generating emails:  85%|████████▌ | 1067/1250 [5:04:00<47:03, 15.43s/it]"
     ]
    },
    {
     "name": "stdout",
     "output_type": "stream",
     "text": [
      "📨 Response received\n",
      "✅ Response text length: 4138\n"
     ]
    },
    {
     "name": "stderr",
     "output_type": "stream",
     "text": [
      "Generating emails:  85%|████████▌ | 1068/1250 [5:04:13<44:08, 14.55s/it]"
     ]
    },
    {
     "name": "stdout",
     "output_type": "stream",
     "text": [
      "📨 Response received\n",
      "✅ Response text length: 2085\n"
     ]
    },
    {
     "name": "stderr",
     "output_type": "stream",
     "text": [
      "Generating emails:  86%|████████▌ | 1069/1250 [5:04:25<41:51, 13.87s/it]"
     ]
    },
    {
     "name": "stdout",
     "output_type": "stream",
     "text": [
      "📨 Response received\n",
      "✅ Response text length: 2610\n"
     ]
    },
    {
     "name": "stderr",
     "output_type": "stream",
     "text": [
      "Generating emails:  86%|████████▌ | 1070/1250 [5:04:38<40:52, 13.63s/it]"
     ]
    },
    {
     "name": "stdout",
     "output_type": "stream",
     "text": [
      "📨 Response received\n",
      "✅ Response text length: 2543\n"
     ]
    },
    {
     "name": "stderr",
     "output_type": "stream",
     "text": [
      "Generating emails:  86%|████████▌ | 1071/1250 [5:04:54<42:22, 14.21s/it]"
     ]
    },
    {
     "name": "stdout",
     "output_type": "stream",
     "text": [
      "📨 Response received\n",
      "✅ Response text length: 2022\n"
     ]
    },
    {
     "name": "stderr",
     "output_type": "stream",
     "text": [
      "Generating emails:  86%|████████▌ | 1072/1250 [5:05:11<44:49, 15.11s/it]"
     ]
    },
    {
     "name": "stdout",
     "output_type": "stream",
     "text": [
      "📨 Response received\n",
      "❌ Failed at row 1071: API response finish_reason: 2\n"
     ]
    },
    {
     "name": "stderr",
     "output_type": "stream",
     "text": [
      "Generating emails:  86%|████████▌ | 1073/1250 [5:05:22<41:07, 13.94s/it]"
     ]
    },
    {
     "name": "stdout",
     "output_type": "stream",
     "text": [
      "📨 Response received\n",
      "✅ Response text length: 2435\n"
     ]
    },
    {
     "name": "stderr",
     "output_type": "stream",
     "text": [
      "Generating emails:  86%|████████▌ | 1074/1250 [5:05:33<38:25, 13.10s/it]"
     ]
    },
    {
     "name": "stdout",
     "output_type": "stream",
     "text": [
      "📨 Response received\n",
      "✅ Response text length: 2733\n"
     ]
    },
    {
     "name": "stderr",
     "output_type": "stream",
     "text": [
      "Generating emails:  86%|████████▌ | 1075/1250 [5:05:49<40:01, 13.72s/it]"
     ]
    },
    {
     "name": "stdout",
     "output_type": "stream",
     "text": [
      "📨 Response received\n",
      "✅ Response text length: 2905\n"
     ]
    },
    {
     "name": "stderr",
     "output_type": "stream",
     "text": [
      "Generating emails:  86%|████████▌ | 1076/1250 [5:06:01<38:53, 13.41s/it]"
     ]
    },
    {
     "name": "stdout",
     "output_type": "stream",
     "text": [
      "📨 Response received\n",
      "✅ Response text length: 3250\n"
     ]
    },
    {
     "name": "stderr",
     "output_type": "stream",
     "text": [
      "Generating emails:  86%|████████▌ | 1077/1250 [5:06:13<37:10, 12.89s/it]"
     ]
    },
    {
     "name": "stdout",
     "output_type": "stream",
     "text": [
      "📨 Response received\n",
      "✅ Response text length: 2058\n"
     ]
    },
    {
     "name": "stderr",
     "output_type": "stream",
     "text": [
      "Generating emails:  86%|████████▌ | 1078/1250 [5:06:27<37:58, 13.25s/it]"
     ]
    },
    {
     "name": "stdout",
     "output_type": "stream",
     "text": [
      "📨 Response received\n",
      "✅ Response text length: 2365\n"
     ]
    },
    {
     "name": "stderr",
     "output_type": "stream",
     "text": [
      "Generating emails:  86%|████████▋ | 1079/1250 [5:06:44<41:18, 14.50s/it]"
     ]
    },
    {
     "name": "stdout",
     "output_type": "stream",
     "text": [
      "📨 Response received\n",
      "✅ Response text length: 1707\n"
     ]
    },
    {
     "name": "stderr",
     "output_type": "stream",
     "text": [
      "Generating emails:  86%|████████▋ | 1080/1250 [5:06:54<36:57, 13.05s/it]"
     ]
    },
    {
     "name": "stdout",
     "output_type": "stream",
     "text": [
      "📨 Response received\n",
      "✅ Response text length: 599\n"
     ]
    },
    {
     "name": "stderr",
     "output_type": "stream",
     "text": [
      "Generating emails:  86%|████████▋ | 1081/1250 [5:07:08<37:17, 13.24s/it]"
     ]
    },
    {
     "name": "stdout",
     "output_type": "stream",
     "text": [
      "📨 Response received\n",
      "✅ Response text length: 2392\n"
     ]
    },
    {
     "name": "stderr",
     "output_type": "stream",
     "text": [
      "Generating emails:  87%|████████▋ | 1082/1250 [5:07:17<33:44, 12.05s/it]"
     ]
    },
    {
     "name": "stdout",
     "output_type": "stream",
     "text": [
      "📨 Response received\n",
      "✅ Response text length: 1729\n"
     ]
    },
    {
     "name": "stderr",
     "output_type": "stream",
     "text": [
      "Generating emails:  87%|████████▋ | 1083/1250 [5:07:31<34:44, 12.48s/it]"
     ]
    },
    {
     "name": "stdout",
     "output_type": "stream",
     "text": [
      "📨 Response received\n",
      "✅ Response text length: 2807\n"
     ]
    },
    {
     "name": "stderr",
     "output_type": "stream",
     "text": [
      "Generating emails:  87%|████████▋ | 1084/1250 [5:07:42<33:25, 12.08s/it]"
     ]
    },
    {
     "name": "stdout",
     "output_type": "stream",
     "text": [
      "📨 Response received\n",
      "✅ Response text length: 443\n"
     ]
    },
    {
     "name": "stderr",
     "output_type": "stream",
     "text": [
      "Generating emails:  87%|████████▋ | 1085/1250 [5:07:53<32:16, 11.74s/it]"
     ]
    },
    {
     "name": "stdout",
     "output_type": "stream",
     "text": [
      "📨 Response received\n",
      "✅ Response text length: 2596\n"
     ]
    },
    {
     "name": "stderr",
     "output_type": "stream",
     "text": [
      "Generating emails:  87%|████████▋ | 1086/1250 [5:08:13<39:10, 14.33s/it]"
     ]
    },
    {
     "name": "stdout",
     "output_type": "stream",
     "text": [
      "📨 Response received\n",
      "❌ Failed at row 1085: API response finish_reason: 2\n"
     ]
    },
    {
     "name": "stderr",
     "output_type": "stream",
     "text": [
      "Generating emails:  87%|████████▋ | 1087/1250 [5:08:22<34:40, 12.77s/it]"
     ]
    },
    {
     "name": "stdout",
     "output_type": "stream",
     "text": [
      "📨 Response received\n",
      "✅ Response text length: 1940\n"
     ]
    },
    {
     "name": "stderr",
     "output_type": "stream",
     "text": [
      "Generating emails:  87%|████████▋ | 1088/1250 [5:08:34<34:03, 12.62s/it]"
     ]
    },
    {
     "name": "stdout",
     "output_type": "stream",
     "text": [
      "📨 Response received\n",
      "✅ Response text length: 3010\n"
     ]
    },
    {
     "name": "stderr",
     "output_type": "stream",
     "text": [
      "Generating emails:  87%|████████▋ | 1089/1250 [5:08:46<32:58, 12.29s/it]"
     ]
    },
    {
     "name": "stdout",
     "output_type": "stream",
     "text": [
      "📨 Response received\n",
      "✅ Response text length: 2448\n"
     ]
    },
    {
     "name": "stderr",
     "output_type": "stream",
     "text": [
      "Generating emails:  87%|████████▋ | 1090/1250 [5:08:55<30:27, 11.42s/it]"
     ]
    },
    {
     "name": "stdout",
     "output_type": "stream",
     "text": [
      "📨 Response received\n",
      "✅ Response text length: 524\n"
     ]
    },
    {
     "name": "stderr",
     "output_type": "stream",
     "text": [
      "Generating emails:  87%|████████▋ | 1091/1250 [5:09:14<36:11, 13.66s/it]"
     ]
    },
    {
     "name": "stdout",
     "output_type": "stream",
     "text": [
      "📨 Response received\n",
      "✅ Response text length: 5022\n"
     ]
    },
    {
     "name": "stderr",
     "output_type": "stream",
     "text": [
      "Generating emails:  87%|████████▋ | 1092/1250 [5:09:23<31:50, 12.09s/it]"
     ]
    },
    {
     "name": "stdout",
     "output_type": "stream",
     "text": [
      "📨 Response received\n",
      "✅ Response text length: 819\n"
     ]
    },
    {
     "name": "stderr",
     "output_type": "stream",
     "text": [
      "Generating emails:  87%|████████▋ | 1093/1250 [5:09:38<34:23, 13.14s/it]"
     ]
    },
    {
     "name": "stdout",
     "output_type": "stream",
     "text": [
      "📨 Response received\n",
      "✅ Response text length: 3129\n"
     ]
    },
    {
     "name": "stderr",
     "output_type": "stream",
     "text": [
      "Generating emails:  88%|████████▊ | 1094/1250 [5:09:51<34:15, 13.17s/it]"
     ]
    },
    {
     "name": "stdout",
     "output_type": "stream",
     "text": [
      "📨 Response received\n",
      "✅ Response text length: 2675\n"
     ]
    },
    {
     "name": "stderr",
     "output_type": "stream",
     "text": [
      "Generating emails:  88%|████████▊ | 1095/1250 [5:10:02<32:00, 12.39s/it]"
     ]
    },
    {
     "name": "stdout",
     "output_type": "stream",
     "text": [
      "📨 Response received\n",
      "✅ Response text length: 1987\n"
     ]
    },
    {
     "name": "stderr",
     "output_type": "stream",
     "text": [
      "Generating emails:  88%|████████▊ | 1096/1250 [5:10:21<37:12, 14.49s/it]"
     ]
    },
    {
     "name": "stdout",
     "output_type": "stream",
     "text": [
      "📨 Response received\n",
      "✅ Response text length: 2624\n"
     ]
    },
    {
     "name": "stderr",
     "output_type": "stream",
     "text": [
      "Generating emails:  88%|████████▊ | 1097/1250 [5:10:28<31:03, 12.18s/it]"
     ]
    },
    {
     "name": "stdout",
     "output_type": "stream",
     "text": [
      "📨 Response received\n",
      "✅ Response text length: 709\n"
     ]
    },
    {
     "name": "stderr",
     "output_type": "stream",
     "text": [
      "Generating emails:  88%|████████▊ | 1098/1250 [5:10:38<29:01, 11.46s/it]"
     ]
    },
    {
     "name": "stdout",
     "output_type": "stream",
     "text": [
      "📨 Response received\n",
      "✅ Response text length: 2712\n"
     ]
    },
    {
     "name": "stderr",
     "output_type": "stream",
     "text": [
      "Generating emails:  88%|████████▊ | 1099/1250 [5:10:50<28:56, 11.50s/it]"
     ]
    },
    {
     "name": "stdout",
     "output_type": "stream",
     "text": [
      "📨 Response received\n",
      "✅ Response text length: 2270\n"
     ]
    },
    {
     "name": "stderr",
     "output_type": "stream",
     "text": [
      "Generating emails:  88%|████████▊ | 1100/1250 [5:11:00<28:03, 11.22s/it]"
     ]
    },
    {
     "name": "stdout",
     "output_type": "stream",
     "text": [
      "📨 Response received\n",
      "✅ Response text length: 2094\n",
      "💾 Checkpoint saved at row 1099\n"
     ]
    },
    {
     "name": "stderr",
     "output_type": "stream",
     "text": [
      "Generating emails:  88%|████████▊ | 1101/1250 [5:11:12<28:29, 11.47s/it]"
     ]
    },
    {
     "name": "stdout",
     "output_type": "stream",
     "text": [
      "📨 Response received\n",
      "✅ Response text length: 2371\n"
     ]
    },
    {
     "name": "stderr",
     "output_type": "stream",
     "text": [
      "Generating emails:  88%|████████▊ | 1102/1250 [5:11:28<31:41, 12.85s/it]"
     ]
    },
    {
     "name": "stdout",
     "output_type": "stream",
     "text": [
      "📨 Response received\n",
      "✅ Response text length: 2857\n"
     ]
    },
    {
     "name": "stderr",
     "output_type": "stream",
     "text": [
      "Generating emails:  88%|████████▊ | 1103/1250 [5:11:39<29:45, 12.15s/it]"
     ]
    },
    {
     "name": "stdout",
     "output_type": "stream",
     "text": [
      "📨 Response received\n",
      "✅ Response text length: 2630\n"
     ]
    },
    {
     "name": "stderr",
     "output_type": "stream",
     "text": [
      "Generating emails:  88%|████████▊ | 1104/1250 [5:11:55<32:19, 13.28s/it]"
     ]
    },
    {
     "name": "stdout",
     "output_type": "stream",
     "text": [
      "📨 Response received\n",
      "✅ Response text length: 2741\n"
     ]
    },
    {
     "name": "stderr",
     "output_type": "stream",
     "text": [
      "Generating emails:  88%|████████▊ | 1105/1250 [5:12:13<35:44, 14.79s/it]"
     ]
    },
    {
     "name": "stdout",
     "output_type": "stream",
     "text": [
      "📨 Response received\n",
      "❌ Failed at row 1104: API response finish_reason: 2\n"
     ]
    },
    {
     "name": "stderr",
     "output_type": "stream",
     "text": [
      "Generating emails:  88%|████████▊ | 1106/1250 [5:12:27<34:55, 14.55s/it]"
     ]
    },
    {
     "name": "stdout",
     "output_type": "stream",
     "text": [
      "📨 Response received\n",
      "✅ Response text length: 2411\n"
     ]
    },
    {
     "name": "stderr",
     "output_type": "stream",
     "text": [
      "Generating emails:  89%|████████▊ | 1107/1250 [5:12:46<37:34, 15.77s/it]"
     ]
    },
    {
     "name": "stdout",
     "output_type": "stream",
     "text": [
      "📨 Response received\n",
      "❌ Failed at row 1106: API response finish_reason: 2\n"
     ]
    },
    {
     "name": "stderr",
     "output_type": "stream",
     "text": [
      "Generating emails:  89%|████████▊ | 1108/1250 [5:12:57<34:15, 14.47s/it]"
     ]
    },
    {
     "name": "stdout",
     "output_type": "stream",
     "text": [
      "📨 Response received\n",
      "✅ Response text length: 1874\n"
     ]
    },
    {
     "name": "stderr",
     "output_type": "stream",
     "text": [
      "Generating emails:  89%|████████▊ | 1109/1250 [5:13:09<32:13, 13.71s/it]"
     ]
    },
    {
     "name": "stdout",
     "output_type": "stream",
     "text": [
      "📨 Response received\n",
      "✅ Response text length: 2506\n"
     ]
    },
    {
     "name": "stderr",
     "output_type": "stream",
     "text": [
      "Generating emails:  89%|████████▉ | 1110/1250 [5:13:21<30:40, 13.14s/it]"
     ]
    },
    {
     "name": "stdout",
     "output_type": "stream",
     "text": [
      "📨 Response received\n",
      "✅ Response text length: 2063\n"
     ]
    },
    {
     "name": "stderr",
     "output_type": "stream",
     "text": [
      "Generating emails:  89%|████████▉ | 1111/1250 [5:13:34<30:16, 13.07s/it]"
     ]
    },
    {
     "name": "stdout",
     "output_type": "stream",
     "text": [
      "📨 Response received\n",
      "✅ Response text length: 2329\n"
     ]
    },
    {
     "name": "stderr",
     "output_type": "stream",
     "text": [
      "Generating emails:  89%|████████▉ | 1112/1250 [5:13:45<28:31, 12.41s/it]"
     ]
    },
    {
     "name": "stdout",
     "output_type": "stream",
     "text": [
      "📨 Response received\n",
      "✅ Response text length: 2090\n"
     ]
    },
    {
     "name": "stderr",
     "output_type": "stream",
     "text": [
      "Generating emails:  89%|████████▉ | 1113/1250 [5:13:59<29:55, 13.10s/it]"
     ]
    },
    {
     "name": "stdout",
     "output_type": "stream",
     "text": [
      "📨 Response received\n",
      "✅ Response text length: 1786\n"
     ]
    },
    {
     "name": "stderr",
     "output_type": "stream",
     "text": [
      "Generating emails:  89%|████████▉ | 1114/1250 [5:14:15<31:21, 13.83s/it]"
     ]
    },
    {
     "name": "stdout",
     "output_type": "stream",
     "text": [
      "📨 Response received\n",
      "✅ Response text length: 2971\n"
     ]
    },
    {
     "name": "stderr",
     "output_type": "stream",
     "text": [
      "Generating emails:  89%|████████▉ | 1115/1250 [5:14:27<29:52, 13.28s/it]"
     ]
    },
    {
     "name": "stdout",
     "output_type": "stream",
     "text": [
      "📨 Response received\n",
      "✅ Response text length: 1593\n"
     ]
    },
    {
     "name": "stderr",
     "output_type": "stream",
     "text": [
      "Generating emails:  89%|████████▉ | 1116/1250 [5:14:38<28:07, 12.59s/it]"
     ]
    },
    {
     "name": "stdout",
     "output_type": "stream",
     "text": [
      "📨 Response received\n",
      "✅ Response text length: 1920\n"
     ]
    },
    {
     "name": "stderr",
     "output_type": "stream",
     "text": [
      "Generating emails:  89%|████████▉ | 1117/1250 [5:14:47<25:47, 11.63s/it]"
     ]
    },
    {
     "name": "stdout",
     "output_type": "stream",
     "text": [
      "📨 Response received\n",
      "✅ Response text length: 2581\n"
     ]
    },
    {
     "name": "stderr",
     "output_type": "stream",
     "text": [
      "Generating emails:  89%|████████▉ | 1118/1250 [5:14:58<25:13, 11.47s/it]"
     ]
    },
    {
     "name": "stdout",
     "output_type": "stream",
     "text": [
      "📨 Response received\n",
      "✅ Response text length: 1538\n"
     ]
    },
    {
     "name": "stderr",
     "output_type": "stream",
     "text": [
      "Generating emails:  90%|████████▉ | 1119/1250 [5:15:16<29:15, 13.40s/it]"
     ]
    },
    {
     "name": "stdout",
     "output_type": "stream",
     "text": [
      "📨 Response received\n",
      "✅ Response text length: 3525\n"
     ]
    },
    {
     "name": "stderr",
     "output_type": "stream",
     "text": [
      "Generating emails:  90%|████████▉ | 1120/1250 [5:15:28<27:44, 12.80s/it]"
     ]
    },
    {
     "name": "stdout",
     "output_type": "stream",
     "text": [
      "📨 Response received\n",
      "✅ Response text length: 2717\n"
     ]
    },
    {
     "name": "stderr",
     "output_type": "stream",
     "text": [
      "Generating emails:  90%|████████▉ | 1121/1250 [5:15:41<28:12, 13.12s/it]"
     ]
    },
    {
     "name": "stdout",
     "output_type": "stream",
     "text": [
      "📨 Response received\n",
      "✅ Response text length: 2396\n"
     ]
    },
    {
     "name": "stderr",
     "output_type": "stream",
     "text": [
      "Generating emails:  90%|████████▉ | 1122/1250 [5:15:54<27:38, 12.96s/it]"
     ]
    },
    {
     "name": "stdout",
     "output_type": "stream",
     "text": [
      "📨 Response received\n",
      "✅ Response text length: 2367\n"
     ]
    },
    {
     "name": "stderr",
     "output_type": "stream",
     "text": [
      "Generating emails:  90%|████████▉ | 1123/1250 [5:16:11<29:49, 14.09s/it]"
     ]
    },
    {
     "name": "stdout",
     "output_type": "stream",
     "text": [
      "📨 Response received\n",
      "✅ Response text length: 2540\n"
     ]
    },
    {
     "name": "stderr",
     "output_type": "stream",
     "text": [
      "Generating emails:  90%|████████▉ | 1124/1250 [5:16:25<29:44, 14.16s/it]"
     ]
    },
    {
     "name": "stdout",
     "output_type": "stream",
     "text": [
      "📨 Response received\n",
      "✅ Response text length: 3026\n"
     ]
    },
    {
     "name": "stderr",
     "output_type": "stream",
     "text": [
      "Generating emails:  90%|█████████ | 1125/1250 [5:16:36<27:25, 13.16s/it]"
     ]
    },
    {
     "name": "stdout",
     "output_type": "stream",
     "text": [
      "📨 Response received\n",
      "✅ Response text length: 2249\n"
     ]
    },
    {
     "name": "stderr",
     "output_type": "stream",
     "text": [
      "Generating emails:  90%|█████████ | 1126/1250 [5:16:51<28:39, 13.87s/it]"
     ]
    },
    {
     "name": "stdout",
     "output_type": "stream",
     "text": [
      "📨 Response received\n",
      "✅ Response text length: 2866\n"
     ]
    },
    {
     "name": "stderr",
     "output_type": "stream",
     "text": [
      "Generating emails:  90%|█████████ | 1127/1250 [5:17:03<26:51, 13.11s/it]"
     ]
    },
    {
     "name": "stdout",
     "output_type": "stream",
     "text": [
      "📨 Response received\n",
      "✅ Response text length: 2000\n"
     ]
    },
    {
     "name": "stderr",
     "output_type": "stream",
     "text": [
      "Generating emails:  90%|█████████ | 1128/1250 [5:17:14<25:19, 12.46s/it]"
     ]
    },
    {
     "name": "stdout",
     "output_type": "stream",
     "text": [
      "📨 Response received\n",
      "✅ Response text length: 1136\n"
     ]
    },
    {
     "name": "stderr",
     "output_type": "stream",
     "text": [
      "Generating emails:  90%|█████████ | 1129/1250 [5:17:30<27:09, 13.47s/it]"
     ]
    },
    {
     "name": "stdout",
     "output_type": "stream",
     "text": [
      "📨 Response received\n",
      "✅ Response text length: 3257\n"
     ]
    },
    {
     "name": "stderr",
     "output_type": "stream",
     "text": [
      "Generating emails:  90%|█████████ | 1130/1250 [5:17:43<26:38, 13.32s/it]"
     ]
    },
    {
     "name": "stdout",
     "output_type": "stream",
     "text": [
      "📨 Response received\n",
      "✅ Response text length: 2163\n"
     ]
    },
    {
     "name": "stderr",
     "output_type": "stream",
     "text": [
      "Generating emails:  90%|█████████ | 1131/1250 [5:17:56<26:42, 13.47s/it]"
     ]
    },
    {
     "name": "stdout",
     "output_type": "stream",
     "text": [
      "📨 Response received\n",
      "✅ Response text length: 2397\n"
     ]
    },
    {
     "name": "stderr",
     "output_type": "stream",
     "text": [
      "Generating emails:  91%|█████████ | 1132/1250 [5:18:07<25:00, 12.71s/it]"
     ]
    },
    {
     "name": "stdout",
     "output_type": "stream",
     "text": [
      "📨 Response received\n",
      "✅ Response text length: 2131\n"
     ]
    },
    {
     "name": "stderr",
     "output_type": "stream",
     "text": [
      "Generating emails:  91%|█████████ | 1133/1250 [5:18:21<25:23, 13.02s/it]"
     ]
    },
    {
     "name": "stdout",
     "output_type": "stream",
     "text": [
      "📨 Response received\n",
      "✅ Response text length: 1867\n"
     ]
    },
    {
     "name": "stderr",
     "output_type": "stream",
     "text": [
      "Generating emails:  91%|█████████ | 1134/1250 [5:18:34<25:00, 12.93s/it]"
     ]
    },
    {
     "name": "stdout",
     "output_type": "stream",
     "text": [
      "📨 Response received\n",
      "✅ Response text length: 2489\n"
     ]
    },
    {
     "name": "stderr",
     "output_type": "stream",
     "text": [
      "Generating emails:  91%|█████████ | 1135/1250 [5:18:51<27:28, 14.34s/it]"
     ]
    },
    {
     "name": "stdout",
     "output_type": "stream",
     "text": [
      "📨 Response received\n",
      "✅ Response text length: 2180\n"
     ]
    },
    {
     "name": "stderr",
     "output_type": "stream",
     "text": [
      "Generating emails:  91%|█████████ | 1136/1250 [5:19:03<25:56, 13.66s/it]"
     ]
    },
    {
     "name": "stdout",
     "output_type": "stream",
     "text": [
      "📨 Response received\n",
      "✅ Response text length: 2358\n"
     ]
    },
    {
     "name": "stderr",
     "output_type": "stream",
     "text": [
      "Generating emails:  91%|█████████ | 1137/1250 [5:19:15<24:36, 13.07s/it]"
     ]
    },
    {
     "name": "stdout",
     "output_type": "stream",
     "text": [
      "📨 Response received\n",
      "✅ Response text length: 2127\n"
     ]
    },
    {
     "name": "stderr",
     "output_type": "stream",
     "text": [
      "Generating emails:  91%|█████████ | 1138/1250 [5:19:34<27:36, 14.79s/it]"
     ]
    },
    {
     "name": "stdout",
     "output_type": "stream",
     "text": [
      "📨 Response received\n",
      "✅ Response text length: 2343\n"
     ]
    },
    {
     "name": "stderr",
     "output_type": "stream",
     "text": [
      "Generating emails:  91%|█████████ | 1139/1250 [5:19:51<28:31, 15.42s/it]"
     ]
    },
    {
     "name": "stdout",
     "output_type": "stream",
     "text": [
      "📨 Response received\n",
      "✅ Response text length: 4502\n"
     ]
    },
    {
     "name": "stderr",
     "output_type": "stream",
     "text": [
      "Generating emails:  91%|█████████ | 1140/1250 [5:20:02<25:58, 14.16s/it]"
     ]
    },
    {
     "name": "stdout",
     "output_type": "stream",
     "text": [
      "📨 Response received\n",
      "✅ Response text length: 680\n"
     ]
    },
    {
     "name": "stderr",
     "output_type": "stream",
     "text": [
      "Generating emails:  91%|█████████▏| 1141/1250 [5:20:11<23:04, 12.70s/it]"
     ]
    },
    {
     "name": "stdout",
     "output_type": "stream",
     "text": [
      "📨 Response received\n",
      "✅ Response text length: 2133\n"
     ]
    },
    {
     "name": "stderr",
     "output_type": "stream",
     "text": [
      "Generating emails:  91%|█████████▏| 1142/1250 [5:20:22<21:43, 12.07s/it]"
     ]
    },
    {
     "name": "stdout",
     "output_type": "stream",
     "text": [
      "📨 Response received\n",
      "✅ Response text length: 2098\n"
     ]
    },
    {
     "name": "stderr",
     "output_type": "stream",
     "text": [
      "Generating emails:  91%|█████████▏| 1143/1250 [5:20:33<21:08, 11.86s/it]"
     ]
    },
    {
     "name": "stdout",
     "output_type": "stream",
     "text": [
      "📨 Response received\n",
      "✅ Response text length: 2115\n"
     ]
    },
    {
     "name": "stderr",
     "output_type": "stream",
     "text": [
      "Generating emails:  92%|█████████▏| 1144/1250 [5:20:44<20:30, 11.61s/it]"
     ]
    },
    {
     "name": "stdout",
     "output_type": "stream",
     "text": [
      "📨 Response received\n",
      "✅ Response text length: 1355\n"
     ]
    },
    {
     "name": "stderr",
     "output_type": "stream",
     "text": [
      "Generating emails:  92%|█████████▏| 1145/1250 [5:21:00<22:30, 12.86s/it]"
     ]
    },
    {
     "name": "stdout",
     "output_type": "stream",
     "text": [
      "📨 Response received\n",
      "✅ Response text length: 2312\n"
     ]
    },
    {
     "name": "stderr",
     "output_type": "stream",
     "text": [
      "Generating emails:  92%|█████████▏| 1146/1250 [5:21:17<24:11, 13.96s/it]"
     ]
    },
    {
     "name": "stdout",
     "output_type": "stream",
     "text": [
      "📨 Response received\n",
      "✅ Response text length: 2079\n"
     ]
    },
    {
     "name": "stderr",
     "output_type": "stream",
     "text": [
      "Generating emails:  92%|█████████▏| 1147/1250 [5:21:31<24:03, 14.01s/it]"
     ]
    },
    {
     "name": "stdout",
     "output_type": "stream",
     "text": [
      "📨 Response received\n",
      "✅ Response text length: 3151\n"
     ]
    },
    {
     "name": "stderr",
     "output_type": "stream",
     "text": [
      "Generating emails:  92%|█████████▏| 1148/1250 [5:21:46<24:25, 14.37s/it]"
     ]
    },
    {
     "name": "stdout",
     "output_type": "stream",
     "text": [
      "📨 Response received\n",
      "✅ Response text length: 2632\n"
     ]
    },
    {
     "name": "stderr",
     "output_type": "stream",
     "text": [
      "Generating emails:  92%|█████████▏| 1149/1250 [5:22:02<24:59, 14.85s/it]"
     ]
    },
    {
     "name": "stdout",
     "output_type": "stream",
     "text": [
      "📨 Response received\n",
      "✅ Response text length: 2689\n"
     ]
    },
    {
     "name": "stderr",
     "output_type": "stream",
     "text": [
      "Generating emails:  92%|█████████▏| 1150/1250 [5:22:17<24:52, 14.93s/it]"
     ]
    },
    {
     "name": "stdout",
     "output_type": "stream",
     "text": [
      "📨 Response received\n",
      "✅ Response text length: 2352\n",
      "💾 Checkpoint saved at row 1149\n"
     ]
    },
    {
     "name": "stderr",
     "output_type": "stream",
     "text": [
      "Generating emails:  92%|█████████▏| 1151/1250 [5:22:31<23:57, 14.52s/it]"
     ]
    },
    {
     "name": "stdout",
     "output_type": "stream",
     "text": [
      "📨 Response received\n",
      "✅ Response text length: 2441\n"
     ]
    },
    {
     "name": "stderr",
     "output_type": "stream",
     "text": [
      "Generating emails:  92%|█████████▏| 1152/1250 [5:22:41<21:47, 13.34s/it]"
     ]
    },
    {
     "name": "stdout",
     "output_type": "stream",
     "text": [
      "📨 Response received\n",
      "✅ Response text length: 1894\n"
     ]
    },
    {
     "name": "stderr",
     "output_type": "stream",
     "text": [
      "Generating emails:  92%|█████████▏| 1153/1250 [5:23:00<23:58, 14.83s/it]"
     ]
    },
    {
     "name": "stdout",
     "output_type": "stream",
     "text": [
      "📨 Response received\n",
      "✅ Response text length: 4001\n"
     ]
    },
    {
     "name": "stderr",
     "output_type": "stream",
     "text": [
      "Generating emails:  92%|█████████▏| 1154/1250 [5:23:14<23:21, 14.60s/it]"
     ]
    },
    {
     "name": "stdout",
     "output_type": "stream",
     "text": [
      "📨 Response received\n",
      "✅ Response text length: 2454\n"
     ]
    },
    {
     "name": "stderr",
     "output_type": "stream",
     "text": [
      "Generating emails:  92%|█████████▏| 1155/1250 [5:23:33<25:16, 15.97s/it]"
     ]
    },
    {
     "name": "stdout",
     "output_type": "stream",
     "text": [
      "📨 Response received\n",
      "❌ Failed at row 1154: API response finish_reason: 2\n"
     ]
    },
    {
     "name": "stderr",
     "output_type": "stream",
     "text": [
      "Generating emails:  92%|█████████▏| 1156/1250 [5:23:48<24:28, 15.62s/it]"
     ]
    },
    {
     "name": "stdout",
     "output_type": "stream",
     "text": [
      "📨 Response received\n",
      "✅ Response text length: 2092\n"
     ]
    },
    {
     "name": "stderr",
     "output_type": "stream",
     "text": [
      "Generating emails:  93%|█████████▎| 1157/1250 [5:24:00<22:46, 14.69s/it]"
     ]
    },
    {
     "name": "stdout",
     "output_type": "stream",
     "text": [
      "📨 Response received\n",
      "✅ Response text length: 1966\n"
     ]
    },
    {
     "name": "stderr",
     "output_type": "stream",
     "text": [
      "Generating emails:  93%|█████████▎| 1158/1250 [5:24:14<22:22, 14.59s/it]"
     ]
    },
    {
     "name": "stdout",
     "output_type": "stream",
     "text": [
      "📨 Response received\n",
      "✅ Response text length: 2202\n"
     ]
    },
    {
     "name": "stderr",
     "output_type": "stream",
     "text": [
      "Generating emails:  93%|█████████▎| 1159/1250 [5:24:26<20:47, 13.71s/it]"
     ]
    },
    {
     "name": "stdout",
     "output_type": "stream",
     "text": [
      "📨 Response received\n",
      "✅ Response text length: 2424\n"
     ]
    },
    {
     "name": "stderr",
     "output_type": "stream",
     "text": [
      "Generating emails:  93%|█████████▎| 1160/1250 [5:24:39<20:19, 13.55s/it]"
     ]
    },
    {
     "name": "stdout",
     "output_type": "stream",
     "text": [
      "📨 Response received\n",
      "✅ Response text length: 2371\n"
     ]
    },
    {
     "name": "stderr",
     "output_type": "stream",
     "text": [
      "Generating emails:  93%|█████████▎| 1161/1250 [5:24:54<20:28, 13.81s/it]"
     ]
    },
    {
     "name": "stdout",
     "output_type": "stream",
     "text": [
      "📨 Response received\n",
      "✅ Response text length: 2588\n"
     ]
    },
    {
     "name": "stderr",
     "output_type": "stream",
     "text": [
      "Generating emails:  93%|█████████▎| 1162/1250 [5:25:05<19:07, 13.04s/it]"
     ]
    },
    {
     "name": "stdout",
     "output_type": "stream",
     "text": [
      "📨 Response received\n",
      "✅ Response text length: 2019\n"
     ]
    },
    {
     "name": "stderr",
     "output_type": "stream",
     "text": [
      "Generating emails:  93%|█████████▎| 1163/1250 [5:25:18<19:07, 13.19s/it]"
     ]
    },
    {
     "name": "stdout",
     "output_type": "stream",
     "text": [
      "📨 Response received\n",
      "✅ Response text length: 2416\n"
     ]
    },
    {
     "name": "stderr",
     "output_type": "stream",
     "text": [
      "Generating emails:  93%|█████████▎| 1164/1250 [5:25:26<16:27, 11.48s/it]"
     ]
    },
    {
     "name": "stdout",
     "output_type": "stream",
     "text": [
      "📨 Response received\n",
      "✅ Response text length: 720\n"
     ]
    },
    {
     "name": "stderr",
     "output_type": "stream",
     "text": [
      "Generating emails:  93%|█████████▎| 1165/1250 [5:25:37<15:58, 11.28s/it]"
     ]
    },
    {
     "name": "stdout",
     "output_type": "stream",
     "text": [
      "📨 Response received\n",
      "✅ Response text length: 2571\n"
     ]
    },
    {
     "name": "stderr",
     "output_type": "stream",
     "text": [
      "Generating emails:  93%|█████████▎| 1166/1250 [5:25:53<17:44, 12.67s/it]"
     ]
    },
    {
     "name": "stdout",
     "output_type": "stream",
     "text": [
      "📨 Response received\n",
      "✅ Response text length: 3187\n"
     ]
    },
    {
     "name": "stderr",
     "output_type": "stream",
     "text": [
      "Generating emails:  93%|█████████▎| 1167/1250 [5:26:05<17:17, 12.50s/it]"
     ]
    },
    {
     "name": "stdout",
     "output_type": "stream",
     "text": [
      "📨 Response received\n",
      "✅ Response text length: 2910\n"
     ]
    },
    {
     "name": "stderr",
     "output_type": "stream",
     "text": [
      "Generating emails:  93%|█████████▎| 1168/1250 [5:26:17<16:56, 12.39s/it]"
     ]
    },
    {
     "name": "stdout",
     "output_type": "stream",
     "text": [
      "📨 Response received\n",
      "✅ Response text length: 2710\n"
     ]
    },
    {
     "name": "stderr",
     "output_type": "stream",
     "text": [
      "Generating emails:  94%|█████████▎| 1169/1250 [5:26:32<17:44, 13.14s/it]"
     ]
    },
    {
     "name": "stdout",
     "output_type": "stream",
     "text": [
      "📨 Response received\n",
      "✅ Response text length: 2275\n"
     ]
    },
    {
     "name": "stderr",
     "output_type": "stream",
     "text": [
      "Generating emails:  94%|█████████▎| 1170/1250 [5:26:47<18:24, 13.81s/it]"
     ]
    },
    {
     "name": "stdout",
     "output_type": "stream",
     "text": [
      "📨 Response received\n",
      "✅ Response text length: 2748\n"
     ]
    },
    {
     "name": "stderr",
     "output_type": "stream",
     "text": [
      "Generating emails:  94%|█████████▎| 1171/1250 [5:27:02<18:40, 14.19s/it]"
     ]
    },
    {
     "name": "stdout",
     "output_type": "stream",
     "text": [
      "📨 Response received\n",
      "✅ Response text length: 1995\n"
     ]
    },
    {
     "name": "stderr",
     "output_type": "stream",
     "text": [
      "Generating emails:  94%|█████████▍| 1172/1250 [5:27:19<19:29, 15.00s/it]"
     ]
    },
    {
     "name": "stdout",
     "output_type": "stream",
     "text": [
      "📨 Response received\n",
      "✅ Response text length: 2441\n"
     ]
    },
    {
     "name": "stderr",
     "output_type": "stream",
     "text": [
      "Generating emails:  94%|█████████▍| 1173/1250 [5:27:31<17:54, 13.95s/it]"
     ]
    },
    {
     "name": "stdout",
     "output_type": "stream",
     "text": [
      "📨 Response received\n",
      "✅ Response text length: 1859\n"
     ]
    },
    {
     "name": "stderr",
     "output_type": "stream",
     "text": [
      "Generating emails:  94%|█████████▍| 1174/1250 [5:27:44<17:22, 13.72s/it]"
     ]
    },
    {
     "name": "stdout",
     "output_type": "stream",
     "text": [
      "📨 Response received\n",
      "✅ Response text length: 2469\n"
     ]
    },
    {
     "name": "stderr",
     "output_type": "stream",
     "text": [
      "Generating emails:  94%|█████████▍| 1175/1250 [5:27:51<14:46, 11.81s/it]"
     ]
    },
    {
     "name": "stdout",
     "output_type": "stream",
     "text": [
      "📨 Response received\n",
      "✅ Response text length: 632\n"
     ]
    },
    {
     "name": "stderr",
     "output_type": "stream",
     "text": [
      "Generating emails:  94%|█████████▍| 1176/1250 [5:28:06<15:33, 12.61s/it]"
     ]
    },
    {
     "name": "stdout",
     "output_type": "stream",
     "text": [
      "📨 Response received\n",
      "✅ Response text length: 2857\n"
     ]
    },
    {
     "name": "stderr",
     "output_type": "stream",
     "text": [
      "Generating emails:  94%|█████████▍| 1177/1250 [5:28:20<15:55, 13.09s/it]"
     ]
    },
    {
     "name": "stdout",
     "output_type": "stream",
     "text": [
      "📨 Response received\n",
      "✅ Response text length: 2487\n"
     ]
    },
    {
     "name": "stderr",
     "output_type": "stream",
     "text": [
      "Generating emails:  94%|█████████▍| 1178/1250 [5:28:33<15:44, 13.12s/it]"
     ]
    },
    {
     "name": "stdout",
     "output_type": "stream",
     "text": [
      "📨 Response received\n",
      "✅ Response text length: 2693\n"
     ]
    },
    {
     "name": "stderr",
     "output_type": "stream",
     "text": [
      "Generating emails:  94%|█████████▍| 1179/1250 [5:28:48<16:00, 13.52s/it]"
     ]
    },
    {
     "name": "stdout",
     "output_type": "stream",
     "text": [
      "📨 Response received\n",
      "✅ Response text length: 1847\n"
     ]
    },
    {
     "name": "stderr",
     "output_type": "stream",
     "text": [
      "Generating emails:  94%|█████████▍| 1180/1250 [5:28:58<14:38, 12.55s/it]"
     ]
    },
    {
     "name": "stdout",
     "output_type": "stream",
     "text": [
      "📨 Response received\n",
      "✅ Response text length: 2104\n"
     ]
    },
    {
     "name": "stderr",
     "output_type": "stream",
     "text": [
      "Generating emails:  94%|█████████▍| 1181/1250 [5:29:10<14:26, 12.55s/it]"
     ]
    },
    {
     "name": "stdout",
     "output_type": "stream",
     "text": [
      "📨 Response received\n",
      "✅ Response text length: 2810\n"
     ]
    },
    {
     "name": "stderr",
     "output_type": "stream",
     "text": [
      "Generating emails:  95%|█████████▍| 1182/1250 [5:29:21<13:40, 12.07s/it]"
     ]
    },
    {
     "name": "stdout",
     "output_type": "stream",
     "text": [
      "📨 Response received\n",
      "✅ Response text length: 2041\n"
     ]
    },
    {
     "name": "stderr",
     "output_type": "stream",
     "text": [
      "Generating emails:  95%|█████████▍| 1183/1250 [5:29:35<14:10, 12.69s/it]"
     ]
    },
    {
     "name": "stdout",
     "output_type": "stream",
     "text": [
      "📨 Response received\n",
      "✅ Response text length: 2641\n"
     ]
    },
    {
     "name": "stderr",
     "output_type": "stream",
     "text": [
      "Generating emails:  95%|█████████▍| 1184/1250 [5:29:45<12:56, 11.76s/it]"
     ]
    },
    {
     "name": "stdout",
     "output_type": "stream",
     "text": [
      "📨 Response received\n",
      "✅ Response text length: 815\n"
     ]
    },
    {
     "name": "stderr",
     "output_type": "stream",
     "text": [
      "Generating emails:  95%|█████████▍| 1185/1250 [5:30:01<14:07, 13.04s/it]"
     ]
    },
    {
     "name": "stdout",
     "output_type": "stream",
     "text": [
      "📨 Response received\n",
      "✅ Response text length: 2935\n"
     ]
    },
    {
     "name": "stderr",
     "output_type": "stream",
     "text": [
      "Generating emails:  95%|█████████▍| 1186/1250 [5:30:17<14:57, 14.03s/it]"
     ]
    },
    {
     "name": "stdout",
     "output_type": "stream",
     "text": [
      "📨 Response received\n",
      "✅ Response text length: 2233\n"
     ]
    },
    {
     "name": "stderr",
     "output_type": "stream",
     "text": [
      "Generating emails:  95%|█████████▍| 1187/1250 [5:30:34<15:39, 14.91s/it]"
     ]
    },
    {
     "name": "stdout",
     "output_type": "stream",
     "text": [
      "📨 Response received\n",
      "✅ Response text length: 4410\n"
     ]
    },
    {
     "name": "stderr",
     "output_type": "stream",
     "text": [
      "Generating emails:  95%|█████████▌| 1188/1250 [5:30:44<13:50, 13.39s/it]"
     ]
    },
    {
     "name": "stdout",
     "output_type": "stream",
     "text": [
      "📨 Response received\n",
      "✅ Response text length: 2431\n"
     ]
    },
    {
     "name": "stderr",
     "output_type": "stream",
     "text": [
      "Generating emails:  95%|█████████▌| 1189/1250 [5:30:53<12:17, 12.10s/it]"
     ]
    },
    {
     "name": "stdout",
     "output_type": "stream",
     "text": [
      "📨 Response received\n",
      "✅ Response text length: 2321\n"
     ]
    },
    {
     "name": "stderr",
     "output_type": "stream",
     "text": [
      "Generating emails:  95%|█████████▌| 1190/1250 [5:31:00<10:26, 10.45s/it]"
     ]
    },
    {
     "name": "stdout",
     "output_type": "stream",
     "text": [
      "📨 Response received\n",
      "✅ Response text length: 592\n"
     ]
    },
    {
     "name": "stderr",
     "output_type": "stream",
     "text": [
      "Generating emails:  95%|█████████▌| 1191/1250 [5:31:10<10:14, 10.42s/it]"
     ]
    },
    {
     "name": "stdout",
     "output_type": "stream",
     "text": [
      "📨 Response received\n",
      "✅ Response text length: 2123\n"
     ]
    },
    {
     "name": "stderr",
     "output_type": "stream",
     "text": [
      "Generating emails:  95%|█████████▌| 1192/1250 [5:31:23<10:47, 11.16s/it]"
     ]
    },
    {
     "name": "stdout",
     "output_type": "stream",
     "text": [
      "📨 Response received\n",
      "✅ Response text length: 2251\n"
     ]
    },
    {
     "name": "stderr",
     "output_type": "stream",
     "text": [
      "Generating emails:  95%|█████████▌| 1193/1250 [5:31:36<10:58, 11.55s/it]"
     ]
    },
    {
     "name": "stdout",
     "output_type": "stream",
     "text": [
      "📨 Response received\n",
      "✅ Response text length: 2154\n"
     ]
    },
    {
     "name": "stderr",
     "output_type": "stream",
     "text": [
      "Generating emails:  96%|█████████▌| 1194/1250 [5:31:53<12:26, 13.33s/it]"
     ]
    },
    {
     "name": "stdout",
     "output_type": "stream",
     "text": [
      "📨 Response received\n",
      "❌ Failed at row 1193: API response finish_reason: 2\n"
     ]
    },
    {
     "name": "stderr",
     "output_type": "stream",
     "text": [
      "Generating emails:  96%|█████████▌| 1195/1250 [5:32:07<12:24, 13.53s/it]"
     ]
    },
    {
     "name": "stdout",
     "output_type": "stream",
     "text": [
      "📨 Response received\n",
      "✅ Response text length: 2513\n"
     ]
    },
    {
     "name": "stderr",
     "output_type": "stream",
     "text": [
      "Generating emails:  96%|█████████▌| 1196/1250 [5:32:20<12:06, 13.46s/it]"
     ]
    },
    {
     "name": "stdout",
     "output_type": "stream",
     "text": [
      "📨 Response received\n",
      "✅ Response text length: 660\n"
     ]
    },
    {
     "name": "stderr",
     "output_type": "stream",
     "text": [
      "Generating emails:  96%|█████████▌| 1197/1250 [5:32:31<11:14, 12.73s/it]"
     ]
    },
    {
     "name": "stdout",
     "output_type": "stream",
     "text": [
      "📨 Response received\n",
      "✅ Response text length: 2402\n"
     ]
    },
    {
     "name": "stderr",
     "output_type": "stream",
     "text": [
      "Generating emails:  96%|█████████▌| 1198/1250 [5:32:48<12:05, 13.95s/it]"
     ]
    },
    {
     "name": "stdout",
     "output_type": "stream",
     "text": [
      "📨 Response received\n",
      "✅ Response text length: 2272\n"
     ]
    },
    {
     "name": "stderr",
     "output_type": "stream",
     "text": [
      "Generating emails:  96%|█████████▌| 1199/1250 [5:33:00<11:19, 13.32s/it]"
     ]
    },
    {
     "name": "stdout",
     "output_type": "stream",
     "text": [
      "📨 Response received\n",
      "✅ Response text length: 3142\n"
     ]
    },
    {
     "name": "stderr",
     "output_type": "stream",
     "text": [
      "Generating emails:  96%|█████████▌| 1200/1250 [5:33:10<10:18, 12.37s/it]"
     ]
    },
    {
     "name": "stdout",
     "output_type": "stream",
     "text": [
      "📨 Response received\n",
      "✅ Response text length: 2355\n",
      "💾 Checkpoint saved at row 1199\n"
     ]
    },
    {
     "name": "stderr",
     "output_type": "stream",
     "text": [
      "Generating emails:  96%|█████████▌| 1201/1250 [5:33:20<09:31, 11.67s/it]"
     ]
    },
    {
     "name": "stdout",
     "output_type": "stream",
     "text": [
      "📨 Response received\n",
      "✅ Response text length: 2315\n"
     ]
    },
    {
     "name": "stderr",
     "output_type": "stream",
     "text": [
      "Generating emails:  96%|█████████▌| 1202/1250 [5:33:34<09:47, 12.24s/it]"
     ]
    },
    {
     "name": "stdout",
     "output_type": "stream",
     "text": [
      "📨 Response received\n",
      "✅ Response text length: 2298\n"
     ]
    },
    {
     "name": "stderr",
     "output_type": "stream",
     "text": [
      "Generating emails:  96%|█████████▌| 1203/1250 [5:33:42<08:33, 10.92s/it]"
     ]
    },
    {
     "name": "stdout",
     "output_type": "stream",
     "text": [
      "📨 Response received\n",
      "✅ Response text length: 933\n"
     ]
    },
    {
     "name": "stderr",
     "output_type": "stream",
     "text": [
      "Generating emails:  96%|█████████▋| 1204/1250 [5:33:54<08:43, 11.38s/it]"
     ]
    },
    {
     "name": "stdout",
     "output_type": "stream",
     "text": [
      "📨 Response received\n",
      "✅ Response text length: 2554\n"
     ]
    },
    {
     "name": "stderr",
     "output_type": "stream",
     "text": [
      "Generating emails:  96%|█████████▋| 1205/1250 [5:34:03<07:56, 10.58s/it]"
     ]
    },
    {
     "name": "stdout",
     "output_type": "stream",
     "text": [
      "📨 Response received\n",
      "✅ Response text length: 634\n"
     ]
    },
    {
     "name": "stderr",
     "output_type": "stream",
     "text": [
      "Generating emails:  96%|█████████▋| 1206/1250 [5:34:16<08:20, 11.37s/it]"
     ]
    },
    {
     "name": "stdout",
     "output_type": "stream",
     "text": [
      "📨 Response received\n",
      "✅ Response text length: 2634\n"
     ]
    },
    {
     "name": "stderr",
     "output_type": "stream",
     "text": [
      "Generating emails:  97%|█████████▋| 1207/1250 [5:34:25<07:41, 10.73s/it]"
     ]
    },
    {
     "name": "stdout",
     "output_type": "stream",
     "text": [
      "📨 Response received\n",
      "✅ Response text length: 718\n"
     ]
    },
    {
     "name": "stderr",
     "output_type": "stream",
     "text": [
      "Generating emails:  97%|█████████▋| 1208/1250 [5:34:40<08:20, 11.92s/it]"
     ]
    },
    {
     "name": "stdout",
     "output_type": "stream",
     "text": [
      "📨 Response received\n",
      "✅ Response text length: 2831\n"
     ]
    },
    {
     "name": "stderr",
     "output_type": "stream",
     "text": [
      "Generating emails:  97%|█████████▋| 1209/1250 [5:34:56<08:59, 13.16s/it]"
     ]
    },
    {
     "name": "stdout",
     "output_type": "stream",
     "text": [
      "📨 Response received\n",
      "✅ Response text length: 2818\n"
     ]
    },
    {
     "name": "stderr",
     "output_type": "stream",
     "text": [
      "Generating emails:  97%|█████████▋| 1210/1250 [5:35:07<08:23, 12.60s/it]"
     ]
    },
    {
     "name": "stdout",
     "output_type": "stream",
     "text": [
      "📨 Response received\n",
      "✅ Response text length: 1896\n"
     ]
    },
    {
     "name": "stderr",
     "output_type": "stream",
     "text": [
      "Generating emails:  97%|█████████▋| 1211/1250 [5:35:19<08:02, 12.37s/it]"
     ]
    },
    {
     "name": "stdout",
     "output_type": "stream",
     "text": [
      "📨 Response received\n",
      "✅ Response text length: 2129\n"
     ]
    },
    {
     "name": "stderr",
     "output_type": "stream",
     "text": [
      "Generating emails:  97%|█████████▋| 1212/1250 [5:35:31<07:43, 12.19s/it]"
     ]
    },
    {
     "name": "stdout",
     "output_type": "stream",
     "text": [
      "📨 Response received\n",
      "✅ Response text length: 2264\n"
     ]
    },
    {
     "name": "stderr",
     "output_type": "stream",
     "text": [
      "Generating emails:  97%|█████████▋| 1213/1250 [5:35:43<07:35, 12.30s/it]"
     ]
    },
    {
     "name": "stdout",
     "output_type": "stream",
     "text": [
      "📨 Response received\n",
      "✅ Response text length: 1264\n"
     ]
    },
    {
     "name": "stderr",
     "output_type": "stream",
     "text": [
      "Generating emails:  97%|█████████▋| 1214/1250 [5:36:04<08:48, 14.68s/it]"
     ]
    },
    {
     "name": "stdout",
     "output_type": "stream",
     "text": [
      "📨 Response received\n",
      "✅ Response text length: 2940\n"
     ]
    },
    {
     "name": "stderr",
     "output_type": "stream",
     "text": [
      "Generating emails:  97%|█████████▋| 1215/1250 [5:36:20<08:45, 15.02s/it]"
     ]
    },
    {
     "name": "stdout",
     "output_type": "stream",
     "text": [
      "📨 Response received\n",
      "✅ Response text length: 3375\n"
     ]
    },
    {
     "name": "stderr",
     "output_type": "stream",
     "text": [
      "Generating emails:  97%|█████████▋| 1216/1250 [5:36:38<09:07, 16.09s/it]"
     ]
    },
    {
     "name": "stdout",
     "output_type": "stream",
     "text": [
      "📨 Response received\n",
      "❌ Failed at row 1215: API response finish_reason: 2\n"
     ]
    },
    {
     "name": "stderr",
     "output_type": "stream",
     "text": [
      "Generating emails:  97%|█████████▋| 1217/1250 [5:36:49<08:00, 14.55s/it]"
     ]
    },
    {
     "name": "stdout",
     "output_type": "stream",
     "text": [
      "📨 Response received\n",
      "✅ Response text length: 2762\n"
     ]
    },
    {
     "name": "stderr",
     "output_type": "stream",
     "text": [
      "Generating emails:  97%|█████████▋| 1218/1250 [5:37:01<07:18, 13.71s/it]"
     ]
    },
    {
     "name": "stdout",
     "output_type": "stream",
     "text": [
      "📨 Response received\n",
      "✅ Response text length: 2143\n"
     ]
    },
    {
     "name": "stderr",
     "output_type": "stream",
     "text": [
      "Generating emails:  98%|█████████▊| 1219/1250 [5:37:15<07:11, 13.92s/it]"
     ]
    },
    {
     "name": "stdout",
     "output_type": "stream",
     "text": [
      "📨 Response received\n",
      "✅ Response text length: 2621\n"
     ]
    },
    {
     "name": "stderr",
     "output_type": "stream",
     "text": [
      "Generating emails:  98%|█████████▊| 1220/1250 [5:37:25<06:21, 12.72s/it]"
     ]
    },
    {
     "name": "stdout",
     "output_type": "stream",
     "text": [
      "📨 Response received\n",
      "✅ Response text length: 2151\n"
     ]
    },
    {
     "name": "stderr",
     "output_type": "stream",
     "text": [
      "Generating emails:  98%|█████████▊| 1221/1250 [5:37:37<05:58, 12.37s/it]"
     ]
    },
    {
     "name": "stdout",
     "output_type": "stream",
     "text": [
      "📨 Response received\n",
      "✅ Response text length: 4260\n"
     ]
    },
    {
     "name": "stderr",
     "output_type": "stream",
     "text": [
      "Generating emails:  98%|█████████▊| 1222/1250 [5:37:51<06:06, 13.08s/it]"
     ]
    },
    {
     "name": "stdout",
     "output_type": "stream",
     "text": [
      "📨 Response received\n",
      "✅ Response text length: 2509\n"
     ]
    },
    {
     "name": "stderr",
     "output_type": "stream",
     "text": [
      "Generating emails:  98%|█████████▊| 1223/1250 [5:38:04<05:52, 13.06s/it]"
     ]
    },
    {
     "name": "stdout",
     "output_type": "stream",
     "text": [
      "📨 Response received\n",
      "✅ Response text length: 785\n"
     ]
    },
    {
     "name": "stderr",
     "output_type": "stream",
     "text": [
      "Generating emails:  98%|█████████▊| 1224/1250 [5:38:19<05:51, 13.51s/it]"
     ]
    },
    {
     "name": "stdout",
     "output_type": "stream",
     "text": [
      "📨 Response received\n",
      "✅ Response text length: 2517\n"
     ]
    },
    {
     "name": "stderr",
     "output_type": "stream",
     "text": [
      "Generating emails:  98%|█████████▊| 1225/1250 [5:38:38<06:17, 15.10s/it]"
     ]
    },
    {
     "name": "stdout",
     "output_type": "stream",
     "text": [
      "📨 Response received\n",
      "❌ Failed at row 1224: API response finish_reason: 2\n"
     ]
    },
    {
     "name": "stderr",
     "output_type": "stream",
     "text": [
      "Generating emails:  98%|█████████▊| 1226/1250 [5:38:51<05:46, 14.43s/it]"
     ]
    },
    {
     "name": "stdout",
     "output_type": "stream",
     "text": [
      "📨 Response received\n",
      "✅ Response text length: 2220\n"
     ]
    },
    {
     "name": "stderr",
     "output_type": "stream",
     "text": [
      "Generating emails:  98%|█████████▊| 1227/1250 [5:39:01<05:04, 13.23s/it]"
     ]
    },
    {
     "name": "stdout",
     "output_type": "stream",
     "text": [
      "📨 Response received\n",
      "✅ Response text length: 2247\n"
     ]
    },
    {
     "name": "stderr",
     "output_type": "stream",
     "text": [
      "Generating emails:  98%|█████████▊| 1228/1250 [5:39:13<04:41, 12.78s/it]"
     ]
    },
    {
     "name": "stdout",
     "output_type": "stream",
     "text": [
      "📨 Response received\n",
      "✅ Response text length: 2263\n"
     ]
    },
    {
     "name": "stderr",
     "output_type": "stream",
     "text": [
      "Generating emails:  98%|█████████▊| 1229/1250 [5:39:28<04:45, 13.62s/it]"
     ]
    },
    {
     "name": "stdout",
     "output_type": "stream",
     "text": [
      "📨 Response received\n",
      "✅ Response text length: 1705\n"
     ]
    },
    {
     "name": "stderr",
     "output_type": "stream",
     "text": [
      "Generating emails:  98%|█████████▊| 1230/1250 [5:39:43<04:36, 13.84s/it]"
     ]
    },
    {
     "name": "stdout",
     "output_type": "stream",
     "text": [
      "📨 Response received\n",
      "✅ Response text length: 3248\n"
     ]
    },
    {
     "name": "stderr",
     "output_type": "stream",
     "text": [
      "Generating emails:  98%|█████████▊| 1231/1250 [5:39:58<04:31, 14.28s/it]"
     ]
    },
    {
     "name": "stdout",
     "output_type": "stream",
     "text": [
      "📨 Response received\n",
      "✅ Response text length: 2479\n"
     ]
    },
    {
     "name": "stderr",
     "output_type": "stream",
     "text": [
      "Generating emails:  99%|█████████▊| 1232/1250 [5:40:12<04:13, 14.08s/it]"
     ]
    },
    {
     "name": "stdout",
     "output_type": "stream",
     "text": [
      "📨 Response received\n",
      "✅ Response text length: 2765\n"
     ]
    },
    {
     "name": "stderr",
     "output_type": "stream",
     "text": [
      "Generating emails:  99%|█████████▊| 1233/1250 [5:40:29<04:13, 14.92s/it]"
     ]
    },
    {
     "name": "stdout",
     "output_type": "stream",
     "text": [
      "📨 Response received\n",
      "✅ Response text length: 2216\n"
     ]
    },
    {
     "name": "stderr",
     "output_type": "stream",
     "text": [
      "Generating emails:  99%|█████████▊| 1234/1250 [5:40:48<04:19, 16.20s/it]"
     ]
    },
    {
     "name": "stdout",
     "output_type": "stream",
     "text": [
      "📨 Response received\n",
      "✅ Response text length: 1521\n"
     ]
    },
    {
     "name": "stderr",
     "output_type": "stream",
     "text": [
      "Generating emails:  99%|█████████▉| 1235/1250 [5:41:04<04:01, 16.12s/it]"
     ]
    },
    {
     "name": "stdout",
     "output_type": "stream",
     "text": [
      "📨 Response received\n",
      "✅ Response text length: 2836\n"
     ]
    },
    {
     "name": "stderr",
     "output_type": "stream",
     "text": [
      "Generating emails:  99%|█████████▉| 1236/1250 [5:41:15<03:24, 14.57s/it]"
     ]
    },
    {
     "name": "stdout",
     "output_type": "stream",
     "text": [
      "📨 Response received\n",
      "✅ Response text length: 2392\n"
     ]
    },
    {
     "name": "stderr",
     "output_type": "stream",
     "text": [
      "Generating emails:  99%|█████████▉| 1237/1250 [5:41:28<03:05, 14.27s/it]"
     ]
    },
    {
     "name": "stdout",
     "output_type": "stream",
     "text": [
      "📨 Response received\n",
      "✅ Response text length: 2127\n"
     ]
    },
    {
     "name": "stderr",
     "output_type": "stream",
     "text": [
      "Generating emails:  99%|█████████▉| 1238/1250 [5:41:42<02:50, 14.23s/it]"
     ]
    },
    {
     "name": "stdout",
     "output_type": "stream",
     "text": [
      "📨 Response received\n",
      "✅ Response text length: 1864\n"
     ]
    },
    {
     "name": "stderr",
     "output_type": "stream",
     "text": [
      "Generating emails:  99%|█████████▉| 1239/1250 [5:42:02<02:53, 15.74s/it]"
     ]
    },
    {
     "name": "stdout",
     "output_type": "stream",
     "text": [
      "📨 Response received\n",
      "❌ Failed at row 1238: API response finish_reason: 2\n"
     ]
    },
    {
     "name": "stderr",
     "output_type": "stream",
     "text": [
      "Generating emails:  99%|█████████▉| 1240/1250 [5:42:13<02:24, 14.44s/it]"
     ]
    },
    {
     "name": "stdout",
     "output_type": "stream",
     "text": [
      "📨 Response received\n",
      "✅ Response text length: 2955\n"
     ]
    },
    {
     "name": "stderr",
     "output_type": "stream",
     "text": [
      "Generating emails:  99%|█████████▉| 1241/1250 [5:42:29<02:13, 14.86s/it]"
     ]
    },
    {
     "name": "stdout",
     "output_type": "stream",
     "text": [
      "📨 Response received\n",
      "✅ Response text length: 2876\n"
     ]
    },
    {
     "name": "stderr",
     "output_type": "stream",
     "text": [
      "Generating emails:  99%|█████████▉| 1242/1250 [5:42:45<02:02, 15.31s/it]"
     ]
    },
    {
     "name": "stdout",
     "output_type": "stream",
     "text": [
      "📨 Response received\n",
      "✅ Response text length: 1932\n"
     ]
    },
    {
     "name": "stderr",
     "output_type": "stream",
     "text": [
      "Generating emails:  99%|█████████▉| 1243/1250 [5:42:57<01:39, 14.28s/it]"
     ]
    },
    {
     "name": "stdout",
     "output_type": "stream",
     "text": [
      "📨 Response received\n",
      "✅ Response text length: 2238\n"
     ]
    },
    {
     "name": "stderr",
     "output_type": "stream",
     "text": [
      "Generating emails: 100%|█████████▉| 1244/1250 [5:43:12<01:26, 14.47s/it]"
     ]
    },
    {
     "name": "stdout",
     "output_type": "stream",
     "text": [
      "📨 Response received\n",
      "✅ Response text length: 2250\n"
     ]
    },
    {
     "name": "stderr",
     "output_type": "stream",
     "text": [
      "Generating emails: 100%|█████████▉| 1245/1250 [5:43:21<01:04, 12.90s/it]"
     ]
    },
    {
     "name": "stdout",
     "output_type": "stream",
     "text": [
      "📨 Response received\n",
      "✅ Response text length: 619\n"
     ]
    },
    {
     "name": "stderr",
     "output_type": "stream",
     "text": [
      "Generating emails: 100%|█████████▉| 1246/1250 [5:43:35<00:53, 13.26s/it]"
     ]
    },
    {
     "name": "stdout",
     "output_type": "stream",
     "text": [
      "📨 Response received\n",
      "✅ Response text length: 2596\n"
     ]
    },
    {
     "name": "stderr",
     "output_type": "stream",
     "text": [
      "Generating emails: 100%|█████████▉| 1247/1250 [5:43:47<00:37, 12.66s/it]"
     ]
    },
    {
     "name": "stdout",
     "output_type": "stream",
     "text": [
      "📨 Response received\n",
      "✅ Response text length: 2445\n"
     ]
    },
    {
     "name": "stderr",
     "output_type": "stream",
     "text": [
      "Generating emails: 100%|█████████▉| 1248/1250 [5:43:55<00:22, 11.40s/it]"
     ]
    },
    {
     "name": "stdout",
     "output_type": "stream",
     "text": [
      "📨 Response received\n",
      "✅ Response text length: 510\n"
     ]
    },
    {
     "name": "stderr",
     "output_type": "stream",
     "text": [
      "Generating emails: 100%|█████████▉| 1249/1250 [5:44:14<00:13, 13.72s/it]"
     ]
    },
    {
     "name": "stdout",
     "output_type": "stream",
     "text": [
      "📨 Response received\n",
      "❌ Failed at row 1248: API response finish_reason: 2\n"
     ]
    },
    {
     "name": "stderr",
     "output_type": "stream",
     "text": [
      "Generating emails: 100%|██████████| 1250/1250 [5:44:30<00:00, 14.27s/it]"
     ]
    },
    {
     "name": "stdout",
     "output_type": "stream",
     "text": [
      "📨 Response received\n",
      "✅ Response text length: 1488\n"
     ]
    },
    {
     "name": "stderr",
     "output_type": "stream",
     "text": [
      "Generating emails: 100%|██████████| 1250/1250 [5:44:30<00:00, 16.54s/it]"
     ]
    },
    {
     "name": "stdout",
     "output_type": "stream",
     "text": [
      "💾 Checkpoint saved at row 1249\n",
      "\n",
      "📊 Generation Complete: 1181/1250 emails generated successfully\n",
      "Success rate: 94.5%\n"
     ]
    },
    {
     "name": "stderr",
     "output_type": "stream",
     "text": [
      "\n"
     ]
    }
   ],
   "source": [
    "# Test with just 1 row first\n",
    "print(\"🧪 Testing with single row...\")\n",
    "test_df = recipes_df.head(1)\n",
    "result_df = run_all_enhanced(test_df, batch_size=1, resume_from=0, verbose=False)\n",
    "\n",
    "if len(result_df) > 0 and result_df.iloc[0]['email_body'] != '' and not result_df.iloc[0]['email_body'].startswith('GENERATION_FAILED'):\n",
    "    print(\"✅ Single row test successful! Running full dataset...\")\n",
    "    # Run full dataset\n",
    "    result_df = run_all_enhanced(recipes_df, batch_size=50, resume_from=0, verbose=False)\n",
    "    \n",
    "    # Save final results\n",
    "    result_df.to_csv('email_dataset_final.csv', index=False)\n",
    "    \n",
    "    # Print summary statistics (fixed)\n",
    "    successful = len(result_df[~result_df['email_body'].str.startswith('GENERATION_FAILED', na=False)])\n",
    "    total = len(result_df)\n",
    "    print(f\"\\n📊 Generation Complete: {successful}/{total} emails generated successfully\")\n",
    "    print(f\"Success rate: {successful/total*100:.1f}%\")\n",
    "else:\n",
    "    print(\"❌ Single row test failed. Check the output above for errors.\")\n",
    "    print(\"First row result:\")\n",
    "    print(result_df.iloc[0] if len(result_df) > 0 else \"No results\")"
   ]
  },
  {
   "cell_type": "code",
   "execution_count": null,
   "id": "3c317856",
   "metadata": {},
   "outputs": [],
   "source": []
  }
 ],
 "metadata": {
  "kernelspec": {
   "display_name": ".venv",
   "language": "python",
   "name": "python3"
  },
  "language_info": {
   "codemirror_mode": {
    "name": "ipython",
    "version": 3
   },
   "file_extension": ".py",
   "mimetype": "text/x-python",
   "name": "python",
   "nbconvert_exporter": "python",
   "pygments_lexer": "ipython3",
   "version": "3.13.3"
  }
 },
 "nbformat": 4,
 "nbformat_minor": 5
}
