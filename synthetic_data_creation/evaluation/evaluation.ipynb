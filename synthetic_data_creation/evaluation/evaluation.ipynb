{
 "cells": [
  {
   "cell_type": "markdown",
   "id": "20b4bbb8",
   "metadata": {},
   "source": [
    "## Evaluation of topic extraction and sentiment analysis"
   ]
  },
  {
   "cell_type": "markdown",
   "id": "dd7d8908",
   "metadata": {},
   "source": [
    "### Checking general information"
   ]
  },
  {
   "cell_type": "code",
   "execution_count": 4,
   "id": "081e663b",
   "metadata": {},
   "outputs": [
    {
     "name": "stderr",
     "output_type": "stream",
     "text": [
      "Token indices sequence length is longer than the specified maximum sequence length for this model (821 > 512). Running this sequence through the model will result in indexing errors\n"
     ]
    },
    {
     "name": "stdout",
     "output_type": "stream",
     "text": [
      "count    1000.000000\n",
      "mean      422.707000\n",
      "std       187.864926\n",
      "min        10.000000\n",
      "25%       363.750000\n",
      "50%       445.000000\n",
      "75%       510.000000\n",
      "max      1158.000000\n",
      "Name: email_body, dtype: float64\n"
     ]
    },
    {
     "data": {
      "image/png": "[encoded data removed]",
      "text/plain": [
       "<Figure size 640x480 with 1 Axes>"
      ]
     },
     "metadata": {},
     "output_type": "display_data"
    }
   ],
   "source": [
    "from transformers import DistilBertTokenizer\n",
    "import pandas as pd\n",
    "import matplotlib.pyplot as plt\n",
    "\n",
    "# Load your training data\n",
    "df = pd.read_csv(\"../../data/email_dataset_train.csv\")\n",
    "\n",
    "# Initialize tokenizer\n",
    "tokenizer = DistilBertTokenizer.from_pretrained('distilbert-base-uncased')\n",
    "\n",
    "# Compute token lengths\n",
    "token_lengths = df['email_body'].dropna().apply(lambda x: len(tokenizer.encode(str(x), truncation=False)))\n",
    "\n",
    "# Print basic stats\n",
    "print(token_lengths.describe())\n",
    "\n",
    "# Optional: plot histogram\n",
    "token_lengths.hist(bins=50)\n",
    "plt.xlabel(\"Token Length\")\n",
    "plt.ylabel(\"Number of Emails\")\n",
    "plt.title(\"Token Length Distribution (DistilBERT)\")\n",
    "plt.show()"
   ]
  },
  {
   "cell_type": "markdown",
   "id": "bc1cf5c9",
   "metadata": {},
   "source": [
    "### Topic extraction\n",
    "\n",
    "Finetuned model on 250 test set.\n",
    "The purpose is to see if we need to reduce the threshold for classification or not.\n"
   ]
  },
  {
   "cell_type": "markdown",
   "id": "95851020",
   "metadata": {},
   "source": [
    "### Sentiment Analysis\n",
    "\n",
    "VADER on the whole 1250 email dataset"
   ]
  },
  {
   "cell_type": "code",
   "execution_count": 3,
   "id": "130fc9ca",
   "metadata": {},
   "outputs": [
    {
     "name": "stdout",
     "output_type": "stream",
     "text": [
      "Overall VADER accuracy: 185/1000 = 18.50%\n",
      "\n",
      "Accuracy by sentiment category:\n",
      "  Very negative: 0/169 = 0.00%\n",
      "  Neutral   : 4/138 = 2.90%\n",
      "  Very positive: 0/169 = 0.00%\n",
      "  Positive  : 159/175 = 90.86%\n",
      "  Mixed     : 0/179 = 0.00%\n",
      "  Negative  : 22/170 = 12.94%\n"
     ]
    }
   ],
   "source": [
    "import pandas as pd\n",
    "from vaderSentiment.vaderSentiment import SentimentIntensityAnalyzer\n",
    "from collections import Counter, defaultdict\n",
    "\n",
    "# Load data\n",
    "df = pd.read_csv(\"../../data/email_dataset_train.csv\")\n",
    "\n",
    "# VADER setup\n",
    "analyzer = SentimentIntensityAnalyzer()\n",
    "\n",
    "def vader_label(text):\n",
    "    scores = analyzer.polarity_scores(str(text))\n",
    "    compound = scores['compound']\n",
    "    if compound >= 0.05:\n",
    "        return \"Positive\"\n",
    "    elif compound <= -0.05:\n",
    "        return \"Negative\"\n",
    "    else:\n",
    "        return \"Neutral\"\n",
    "\n",
    "# Run VADER and compare\n",
    "results = []\n",
    "for idx, row in df.iterrows():\n",
    "    true_sentiment = str(row['sentiment']).strip().capitalize()\n",
    "    pred_sentiment = vader_label(row['email_body'])\n",
    "    results.append((true_sentiment, pred_sentiment))\n",
    "\n",
    "# Overall accuracy\n",
    "correct = sum(t == p for t, p in results)\n",
    "total = len(results)\n",
    "print(f\"Overall VADER accuracy: {correct}/{total} = {correct/total:.2%}\")\n",
    "\n",
    "# Breakdown by true sentiment\n",
    "by_category = defaultdict(lambda: Counter())\n",
    "for t, p in results:\n",
    "    by_category[t]['total'] += 1\n",
    "    if t == p:\n",
    "        by_category[t]['correct'] += 1\n",
    "\n",
    "print(\"\\nAccuracy by sentiment category:\")\n",
    "for cat, stats in by_category.items():\n",
    "    acc = stats['correct'] / stats['total'] if stats['total'] else 0\n",
    "    print(f\"  {cat:10}: {stats['correct']}/{stats['total']} = {acc:.2%}\")"
   ]
  },
  {
   "cell_type": "code",
   "execution_count": null,
   "id": "4dfdf980",
   "metadata": {},
   "outputs": [],
   "source": []
  },
  {
   "cell_type": "code",
   "execution_count": null,
   "id": "236d0f03",
   "metadata": {},
   "outputs": [],
   "source": []
  }
 ],
 "metadata": {
  "kernelspec": {
   "display_name": ".venv",
   "language": "python",
   "name": "python3"
  },
  "language_info": {
   "codemirror_mode": {
    "name": "ipython",
    "version": 3
   },
   "file_extension": ".py",
   "mimetype": "text/x-python",
   "name": "python",
   "nbconvert_exporter": "python",
   "pygments_lexer": "ipython3",
   "version": "3.13.3"
  }
 },
 "nbformat": 4,
 "nbformat_minor": 5
}
